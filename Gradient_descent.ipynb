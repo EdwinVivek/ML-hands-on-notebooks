{
 "cells": [
  {
   "cell_type": "code",
   "execution_count": 40,
   "metadata": {},
   "outputs": [],
   "source": [
    "import numpy as np\n",
    "import matplotlib.pyplot as plt\n",
    "%matplotlib inline"
   ]
  },
  {
   "cell_type": "code",
   "execution_count": 89,
   "metadata": {},
   "outputs": [],
   "source": [
    "x = np.array([1,3,5])\n",
    "y = np.array([5,12,18])\n",
    "W0_new = 0\n",
    "W1_new = 0\n",
    "alpha = 0.04\n",
    "mse = np.array([])"
   ]
  },
  {
   "cell_type": "code",
   "execution_count": 90,
   "metadata": {},
   "outputs": [
    {
     "name": "stdout",
     "output_type": "stream",
     "text": [
      "W0new: 1.4000000000000001, W1new: 5.24\n",
      "W0new: 0.7456, W1new: 2.6399999999999997\n",
      "W0new: 1.105728, W1new: 3.915584\n",
      "W0new: 0.9634304000000001, W1new: 3.2757043200000004\n",
      "W0new: 1.0685651967999998, W1new: 3.582883328\n",
      "W0new: 1.050499375104, W1new: 3.422163197952\n",
      "W0new: 1.0924606988288, W1new: 3.49295494578176\n",
      "W0new: 1.1039016344879105, W1new: 3.4495321701089283\n",
      "W0new: 1.129601857110147, W1new: 3.4627825435407806\n",
      "W0new: 1.1474479185822484, W1new: 3.448230314024035\n"
     ]
    }
   ],
   "source": [
    "for iteration in range(1,11):\n",
    "    y_pred = np.array([])\n",
    "    error = np.array([])\n",
    "    error_x = np.array([])\n",
    "    \n",
    "    W0 = W0_new\n",
    "    W1 = W1_new\n",
    "    \n",
    "    for i in x:\n",
    "        y_pred = np.append(y_pred, (W0 + W1*i))\n",
    "        \n",
    "    error = np.append(error, y_pred - y)\n",
    "    error_x = np.append(error_x, error * x)\n",
    "    mse = np.append(mse, (error**2).mean())\n",
    "\n",
    "    W0_new = W0 - alpha * np.sum(error)\n",
    "    W1_new = W1 - alpha * np.sum(error_x)\n",
    "    print(\"W0new: {0}, W1new: {1}\".format(W0_new, W1_new))\n",
    "    "
   ]
  },
  {
   "cell_type": "code",
   "execution_count": 91,
   "metadata": {},
   "outputs": [
    {
     "name": "stdout",
     "output_type": "stream",
     "text": [
      "W0new: 1.1474479185822484, W1new: 3.448230314024035\n",
      "Y pred:  [ 4.5923844  11.51794949 18.44351457]\n",
      "Error:  [-0.4076156  -0.48205051  0.44351457]\n"
     ]
    }
   ],
   "source": [
    "print(\"W0new: {0}, W1new: {1}\".format(W0_new, W1_new))\n",
    "print(\"Y pred: \", y_pred)\n",
    "print(\"Error: \", error)"
   ]
  },
  {
   "cell_type": "code",
   "execution_count": 92,
   "metadata": {},
   "outputs": [
    {
     "name": "stdout",
     "output_type": "stream",
     "text": [
      "MSE:  [164.33333333  40.35466667  10.05422336   2.64304765   0.8249095\n",
      "   0.37371724   0.25687049   0.2220511    0.20759194   0.19840945]\n"
     ]
    },
    {
     "data": {
      "text/plain": [
       "Text(0, 0.5, 'MSE value')"
      ]
     },
     "execution_count": 92,
     "metadata": {},
     "output_type": "execute_result"
    },
    {
     "data": {
      "image/png": "[encoded data removed]",
      "text/plain": [
       "<Figure size 432x288 with 1 Axes>"
      ]
     },
     "metadata": {
      "needs_background": "light"
     },
     "output_type": "display_data"
    }
   ],
   "source": [
    "print(\"MSE: \", mse)\n",
    "plt.plot(mse, 'b-o')\n",
    "plt.title(\"MSE per iteration\")\n",
    "plt.xlabel(\"Iterartion\")\n",
    "plt.ylabel(\"MSE value\")"
   ]
  },
  {
   "cell_type": "code",
   "execution_count": 94,
   "metadata": {},
   "outputs": [
    {
     "data": {
      "text/plain": [
       "[<matplotlib.lines.Line2D at 0xd4907f0>]"
      ]
     },
     "execution_count": 94,
     "metadata": {},
     "output_type": "execute_result"
    },
    {
     "data": {
      "image/png": "[encoded data removed]",
      "text/plain": [
       "<Figure size 432x288 with 1 Axes>"
      ]
     },
     "metadata": {
      "needs_background": "light"
     },
     "output_type": "display_data"
    }
   ],
   "source": [
    "plt.scatter(x,y)\n",
    "plt.plot([min(x), max(x)], [min(y_pred), max(y_pred)], color ='red')"
   ]
  },
  {
   "cell_type": "code",
   "execution_count": 97,
   "metadata": {},
   "outputs": [
    {
     "data": {
      "text/plain": [
       "6.324555320336759"
      ]
     },
     "execution_count": 97,
     "metadata": {},
     "output_type": "execute_result"
    }
   ],
   "source": [
    "np.sqrt(400/10)"
   ]
  },
  {
   "cell_type": "code",
   "execution_count": null,
   "metadata": {},
   "outputs": [],
   "source": []
  }
 ],
 "metadata": {
  "kernelspec": {
   "display_name": "Python 3",
   "language": "python",
   "name": "python3"
  },
  "language_info": {
   "codemirror_mode": {
    "name": "ipython",
    "version": 3
   },
   "file_extension": ".py",
   "mimetype": "text/x-python",
   "name": "python",
   "nbconvert_exporter": "python",
   "pygments_lexer": "ipython3",
   "version": "3.7.3"
  }
 },
 "nbformat": 4,
 "nbformat_minor": 4
}
