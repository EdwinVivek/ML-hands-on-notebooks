{
 "cells": [
  {
   "cell_type": "code",
   "execution_count": 37,
   "metadata": {},
   "outputs": [],
   "source": [
    "import numpy as np\n",
    "import pandas as pd\n",
    "import matplotlib.pyplot as plt\n",
    "%matplotlib inline"
   ]
  },
  {
   "cell_type": "code",
   "execution_count": null,
   "metadata": {},
   "outputs": [],
   "source": []
  },
  {
   "cell_type": "code",
   "execution_count": 256,
   "metadata": {},
   "outputs": [],
   "source": [
    "class GradientDescent:\n",
    "    def __init__(self, weight, bias, lr):\n",
    "        self.weight_new = weight\n",
    "        self.bias_new = bias\n",
    "        self.lr = lr\n",
    "    \n",
    "    def batch_gradient(self, x, y, iteration):\n",
    "        self.mse = np.array([])\n",
    "        #epoch cycle\n",
    "        for i in range(iteration):\n",
    "            self.y_pred = np.array([])\n",
    "            self.error = np.array([])\n",
    "            w_gradient = np.array([])\n",
    "            b_gradient =  np.array([])\n",
    "            \n",
    "            bias = self.bias_new #bias\n",
    "            weight = self.weight_new #weight\n",
    "            \n",
    "            #entire batch iteration\n",
    "            for X in x:\n",
    "                self.y_pred = np.append(self.y_pred, (weight * X + bias))  # y_pred = mx + c\n",
    "            #or\n",
    "            #y_pred = np.dot(weight, x) + bias\n",
    "                 \n",
    "            self.error = np.append(self.error,  self.y_pred - y)    # error = Y - y_pred\n",
    "            w_gradient = np.append(w_gradient, x.dot(self.error))\n",
    "            b_gradient = np.append(b_gradient, np.sum(self.error))\n",
    "            \n",
    "            self.mse = np.append(self.mse, np.mean(np.square(self.error)))  # MSE = SSE/n\n",
    "            print(\"MSE {0}\".format(self.mse[i]))    \n",
    "            \n",
    "            #updating new weights\n",
    "            self.weight_new = weight - self.lr * w_gradient\n",
    "            self.bias_new = bias - self.lr * b_gradient\n",
    "            print(\"Bias W0_new: {0}, Weight W1_new: {1}\".format(self.bias_new, self.weight_new))   \n",
    "        \n",
    "        \n",
    "    def estimate(self, y):\n",
    "        print(\"Best estimates\\nBias: {0}\\nWeight: {1}\".format(self.bias_new, self.weight_new))\n",
    "        out = pd.DataFrame()\n",
    "        out[\"Target\"] = pd.Series(y)\n",
    "        out[\"Prediction\"] =  pd.Series(self.y_pred)\n",
    "        out[\"Error\"] =  pd.Series(self.error)\n",
    "        return out\n",
    "            \n",
    "    \n",
    "    def plot(self):\n",
    "        print(\"MSE: \", self.mse)\n",
    "        plt.plot(self.mse, 'b-o')\n",
    "        plt.title(\"MSE per iteration\")\n",
    "        plt.xlabel(\"Iterartion\")\n",
    "        plt.ylabel(\"MSE value\")\n",
    "    \n",
    "    def predict(self, x_new):\n",
    "        prediction = np.array([])\n",
    "        for X in x_new:\n",
    "            prediction = np.append(prediction, (self.weight_new * X + self.bias_new))\n",
    "        return prediction"
   ]
  },
  {
   "cell_type": "code",
   "execution_count": 257,
   "metadata": {},
   "outputs": [
    {
     "name": "stdout",
     "output_type": "stream",
     "text": [
      "MSE 88.66666666666667\n",
      "Bias W0_new: [1.04], Weight W1_new: [4.84]\n",
      "MSE 21.95519999999999\n",
      "Bias W0_new: [0.5728], Weight W1_new: [2.9296]\n",
      "MSE 5.6426376533333205\n",
      "Bias W0_new: [0.849408], Weight W1_new: [3.861952]\n",
      "MSE 1.6449247505066635\n",
      "Bias W0_new: [0.75717632], Weight W1_new: [3.38943232]\n",
      "MSE 0.6567668502888456\n",
      "Bias W0_new: [0.84611953], Weight W1_new: [3.6116436]\n",
      "MSE 0.40452535456388805\n",
      "Bias W0_new: [0.84439349], Weight W1_new: [3.49073953]\n",
      "MSE 0.3326418256957278\n",
      "Bias W0_new: [0.88640004], Weight W1_new: [3.53972253]\n",
      "MSE 0.30534617492938265\n",
      "Bias W0_new: [0.90573192], Weight W1_new: [3.50500697]\n",
      "MSE 0.2894386483480743\n",
      "Bias W0_new: [0.93524158], Weight W1_new: [3.51193372]\n",
      "MSE 0.2767823385536307\n",
      "Bias W0_new: [0.95871645], Weight W1_new: [3.49853954]\n",
      "MSE 0.2653653359914159\n",
      "Bias W0_new: [0.98419624], Weight W1_new: [3.49544626]\n"
     ]
    }
   ],
   "source": [
    "initial_bias = 1\n",
    "initial_weight = 0\n",
    "alpha = 0.04\n",
    "epoch = 11\n",
    "inputs = np.array([1,3,5])\n",
    "targets = np.array([5,12,18])\n",
    "\n",
    "gd = GradientDescent(initial_bias, initial_weight, alpha)\n",
    "gd.batch_gradient(inputs, targets, epoch)"
   ]
  },
  {
   "cell_type": "code",
   "execution_count": 258,
   "metadata": {},
   "outputs": [
    {
     "name": "stdout",
     "output_type": "stream",
     "text": [
      "Best estimates\n",
      "Bias: [0.98419624]\n",
      "Weight: [3.49544626]\n"
     ]
    },
    {
     "data": {
      "text/html": [
       "<div>\n",
       "<style scoped>\n",
       "    .dataframe tbody tr th:only-of-type {\n",
       "        vertical-align: middle;\n",
       "    }\n",
       "\n",
       "    .dataframe tbody tr th {\n",
       "        vertical-align: top;\n",
       "    }\n",
       "\n",
       "    .dataframe thead th {\n",
       "        text-align: right;\n",
       "    }\n",
       "</style>\n",
       "<table border=\"1\" class=\"dataframe\">\n",
       "  <thead>\n",
       "    <tr style=\"text-align: right;\">\n",
       "      <th></th>\n",
       "      <th>Target</th>\n",
       "      <th>Prediction</th>\n",
       "      <th>Error</th>\n",
       "    </tr>\n",
       "  </thead>\n",
       "  <tbody>\n",
       "    <tr>\n",
       "      <th>0</th>\n",
       "      <td>5</td>\n",
       "      <td>4.457256</td>\n",
       "      <td>-0.542744</td>\n",
       "    </tr>\n",
       "    <tr>\n",
       "      <th>1</th>\n",
       "      <td>12</td>\n",
       "      <td>11.454335</td>\n",
       "      <td>-0.545665</td>\n",
       "    </tr>\n",
       "    <tr>\n",
       "      <th>2</th>\n",
       "      <td>18</td>\n",
       "      <td>18.451414</td>\n",
       "      <td>0.451414</td>\n",
       "    </tr>\n",
       "  </tbody>\n",
       "</table>\n",
       "</div>"
      ],
      "text/plain": [
       "   Target  Prediction     Error\n",
       "0       5    4.457256 -0.542744\n",
       "1      12   11.454335 -0.545665\n",
       "2      18   18.451414  0.451414"
      ]
     },
     "execution_count": 258,
     "metadata": {},
     "output_type": "execute_result"
    }
   ],
   "source": [
    "df = gd.estimate(targets)\n",
    "df"
   ]
  },
  {
   "cell_type": "code",
   "execution_count": 259,
   "metadata": {},
   "outputs": [
    {
     "name": "stdout",
     "output_type": "stream",
     "text": [
      "MSE:  [88.66666667 21.9552      5.64263765  1.64492475  0.65676685  0.40452535\n",
      "  0.33264183  0.30534617  0.28943865  0.27678234  0.26536534]\n"
     ]
    },
    {
     "data": {
      "image/png": "[encoded data removed]",
      "text/plain": [
       "<Figure size 432x288 with 1 Axes>"
      ]
     },
     "metadata": {
      "needs_background": "light"
     },
     "output_type": "display_data"
    }
   ],
   "source": [
    "gd.plot()"
   ]
  },
  {
   "cell_type": "code",
   "execution_count": 260,
   "metadata": {},
   "outputs": [
    {
     "data": {
      "text/plain": [
       "[<matplotlib.lines.Line2D at 0xf80b670>]"
      ]
     },
     "execution_count": 260,
     "metadata": {},
     "output_type": "execute_result"
    },
    {
     "data": {
      "image/png": "[encoded data removed]",
      "text/plain": [
       "<Figure size 432x288 with 1 Axes>"
      ]
     },
     "metadata": {
      "needs_background": "light"
     },
     "output_type": "display_data"
    }
   ],
   "source": [
    "plt.scatter(inputs,targets)\n",
    "plt.plot([min(inputs), max(inputs)],[min(targets), max(targets)], color= 'blue')\n",
    "plt.plot([min(inputs), max(inputs)], [min(gd.y_pred), max(gd.y_pred)], color ='red')"
   ]
  },
  {
   "cell_type": "code",
   "execution_count": 261,
   "metadata": {},
   "outputs": [
    {
     "data": {
      "text/plain": [
       "array([11.47053502])"
      ]
     },
     "execution_count": 261,
     "metadata": {},
     "output_type": "execute_result"
    }
   ],
   "source": [
    "x_new = np.array([3])\n",
    "gd.predict(x_new)"
   ]
  },
  {
   "cell_type": "code",
   "execution_count": null,
   "metadata": {},
   "outputs": [],
   "source": []
  },
  {
   "cell_type": "code",
   "execution_count": 314,
   "metadata": {},
   "outputs": [
    {
     "data": {
      "text/plain": [
       "area          int64\n",
       "bedrooms      int64\n",
       "price       float64\n",
       "dtype: object"
      ]
     },
     "execution_count": 314,
     "metadata": {},
     "output_type": "execute_result"
    }
   ],
   "source": [
    "import os\n",
    "path = os.getcwd() + '\\data\\homeprices_banglore.csv'\n",
    "house = pd.read_csv(path)\n",
    "house_x = house.iloc[:, 0:2]\n",
    "house_y = house.iloc[:,-1]\n",
    "house.dtypes"
   ]
  },
  {
   "cell_type": "code",
   "execution_count": 312,
   "metadata": {},
   "outputs": [
    {
     "ename": "TypeError",
     "evalue": "can only concatenate str (not \"int\") to str",
     "output_type": "error",
     "traceback": [
      "\u001b[1;31m---------------------------------------------------------------------------\u001b[0m",
      "\u001b[1;31mTypeError\u001b[0m                                 Traceback (most recent call last)",
      "\u001b[1;32m<ipython-input-312-986143108def>\u001b[0m in \u001b[0;36m<module>\u001b[1;34m\u001b[0m\n\u001b[0;32m      3\u001b[0m \u001b[0mb\u001b[0m \u001b[1;33m=\u001b[0m \u001b[1;36m1\u001b[0m\u001b[1;33m\u001b[0m\u001b[1;33m\u001b[0m\u001b[0m\n\u001b[0;32m      4\u001b[0m \u001b[0mgd2\u001b[0m \u001b[1;33m=\u001b[0m \u001b[0mGradientDescent\u001b[0m\u001b[1;33m(\u001b[0m\u001b[0mw\u001b[0m\u001b[1;33m,\u001b[0m \u001b[0mb\u001b[0m\u001b[1;33m,\u001b[0m \u001b[0mlr\u001b[0m\u001b[1;33m)\u001b[0m\u001b[1;33m\u001b[0m\u001b[1;33m\u001b[0m\u001b[0m\n\u001b[1;32m----> 5\u001b[1;33m \u001b[0mgd2\u001b[0m\u001b[1;33m.\u001b[0m\u001b[0mbatch_gradient\u001b[0m\u001b[1;33m(\u001b[0m\u001b[0mhouse_x\u001b[0m\u001b[1;33m,\u001b[0m \u001b[0mhouse_y\u001b[0m\u001b[1;33m,\u001b[0m \u001b[1;36m3\u001b[0m\u001b[1;33m)\u001b[0m\u001b[1;33m\u001b[0m\u001b[1;33m\u001b[0m\u001b[0m\n\u001b[0m",
      "\u001b[1;32m<ipython-input-256-0b51d1430298>\u001b[0m in \u001b[0;36mbatch_gradient\u001b[1;34m(self, x, y, iteration)\u001b[0m\n\u001b[0;32m     19\u001b[0m             \u001b[1;31m#entire batch iteration\u001b[0m\u001b[1;33m\u001b[0m\u001b[1;33m\u001b[0m\u001b[1;33m\u001b[0m\u001b[0m\n\u001b[0;32m     20\u001b[0m             \u001b[1;32mfor\u001b[0m \u001b[0mX\u001b[0m \u001b[1;32min\u001b[0m \u001b[0mx\u001b[0m\u001b[1;33m:\u001b[0m\u001b[1;33m\u001b[0m\u001b[1;33m\u001b[0m\u001b[0m\n\u001b[1;32m---> 21\u001b[1;33m                 \u001b[0mself\u001b[0m\u001b[1;33m.\u001b[0m\u001b[0my_pred\u001b[0m \u001b[1;33m=\u001b[0m \u001b[0mnp\u001b[0m\u001b[1;33m.\u001b[0m\u001b[0mappend\u001b[0m\u001b[1;33m(\u001b[0m\u001b[0mself\u001b[0m\u001b[1;33m.\u001b[0m\u001b[0my_pred\u001b[0m\u001b[1;33m,\u001b[0m \u001b[1;33m(\u001b[0m\u001b[0mweight\u001b[0m \u001b[1;33m*\u001b[0m \u001b[0mX\u001b[0m \u001b[1;33m+\u001b[0m \u001b[0mbias\u001b[0m\u001b[1;33m)\u001b[0m\u001b[1;33m)\u001b[0m  \u001b[1;31m# y_pred = mx + c\u001b[0m\u001b[1;33m\u001b[0m\u001b[1;33m\u001b[0m\u001b[0m\n\u001b[0m\u001b[0;32m     22\u001b[0m             \u001b[1;31m#or\u001b[0m\u001b[1;33m\u001b[0m\u001b[1;33m\u001b[0m\u001b[1;33m\u001b[0m\u001b[0m\n\u001b[0;32m     23\u001b[0m             \u001b[1;31m#y_pred = np.dot(weight, x) + bias\u001b[0m\u001b[1;33m\u001b[0m\u001b[1;33m\u001b[0m\u001b[1;33m\u001b[0m\u001b[0m\n",
      "\u001b[1;31mTypeError\u001b[0m: can only concatenate str (not \"int\") to str"
     ]
    }
   ],
   "source": [
    "\n",
    "lr = 0.01\n",
    "w = 0\n",
    "b = 1\n",
    "gd2 = GradientDescent(w, b, lr)\n",
    "gd2.batch_gradient(house_x, house_y, 3)"
   ]
  },
  {
   "cell_type": "code",
   "execution_count": null,
   "metadata": {},
   "outputs": [],
   "source": []
  },
  {
   "cell_type": "code",
   "execution_count": null,
   "metadata": {},
   "outputs": [],
   "source": []
  },
  {
   "cell_type": "code",
   "execution_count": null,
   "metadata": {},
   "outputs": [],
   "source": []
  },
  {
   "cell_type": "code",
   "execution_count": null,
   "metadata": {},
   "outputs": [],
   "source": []
  },
  {
   "cell_type": "code",
   "execution_count": null,
   "metadata": {},
   "outputs": [],
   "source": []
  },
  {
   "cell_type": "code",
   "execution_count": null,
   "metadata": {},
   "outputs": [],
   "source": []
  },
  {
   "cell_type": "code",
   "execution_count": 288,
   "metadata": {},
   "outputs": [
    {
     "data": {
      "text/plain": [
       "3"
      ]
     },
     "execution_count": 288,
     "metadata": {},
     "output_type": "execute_result"
    }
   ],
   "source": [
    "import random\n",
    "index = random.randint(0,2) \n",
    "sample_x = inputs[index]\n",
    "sample_x"
   ]
  },
  {
   "cell_type": "code",
   "execution_count": null,
   "metadata": {},
   "outputs": [],
   "source": []
  }
 ],
 "metadata": {
  "kernelspec": {
   "display_name": "Python 3",
   "language": "python",
   "name": "python3"
  },
  "language_info": {
   "codemirror_mode": {
    "name": "ipython",
    "version": 3
   },
   "file_extension": ".py",
   "mimetype": "text/x-python",
   "name": "python",
   "nbconvert_exporter": "python",
   "pygments_lexer": "ipython3",
   "version": "3.7.3"
  }
 },
 "nbformat": 4,
 "nbformat_minor": 4
}
