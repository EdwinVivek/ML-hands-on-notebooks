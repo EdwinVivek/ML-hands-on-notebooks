{
 "cells": [
  {
   "cell_type": "code",
   "execution_count": 100,
   "metadata": {},
   "outputs": [
    {
     "name": "stdout",
     "output_type": "stream",
     "text": [
      "Player is [O] and computer is [X]\n",
      "  |   |   \n",
      "---------\n",
      "  |   |   \n",
      "---------\n",
      "  |   |   \n",
      "---------\n",
      "#Make your move ! [1-9] : 1\n",
      "O |   |   \n",
      "---------\n",
      "  |   |   \n",
      "---------\n",
      "X |   |   \n",
      "---------\n",
      "#Make your move ! [1-9] : 3\n",
      "O | X | O \n",
      "---------\n",
      "  |   |   \n",
      "---------\n",
      "X |   |   \n",
      "---------\n",
      "#Make your move ! [1-9] : 9\n",
      "O | X | O \n",
      "---------\n",
      "  | X |   \n",
      "---------\n",
      "X |   | O \n",
      "---------\n",
      "#Make your move ! [1-9] : 6\n",
      "O | X | O \n",
      "---------\n",
      "  | X | O \n",
      "---------\n",
      "X |   | O \n",
      "---------\n",
      "*** Congratulations ! You won ! ***\n"
     ]
    }
   ],
   "source": [
    "import random\n",
    "import sys\n",
    "board=[i for i in range(0,9)]\n",
    "player, computer = '',''\n",
    "# Corners, Center and Others, respectively\n",
    "moves=((1,7,3,9),(5,),(2,4,6,8))\n",
    "# Winner combinations\n",
    "winners=((0,1,2),(3,4,5),(6,7,8),(0,3,6),(1,4,7),(2,5,8),(0,4,8),(2,4,6))\n",
    "# Table\n",
    "tab=range(1,10)\n",
    "\n",
    "        \n",
    "\n",
    "def print_board():\n",
    "    x=1\n",
    "    for i in board:\n",
    "        end = ' | '\n",
    "        if x%3 == 0:\n",
    "            end = ' \\n'\n",
    "            if i != 1: end+='---------\\n';\n",
    "        char=' '\n",
    "        if i in ('X','O'): char=i;\n",
    "        x+=1\n",
    "        print(char,end=end)\n",
    "        \n",
    "def select_char():\n",
    "    chars=('X','O')\n",
    "    if random.randint(0,1) == 0:\n",
    "        return chars[::-1]\n",
    "    return chars\n",
    "\n",
    "def can_move(brd, player, move):\n",
    "    if move in tab and brd[move-1] == move-1:\n",
    "        return True\n",
    "    return False\n",
    "def can_win(brd, player, move):\n",
    "    places=[]\n",
    "    x=0\n",
    "    for i in brd:\n",
    "        if i == player: places.append(x);\n",
    "        x+=1\n",
    "    win=True\n",
    "    for tup in winners:\n",
    "        win=True\n",
    "        for ix in tup:\n",
    "            if brd[ix] != player:\n",
    "                win=False\n",
    "                break\n",
    "        if win == True:\n",
    "            break\n",
    "    return win\n",
    "def make_move(brd, player, move, undo=False):\n",
    "    if can_move(brd, player, move):\n",
    "        brd[move-1] = player\n",
    "        win=can_win(brd, player, move)\n",
    "        if undo:\n",
    "            brd[move-1] = move-1\n",
    "        return (True, win)\n",
    "    return (False, False)\n",
    "# AI goes here\n",
    "def computer_move():\n",
    "    move=-1\n",
    "    # If I can win, others do not matter.\n",
    "    for i in range(1,10):\n",
    "        if make_move(board, computer, i, True)[1]:\n",
    "            move=i\n",
    "            break\n",
    "    if move == -1:\n",
    "       # If player can win, block him.\n",
    "        for i in range(1,10):\n",
    "            if make_move(board, player, i, True)[1]:\n",
    "                move=i\n",
    "                break\n",
    "    if move == -1:\n",
    "        # Otherwise, try to take one of desired places.\n",
    "        for tup in moves:\n",
    "            for mv in tup:\n",
    "                if move == -1 and can_move(board, computer, mv):\n",
    "                    move=mv\n",
    "                    break\n",
    "    return make_move(board, computer, move)\n",
    "def space_exist():\n",
    "    return board.count('X') + board.count('O') != 9\n",
    "player, computer = select_char()\n",
    "print('Player is [%s] and computer is [%s]' % (player, computer))\n",
    "result='%%% Deuce ! %%%'\n",
    "while space_exist():\n",
    "    print_board()\n",
    "    print('#Make your move ! [1-9] : ', end='')\n",
    "    move = int(input())\n",
    "    moved, won = make_move(board, player, move)\n",
    "    if not moved:\n",
    "        print(' >> Invalid number ! Try again !')\n",
    "        continue\n",
    "    \n",
    "    if won:\n",
    "        result='*** Congratulations ! You won ! ***'\n",
    "        break\n",
    "    elif computer_move()[1]:\n",
    "        result='=== You lose ! =='\n",
    "        break;\n",
    "print_board()\n",
    "print(result)"
   ]
  },
  {
   "cell_type": "code",
   "execution_count": null,
   "metadata": {},
   "outputs": [],
   "source": []
  },
  {
   "cell_type": "code",
   "execution_count": 2,
   "metadata": {},
   "outputs": [
    {
     "name": "stdout",
     "output_type": "stream",
     "text": [
      "Defaulting to user installation because normal site-packages is not writeable\n",
      "Collecting psycopg2-binary\n",
      "  Downloading psycopg2_binary-2.9.6-cp39-cp39-win_amd64.whl (1.2 MB)\n",
      "     ---------------------------------------- 1.2/1.2 MB 8.3 MB/s eta 0:00:00\n",
      "Installing collected packages: psycopg2-binary\n",
      "Successfully installed psycopg2-binary-2.9.6\n",
      "Note: you may need to restart the kernel to use updated packages.\n"
     ]
    },
    {
     "name": "stderr",
     "output_type": "stream",
     "text": [
      "WARNING: You are using pip version 22.0.4; however, version 23.1.2 is available.\n",
      "You should consider upgrading via the 'C:\\Program Files (x86)\\Microsoft Visual Studio\\Shared\\Python39_64\\python.exe -m pip install --upgrade pip' command.\n"
     ]
    }
   ],
   "source": [
    "pip install psycopg2-binary "
   ]
  },
  {
   "cell_type": "code",
   "execution_count": 1,
   "metadata": {},
   "outputs": [
    {
     "name": "stdout",
     "output_type": "stream",
     "text": [
      "Defaulting to user installation because normal site-packages is not writeable\n",
      "Collecting flask_sqlalchemy\n",
      "  Downloading flask_sqlalchemy-3.0.5-py3-none-any.whl (24 kB)\n",
      "Requirement already satisfied: flask>=2.2.5 in c:\\users\\edwinvivekn\\appdata\\roaming\\python\\python39\\site-packages (from flask_sqlalchemy) (2.3.2)\n",
      "Collecting sqlalchemy>=1.4.18\n",
      "  Downloading SQLAlchemy-2.0.17-cp39-cp39-win_amd64.whl (2.0 MB)\n",
      "     ---------------------------------------- 2.0/2.0 MB 11.5 MB/s eta 0:00:00\n",
      "Requirement already satisfied: blinker>=1.6.2 in c:\\users\\edwinvivekn\\appdata\\roaming\\python\\python39\\site-packages (from flask>=2.2.5->flask_sqlalchemy) (1.6.2)\n",
      "Requirement already satisfied: Werkzeug>=2.3.3 in c:\\users\\edwinvivekn\\appdata\\roaming\\python\\python39\\site-packages (from flask>=2.2.5->flask_sqlalchemy) (2.3.6)\n",
      "Requirement already satisfied: Jinja2>=3.1.2 in c:\\users\\edwinvivekn\\appdata\\roaming\\python\\python39\\site-packages (from flask>=2.2.5->flask_sqlalchemy) (3.1.2)\n",
      "Requirement already satisfied: click>=8.1.3 in c:\\users\\edwinvivekn\\appdata\\roaming\\python\\python39\\site-packages (from flask>=2.2.5->flask_sqlalchemy) (8.1.3)\n",
      "Requirement already satisfied: importlib-metadata>=3.6.0 in c:\\users\\edwinvivekn\\appdata\\roaming\\python\\python39\\site-packages (from flask>=2.2.5->flask_sqlalchemy) (6.7.0)\n",
      "Requirement already satisfied: itsdangerous>=2.1.2 in c:\\users\\edwinvivekn\\appdata\\roaming\\python\\python39\\site-packages (from flask>=2.2.5->flask_sqlalchemy) (2.1.2)\n",
      "Requirement already satisfied: typing-extensions>=4.2.0 in c:\\users\\edwinvivekn\\appdata\\roaming\\python\\python39\\site-packages (from sqlalchemy>=1.4.18->flask_sqlalchemy) (4.6.3)\n",
      "Collecting greenlet!=0.4.17\n",
      "  Downloading greenlet-2.0.2-cp39-cp39-win_amd64.whl (192 kB)\n",
      "     ------------------------------------- 192.1/192.1 KB 11.4 MB/s eta 0:00:00\n",
      "Requirement already satisfied: colorama in c:\\users\\edwinvivekn\\appdata\\roaming\\python\\python39\\site-packages (from click>=8.1.3->flask>=2.2.5->flask_sqlalchemy) (0.4.6)\n",
      "Requirement already satisfied: zipp>=0.5 in c:\\users\\edwinvivekn\\appdata\\roaming\\python\\python39\\site-packages (from importlib-metadata>=3.6.0->flask>=2.2.5->flask_sqlalchemy) (3.15.0)\n",
      "Requirement already satisfied: MarkupSafe>=2.0 in c:\\users\\edwinvivekn\\appdata\\roaming\\python\\python39\\site-packages (from Jinja2>=3.1.2->flask>=2.2.5->flask_sqlalchemy) (2.1.3)\n",
      "Installing collected packages: greenlet, sqlalchemy, flask_sqlalchemy\n",
      "Successfully installed flask_sqlalchemy-3.0.5 greenlet-2.0.2 sqlalchemy-2.0.17\n",
      "Note: you may need to restart the kernel to use updated packages.\n"
     ]
    },
    {
     "name": "stderr",
     "output_type": "stream",
     "text": [
      "WARNING: You are using pip version 22.0.4; however, version 23.1.2 is available.\n",
      "You should consider upgrading via the 'C:\\Program Files (x86)\\Microsoft Visual Studio\\Shared\\Python39_64\\python.exe -m pip install --upgrade pip' command.\n"
     ]
    }
   ],
   "source": [
    "pip install flask_sqlalchemy"
   ]
  },
  {
   "cell_type": "code",
   "execution_count": null,
   "metadata": {},
   "outputs": [],
   "source": []
  }
 ],
 "metadata": {
  "kernelspec": {
   "display_name": "Python 3 (ipykernel)",
   "language": "python",
   "name": "python3"
  },
  "language_info": {
   "codemirror_mode": {
    "name": "ipython",
    "version": 3
   },
   "file_extension": ".py",
   "mimetype": "text/x-python",
   "name": "python",
   "nbconvert_exporter": "python",
   "pygments_lexer": "ipython3",
   "version": "3.9.13"
  }
 },
 "nbformat": 4,
 "nbformat_minor": 4
}
