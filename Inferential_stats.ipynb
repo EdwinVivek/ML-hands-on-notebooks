{
 "cells": [
  {
   "cell_type": "code",
   "execution_count": 17,
   "metadata": {},
   "outputs": [
    {
     "name": "stdout",
     "output_type": "stream",
     "text": [
      "The mean of the sample means is 74.52011999999999\n"
     ]
    },
    {
     "data": {
      "image/png": "[encoded data removed]",
      "text/plain": [
       "<Figure size 432x288 with 1 Axes>"
      ]
     },
     "metadata": {
      "needs_background": "light"
     },
     "output_type": "display_data"
    }
   ],
   "source": [
    "#Central limit theorem\n",
    "from numpy.random import seed\n",
    "from numpy.random import randint\n",
    "import numpy as np\n",
    "import matplotlib.pyplot as plt\n",
    "%matplotlib inline\n",
    "\n",
    "seed(2)\n",
    "means = [np.mean(randint(60,90,50)) for i in range(1000)]\n",
    "plt.hist(means)\n",
    "print('The mean of the sample means is {}'.format(np.mean(means)))"
   ]
  },
  {
   "cell_type": "code",
   "execution_count": 22,
   "metadata": {},
   "outputs": [
    {
     "name": "stdout",
     "output_type": "stream",
     "text": [
      "Statistics=0.997937798500061, p-value=0.25756120681762695\n",
      "Fail to reject H0\n"
     ]
    }
   ],
   "source": [
    "#Normality test for CLT\n",
    "#Shapiro-Wilk\n",
    "from scipy.stats import shapiro\n",
    "stats, p = shapiro(means)\n",
    "print('Statistics={}, p-value={}'.format(stats,p))\n",
    "alpha =0.05\n",
    "if(p > alpha):\n",
    "    print(\"Fail to reject H0\")"
   ]
  },
  {
   "cell_type": "code",
   "execution_count": 27,
   "metadata": {},
   "outputs": [
    {
     "name": "stdout",
     "output_type": "stream",
     "text": [
      "Mean 74.52011999999999\n",
      "13.663418569662646 4.322482647170606e-39\n"
     ]
    }
   ],
   "source": [
    "#1 sample t-test\n",
    "from scipy import stats\n",
    "m = np.mean(means)\n",
    "print(\"Mean\", m)\n",
    "tset, p = stats.ttest_1samp(means, 74)\n",
    "print(tset, p)"
   ]
  },
  {
   "cell_type": "code",
   "execution_count": null,
   "metadata": {},
   "outputs": [],
   "source": [
    "#stats.ttest_rel() -> parired sample t-test\n",
    "#stats.ttest_ind() -> independent sampled t-test"
   ]
  },
  {
   "cell_type": "code",
   "execution_count": 29,
   "metadata": {},
   "outputs": [],
   "source": [
    "from statsmodels.stats import weightstats as stests\n",
    "#stests.ztest(x1, x2=None, value=156) -> 1 sampled z-test\n",
    "#stests.ztest(x1, x2, value=0, alternative='two-sided') -> independent sample z-test"
   ]
  },
  {
   "cell_type": "code",
   "execution_count": null,
   "metadata": {},
   "outputs": [],
   "source": [
    "#chi square test for feature independence\n",
    "from sklearn.feature_selection import chi2\n",
    "chi_scores  = chi2(x_train, y_train)\n",
    "chi_table = pd.DataFrame(x_train.columns)\n",
    "chi_table['Chi Score'] = chi_scores[0]\n",
    "chi_table['p-value'] = chi_scores[1]\n",
    "print(chi_table)"
   ]
  },
  {
   "cell_type": "code",
   "execution_count": null,
   "metadata": {},
   "outputs": [],
   "source": [
    "#Anova"
   ]
  }
 ],
 "metadata": {
  "kernelspec": {
   "display_name": "Python 3",
   "language": "python",
   "name": "python3"
  },
  "language_info": {
   "codemirror_mode": {
    "name": "ipython",
    "version": 3
   },
   "file_extension": ".py",
   "mimetype": "text/x-python",
   "name": "python",
   "nbconvert_exporter": "python",
   "pygments_lexer": "ipython3",
   "version": "3.7.3"
  }
 },
 "nbformat": 4,
 "nbformat_minor": 4
}
