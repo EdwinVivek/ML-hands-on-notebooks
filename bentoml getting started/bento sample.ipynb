{
 "cells": [
  {
   "cell_type": "code",
   "execution_count": 36,
   "id": "8d08f64b-6ccb-4f1f-b98e-a4fabb2b48f9",
   "metadata": {},
   "outputs": [],
   "source": [
    "import bentoml\n",
    "import pandas as pd\n",
    "import os\n",
    "import numpy as np\n",
    "\n"
   ]
  },
  {
   "cell_type": "code",
   "execution_count": 37,
   "id": "3ef487db-c2b7-460d-86fa-975e680b9047",
   "metadata": {},
   "outputs": [
    {
     "name": "stdout",
     "output_type": "stream",
     "text": [
      "      price  area  bedrooms  bathrooms  stories mainroad guestroom basement  \\\n",
      "0  13300000  7420         4          2        3      yes        no       no   \n",
      "1  12250000  8960         4          4        4      yes        no       no   \n",
      "2  12250000  9960         3          2        2      yes        no      yes   \n",
      "3  12215000  7500         4          2        2      yes        no      yes   \n",
      "4  11410000  7420         4          1        2      yes       yes      yes   \n",
      "\n",
      "  hotwaterheating airconditioning  parking prefarea furnishingstatus  \n",
      "0              no             yes        2      yes        furnished  \n",
      "1              no             yes        3       no        furnished  \n",
      "2              no              no        2      yes   semi-furnished  \n",
      "3              no             yes        3      yes        furnished  \n",
      "4              no             yes        2       no        furnished  \n"
     ]
    }
   ],
   "source": [
    "dataset = pd.read_csv(os.path.abspath(os.path.join(os.getcwd() + \"\\\\..\\\\..\\\\data\\\\Housing.csv\")))\n",
    "\n",
    "# Printing first 5 records of the dataset\n",
    "print(dataset.head(5))\n"
   ]
  },
  {
   "cell_type": "code",
   "execution_count": 38,
   "id": "c743a114-c56a-4ac6-9b90-fff100aa4058",
   "metadata": {},
   "outputs": [
    {
     "name": "stdout",
     "output_type": "stream",
     "text": [
      "Categorical variables:\n",
      "['mainroad', 'guestroom', 'basement', 'hotwaterheating', 'airconditioning', 'prefarea', 'furnishingstatus']\n",
      "No. of. categorical features:  7\n"
     ]
    }
   ],
   "source": [
    "from sklearn.preprocessing import OneHotEncoder\n",
    "\n",
    "s = (dataset.dtypes == 'object')\n",
    "object_cols = list(s[s].index)\n",
    "print(\"Categorical variables:\")\n",
    "print(object_cols)\n",
    "print('No. of. categorical features: ', \n",
    "      len(object_cols))"
   ]
  },
  {
   "cell_type": "code",
   "execution_count": 39,
   "id": "850a9fb7-f12e-4dff-a153-97649a42659a",
   "metadata": {},
   "outputs": [],
   "source": [
    "OH_encoder = OneHotEncoder(sparse_output=False, handle_unknown='ignore')\n",
    "OH_cols = pd.DataFrame(OH_encoder.fit_transform(dataset[object_cols]))\n",
    "OH_cols.index = dataset.index\n",
    "OH_cols.columns = OH_encoder.get_feature_names_out()\n",
    "df_final = dataset.drop(object_cols, axis=1)\n",
    "df_final = pd.concat([df_final, OH_cols], axis=1)"
   ]
  },
  {
   "cell_type": "code",
   "execution_count": 40,
   "id": "f0791ec8-3099-48fe-bc2c-9c6012c62b0c",
   "metadata": {},
   "outputs": [],
   "source": [
    "from sklearn.metrics import mean_absolute_error\n",
    "from sklearn.model_selection import train_test_split\n",
    "\n",
    "X = df_final.drop(['price'], axis=1)\n",
    "Y = df_final['price']\n",
    "\n",
    "# Split the training set into \n",
    "# training and validation set\n",
    "X_train, X_valid, Y_train, Y_valid = train_test_split(\n",
    "    X, Y, train_size=0.8, test_size=0.2, random_state=0)"
   ]
  },
  {
   "cell_type": "code",
   "execution_count": 41,
   "id": "6fe5fb92-67ab-49fa-8cca-91e85dbb863e",
   "metadata": {},
   "outputs": [
    {
     "name": "stdout",
     "output_type": "stream",
     "text": [
      "0.2710074432862681\n"
     ]
    }
   ],
   "source": [
    "from sklearn import svm\n",
    "from sklearn.svm import SVC\n",
    "from sklearn.metrics import mean_absolute_percentage_error\n",
    "\n",
    "model_SVR = svm.SVR()\n",
    "model_SVR.fit(X_train,Y_train)\n",
    "Y_pred = model_SVR.predict(X_valid)\n",
    "\n",
    "print(mean_absolute_percentage_error(Y_valid, Y_pred))"
   ]
  },
  {
   "cell_type": "code",
   "execution_count": 42,
   "id": "a39b266d-9f97-4d25-8c61-a80928cba64d",
   "metadata": {},
   "outputs": [
    {
     "name": "stdout",
     "output_type": "stream",
     "text": [
      "0.1603519515522061\n"
     ]
    }
   ],
   "source": [
    "from sklearn.linear_model import LinearRegression\n",
    "\n",
    "model_LR = LinearRegression()\n",
    "model_LR.fit(X_train, Y_train)\n",
    "Y_pred = model_LR.predict(X_valid)\n",
    "\n",
    "print(mean_absolute_percentage_error(Y_valid, Y_pred))"
   ]
  },
  {
   "cell_type": "code",
   "execution_count": null,
   "id": "74d24b36-426a-4d5d-8a66-20144b00faf2",
   "metadata": {},
   "outputs": [],
   "source": []
  },
  {
   "cell_type": "code",
   "execution_count": 43,
   "id": "3d6106f0-f4a8-4437-af7a-11b8ae461383",
   "metadata": {},
   "outputs": [
    {
     "data": {
      "text/plain": [
       "Model(tag=\"bento_gs_model:q2hjhefwfgq2ehgo\", path=\"C:\\Users\\EdwinVivekN\\bentoml\\models\\bento_gs_model\\q2hjhefwfgq2ehgo\\\")"
      ]
     },
     "execution_count": 43,
     "metadata": {},
     "output_type": "execute_result"
    }
   ],
   "source": [
    "saved_model  = bentoml.sklearn.save_model(\"bento_gs_model\", model_LR)\n",
    "saved_model"
   ]
  },
  {
   "cell_type": "code",
   "execution_count": 44,
   "id": "b795c41e-89f4-414f-b3b2-e98c825e6a12",
   "metadata": {},
   "outputs": [
    {
     "data": {
      "text/html": [
       "<style>#sk-container-id-4 {\n",
       "  /* Definition of color scheme common for light and dark mode */\n",
       "  --sklearn-color-text: black;\n",
       "  --sklearn-color-line: gray;\n",
       "  /* Definition of color scheme for unfitted estimators */\n",
       "  --sklearn-color-unfitted-level-0: #fff5e6;\n",
       "  --sklearn-color-unfitted-level-1: #f6e4d2;\n",
       "  --sklearn-color-unfitted-level-2: #ffe0b3;\n",
       "  --sklearn-color-unfitted-level-3: chocolate;\n",
       "  /* Definition of color scheme for fitted estimators */\n",
       "  --sklearn-color-fitted-level-0: #f0f8ff;\n",
       "  --sklearn-color-fitted-level-1: #d4ebff;\n",
       "  --sklearn-color-fitted-level-2: #b3dbfd;\n",
       "  --sklearn-color-fitted-level-3: cornflowerblue;\n",
       "\n",
       "  /* Specific color for light theme */\n",
       "  --sklearn-color-text-on-default-background: var(--sg-text-color, var(--theme-code-foreground, var(--jp-content-font-color1, black)));\n",
       "  --sklearn-color-background: var(--sg-background-color, var(--theme-background, var(--jp-layout-color0, white)));\n",
       "  --sklearn-color-border-box: var(--sg-text-color, var(--theme-code-foreground, var(--jp-content-font-color1, black)));\n",
       "  --sklearn-color-icon: #696969;\n",
       "\n",
       "  @media (prefers-color-scheme: dark) {\n",
       "    /* Redefinition of color scheme for dark theme */\n",
       "    --sklearn-color-text-on-default-background: var(--sg-text-color, var(--theme-code-foreground, var(--jp-content-font-color1, white)));\n",
       "    --sklearn-color-background: var(--sg-background-color, var(--theme-background, var(--jp-layout-color0, #111)));\n",
       "    --sklearn-color-border-box: var(--sg-text-color, var(--theme-code-foreground, var(--jp-content-font-color1, white)));\n",
       "    --sklearn-color-icon: #878787;\n",
       "  }\n",
       "}\n",
       "\n",
       "#sk-container-id-4 {\n",
       "  color: var(--sklearn-color-text);\n",
       "}\n",
       "\n",
       "#sk-container-id-4 pre {\n",
       "  padding: 0;\n",
       "}\n",
       "\n",
       "#sk-container-id-4 input.sk-hidden--visually {\n",
       "  border: 0;\n",
       "  clip: rect(1px 1px 1px 1px);\n",
       "  clip: rect(1px, 1px, 1px, 1px);\n",
       "  height: 1px;\n",
       "  margin: -1px;\n",
       "  overflow: hidden;\n",
       "  padding: 0;\n",
       "  position: absolute;\n",
       "  width: 1px;\n",
       "}\n",
       "\n",
       "#sk-container-id-4 div.sk-dashed-wrapped {\n",
       "  border: 1px dashed var(--sklearn-color-line);\n",
       "  margin: 0 0.4em 0.5em 0.4em;\n",
       "  box-sizing: border-box;\n",
       "  padding-bottom: 0.4em;\n",
       "  background-color: var(--sklearn-color-background);\n",
       "}\n",
       "\n",
       "#sk-container-id-4 div.sk-container {\n",
       "  /* jupyter's `normalize.less` sets `[hidden] { display: none; }`\n",
       "     but bootstrap.min.css set `[hidden] { display: none !important; }`\n",
       "     so we also need the `!important` here to be able to override the\n",
       "     default hidden behavior on the sphinx rendered scikit-learn.org.\n",
       "     See: https://github.com/scikit-learn/scikit-learn/issues/21755 */\n",
       "  display: inline-block !important;\n",
       "  position: relative;\n",
       "}\n",
       "\n",
       "#sk-container-id-4 div.sk-text-repr-fallback {\n",
       "  display: none;\n",
       "}\n",
       "\n",
       "div.sk-parallel-item,\n",
       "div.sk-serial,\n",
       "div.sk-item {\n",
       "  /* draw centered vertical line to link estimators */\n",
       "  background-image: linear-gradient(var(--sklearn-color-text-on-default-background), var(--sklearn-color-text-on-default-background));\n",
       "  background-size: 2px 100%;\n",
       "  background-repeat: no-repeat;\n",
       "  background-position: center center;\n",
       "}\n",
       "\n",
       "/* Parallel-specific style estimator block */\n",
       "\n",
       "#sk-container-id-4 div.sk-parallel-item::after {\n",
       "  content: \"\";\n",
       "  width: 100%;\n",
       "  border-bottom: 2px solid var(--sklearn-color-text-on-default-background);\n",
       "  flex-grow: 1;\n",
       "}\n",
       "\n",
       "#sk-container-id-4 div.sk-parallel {\n",
       "  display: flex;\n",
       "  align-items: stretch;\n",
       "  justify-content: center;\n",
       "  background-color: var(--sklearn-color-background);\n",
       "  position: relative;\n",
       "}\n",
       "\n",
       "#sk-container-id-4 div.sk-parallel-item {\n",
       "  display: flex;\n",
       "  flex-direction: column;\n",
       "}\n",
       "\n",
       "#sk-container-id-4 div.sk-parallel-item:first-child::after {\n",
       "  align-self: flex-end;\n",
       "  width: 50%;\n",
       "}\n",
       "\n",
       "#sk-container-id-4 div.sk-parallel-item:last-child::after {\n",
       "  align-self: flex-start;\n",
       "  width: 50%;\n",
       "}\n",
       "\n",
       "#sk-container-id-4 div.sk-parallel-item:only-child::after {\n",
       "  width: 0;\n",
       "}\n",
       "\n",
       "/* Serial-specific style estimator block */\n",
       "\n",
       "#sk-container-id-4 div.sk-serial {\n",
       "  display: flex;\n",
       "  flex-direction: column;\n",
       "  align-items: center;\n",
       "  background-color: var(--sklearn-color-background);\n",
       "  padding-right: 1em;\n",
       "  padding-left: 1em;\n",
       "}\n",
       "\n",
       "\n",
       "/* Toggleable style: style used for estimator/Pipeline/ColumnTransformer box that is\n",
       "clickable and can be expanded/collapsed.\n",
       "- Pipeline and ColumnTransformer use this feature and define the default style\n",
       "- Estimators will overwrite some part of the style using the `sk-estimator` class\n",
       "*/\n",
       "\n",
       "/* Pipeline and ColumnTransformer style (default) */\n",
       "\n",
       "#sk-container-id-4 div.sk-toggleable {\n",
       "  /* Default theme specific background. It is overwritten whether we have a\n",
       "  specific estimator or a Pipeline/ColumnTransformer */\n",
       "  background-color: var(--sklearn-color-background);\n",
       "}\n",
       "\n",
       "/* Toggleable label */\n",
       "#sk-container-id-4 label.sk-toggleable__label {\n",
       "  cursor: pointer;\n",
       "  display: block;\n",
       "  width: 100%;\n",
       "  margin-bottom: 0;\n",
       "  padding: 0.5em;\n",
       "  box-sizing: border-box;\n",
       "  text-align: center;\n",
       "}\n",
       "\n",
       "#sk-container-id-4 label.sk-toggleable__label-arrow:before {\n",
       "  /* Arrow on the left of the label */\n",
       "  content: \"▸\";\n",
       "  float: left;\n",
       "  margin-right: 0.25em;\n",
       "  color: var(--sklearn-color-icon);\n",
       "}\n",
       "\n",
       "#sk-container-id-4 label.sk-toggleable__label-arrow:hover:before {\n",
       "  color: var(--sklearn-color-text);\n",
       "}\n",
       "\n",
       "/* Toggleable content - dropdown */\n",
       "\n",
       "#sk-container-id-4 div.sk-toggleable__content {\n",
       "  max-height: 0;\n",
       "  max-width: 0;\n",
       "  overflow: hidden;\n",
       "  text-align: left;\n",
       "  /* unfitted */\n",
       "  background-color: var(--sklearn-color-unfitted-level-0);\n",
       "}\n",
       "\n",
       "#sk-container-id-4 div.sk-toggleable__content.fitted {\n",
       "  /* fitted */\n",
       "  background-color: var(--sklearn-color-fitted-level-0);\n",
       "}\n",
       "\n",
       "#sk-container-id-4 div.sk-toggleable__content pre {\n",
       "  margin: 0.2em;\n",
       "  border-radius: 0.25em;\n",
       "  color: var(--sklearn-color-text);\n",
       "  /* unfitted */\n",
       "  background-color: var(--sklearn-color-unfitted-level-0);\n",
       "}\n",
       "\n",
       "#sk-container-id-4 div.sk-toggleable__content.fitted pre {\n",
       "  /* unfitted */\n",
       "  background-color: var(--sklearn-color-fitted-level-0);\n",
       "}\n",
       "\n",
       "#sk-container-id-4 input.sk-toggleable__control:checked~div.sk-toggleable__content {\n",
       "  /* Expand drop-down */\n",
       "  max-height: 200px;\n",
       "  max-width: 100%;\n",
       "  overflow: auto;\n",
       "}\n",
       "\n",
       "#sk-container-id-4 input.sk-toggleable__control:checked~label.sk-toggleable__label-arrow:before {\n",
       "  content: \"▾\";\n",
       "}\n",
       "\n",
       "/* Pipeline/ColumnTransformer-specific style */\n",
       "\n",
       "#sk-container-id-4 div.sk-label input.sk-toggleable__control:checked~label.sk-toggleable__label {\n",
       "  color: var(--sklearn-color-text);\n",
       "  background-color: var(--sklearn-color-unfitted-level-2);\n",
       "}\n",
       "\n",
       "#sk-container-id-4 div.sk-label.fitted input.sk-toggleable__control:checked~label.sk-toggleable__label {\n",
       "  background-color: var(--sklearn-color-fitted-level-2);\n",
       "}\n",
       "\n",
       "/* Estimator-specific style */\n",
       "\n",
       "/* Colorize estimator box */\n",
       "#sk-container-id-4 div.sk-estimator input.sk-toggleable__control:checked~label.sk-toggleable__label {\n",
       "  /* unfitted */\n",
       "  background-color: var(--sklearn-color-unfitted-level-2);\n",
       "}\n",
       "\n",
       "#sk-container-id-4 div.sk-estimator.fitted input.sk-toggleable__control:checked~label.sk-toggleable__label {\n",
       "  /* fitted */\n",
       "  background-color: var(--sklearn-color-fitted-level-2);\n",
       "}\n",
       "\n",
       "#sk-container-id-4 div.sk-label label.sk-toggleable__label,\n",
       "#sk-container-id-4 div.sk-label label {\n",
       "  /* The background is the default theme color */\n",
       "  color: var(--sklearn-color-text-on-default-background);\n",
       "}\n",
       "\n",
       "/* On hover, darken the color of the background */\n",
       "#sk-container-id-4 div.sk-label:hover label.sk-toggleable__label {\n",
       "  color: var(--sklearn-color-text);\n",
       "  background-color: var(--sklearn-color-unfitted-level-2);\n",
       "}\n",
       "\n",
       "/* Label box, darken color on hover, fitted */\n",
       "#sk-container-id-4 div.sk-label.fitted:hover label.sk-toggleable__label.fitted {\n",
       "  color: var(--sklearn-color-text);\n",
       "  background-color: var(--sklearn-color-fitted-level-2);\n",
       "}\n",
       "\n",
       "/* Estimator label */\n",
       "\n",
       "#sk-container-id-4 div.sk-label label {\n",
       "  font-family: monospace;\n",
       "  font-weight: bold;\n",
       "  display: inline-block;\n",
       "  line-height: 1.2em;\n",
       "}\n",
       "\n",
       "#sk-container-id-4 div.sk-label-container {\n",
       "  text-align: center;\n",
       "}\n",
       "\n",
       "/* Estimator-specific */\n",
       "#sk-container-id-4 div.sk-estimator {\n",
       "  font-family: monospace;\n",
       "  border: 1px dotted var(--sklearn-color-border-box);\n",
       "  border-radius: 0.25em;\n",
       "  box-sizing: border-box;\n",
       "  margin-bottom: 0.5em;\n",
       "  /* unfitted */\n",
       "  background-color: var(--sklearn-color-unfitted-level-0);\n",
       "}\n",
       "\n",
       "#sk-container-id-4 div.sk-estimator.fitted {\n",
       "  /* fitted */\n",
       "  background-color: var(--sklearn-color-fitted-level-0);\n",
       "}\n",
       "\n",
       "/* on hover */\n",
       "#sk-container-id-4 div.sk-estimator:hover {\n",
       "  /* unfitted */\n",
       "  background-color: var(--sklearn-color-unfitted-level-2);\n",
       "}\n",
       "\n",
       "#sk-container-id-4 div.sk-estimator.fitted:hover {\n",
       "  /* fitted */\n",
       "  background-color: var(--sklearn-color-fitted-level-2);\n",
       "}\n",
       "\n",
       "/* Specification for estimator info (e.g. \"i\" and \"?\") */\n",
       "\n",
       "/* Common style for \"i\" and \"?\" */\n",
       "\n",
       ".sk-estimator-doc-link,\n",
       "a:link.sk-estimator-doc-link,\n",
       "a:visited.sk-estimator-doc-link {\n",
       "  float: right;\n",
       "  font-size: smaller;\n",
       "  line-height: 1em;\n",
       "  font-family: monospace;\n",
       "  background-color: var(--sklearn-color-background);\n",
       "  border-radius: 1em;\n",
       "  height: 1em;\n",
       "  width: 1em;\n",
       "  text-decoration: none !important;\n",
       "  margin-left: 1ex;\n",
       "  /* unfitted */\n",
       "  border: var(--sklearn-color-unfitted-level-1) 1pt solid;\n",
       "  color: var(--sklearn-color-unfitted-level-1);\n",
       "}\n",
       "\n",
       ".sk-estimator-doc-link.fitted,\n",
       "a:link.sk-estimator-doc-link.fitted,\n",
       "a:visited.sk-estimator-doc-link.fitted {\n",
       "  /* fitted */\n",
       "  border: var(--sklearn-color-fitted-level-1) 1pt solid;\n",
       "  color: var(--sklearn-color-fitted-level-1);\n",
       "}\n",
       "\n",
       "/* On hover */\n",
       "div.sk-estimator:hover .sk-estimator-doc-link:hover,\n",
       ".sk-estimator-doc-link:hover,\n",
       "div.sk-label-container:hover .sk-estimator-doc-link:hover,\n",
       ".sk-estimator-doc-link:hover {\n",
       "  /* unfitted */\n",
       "  background-color: var(--sklearn-color-unfitted-level-3);\n",
       "  color: var(--sklearn-color-background);\n",
       "  text-decoration: none;\n",
       "}\n",
       "\n",
       "div.sk-estimator.fitted:hover .sk-estimator-doc-link.fitted:hover,\n",
       ".sk-estimator-doc-link.fitted:hover,\n",
       "div.sk-label-container:hover .sk-estimator-doc-link.fitted:hover,\n",
       ".sk-estimator-doc-link.fitted:hover {\n",
       "  /* fitted */\n",
       "  background-color: var(--sklearn-color-fitted-level-3);\n",
       "  color: var(--sklearn-color-background);\n",
       "  text-decoration: none;\n",
       "}\n",
       "\n",
       "/* Span, style for the box shown on hovering the info icon */\n",
       ".sk-estimator-doc-link span {\n",
       "  display: none;\n",
       "  z-index: 9999;\n",
       "  position: relative;\n",
       "  font-weight: normal;\n",
       "  right: .2ex;\n",
       "  padding: .5ex;\n",
       "  margin: .5ex;\n",
       "  width: min-content;\n",
       "  min-width: 20ex;\n",
       "  max-width: 50ex;\n",
       "  color: var(--sklearn-color-text);\n",
       "  box-shadow: 2pt 2pt 4pt #999;\n",
       "  /* unfitted */\n",
       "  background: var(--sklearn-color-unfitted-level-0);\n",
       "  border: .5pt solid var(--sklearn-color-unfitted-level-3);\n",
       "}\n",
       "\n",
       ".sk-estimator-doc-link.fitted span {\n",
       "  /* fitted */\n",
       "  background: var(--sklearn-color-fitted-level-0);\n",
       "  border: var(--sklearn-color-fitted-level-3);\n",
       "}\n",
       "\n",
       ".sk-estimator-doc-link:hover span {\n",
       "  display: block;\n",
       "}\n",
       "\n",
       "/* \"?\"-specific style due to the `<a>` HTML tag */\n",
       "\n",
       "#sk-container-id-4 a.estimator_doc_link {\n",
       "  float: right;\n",
       "  font-size: 1rem;\n",
       "  line-height: 1em;\n",
       "  font-family: monospace;\n",
       "  background-color: var(--sklearn-color-background);\n",
       "  border-radius: 1rem;\n",
       "  height: 1rem;\n",
       "  width: 1rem;\n",
       "  text-decoration: none;\n",
       "  /* unfitted */\n",
       "  color: var(--sklearn-color-unfitted-level-1);\n",
       "  border: var(--sklearn-color-unfitted-level-1) 1pt solid;\n",
       "}\n",
       "\n",
       "#sk-container-id-4 a.estimator_doc_link.fitted {\n",
       "  /* fitted */\n",
       "  border: var(--sklearn-color-fitted-level-1) 1pt solid;\n",
       "  color: var(--sklearn-color-fitted-level-1);\n",
       "}\n",
       "\n",
       "/* On hover */\n",
       "#sk-container-id-4 a.estimator_doc_link:hover {\n",
       "  /* unfitted */\n",
       "  background-color: var(--sklearn-color-unfitted-level-3);\n",
       "  color: var(--sklearn-color-background);\n",
       "  text-decoration: none;\n",
       "}\n",
       "\n",
       "#sk-container-id-4 a.estimator_doc_link.fitted:hover {\n",
       "  /* fitted */\n",
       "  background-color: var(--sklearn-color-fitted-level-3);\n",
       "}\n",
       "</style><div id=\"sk-container-id-4\" class=\"sk-top-container\"><div class=\"sk-text-repr-fallback\"><pre>LinearRegression()</pre><b>In a Jupyter environment, please rerun this cell to show the HTML representation or trust the notebook. <br />On GitHub, the HTML representation is unable to render, please try loading this page with nbviewer.org.</b></div><div class=\"sk-container\" hidden><div class=\"sk-item\"><div class=\"sk-estimator fitted sk-toggleable\"><input class=\"sk-toggleable__control sk-hidden--visually\" id=\"sk-estimator-id-4\" type=\"checkbox\" checked><label for=\"sk-estimator-id-4\" class=\"sk-toggleable__label fitted sk-toggleable__label-arrow fitted\">&nbsp;&nbsp;LinearRegression<a class=\"sk-estimator-doc-link fitted\" rel=\"noreferrer\" target=\"_blank\" href=\"https://scikit-learn.org/1.5/modules/generated/sklearn.linear_model.LinearRegression.html\">?<span>Documentation for LinearRegression</span></a><span class=\"sk-estimator-doc-link fitted\">i<span>Fitted</span></span></label><div class=\"sk-toggleable__content fitted\"><pre>LinearRegression()</pre></div> </div></div></div></div>"
      ],
      "text/plain": [
       "LinearRegression()"
      ]
     },
     "execution_count": 44,
     "metadata": {},
     "output_type": "execute_result"
    }
   ],
   "source": [
    "from sklearn.base import BaseEstimator\n",
    "model: BaseEstimator = bentoml.sklearn.load_model(\"bento_gs_model:latest\")\n",
    "model"
   ]
  },
  {
   "cell_type": "code",
   "execution_count": 45,
   "id": "1be49e9f-3a9e-47e3-aead-e7a1d28789c5",
   "metadata": {},
   "outputs": [
    {
     "name": "stdout",
     "output_type": "stream",
     "text": [
      " Tag                            Module           Size      Creation Time       \n",
      " bento_gs_model:q2hjhefwfgq2eâ€¦  bentoml.sklearn  1.90 KiB  2024-12-09 18:01:33 \n",
      " bento_gs_model:3pjpadnvog2psâ€¦  bentoml.sklearn  1.90 KiB  2024-12-08 20:06:49 \n"
     ]
    }
   ],
   "source": [
    "!bentoml models list"
   ]
  },
  {
   "cell_type": "code",
   "execution_count": 46,
   "id": "5f5a64e5-fc8b-41ec-a3d4-18a600f6ea8e",
   "metadata": {},
   "outputs": [
    {
     "name": "stdout",
     "output_type": "stream",
     "text": [
      "name: bento_gs_model\n",
      "version: q2hjhefwfgq2ehgo\n",
      "module: bentoml.sklearn\n",
      "labels: {}\n",
      "options: {}\n",
      "metadata: {}\n",
      "context:\n",
      "  framework_name: sklearn\n",
      "  framework_versions:\n",
      "    scikit-learn: 1.5.2\n",
      "  bentoml_version: 1.3.15\n",
      "  python_version: 3.12.8\n",
      "signatures:\n",
      "  predict:\n",
      "    batchable: false\n",
      "api_version: v1\n",
      "creation_time: '2024-12-09T12:31:33.922998+00:00'\n",
      "\n"
     ]
    }
   ],
   "source": [
    "!bentoml models get \"bento_gs_model\"\n",
    "#!bentoml models delete \"bento_gs_model\""
   ]
  },
  {
   "cell_type": "code",
   "execution_count": 47,
   "id": "5e379e9d-6949-4658-b998-ea921968cf1e",
   "metadata": {},
   "outputs": [
    {
     "data": {
      "text/plain": [
       "Model(tag=\"bento_gs_model:q2hjhefwfgq2ehgo\", path=\"C:\\Users\\EdwinVivekN\\bentoml\\models\\bento_gs_model\\q2hjhefwfgq2ehgo\")"
      ]
     },
     "execution_count": 47,
     "metadata": {},
     "output_type": "execute_result"
    }
   ],
   "source": [
    "bento_model = bentoml.models.get(\"bento_gs_model:latest\")\n",
    "bento_model"
   ]
  },
  {
   "cell_type": "code",
   "execution_count": 48,
   "id": "b9ebd540-4fc4-4e72-8605-351f62ab1dd8",
   "metadata": {},
   "outputs": [
    {
     "name": "stderr",
     "output_type": "stream",
     "text": [
      "C:\\Users\\EdwinVivekN\\AppData\\Local\\Packages\\PythonSoftwareFoundation.Python.3.12_qbz5n2kfra8p0\\LocalCache\\local-packages\\Python312\\site-packages\\bentoml\\_internal\\models\\model.py:367: BentoMLDeprecationWarning: `get_runnable` is deprecated since BentoML v1.4 and will be removed in a future version. Use `get_service` instead.\n",
      "  self._runnable = self.info.imported_module.get_runnable(self)\n",
      "C:\\Users\\EdwinVivekN\\AppData\\Local\\Packages\\PythonSoftwareFoundation.Python.3.12_qbz5n2kfra8p0\\LocalCache\\local-packages\\Python312\\site-packages\\bentoml\\_internal\\models\\model.py:354: BentoMLDeprecationWarning: `Runner` is deprecated since BentoML v1.4 and will be removed in a future version. Please upgrade to new style services.\n",
      "  return Runner(\n"
     ]
    },
    {
     "data": {
      "text/plain": [
       "Runner(name='bento_gs_model', models=[Model(tag=\"bento_gs_model:q2hjhefwfgq2ehgo\", path=\"C:\\Users\\EdwinVivekN\\bentoml\\models\\bento_gs_model\\q2hjhefwfgq2ehgo\")], resource_config=None, runnable_class=<class '_bentoml_impl.frameworks.sklearn.get_runnable.<locals>.SklearnRunnable'>, embedded=False, runner_methods=[RunnerMethod(runner=..., name='predict', config=RunnableMethodConfig(batchable=False, batch_dim=(0, 0), input_spec=None, output_spec=None, is_stream=False), max_batch_size=100, max_latency_ms=60000, doc=None)], scheduling_strategy=<class 'bentoml._internal.runner.strategy.DefaultStrategy'>, workers_per_resource=1, runnable_init_params={}, _runner_handle=<bentoml._internal.runner.runner_handle.DummyRunnerHandle object at 0x000001D10177A2D0>)"
      ]
     },
     "execution_count": 48,
     "metadata": {},
     "output_type": "execute_result"
    }
   ],
   "source": [
    "my_runner = bento_model.to_runner()\n",
    "my_runner"
   ]
  },
  {
   "cell_type": "code",
   "execution_count": 49,
   "id": "8d4c47c3-e78b-49d3-bb8c-4fcf1127c626",
   "metadata": {},
   "outputs": [
    {
     "name": "stderr",
     "output_type": "stream",
     "text": [
      "'Runner.init_local' is for debugging and testing only. Make sure to remove it before deploying to production.\n"
     ]
    }
   ],
   "source": [
    "# Initialize the Runner in the current process (for development and testing only):\n",
    "my_runner.init_local()"
   ]
  },
  {
   "cell_type": "code",
   "execution_count": 50,
   "id": "e941e519-0c2a-45e4-a26f-041ced068705",
   "metadata": {},
   "outputs": [
    {
     "data": {
      "text/plain": [
       "array([ 3950288.61876183,  6173868.81883112,  4483635.98836252,\n",
       "        7258732.75105289,  2836727.58490482,  7032947.09749074,\n",
       "        3203851.47112392,  3270994.00904054,  3472554.03645915,\n",
       "        8289978.32623725,  6605321.62954623,  3723366.23684093,\n",
       "        3812376.95976084,  4548966.84544609,  4020476.34849668,\n",
       "        1969836.22090135,  4057262.98087852,  3704586.86711741,\n",
       "        3282767.93188791,  4609423.64909564,  5968243.73637161,\n",
       "        6363698.62063815,  4751300.32389   ,  2659595.27633028,\n",
       "        5305573.24662116,  5680819.5878446 ,  5404106.90027142,\n",
       "        5543050.52192535,  5768360.47982208,  5801753.70839283,\n",
       "        3389277.96110609,  6399092.02678423,  7081030.31411775,\n",
       "        2913042.40387669,  4498664.01335422,  5210561.68059368,\n",
       "        5013457.8412231 ,  3707596.71347574,  2916603.4548534 ,\n",
       "        3937761.75634065,  8041334.20180917,  4942174.61142059,\n",
       "        6432605.2198175 ,  3511338.78156424,  3813475.39540795,\n",
       "        6434856.19540026,  4447687.02885138,  2696243.71724904,\n",
       "        4180018.70625787,  6455973.25779222,  4056226.34306794,\n",
       "        7124571.30073178,  2530661.67791756,  3033278.46419629,\n",
       "        3500830.32062852,  5119451.01676906,  7110973.93249743,\n",
       "        4127705.79986421,  2970005.36861351,  4325732.61744628,\n",
       "        5986119.70766315,  6824682.68794777,  3325637.45729276,\n",
       "        7191804.55935362,  2609468.55099828,  5056521.66455838,\n",
       "        6636269.77589396,  2565659.8912822 ,  3751294.03758698,\n",
       "        5080427.99370216,  4281895.68812405,  7361447.18275849,\n",
       "        5088033.19021896,  6022539.93047586,  4176648.20409014,\n",
       "        4639478.54662209,  2898083.34640785,  7564393.6604021 ,\n",
       "        2583102.74086255,  3764386.73199928,  4281895.68812405,\n",
       "        6064669.41608418,  5199726.50699983,  5402615.00751872,\n",
       "        3900783.41794331,  4206866.26507424,  4785571.46071488,\n",
       "        5125782.90220215,  3843109.12191356,  4373515.96292199,\n",
       "        3233779.57826316,  5800152.85515815,  3086788.94075882,\n",
       "        3736808.50597378,  4475695.33317612, 10490600.69498257,\n",
       "        3044861.09249662,  7172608.23555221,  4348859.16641415,\n",
       "        4508307.36728278,  6607800.84903026,  3393091.94230304,\n",
       "        4545560.49433444,  3313363.08812165,  7340959.28328472,\n",
       "        5235408.60082988,  4134159.03053667,  5058911.23363253,\n",
       "        6279957.3217309 ])"
      ]
     },
     "execution_count": 50,
     "metadata": {},
     "output_type": "execute_result"
    }
   ],
   "source": [
    "# Use the runner for inference \n",
    "predictions = my_runner.predict.run(X_valid)\n",
    "predictions"
   ]
  },
  {
   "cell_type": "code",
   "execution_count": 105,
   "id": "633101fd-eecc-488e-a66d-433ae16cd9e9",
   "metadata": {},
   "outputs": [
    {
     "ename": "NotFound",
     "evalue": "Model bento_gs_model:q2hjhefwfgq2ehgo was saved with module bentoml.sklearn, not loading with bentoml.mlflow.",
     "output_type": "error",
     "traceback": [
      "\u001b[1;31m---------------------------------------------------------------------------\u001b[0m",
      "\u001b[1;31mNotFound\u001b[0m                                  Traceback (most recent call last)",
      "Cell \u001b[1;32mIn[105], line 2\u001b[0m\n\u001b[0;32m      1\u001b[0m \u001b[38;5;66;03m#alternative approach to above\u001b[39;00m\n\u001b[1;32m----> 2\u001b[0m bento_model2 \u001b[38;5;241m=\u001b[39m \u001b[43mbentoml\u001b[49m\u001b[38;5;241;43m.\u001b[39;49m\u001b[43mmlflow\u001b[49m\u001b[38;5;241;43m.\u001b[39;49m\u001b[43mload_model\u001b[49m\u001b[43m(\u001b[49m\u001b[38;5;124;43m\"\u001b[39;49m\u001b[38;5;124;43mbento_gs_model:latest\u001b[39;49m\u001b[38;5;124;43m\"\u001b[39;49m\u001b[43m)\u001b[49m\n\u001b[0;32m      3\u001b[0m bento_model2\n\u001b[0;32m      4\u001b[0m pred \u001b[38;5;241m=\u001b[39m bento_model2\u001b[38;5;241m.\u001b[39mpredict(X_valid[:\u001b[38;5;241m1\u001b[39m])\n",
      "File \u001b[1;32m~\\AppData\\Local\\Packages\\PythonSoftwareFoundation.Python.3.12_qbz5n2kfra8p0\\LocalCache\\local-packages\\Python312\\site-packages\\_bentoml_impl\\frameworks\\mlflow.py:73\u001b[0m, in \u001b[0;36mload_model\u001b[1;34m(bento_model)\u001b[0m\n\u001b[0;32m     70\u001b[0m     bento_model \u001b[38;5;241m=\u001b[39m bentoml\u001b[38;5;241m.\u001b[39mmodels\u001b[38;5;241m.\u001b[39mget(bento_model)\n\u001b[0;32m     72\u001b[0m \u001b[38;5;28;01mif\u001b[39;00m bento_model\u001b[38;5;241m.\u001b[39minfo\u001b[38;5;241m.\u001b[39mmodule \u001b[38;5;129;01mnot\u001b[39;00m \u001b[38;5;129;01min\u001b[39;00m (MODULE_NAME, \u001b[38;5;18m__name__\u001b[39m):\n\u001b[1;32m---> 73\u001b[0m     \u001b[38;5;28;01mraise\u001b[39;00m NotFound(\n\u001b[0;32m     74\u001b[0m         \u001b[38;5;124mf\u001b[39m\u001b[38;5;124m\"\u001b[39m\u001b[38;5;124mModel \u001b[39m\u001b[38;5;132;01m{\u001b[39;00mbento_model\u001b[38;5;241m.\u001b[39mtag\u001b[38;5;132;01m}\u001b[39;00m\u001b[38;5;124m was saved with module \u001b[39m\u001b[38;5;132;01m{\u001b[39;00mbento_model\u001b[38;5;241m.\u001b[39minfo\u001b[38;5;241m.\u001b[39mmodule\u001b[38;5;132;01m}\u001b[39;00m\u001b[38;5;124m, not loading with \u001b[39m\u001b[38;5;132;01m{\u001b[39;00mMODULE_NAME\u001b[38;5;132;01m}\u001b[39;00m\u001b[38;5;124m.\u001b[39m\u001b[38;5;124m\"\u001b[39m\n\u001b[0;32m     75\u001b[0m     )\n\u001b[0;32m     77\u001b[0m \u001b[38;5;28;01mreturn\u001b[39;00m mlflow\u001b[38;5;241m.\u001b[39mpyfunc\u001b[38;5;241m.\u001b[39mload_model(bento_model\u001b[38;5;241m.\u001b[39mpath_of(MLFLOW_MODEL_FOLDER))\n",
      "\u001b[1;31mNotFound\u001b[0m: Model bento_gs_model:q2hjhefwfgq2ehgo was saved with module bentoml.sklearn, not loading with bentoml.mlflow."
     ]
    }
   ],
   "source": [
    "#to load mlflow model\n",
    "bento_model2 = bentoml.mlflow.load_model(\"bento_gs_model:latest\")\n",
    "bento_model2\n",
    "pred = bento_model2.predict(X_valid[:1])\n",
    "pred"
   ]
  },
  {
   "cell_type": "code",
   "execution_count": 51,
   "id": "9158e5be-78fb-45e1-9d74-29cb9260e177",
   "metadata": {},
   "outputs": [
    {
     "name": "stderr",
     "output_type": "stream",
     "text": [
      "C:\\Users\\EdwinVivekN\\AppData\\Local\\Temp\\ipykernel_6376\\4227574256.py:1: BentoMLDeprecationWarning: `bentoml.Service` is deprecated since BentoML v1.4 and will be removed in a future version. Please upgrade to @bentoml.service().\n",
      "  svc = bentoml.Service(\"bento_gs_model\", runners=[my_runner])\n"
     ]
    }
   ],
   "source": [
    "svc = bentoml.Service(\"bento_gs_model\", runners=[my_runner])"
   ]
  },
  {
   "cell_type": "code",
   "execution_count": 81,
   "id": "ca0beb6d-5518-42e2-9590-558dff4fcd72",
   "metadata": {},
   "outputs": [
    {
     "name": "stderr",
     "output_type": "stream",
     "text": [
      "C:\\Users\\EdwinVivekN\\AppData\\Local\\Packages\\PythonSoftwareFoundation.Python.3.12_qbz5n2kfra8p0\\LocalCache\\local-packages\\Python312\\site-packages\\sklearn\\base.py:493: UserWarning: X does not have valid feature names, but LinearRegression was fitted with feature names\n",
      "  warnings.warn(\n"
     ]
    },
    {
     "data": {
      "text/plain": [
       "array([3950288.61876183])"
      ]
     },
     "execution_count": 81,
     "metadata": {},
     "output_type": "execute_result"
    }
   ],
   "source": [
    "input_d = [4000, 3, 1, 2, 1, 0, 1, 1, 0, 1, 0, 1, 0, 1, 0, 1, 0, 1, 0, 0]\n",
    "my_runner.predict.run(np.asarray(input_d).reshape(1,-1))"
   ]
  },
  {
   "cell_type": "code",
   "execution_count": null,
   "id": "f2fb87b0-e0d6-419f-892e-7d850aaceb33",
   "metadata": {},
   "outputs": [],
   "source": [
    "!bentoml serve service:MyModel"
   ]
  },
  {
   "cell_type": "code",
   "execution_count": 102,
   "id": "7ab913c8-d9e8-4988-8465-7c8dc283a697",
   "metadata": {},
   "outputs": [
    {
     "name": "stdout",
     "output_type": "stream",
     "text": [
      "INFO: Adding current BentoML version to requirements.txt: bentoml==1.3.15\n",
      "INFO: Locking PyPI package versions.\n",
      "INFO: Locking packages for x86_64-unknown-linux-gnu. Pass `--platform` option to specify the platform.\n",
      "\n",
      "â–ˆâ–ˆâ–ˆâ–ˆâ–ˆâ–ˆâ•— â–ˆâ–ˆâ–ˆâ–ˆâ–ˆâ–ˆâ–ˆâ•—â–ˆâ–ˆâ–ˆâ•—   â–ˆâ–ˆâ•—â–ˆâ–ˆâ–ˆâ–ˆâ–ˆâ–ˆâ–ˆâ–ˆâ•— â–ˆâ–ˆâ–ˆâ–ˆâ–ˆâ–ˆâ•— â–ˆâ–ˆâ–ˆâ•—   â–ˆâ–ˆâ–ˆâ•—â–ˆâ–ˆâ•—\n",
      "â–ˆâ–ˆâ•”â•�â•�â–ˆâ–ˆâ•—â–ˆâ–ˆâ•”â•�â•�â•�â•�â•�â–ˆâ–ˆâ–ˆâ–ˆâ•—  â–ˆâ–ˆâ•‘â•šâ•�â•�â–ˆâ–ˆâ•”â•�â•�â•�â–ˆâ–ˆâ•”â•�â•�â•�â–ˆâ–ˆâ•—â–ˆâ–ˆâ–ˆâ–ˆâ•— â–ˆâ–ˆâ–ˆâ–ˆâ•‘â–ˆâ–ˆâ•‘\n",
      "â–ˆâ–ˆâ–ˆâ–ˆâ–ˆâ–ˆâ•”â•�â–ˆâ–ˆâ–ˆâ–ˆâ–ˆâ•—  â–ˆâ–ˆâ•”â–ˆâ–ˆâ•— â–ˆâ–ˆâ•‘   â–ˆâ–ˆâ•‘   â–ˆâ–ˆâ•‘   â–ˆâ–ˆâ•‘â–ˆâ–ˆâ•”â–ˆâ–ˆâ–ˆâ–ˆâ•”â–ˆâ–ˆâ•‘â–ˆâ–ˆâ•‘\n",
      "â–ˆâ–ˆâ•”â•�â•�â–ˆâ–ˆâ•—â–ˆâ–ˆâ•”â•�â•�â•�  â–ˆâ–ˆâ•‘â•šâ–ˆâ–ˆâ•—â–ˆâ–ˆâ•‘   â–ˆâ–ˆâ•‘   â–ˆâ–ˆâ•‘   â–ˆâ–ˆâ•‘â–ˆâ–ˆâ•‘â•šâ–ˆâ–ˆâ•”â•�â–ˆâ–ˆâ•‘â–ˆâ–ˆâ•‘\n",
      "â–ˆâ–ˆâ–ˆâ–ˆâ–ˆâ–ˆâ•”â•�â–ˆâ–ˆâ–ˆâ–ˆâ–ˆâ–ˆâ–ˆâ•—â–ˆâ–ˆâ•‘ â•šâ–ˆâ–ˆâ–ˆâ–ˆâ•‘   â–ˆâ–ˆâ•‘   â•šâ–ˆâ–ˆâ–ˆâ–ˆâ–ˆâ–ˆâ•”â•�â–ˆâ–ˆâ•‘ â•šâ•�â•� â–ˆâ–ˆâ•‘â–ˆâ–ˆâ–ˆâ–ˆâ–ˆâ–ˆâ–ˆâ•—\n",
      "â•šâ•�â•�â•�â•�â•�â•� â•šâ•�â•�â•�â•�â•�â•�â•�â•šâ•�â•�  â•šâ•�â•�â•�â•�   â•šâ•�â•�    â•šâ•�â•�â•�â•�â•�â•� â•šâ•�â•�     â•šâ•�â•�â•šâ•�â•�â•�â•�â•�â•�â•�\n",
      "\n",
      "Successfully built Bento(tag=\"my_model:umv2rsnwgg2hahgo\").\n",
      "\n",
      "Next steps: \n",
      "\n",
      "* Deploy to BentoCloud:\n",
      "    $ bentoml deploy my_model:umv2rsnwgg2hahgo -n ${DEPLOYMENT_NAME}\n",
      "\n",
      "* Update an existing deployment on BentoCloud:\n",
      "    $ bentoml deployment update --bento my_model:umv2rsnwgg2hahgo \n",
      "${DEPLOYMENT_NAME}\n",
      "\n",
      "* Containerize your Bento with `bentoml containerize`:\n",
      "    $ bentoml containerize my_model:umv2rsnwgg2hahgo \n",
      "\n",
      "* Push to BentoCloud with `bentoml push`:\n",
      "    $ bentoml push my_model:umv2rsnwgg2hahgo \n"
     ]
    },
    {
     "name": "stderr",
     "output_type": "stream",
     "text": [
      "WARNING: `bentoml.models.get()` as the class attribute is not recommended because it requires the model to exist at import time. Use `bento_model = BentoModel('bento_gs_model:q2hjhefwfgq2ehgo')` instead.\n"
     ]
    }
   ],
   "source": [
    "!bentoml build "
   ]
  },
  {
   "cell_type": "code",
   "execution_count": 103,
   "id": "60b3a005-2d03-4633-86e5-23340f84e79d",
   "metadata": {},
   "outputs": [
    {
     "name": "stdout",
     "output_type": "stream",
     "text": [
      " Tag                        Size       Model Size  Creation Time       \n",
      " my_model:umv2rsnwgg2hahgo  18.07 KiB  1.90 KiB    2024-12-09 18:59:39 \n",
      " my_model:acngxbnwgg2lchgo  18.07 KiB  1.90 KiB    2024-12-09 18:55:12 \n"
     ]
    }
   ],
   "source": [
    "!bentoml list"
   ]
  },
  {
   "cell_type": "code",
   "execution_count": 104,
   "id": "caa11429-f328-496c-81b8-f34f85fcefce",
   "metadata": {},
   "outputs": [
    {
     "name": "stdout",
     "output_type": "stream",
     "text": [
      "service: service:MyModel\n",
      "name: my_model\n",
      "version: umv2rsnwgg2hahgo\n",
      "bentoml_version: 1.3.15\n",
      "creation_time: '2024-12-09T13:29:39.033304+00:00'\n",
      "labels:\n",
      "  owner: ed\n",
      "  stage: dev\n",
      "models: []\n",
      "entry_service: MyModel\n",
      "services:\n",
      "- name: MyModel\n",
      "  service: ''\n",
      "  models:\n",
      "  - tag: bento_gs_model:q2hjhefwfgq2ehgo\n",
      "    module: bentoml.sklearn\n",
      "    creation_time: '2024-12-09T12:31:33.922998+00:00'\n",
      "  dependencies: []\n",
      "  config:\n",
      "    resources:\n",
      "      cpu: '2'\n",
      "    traffic:\n",
      "      timeout: 10\n",
      "envs: []\n",
      "schema:\n",
      "  name: MyModel\n",
      "  type: service\n",
      "  routes:\n",
      "  - name: predict\n",
      "    route: /predict\n",
      "    batchable: false\n",
      "    input:\n",
      "      properties:\n",
      "        input_data:\n",
      "          format: numpy-array\n",
      "          title: Input Data\n",
      "          type: tensor\n",
      "      required:\n",
      "      - input_data\n",
      "      title: Input\n",
      "      type: object\n",
      "    output:\n",
      "      format: numpy-array\n",
      "      type: tensor\n",
      "    is_task: false\n",
      "spec: 1\n",
      "runners: []\n",
      "apis: []\n",
      "docker:\n",
      "  distro: debian\n",
      "  python_version: '3.12'\n",
      "  cuda_version: null\n",
      "  env: null\n",
      "  system_packages: null\n",
      "  setup_script: null\n",
      "  base_image: null\n",
      "  dockerfile_template: null\n",
      "python:\n",
      "  requirements_txt: null\n",
      "  packages:\n",
      "  - scikit-learn\n",
      "  - pandas\n",
      "  lock_packages: true\n",
      "  pack_git_packages: true\n",
      "  index_url: null\n",
      "  no_index: null\n",
      "  trusted_host: null\n",
      "  find_links: null\n",
      "  extra_index_url: null\n",
      "  pip_args: null\n",
      "  wheels: null\n",
      "conda:\n",
      "  environment_yml: null\n",
      "  channels: null\n",
      "  dependencies: null\n",
      "  pip: null\n",
      "\n"
     ]
    }
   ],
   "source": [
    "!bentoml get \"my_model\"\n",
    "#!bentoml delete"
   ]
  },
  {
   "cell_type": "code",
   "execution_count": null,
   "id": "de123b6a-dd05-43fb-bb7a-d7b3ed4d549c",
   "metadata": {},
   "outputs": [],
   "source": []
  },
  {
   "cell_type": "code",
   "execution_count": null,
   "id": "672a411a-20fe-41bf-9dd3-9f839a5a03b3",
   "metadata": {},
   "outputs": [],
   "source": []
  },
  {
   "cell_type": "code",
   "execution_count": null,
   "id": "f6dee1d3-36ca-42be-b811-8c82223f2f6a",
   "metadata": {},
   "outputs": [],
   "source": []
  }
 ],
 "metadata": {
  "kernelspec": {
   "display_name": "Python 3 (ipykernel)",
   "language": "python",
   "name": "python3"
  },
  "language_info": {
   "codemirror_mode": {
    "name": "ipython",
    "version": 3
   },
   "file_extension": ".py",
   "mimetype": "text/x-python",
   "name": "python",
   "nbconvert_exporter": "python",
   "pygments_lexer": "ipython3",
   "version": "3.12.8"
  }
 },
 "nbformat": 4,
 "nbformat_minor": 5
}
