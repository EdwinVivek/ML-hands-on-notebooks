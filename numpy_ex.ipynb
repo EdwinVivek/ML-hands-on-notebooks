{
 "cells": [
  {
   "cell_type": "code",
   "execution_count": 19,
   "metadata": {},
   "outputs": [],
   "source": [
    "import numpy as np\n",
    "np.set_printoptions(threshold=np.nan)  #print entire array"
   ]
  },
  {
   "cell_type": "code",
   "execution_count": 31,
   "metadata": {},
   "outputs": [
    {
     "name": "stdout",
     "output_type": "stream",
     "text": [
      "[[1.+0.j 2.+0.j]\n",
      " [3.+0.j 4.+0.j]]\n",
      "shape:  (2, 2)\n",
      "size:  4\n",
      "dimensions:  2\n"
     ]
    }
   ],
   "source": [
    "#Array creation\n",
    "c = np.array([1,2,4,5])\n",
    "a = np.array( [ [1,2], [3,4] ], dtype=complex )\n",
    "print(a)\n",
    "print(\"shape: \", a.shape)\n",
    "print(\"size: \", a.size)\n",
    "print(\"dimensions: \", a.ndim)"
   ]
  },
  {
   "cell_type": "code",
   "execution_count": 50,
   "metadata": {},
   "outputs": [
    {
     "name": "stdout",
     "output_type": "stream",
     "text": [
      "zeros\n",
      " [[0. 0. 0. 0. 0.]\n",
      " [0. 0. 0. 0. 0.]]\n",
      "zeros like\n",
      " [[0.+0.j 0.+0.j]\n",
      " [0.+0.j 0.+0.j]]\n",
      "ones\n",
      " [[1 1 1 1 1 1]\n",
      " [1 1 1 1 1 1]\n",
      " [1 1 1 1 1 1]]\n",
      "empty\n",
      " [[3.43644418e+179 1.76002023e-076 2.70289128e-056]\n",
      " [2.36307419e+180 9.45708167e-308 0.00000000e+000]]\n",
      "full\n",
      " [[inf inf]\n",
      " [inf inf]]\n"
     ]
    }
   ],
   "source": [
    "#Arrays with initial placeholder content. \n",
    "print('zeros\\n', np.zeros((2,5)))\n",
    "print('zeros like\\n', np.zeros_like(a)) #Return an array of zeros with shape and type of input.\n",
    "print('ones\\n',np.ones((3,6), dtype=np.int16))  #ones_like\n",
    "print('empty\\n',np.empty((2,3))) #empty like\n",
    "print('full\\n',np.full((2, 2), np.inf)) #full_like"
   ]
  },
  {
   "cell_type": "code",
   "execution_count": 54,
   "metadata": {},
   "outputs": [
    {
     "name": "stdout",
     "output_type": "stream",
     "text": [
      "[10 15 20 25]\n",
      "[[[ 0  1  2  3]\n",
      "  [ 4  5  6  7]\n",
      "  [ 8  9 10 11]]\n",
      "\n",
      " [[12 13 14 15]\n",
      "  [16 17 18 19]\n",
      "  [20 21 22 23]]]\n"
     ]
    },
    {
     "data": {
      "text/plain": [
       "array([[[ 0,  1,  2,  3],\n",
       "        [ 4,  6,  8, 10],\n",
       "        [12, 15, 18, 21]],\n",
       "\n",
       "       [[12, 13, 14, 15],\n",
       "        [28, 30, 32, 34],\n",
       "        [48, 51, 54, 57]]], dtype=int32)"
      ]
     },
     "execution_count": 54,
     "metadata": {},
     "output_type": "execute_result"
    }
   ],
   "source": [
    "print(np.arange( 10, 30, 5))\n",
    "c = np.arange(24).reshape(2,3,4)\n",
    "print(c)\n",
    "c.cumsum(axis=1)"
   ]
  },
  {
   "cell_type": "code",
   "execution_count": 57,
   "metadata": {},
   "outputs": [
    {
     "name": "stdout",
     "output_type": "stream",
     "text": [
      "[ 1.  2.  3.  4.  5.  6.  7.  8.  9. 10. 11. 12. 13. 14. 15. 16. 17. 18.\n",
      " 19. 20.]\n",
      "[0.         0.6981317  1.3962634  2.0943951  2.7925268  3.4906585\n",
      " 4.1887902  4.88692191 5.58505361 6.28318531]\n"
     ]
    }
   ],
   "source": [
    "#Return evenly spaced numbers over a specified interval.\n",
    "arr = np.linspace(1, 20, num=20, endpoint=True)\n",
    "print(arr)\n",
    "x = np.linspace( 0, 2*np.pi, 10)  \n",
    "print(x)"
   ]
  },
  {
   "cell_type": "code",
   "execution_count": 66,
   "metadata": {},
   "outputs": [
    {
     "name": "stdout",
     "output_type": "stream",
     "text": [
      "[[ 1.  2.  3.  4.]\n",
      " [ 5.  6.  7.  8.]\n",
      " [ 9. 10. 11. 12.]\n",
      " [13. 14. 15. 16.]\n",
      " [17. 18. 19. 20.]]\n",
      "[[ 1.  2.  3.  4.  5.  6.  7.  8.  9. 10.]\n",
      " [11. 12. 13. 14. 15. 16. 17. 18. 19. 20.]]\n",
      "[ 1.  2.  3.  4.  5.  6.  7.  8.  9. 10. 11. 12. 13. 14. 15. 16. 17. 18.\n",
      " 19. 20.]\n",
      "[[ 1. 11.]\n",
      " [ 2. 12.]\n",
      " [ 3. 13.]\n",
      " [ 4. 14.]\n",
      " [ 5. 15.]\n",
      " [ 6. 16.]\n",
      " [ 7. 17.]\n",
      " [ 8. 18.]\n",
      " [ 9. 19.]\n",
      " [10. 20.]]\n"
     ]
    }
   ],
   "source": [
    "#Shape Manipulation\n",
    "print(arr.reshape(5,-1))    # -1 other dimensions are automatically calculated\n",
    "arr.resize(2,10) # modifies the array itself\n",
    "print(arr)\n",
    "print(arr.ravel())  # returns the array, flattened\n",
    "print(arr.T) # transpose"
   ]
  }
 ],
 "metadata": {
  "kernelspec": {
   "display_name": "Python 3",
   "language": "python",
   "name": "python3"
  },
  "language_info": {
   "codemirror_mode": {
    "name": "ipython",
    "version": 3
   },
   "file_extension": ".py",
   "mimetype": "text/x-python",
   "name": "python",
   "nbconvert_exporter": "python",
   "pygments_lexer": "ipython3",
   "version": "3.7.3"
  }
 },
 "nbformat": 4,
 "nbformat_minor": 4
}
