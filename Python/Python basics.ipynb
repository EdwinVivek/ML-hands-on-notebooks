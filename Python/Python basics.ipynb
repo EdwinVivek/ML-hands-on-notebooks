{
 "cells": [
  {
   "cell_type": "markdown",
   "metadata": {},
   "source": []
  },
  {
   "cell_type": "code",
   "execution_count": null,
   "metadata": {},
   "outputs": [],
   "source": [
    "#Varible Scope\n",
    "a =1 #global\n",
    "def root():\n",
    "    b = 2  #non-local/enclosing\n",
    "    def func():\n",
    "        global a\n",
    "        print(\"Print before inner assignment\", a)\n",
    "        a='eee'  #local \n",
    "        print(\"Print after inner assignment\", a)\n",
    "        nonlocal b\n",
    "        print(\"Print before nonlocal assignment\", b)\n",
    "        b=3\n",
    "        print(\"Print after nonlocal assignment\", b)\n",
    "    func()\n",
    "    print(\"Print outside func - a\",a)\n",
    "    print(\"Print outside func - b\",b)\n",
    "\n",
    "\n",
    "root()"
   ]
  },
  {
   "cell_type": "code",
   "execution_count": null,
   "metadata": {
    "scrolled": true
   },
   "outputs": [],
   "source": [
    "#*args and **kwargs\n",
    "def func(name, *args):\n",
    "    print(*args)\n",
    "    for i in args:\n",
    "        print(i, end=\" \")\n",
    "    \n",
    "func('ed',4,5,6,7)\n",
    "\n",
    "#keyword arguments\n",
    "def func(name, **kwargs):\n",
    "    for i in kwargs:\n",
    "        print('\\n' + i,kwargs[i], end=\"\")\n",
    "        \n",
    "func('ed', a=1,b=2,C=7)\n",
    "\n",
    "\n",
    "# *identifier - excess params intitialized to a new tuple\n",
    "# **identifier - excess params inititalized to a new dictionary\n",
    "# Excess keyword argument (python 3) example:\n",
    "def foo(a, b, c, **args):\n",
    "    print(\"a = %s\" % (a,))\n",
    "    print(\"b = %s\" % (b,))\n",
    "    print(\"c = %s\" % (c,))\n",
    "    print(args)\n",
    "    \n",
    "foo(a=\"testa\", d=\"excess\", c=\"testc\", b=\"testb\", k=\"another_excess\")"
   ]
  },
  {
   "cell_type": "code",
   "execution_count": 1,
   "metadata": {},
   "outputs": [
    {
     "name": "stdout",
     "output_type": "stream",
     "text": [
      "10\n",
      "\n",
      " ['Audi', 'BMW', 'Lamborghini']\n",
      "Audi BMW Lamborghini\n",
      "Complete Name: John Jacob Jinglheimer Schmidt\n",
      "First Name Only: John\n",
      "Remaining names: ['Jacob', 'Jinglheimer', 'Schmidt']\n"
     ]
    }
   ],
   "source": [
    "#packing\n",
    "def sumof(*vals):\n",
    "    print(sum(vals))\n",
    "\n",
    "sumof(1,2,3,4)\n",
    "\n",
    "\n",
    "#unpacking\n",
    "carCompany = ['Audi','BMW','Lamborghini']\n",
    "print(\"\\n\",carCompany)\n",
    "print(*carCompany)\n",
    "\n",
    "#unpacking\n",
    "name=\"John Jacob Jinglheimer Schmidt\"\n",
    "first_name, *rest_name=name.split()\n",
    "print(\"Complete Name:\", name)\n",
    "print(\"First Name Only:\", first_name)\n",
    "print(\"Remaining names:\", rest_name)"
   ]
  },
  {
   "cell_type": "code",
   "execution_count": null,
   "metadata": {},
   "outputs": [],
   "source": [
    "#list comprehension\n",
    "a = [i*2 for i in {3,1,2}]; print(a); print((type(a)))\n",
    "s = [i for i in 'anxiety']; print(s)\n",
    "b = [i for i in [6,7,8] if (i%2==0)]; print(b) #conditional list comprehension"
   ]
  },
  {
   "cell_type": "code",
   "execution_count": null,
   "metadata": {},
   "outputs": [],
   "source": [
    "#Counter\n",
    "from collections import Counter\n",
    "carCompany = ['Audi','BMW','Lamborghini', \"Audi\"]\n",
    "print(Counter(carCompany))\n",
    "\n",
    "#Enumerator\n",
    "for car in enumerate(carCompany):\n",
    "    print(car[0], car[1])\n",
    "for car in enumerate(carCompany):   \n",
    "    print(car)\n",
    "for i, car in enumerate(carCompany):\n",
    "    print(i,car)"
   ]
  },
  {
   "cell_type": "code",
   "execution_count": null,
   "metadata": {},
   "outputs": [],
   "source": [
    "#zip and unzip\n",
    "from itertools import zip_longest as zl\n",
    "a = [1,2]; b=['a', 'b', 'c', 'd']\n",
    "zp = set(zip(a,b)); print(zp)\n",
    "\n",
    "zpl = dict(zl(a,b)); print(zpl)\n",
    "\n",
    "x,y = zip(*zp); print(x,y) #unzip\n"
   ]
  },
  {
   "cell_type": "code",
   "execution_count": null,
   "metadata": {},
   "outputs": [],
   "source": [
    "#join\n",
    "val = \"software\"\n",
    "'.'.join(val)"
   ]
  },
  {
   "cell_type": "code",
   "execution_count": null,
   "metadata": {},
   "outputs": [],
   "source": [
    "#Exception handliing\n",
    "try:\n",
    "    if '1' != '1':\n",
    "        raise \"someError\"\n",
    "    else:\n",
    "        print(\"someError has not occured\")\n",
    "except:\n",
    "    print (\"someError has occured\")\n",
    "else:\n",
    "    # execute if no exception\n",
    "    print(\"No error in try block\")\n",
    "finally:\n",
    "    print(\"Always executed\")"
   ]
  },
  {
   "cell_type": "code",
   "execution_count": null,
   "metadata": {},
   "outputs": [],
   "source": [
    "#custom exceptions\n",
    "class Error(Exception):\n",
    "    pass\n",
    "\n",
    "class ValueTooSmallError(Exception):\n",
    "     pass\n",
    "\n",
    "        \n",
    "while True:\n",
    "    try:\n",
    "        i = int(input(\"Enter number\"))\n",
    "        if(i < 3):\n",
    "            raise ValueTooSmallError\n",
    "    except ValueTooSmallError:\n",
    "        print(\"Value too small. Try again!\")\n",
    "        break\n",
    "    except:\n",
    "        print(\"In-build exception\")\n",
    "        break"
   ]
  },
  {
   "cell_type": "code",
   "execution_count": null,
   "metadata": {},
   "outputs": [],
   "source": [
    "#Assertion\n"
   ]
  },
  {
   "cell_type": "code",
   "execution_count": null,
   "metadata": {},
   "outputs": [],
   "source": [
    "#Date time operations\n",
    "from datetime import datetime, timedelta\n",
    "from time import gmtime, strftime\n",
    "\n",
    "#Now\n",
    "print(\"Now:\", datetime.now())\n",
    "print(strftime(\"%Y-%m-%d %H:%M:%S\", gmtime()))\n",
    "gmtime()\n",
    "\n",
    "#str to date\n",
    "date_string = \"Feb 25 2020  4:20PM\"\n",
    "datetime_object = datetime.strptime(date_string, '%b %d %Y %I:%M%p')\n",
    "print(datetime_object)\n",
    "\n",
    "#date to str\n",
    "print(datetime_object.strftime(\"%Y-%m-%d %H:%M:%S\"))\n",
    "\n",
    "#date add/sub\n",
    "diff = datetime.now() - timedelta(7)\n",
    "print(diff)\n",
    "\n",
    "date_1 = datetime(2020, 2, 25).date()\n",
    "print(datetime.now().date() - date_1)"
   ]
  },
  {
   "cell_type": "code",
   "execution_count": null,
   "metadata": {},
   "outputs": [],
   "source": [
    "#call by object -python is neither call by ref or value\n",
    "item='milk'\n",
    "groceries=[]\n",
    "groceries.append(item)\n",
    "print(groceries)\n",
    "\n",
    "items=groceries\n",
    "item='cheese'\n",
    "items.append(item)\n",
    "print(groceries)"
   ]
  },
  {
   "cell_type": "code",
   "execution_count": null,
   "metadata": {},
   "outputs": [],
   "source": [
    "#Generators\n",
    "def foo():\n",
    "    i = 0\n",
    "    print(\"begin\")\n",
    "    while(i< 3):\n",
    "        print(\"Loop in progress\")\n",
    "        #|print(\"before yield\", i)\n",
    "        yield i\n",
    "        i+= 1\n",
    "        #print(\"after yield\", i)\n",
    "    print(\"end\")\n",
    "    \n",
    "for val in foo():\n",
    "    print(\"Yield value \", val)\n",
    "    \n",
    "#list(foo())"
   ]
  },
  {
   "cell_type": "code",
   "execution_count": null,
   "metadata": {},
   "outputs": [],
   "source": [
    "#Generators\n",
    "def foo():\n",
    "    i=7\n",
    "    while i>0:\n",
    "        yield i\n",
    "        i = i-1\n",
    "        \n",
    "#Iterate a generator\n",
    "a = iter(foo())\n",
    "while a:\n",
    "    try:\n",
    "        print(next(a), end= ' ')\n",
    "    except StopIteration:\n",
    "        break\n",
    "\n",
    "print(\"\\n\")\n",
    "for i in foo():\n",
    "    print(i, end= ' ')\n",
    "\n",
    "print(\"\\n\")\n",
    "lst = list(foo());\n",
    "print(lst, end = ' ')\n",
    "\n",
    "enum = enumerate(foo())\n",
    "list(enum)"
   ]
  },
  {
   "cell_type": "code",
   "execution_count": null,
   "metadata": {},
   "outputs": [],
   "source": [
    "#Iterator\n",
    "itt = iter([1,3,5])\n",
    "print(next(itt))\n",
    "print(next(itt))\n",
    "print(next(itt))\n",
    "\n",
    "itt = iter([1,3,5])\n",
    "while itt:\n",
    "    try:\n",
    "        print(next(itt))\n",
    "    except StopIteration:\n",
    "        break"
   ]
  },
  {
   "cell_type": "code",
   "execution_count": null,
   "metadata": {},
   "outputs": [],
   "source": [
    "#custom iterator - square numbers upto max\n",
    "class CustomIterator:\n",
    "    def __init__(self, maxx=0):\n",
    "        self.max = maxx\n",
    "    def __iter__(self):\n",
    "        self.i = 0\n",
    "        return self\n",
    "    def __next__(self):\n",
    "        if self.i < self.max:\n",
    "            res = self.i**2          \n",
    "            self.i +=1\n",
    "            return res\n",
    "        else:\n",
    "            raise StopIteration\n",
    "        \n",
    "        \n",
    "\n",
    "\n",
    "a = CustomIterator(10)\n",
    "iter(a)  #Internally, the iter() function calls the __iter__() method.\n",
    "while True:\n",
    "    try:\n",
    "        n = next(a)\n",
    "        print(n, end=' ')\n",
    "    except StopIteration:\n",
    "        break\n",
    "    \n",
    "\n",
    "#a.__iter__()\n",
    "#a.__next__()\n",
    "        "
   ]
  },
  {
   "cell_type": "code",
   "execution_count": null,
   "metadata": {},
   "outputs": [],
   "source": [
    "from itertools import combinations\n",
    "for i in combinations('ABCD',2):\n",
    "                print(i)\n",
    "print('---------------')        \n",
    "from itertools import permutations\n",
    "for i in permutations('ABCD',2):\n",
    "                print(i)"
   ]
  },
  {
   "cell_type": "code",
   "execution_count": null,
   "metadata": {},
   "outputs": [],
   "source": [
    "#Iter tools - count\n",
    "from itertools import count\n",
    "for i in count(5,5):\n",
    "    print(i)\n",
    "    if i == 20:\n",
    "        break;\n",
    "        \n",
    "#Iter tools - cycle\n",
    "from itertools import cycle\n",
    "for i in cycle(['red','green','blue']):\n",
    "    print(i)\n",
    "    \n",
    "    \n",
    "#Iter tools - repeat\n",
    "from itertools import repeat\n",
    "for i in repeat('red', 4):\n",
    "    print(i)\n"
   ]
  },
  {
   "cell_type": "code",
   "execution_count": null,
   "metadata": {},
   "outputs": [],
   "source": []
  },
  {
   "cell_type": "code",
   "execution_count": 1,
   "metadata": {},
   "outputs": [
    {
     "name": "stdout",
     "output_type": "stream",
     "text": [
      "Your logic here..\n",
      "HelloWorld\n",
      "Your logic here..\n"
     ]
    }
   ],
   "source": [
    "#Decorators\n",
    "def decorator(func):\n",
    "    def wrapper(p1):\n",
    "        print(\"Your logic here..\")\n",
    "        func(p1)\n",
    "        print(\"Your logic here..\")\n",
    "    return wrapper\n",
    "\n",
    "\n",
    "def sayhello(p1):\n",
    "    print(\"Hello\" + p1)\n",
    "    \n",
    "newfunc = decorator(sayhello)\n",
    "newfunc(\"World\")"
   ]
  },
  {
   "cell_type": "code",
   "execution_count": 2,
   "metadata": {},
   "outputs": [
    {
     "name": "stdout",
     "output_type": "stream",
     "text": [
      "Your logic here..\n",
      "Hello decoratorworld\n",
      "Your logic here..\n"
     ]
    }
   ],
   "source": [
    "#Decorator with pie syntax\n",
    "@decorator\n",
    "def sayhello(p1):\n",
    "    print(\"Hello decorator\" + p1)\n",
    "\n",
    "sayhello(\"world\")"
   ]
  },
  {
   "cell_type": "code",
   "execution_count": 9,
   "metadata": {},
   "outputs": [
    {
     "name": "stdout",
     "output_type": "stream",
     "text": [
      "Logging started\n",
      "Calculated value 10\n",
      "Logging function calculate\n",
      "Output 10\n"
     ]
    }
   ],
   "source": [
    "#decorator (logging)\n",
    "\n",
    "def log_it(f):\n",
    "    def wrapper(*args, **kwargs):\n",
    "        print(\"Logging started\")\n",
    "        result = f(*args, **kwargs)\n",
    "        print(str.format(\"Logging function {0}\", f.__name__))\n",
    "        return result\n",
    "    return wrapper\n",
    "\n",
    "\n",
    "@log_it\n",
    "def calculate(num1, num2):\n",
    "    val = num1 % num2\n",
    "    print(\"Calculated value\", val)\n",
    "    return val\n",
    "\n",
    "output = calculate(10,20)\n",
    "print(\"Output\", output)"
   ]
  },
  {
   "cell_type": "code",
   "execution_count": 12,
   "metadata": {},
   "outputs": [
    {
     "name": "stdout",
     "output_type": "stream",
     "text": [
      "(8, 10, 25, 100, 57, 65, 80, 26, 76, 64)\n",
      "(97, 54, 62, 77, 73, 61)\n",
      "(97, 54, 62, 77, 73, 61)\n"
     ]
    },
    {
     "data": {
      "text/plain": [
       "(22, 54, 62)"
      ]
     },
     "execution_count": 12,
     "metadata": {},
     "output_type": "execute_result"
    }
   ],
   "source": [
    "#Map, Filter\n",
    "tup= (5, 7, 22, 97, 54, 62, 77, 23, 73, 61)\n",
    "\n",
    "mapp = tuple(map(lambda x: x+3 , tup))\n",
    "print(mapp)\n",
    "\n",
    "filt1 = tuple(filter(lambda x: x>33, tup))\n",
    "print(filt1)\n",
    "\n",
    "def fun(variable):\n",
    "    if variable > 33:\n",
    "        return True\n",
    "    return False\n",
    "\n",
    "filt2 = tuple(filter(fun, tup)) \n",
    "print(filt2)\n",
    "\n",
    "tuple(filter(lambda n: n % 2 == 0, tup))"
   ]
  },
  {
   "cell_type": "code",
   "execution_count": null,
   "metadata": {},
   "outputs": [],
   "source": []
  },
  {
   "cell_type": "code",
   "execution_count": 14,
   "metadata": {},
   "outputs": [
    {
     "data": {
      "text/plain": [
       "[[6, 7], [7, 8], [8, 9]]"
      ]
     },
     "execution_count": 14,
     "metadata": {},
     "output_type": "execute_result"
    }
   ],
   "source": [
    "#ntested map\n",
    "x = [2, 3, 4]\n",
    "y = [4, 5]\n",
    "\n",
    "t = map(lambda v : list(map(lambda w : v + w, y)), x)\n",
    "list(t)"
   ]
  },
  {
   "cell_type": "code",
   "execution_count": 22,
   "metadata": {},
   "outputs": [
    {
     "name": "stdout",
     "output_type": "stream",
     "text": [
      "4\n",
      "(1, 3, 4)\n"
     ]
    }
   ],
   "source": [
    "#reduce, accumulate\n",
    "from functools import reduce\n",
    "tup = (1,2,3)\n",
    "redu = reduce(lambda x,y: y+1, tup)\n",
    "print(redu)\n",
    "\n",
    "from itertools import accumulate\n",
    "acc = tuple(accumulate(tup, lambda x,y: y+1))\n",
    "print(acc)"
   ]
  },
  {
   "cell_type": "code",
   "execution_count": null,
   "metadata": {},
   "outputs": [],
   "source": [
    "def addition(n):\n",
    "    return n + n\n",
    "\n",
    "# We double all numbers using map()\n",
    "numbers = (1, 2, 3, 4)\n",
    "result = map(addition, numbers)\n",
    "print((result))"
   ]
  },
  {
   "cell_type": "code",
   "execution_count": null,
   "metadata": {},
   "outputs": [],
   "source": [
    "#Multi-Threading\n",
    "from threading import *\n",
    "from time import sleep\n",
    "\n",
    "class Hello(Thread):\n",
    "    def run(self):\n",
    "        for i in range(5):\n",
    "            print(\"Hello\", current_thread().getName())\n",
    "            sleep(1)\n",
    "\n",
    "class Hi(Thread):\n",
    "    def run(self):\n",
    "        for i in range(5):\n",
    "            print(\"Hi\", current_thread().getName(), current_thread().ident)\n",
    "            sleep(1)\n",
    "        \n",
    "t1 = Hello()\n",
    "sleep(0.2)\n",
    "t2 = Hi()\n",
    "t1.start() #thread 1\n",
    "t2.start() # thread 2\n",
    "\n",
    "\n",
    "# main thread waits till child threads are completed\n",
    "t1.join() \n",
    "t2.join() \n",
    "print(active_count())\n",
    "print(get_ident())\n",
    "print(\"Bye\", current_thread().getName()) # runs in main thread"
   ]
  },
  {
   "cell_type": "code",
   "execution_count": null,
   "metadata": {},
   "outputs": [],
   "source": [
    "#Thread locks\n",
    "import threading\n",
    "import time\n",
    "\n",
    "class myThread(threading.Thread):\n",
    "    def __init__(self, name, count):\n",
    "        threading.Thread.__init__(self)\n",
    "        self.name = name\n",
    "        self.count = count\n",
    "        \n",
    "    def run(self):\n",
    "        print(\"Starting..\" + self.name)\n",
    "        lock.acquire()  #blocking=False\n",
    "        print_time(self.name, self.count)\n",
    "        lock.release()\n",
    "        print(\"Exiting..\" + self.name)\n",
    "    \n",
    "\n",
    "lock = threading.Lock()\n",
    "    \n",
    "def print_time(name, count):\n",
    "    while count:\n",
    "        time.sleep(1)\n",
    "        print(\"%s: %s %s\" % (name, time.ctime(time.time()), count))\n",
    "        count -=1\n",
    "            "
   ]
  },
  {
   "cell_type": "code",
   "execution_count": null,
   "metadata": {},
   "outputs": [],
   "source": [
    "t1 = myThread(\"\\nPayment\", 5)\n",
    "t2 = myThread(\"\\nSending Email\", 10)\n",
    "t3 = myThread(\"\\nLoading page\", 3)\n",
    "\n",
    "t1.start()\n",
    "t2.start()\n",
    "t3.start()\n",
    "\n",
    "t1.join()\n",
    "t2.join()\n",
    "t3.join()\n",
    "print (\"Done process\")"
   ]
  },
  {
   "cell_type": "code",
   "execution_count": null,
   "metadata": {},
   "outputs": [],
   "source": [
    "#Multiprocessing\n",
    "import multiprocessing as mp\n",
    "import numpy as np\n",
    "print(\"no of processors %i\" % mp.cpu_count())"
   ]
  },
  {
   "cell_type": "code",
   "execution_count": null,
   "metadata": {},
   "outputs": [],
   "source": [
    "np.random.RandomState(100)\n",
    "np.random.randint(0,10, size=[10,5]).tolist()[:5]"
   ]
  },
  {
   "cell_type": "code",
   "execution_count": null,
   "metadata": {},
   "outputs": [],
   "source": []
  },
  {
   "cell_type": "code",
   "execution_count": null,
   "metadata": {},
   "outputs": [],
   "source": []
  },
  {
   "cell_type": "code",
   "execution_count": null,
   "metadata": {},
   "outputs": [],
   "source": []
  },
  {
   "cell_type": "code",
   "execution_count": null,
   "metadata": {},
   "outputs": [],
   "source": []
  },
  {
   "cell_type": "markdown",
   "metadata": {},
   "source": [
    "## Sample Programs"
   ]
  },
  {
   "cell_type": "code",
   "execution_count": null,
   "metadata": {},
   "outputs": [],
   "source": [
    "def star(a):\n",
    "    for i in range(a):\n",
    "        print(' '*(a-i-1) +'*'*(2*i + 1))\n",
    "        \n",
    "star(5)"
   ]
  },
  {
   "cell_type": "code",
   "execution_count": null,
   "metadata": {},
   "outputs": [],
   "source": [
    "n = 6\n",
    "for i in range(n*2):\n",
    "    if i<=n:\n",
    "        print(\"*\" * i)\n",
    "    else:\n",
    "        print(\"*\" * (2*n-i))"
   ]
  },
  {
   "cell_type": "code",
   "execution_count": null,
   "metadata": {},
   "outputs": [],
   "source": [
    "a = 5\n",
    "for i in range(a*2):\n",
    "    if i < a:\n",
    "        print(\" \" * (a-i-1) + \"*\" * (2*i+1))\n",
    "    else:\n",
    "        print(\"*\" * (2 *a -i))"
   ]
  },
  {
   "cell_type": "code",
   "execution_count": null,
   "metadata": {},
   "outputs": [],
   "source": [
    "n=6\n",
    "num = 64\n",
    "\n",
    "for i in range(1,n):\n",
    "    ch = chr(num+i)\n",
    "    print(ch * i)\n"
   ]
  },
  {
   "cell_type": "code",
   "execution_count": null,
   "metadata": {},
   "outputs": [],
   "source": [
    "inp = \"60710\"\n",
    "\n",
    "for i in inp:\n",
    "    print(\"|\", end=\"\")\n",
    "    print(int(i) * \"*\")\n"
   ]
  },
  {
   "cell_type": "code",
   "execution_count": null,
   "metadata": {},
   "outputs": [],
   "source": [
    "#palindrome \n",
    "def palindrome(name):\n",
    "    name = name.casefold()\n",
    "    str1 = \"\"\n",
    "    for i in name:\n",
    "        str1 = i + str1\n",
    "    \n",
    "    if(str1 == name):\n",
    "        print(f\"String is a palindrome, {name} == {str1}\")\n",
    "    else:\n",
    "        print(f\"String is NOT a palindrome, {name} != {str1}\")\n",
    "    \n",
    "\n",
    "palindrome(\"REfeR\")"
   ]
  },
  {
   "cell_type": "code",
   "execution_count": null,
   "metadata": {},
   "outputs": [],
   "source": [
    "#palindrome\n",
    "str3 = \"racecar\"\n",
    "new_str = \"\"\n",
    "for i,j in enumerate(str3, start=1):\n",
    "    new_str += str3[len(str3) - i]\n",
    "    \n",
    "print(new_str == str3)\n",
    "\n",
    "#palindorme again\n",
    "str4 = str3[::-1]\n",
    "print(str4 == str3)"
   ]
  },
  {
   "cell_type": "code",
   "execution_count": null,
   "metadata": {},
   "outputs": [],
   "source": [
    "# armstrong number\n",
    "temp = 153\n",
    "summ = 0\n",
    "while temp > 0:\n",
    "    digit = temp % 10\n",
    "    summ += digit ** 3\n",
    "    print(summ)\n",
    "    temp = temp // 10\n",
    "    #print(temp)"
   ]
  },
  {
   "cell_type": "code",
   "execution_count": null,
   "metadata": {},
   "outputs": [],
   "source": [
    "#swap first and last numbers in a list\n",
    "lst = [12, 35, 9, 56, 24]\n",
    "temp = lst[0]\n",
    "lst[0] = lst[-1]\n",
    "lst[-1] = temp\n",
    "lst\n",
    "\n",
    "lst[0], lst[-1] = lst[-1], lst[0]\n",
    "lst\n",
    "\n",
    "tup = (lst[0], lst[-1])\n",
    "lst[-1], lst[0] = tup\n",
    "lst"
   ]
  },
  {
   "cell_type": "code",
   "execution_count": null,
   "metadata": {},
   "outputs": [],
   "source": [
    "lst = [12, 35, 9, 56, 24]\n",
    "def swap(lst, i1, i2):\n",
    "    lst[i1], lst[i2] = lst[i2], lst[i1]\n",
    "    print(lst)\n",
    " \n",
    "swap(lst, 2,3)"
   ]
  },
  {
   "cell_type": "code",
   "execution_count": null,
   "metadata": {},
   "outputs": [],
   "source": [
    "#length of list\n",
    "from operator import length_hint\n",
    "print(f\"len: {len(lst)}\")\n",
    "print(f\"length_hint: {length_hint(lst)}\")"
   ]
  },
  {
   "cell_type": "code",
   "execution_count": null,
   "metadata": {},
   "outputs": [],
   "source": [
    "#maximun/minimum of 2 numbers\n",
    "num1 = 5\n",
    "num2 = 10\n",
    "if(num1 > num2):\n",
    "    print(num1)\n",
    "else:\n",
    "    print(num2)\n",
    "    \n",
    "print(max(num1,num2))\n",
    "print(min(num1,num2))\n",
    "\n",
    "print(num1 if num1 > num2 else num2)"
   ]
  },
  {
   "cell_type": "code",
   "execution_count": null,
   "metadata": {},
   "outputs": [],
   "source": [
    "#string remove i-th char\n",
    "name = \"edwinmax\"\n",
    "tmp = \"\"\n",
    "for i,n in enumerate(name):\n",
    "    if(i != 2):\n",
    "        tmp += n\n",
    "name = tmp\n",
    "print(name)\n",
    "\n",
    "name = name.replace(\"e\", \"\")\n",
    "print(name)\n",
    "\n",
    "name = name[:2] +  name[3:]\n",
    "print(name)"
   ]
  },
  {
   "cell_type": "code",
   "execution_count": null,
   "metadata": {},
   "outputs": [],
   "source": [
    "# Factorial\n",
    "def factorial(n, fact):\n",
    "    for i in range(1, n+1):\n",
    "        fact = fact * i \n",
    "    print((\"The factorial of {0} is : \").format(n), end=\"\")\n",
    "    print(fact)\n",
    "\n",
    "factorial(9,1)"
   ]
  },
  {
   "cell_type": "code",
   "execution_count": null,
   "metadata": {},
   "outputs": [],
   "source": [
    "#Combinatorial\n",
    "from itertools import permutations, combinations\n",
    "\n",
    "perm = permutations(range(3),3)\n",
    "for c, i in enumerate(list(perm)): \n",
    "    print (c, i) \n",
    " "
   ]
  },
  {
   "cell_type": "code",
   "execution_count": null,
   "metadata": {},
   "outputs": [],
   "source": [
    "per = permutations([1,2,3,4],2)\n",
    "print(\"Permutations: \", list(per))\n",
    "\n",
    "comb = combinations([1,2,3,4],2)\n",
    "print(\"Combinations: \", list(comb))"
   ]
  },
  {
   "cell_type": "code",
   "execution_count": null,
   "metadata": {},
   "outputs": [],
   "source": []
  },
  {
   "cell_type": "code",
   "execution_count": null,
   "metadata": {},
   "outputs": [],
   "source": [
    "assert sum([2,3]) == 5"
   ]
  },
  {
   "cell_type": "code",
   "execution_count": null,
   "metadata": {},
   "outputs": [],
   "source": [
    "import unittest as ut\n",
    "\n",
    "class TestSum(ut.TestCase):\n",
    "    \n",
    "    def test_sum(self):\n",
    "        self.assertEqual(sum([2,3]), 5, \"Should be 5\")"
   ]
  },
  {
   "cell_type": "code",
   "execution_count": null,
   "metadata": {},
   "outputs": [],
   "source": [
    "if __name__ == \"__main__\":\n",
    "    ut.main()\n"
   ]
  },
  {
   "cell_type": "code",
   "execution_count": 16,
   "metadata": {},
   "outputs": [
    {
     "name": "stdout",
     "output_type": "stream",
     "text": [
      "paales\n",
      "paales\n"
     ]
    }
   ],
   "source": [
    "str = 'apples'\n",
    "chr1 = 'a'\n",
    "chr2 = 'p'\n",
    "\n",
    "new = str.replace(\"p\", \"a\", 2).replace(\"a\", \"p\", 1)\n",
    "print(new)\n",
    "\n",
    "newp = ''\n",
    "for i in str:\n",
    "    if(i == 'a'):\n",
    "        newp += 'p'\n",
    "    elif(i == 'p'):\n",
    "        newp += 'a'\n",
    "    else:\n",
    "        newp += i\n",
    "print(newp)\n",
    "        \n",
    "\n",
    "#paales"
   ]
  },
  {
   "cell_type": "code",
   "execution_count": 6,
   "metadata": {},
   "outputs": [
    {
     "data": {
      "text/plain": [
       "'paales'"
      ]
     },
     "execution_count": 6,
     "metadata": {},
     "output_type": "execute_result"
    }
   ],
   "source": []
  },
  {
   "cell_type": "code",
   "execution_count": null,
   "metadata": {},
   "outputs": [],
   "source": []
  },
  {
   "cell_type": "code",
   "execution_count": null,
   "metadata": {},
   "outputs": [],
   "source": []
  }
 ],
 "metadata": {
  "kernelspec": {
   "display_name": "Python 3 (ipykernel)",
   "language": "python",
   "name": "python3"
  },
  "language_info": {
   "codemirror_mode": {
    "name": "ipython",
    "version": 3
   },
   "file_extension": ".py",
   "mimetype": "text/x-python",
   "name": "python",
   "nbconvert_exporter": "python",
   "pygments_lexer": "ipython3",
   "version": "3.12.7"
  }
 },
 "nbformat": 4,
 "nbformat_minor": 4
}
