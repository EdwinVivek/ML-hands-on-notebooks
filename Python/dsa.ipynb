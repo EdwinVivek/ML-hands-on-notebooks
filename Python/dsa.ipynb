{
 "cells": [
  {
   "cell_type": "code",
   "execution_count": null,
   "id": "dc161de4-8470-47e4-9e38-d653409a724e",
   "metadata": {},
   "outputs": [],
   "source": [
    "#Sorting"
   ]
  },
  {
   "cell_type": "code",
   "execution_count": 19,
   "id": "307fdfe1-0ebc-4d20-88ce-23033f82edb3",
   "metadata": {},
   "outputs": [
    {
     "name": "stdout",
     "output_type": "stream",
     "text": [
      "i: 6\n",
      "Before swap j: [64, 34, 25, 12, 22, 11, 90]\n",
      "Before swap j: [34, 64, 25, 12, 22, 11, 90]\n",
      "Before swap j: [34, 25, 64, 12, 22, 11, 90]\n",
      "Before swap j: [34, 25, 12, 64, 22, 11, 90]\n",
      "Before swap j: [34, 25, 12, 22, 64, 11, 90]\n",
      "Before swap j: [34, 25, 12, 22, 11, 64, 90]\n",
      "After swap: [34, 25, 12, 22, 11, 64, 90], True\n",
      "i: 5\n",
      "Before swap j: [34, 25, 12, 22, 11, 64, 90]\n",
      "Before swap j: [25, 34, 12, 22, 11, 64, 90]\n",
      "Before swap j: [25, 12, 34, 22, 11, 64, 90]\n",
      "Before swap j: [25, 12, 22, 34, 11, 64, 90]\n",
      "Before swap j: [25, 12, 22, 11, 34, 64, 90]\n",
      "After swap: [25, 12, 22, 11, 34, 64, 90], True\n",
      "i: 4\n",
      "Before swap j: [25, 12, 22, 11, 34, 64, 90]\n",
      "Before swap j: [12, 25, 22, 11, 34, 64, 90]\n",
      "Before swap j: [12, 22, 25, 11, 34, 64, 90]\n",
      "Before swap j: [12, 22, 11, 25, 34, 64, 90]\n",
      "After swap: [12, 22, 11, 25, 34, 64, 90], True\n",
      "i: 3\n",
      "Before swap j: [12, 22, 11, 25, 34, 64, 90]\n",
      "Before swap j: [12, 22, 11, 25, 34, 64, 90]\n",
      "Before swap j: [12, 11, 22, 25, 34, 64, 90]\n",
      "After swap: [12, 11, 22, 25, 34, 64, 90], True\n",
      "i: 2\n",
      "Before swap j: [12, 11, 22, 25, 34, 64, 90]\n",
      "Before swap j: [11, 12, 22, 25, 34, 64, 90]\n",
      "After swap: [11, 12, 22, 25, 34, 64, 90], True\n",
      "i: 1\n",
      "Before swap j: [11, 12, 22, 25, 34, 64, 90]\n",
      "After swap: [11, 12, 22, 25, 34, 64, 90], False\n",
      "break\n",
      "Sorted array is: [11, 12, 22, 25, 34, 64, 90]\n"
     ]
    }
   ],
   "source": [
    "#BUBBLE SORT -  repeatedly comparing adjacent elements and swapping them if they are in the wrong order.\n",
    "\n",
    "def bubble_sort(arr):\n",
    "    n = len(arr)\n",
    "    for i in range(n):\n",
    "        swapped = False\n",
    "        print(\"i:\", n-i-1)\n",
    "        for j in range(0, n-i-1):\n",
    "            print(f'Before swap j: {arr}')\n",
    "            if arr[j] > arr[j+1]:\n",
    "                arr[j], arr[j+1] =  arr[j+1], arr[j]\n",
    "                swapped =True\n",
    "        print(f'After swap: {arr}, {swapped}')\n",
    "        if not swapped:\n",
    "            print(\"break\")\n",
    "            break\n",
    "    return arr\n",
    "            \n",
    "\n",
    "\n",
    "arr = [64, 34, 25, 12, 22, 11, 90]\n",
    "sorted_arr = bubble_sort(arr)\n",
    "print(\"Sorted array is:\", sorted_arr)"
   ]
  },
  {
   "cell_type": "code",
   "execution_count": 25,
   "id": "0897c604-0fab-4f63-b337-e69005fcaeb3",
   "metadata": {},
   "outputs": [
    {
     "name": "stdout",
     "output_type": "stream",
     "text": [
      "i: 6\n",
      "Before swap j: [1, 2, 3, 4, 5, 6, 7]\n",
      "Before swap j: [1, 2, 3, 4, 5, 6, 7]\n",
      "Before swap j: [1, 2, 3, 4, 5, 6, 7]\n",
      "Before swap j: [1, 2, 3, 4, 5, 6, 7]\n",
      "Before swap j: [1, 2, 3, 4, 5, 6, 7]\n",
      "Before swap j: [1, 2, 3, 4, 5, 6, 7]\n",
      "After swap: [1, 2, 3, 4, 5, 6, 7], False\n",
      "break\n",
      "Sorted array is: [1, 2, 3, 4, 5, 6, 7]\n"
     ]
    }
   ],
   "source": [
    "arr = [1,2,3,4,5,6,7]\n",
    "sorted_arr = bubble_sort(arr)\n",
    "print(\"Sorted array is:\", sorted_arr)"
   ]
  },
  {
   "cell_type": "code",
   "execution_count": 44,
   "id": "f2b1928c-0e3b-481a-887c-46c4ac399143",
   "metadata": {},
   "outputs": [
    {
     "name": "stdout",
     "output_type": "stream",
     "text": [
      "curr idx: 0, min idx:2\n",
      "[1, 4, 5, 3]\n",
      "curr idx: 1, min idx:3\n",
      "[1, 3, 5, 4]\n",
      "curr idx: 2, min idx:3\n",
      "[1, 3, 4, 5]\n",
      "curr idx: 3, min idx:3\n",
      "[1, 3, 4, 5]\n"
     ]
    },
    {
     "data": {
      "text/plain": [
       "[1, 3, 4, 5]"
      ]
     },
     "execution_count": 44,
     "metadata": {},
     "output_type": "execute_result"
    }
   ],
   "source": [
    "#SELECTION SORT\n",
    "def selection_sort(arr):\n",
    "    n = len(arr)\n",
    "    for curr_idx in range(n):\n",
    "        min_idx = curr_idx\n",
    "        for j in range(curr_idx + 1, n):\n",
    "            if arr[j] < arr[min_idx]:\n",
    "                min_idx = j\n",
    "        print(f'curr idx: {curr_idx}, min idx:{min_idx}')\n",
    "        arr[curr_idx], arr[min_idx] = arr[min_idx], arr[curr_idx]\n",
    "        print(arr)\n",
    "    return arr\n",
    "\n",
    "arr = [5,4,1,3]\n",
    "selection_sort(arr)"
   ]
  },
  {
   "cell_type": "code",
   "execution_count": 1,
   "id": "c3331fb2-c15c-4f9e-b0b6-1f8f3e3da68b",
   "metadata": {},
   "outputs": [
    {
     "name": "stdout",
     "output_type": "stream",
     "text": [
      "key: 40\n",
      "before j: 0\n",
      "[50, 40, 10, 30]\n",
      "after: [50, 50, 10, 30]\n",
      "after j: -1\n",
      "key: 10\n",
      "before j: 1\n",
      "[50, 50, 10, 40]\n",
      "after: [50, 50, 50, 40]\n",
      "after j: 0\n",
      "before j: 0\n",
      "[50, 50, 50, 40]\n",
      "after: [50, 50, 50, 40]\n",
      "after j: -1\n",
      "key: 10\n",
      "before j: 2\n",
      "[50, 50, 50, 10]\n",
      "after: [50, 50, 50, 50]\n",
      "after j: 1\n",
      "before j: 1\n",
      "[50, 50, 50, 50]\n",
      "after: [50, 50, 50, 50]\n",
      "after j: 0\n",
      "before j: 0\n",
      "[50, 50, 50, 50]\n",
      "after: [50, 50, 50, 50]\n",
      "after j: -1\n"
     ]
    },
    {
     "data": {
      "text/plain": [
       "[50, 50, 50, 10]"
      ]
     },
     "execution_count": 1,
     "metadata": {},
     "output_type": "execute_result"
    }
   ],
   "source": [
    "#INSERTION SORT\n",
    "def insertion_sort(arr):\n",
    "    n = len(arr)\n",
    "    for i in range(1, n):\n",
    "        key = arr[i]\n",
    "        j = i - 1\n",
    "        print(f'key: {key}')\n",
    "        # Move elements greater than key to one position ahead\n",
    "        while j >= 0 and arr[j] > key:\n",
    "            print(\"before j:\", j)\n",
    "            print(arr)\n",
    "            arr[j + 1] = arr[j]\n",
    "            print(\"after:\", arr)\n",
    "            j -= 1\n",
    "            print(\"after j:\", j)\n",
    "        arr[j + 1] = key\n",
    "    return arr\n",
    "\n",
    "arr = [50,40,10,30]\n",
    "insertion_sort(arr)"
   ]
  },
  {
   "cell_type": "code",
   "execution_count": null,
   "id": "40ca9d31-3a94-4e9f-935d-271142c807f8",
   "metadata": {},
   "outputs": [],
   "source": []
  },
  {
   "cell_type": "code",
   "execution_count": null,
   "id": "d9c4826f-af70-4270-b08f-2d1fc0d66774",
   "metadata": {},
   "outputs": [],
   "source": []
  },
  {
   "cell_type": "code",
   "execution_count": null,
   "id": "e9118c7a-356a-4d8b-b918-32dafe210e79",
   "metadata": {},
   "outputs": [],
   "source": []
  },
  {
   "cell_type": "code",
   "execution_count": null,
   "id": "3b373489-fffa-45b9-b2e6-9c380a880f59",
   "metadata": {},
   "outputs": [],
   "source": []
  }
 ],
 "metadata": {
  "kernelspec": {
   "display_name": "Python 3 (ipykernel)",
   "language": "python",
   "name": "python3"
  },
  "language_info": {
   "codemirror_mode": {
    "name": "ipython",
    "version": 3
   },
   "file_extension": ".py",
   "mimetype": "text/x-python",
   "name": "python",
   "nbconvert_exporter": "python",
   "pygments_lexer": "ipython3",
   "version": "3.12.10"
  }
 },
 "nbformat": 4,
 "nbformat_minor": 5
}
