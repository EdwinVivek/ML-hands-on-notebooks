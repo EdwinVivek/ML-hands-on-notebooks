{
 "cells": [
  {
   "cell_type": "code",
   "execution_count": 10,
   "id": "ec9b7c0e",
   "metadata": {},
   "outputs": [
    {
     "name": "stdout",
     "output_type": "stream",
     "text": [
      "1\n",
      "2\n",
      "2\n",
      "2\n"
     ]
    }
   ],
   "source": [
    "a = 1\n",
    "def root():\n",
    "    global a\n",
    "    print(a)\n",
    "    a = 2\n",
    "    print(a)\n",
    "    return a\n",
    "\n",
    "aa = root()\n",
    "print(aa)\n",
    "print(a)"
   ]
  },
  {
   "cell_type": "code",
   "execution_count": 13,
   "id": "0d436c50",
   "metadata": {},
   "outputs": [
    {
     "name": "stdout",
     "output_type": "stream",
     "text": [
      "['Audi', 'BMW', 'Lamborghini']\n",
      "Audi BMW Lamborghini\n"
     ]
    }
   ],
   "source": [
    "carCompany = ['Audi','BMW','Lamborghini']\n",
    "print(carCompany)\n",
    "print(*carCompany)"
   ]
  },
  {
   "cell_type": "code",
   "execution_count": 18,
   "id": "8d95ca85",
   "metadata": {},
   "outputs": [
    {
     "name": "stdout",
     "output_type": "stream",
     "text": [
      "1 2 3 4 5 Counter({'Audi': 1, 'BMW': 1, 'Lamborghini': 1})\n"
     ]
    }
   ],
   "source": [
    "n = 6\n",
    "for i in range(1, n):\n",
    "    print(i, end= \" \")\n",
    "    \n",
    "\n",
    "from collections import Counter\n",
    "carCompany = ['Audi','BMW','Lamborghini']\n",
    "print(Counter(carCompanyCompany))"
   ]
  },
  {
   "cell_type": "code",
   "execution_count": null,
   "id": "8ae6c27d",
   "metadata": {},
   "outputs": [],
   "source": []
  }
 ],
 "metadata": {
  "kernelspec": {
   "display_name": "Python 3 (ipykernel)",
   "language": "python",
   "name": "python3"
  },
  "language_info": {
   "codemirror_mode": {
    "name": "ipython",
    "version": 3
   },
   "file_extension": ".py",
   "mimetype": "text/x-python",
   "name": "python",
   "nbconvert_exporter": "python",
   "pygments_lexer": "ipython3",
   "version": "3.9.13"
  }
 },
 "nbformat": 4,
 "nbformat_minor": 5
}
