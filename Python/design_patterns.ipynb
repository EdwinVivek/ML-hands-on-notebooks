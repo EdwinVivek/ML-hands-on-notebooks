{
 "cells": [
  {
   "cell_type": "code",
   "execution_count": 18,
   "id": "26e93379-8513-44c5-b363-ff754334e9fe",
   "metadata": {},
   "outputs": [],
   "source": [
    "from abc import ABC, abstractmethod\n",
    "import pandas as pd\n",
    "\n"
   ]
  },
  {
   "cell_type": "markdown",
   "id": "1f775e88-71fc-4fcc-a5ac-937c3b5a9fa8",
   "metadata": {},
   "source": [
    "# Creational Patterns"
   ]
  },
  {
   "cell_type": "markdown",
   "id": "4a69cdfe-3618-4b90-b8c3-4c8b8982e7fb",
   "metadata": {
    "jp-MarkdownHeadingCollapsed": true
   },
   "source": [
    "## Factory pattern\n",
    "''' \n",
    "The Factory Pattern is a creational design pattern that provides an interface for creating objects in a superclass, \n",
    "but allows subclasses (or internal logic) to alter the type of objects that will be created.\n",
    "'''"
   ]
  },
  {
   "cell_type": "code",
   "execution_count": 20,
   "id": "59f5444e-c7d1-40bb-8f9f-acb0e496a6a7",
   "metadata": {},
   "outputs": [
    {
     "name": "stdout",
     "output_type": "stream",
     "text": [
      "Woof\n"
     ]
    }
   ],
   "source": [
    "class Animal(ABC):\n",
    "    @abstractmethod\n",
    "    def speak(self):\n",
    "        pass\n",
    "\n",
    "class Dog(Animal):\n",
    "    def speak(self):\n",
    "        print(\"Woof\")\n",
    "\n",
    "\n",
    "class Cat(Animal):\n",
    "    def speak(self):\n",
    "        print(\"Meow\")\n",
    "\n",
    "\n",
    "class AnimalFactory:\n",
    "    @staticmethod\n",
    "    def animal_type(animal_type) -> Animal:\n",
    "        if animal_type == 'Dog':\n",
    "            return Dog()\n",
    "        elif animal_type == 'Cat':\n",
    "            return Cat()\n",
    "        else:\n",
    "            return ValueError('not defined')\n",
    "\n",
    "\n",
    "animal = AnimalFactory.animal_type('Dog')\n",
    "animal_type.speak()\n",
    "        "
   ]
  },
  {
   "cell_type": "code",
   "execution_count": 21,
   "id": "7ffdd303-24b8-4957-bb0e-6d9f60c9048a",
   "metadata": {},
   "outputs": [
    {
     "name": "stdout",
     "output_type": "stream",
     "text": [
      "<__main__.JsonIngestor object at 0x0000019C5815DA60>\n",
      "\\home \\json file\n"
     ]
    }
   ],
   "source": [
    "#Product\n",
    "class DataIngestor(ABC):\n",
    "    @abstractmethod\n",
    "    def ingest(self, path) -> pd.DataFrame:\n",
    "        pass\n",
    "\n",
    "#Concrete product 1\n",
    "class JsonIngestor(DataIngestor):\n",
    "    def a(self):\n",
    "        print(\"hello\")\n",
    "\n",
    "    def ingest(self, path):\n",
    "        print(path, \"\\\\json file\")\n",
    "\n",
    "#Concrete product 2\n",
    "class CSVIngestor(DataIngestor):\n",
    "    def ingest(self, path):\n",
    "        print(path, \"\\\\csv file\")\n",
    "\n",
    "\n",
    "        \n",
    "#Concrete creator\n",
    "class DataIngestorFactory():\n",
    "    @staticmethod\n",
    "    def get_ingestor(filetype) -> DataIngestor:\n",
    "        file_types = {\n",
    "            \".json\": JsonIngestor(),\n",
    "            \".csv\": CSVIngestor()\n",
    "        }\n",
    "        ingestor = file_types.get(filetype, None)\n",
    "        return ingestor\n",
    "\n",
    "\n",
    "\n",
    "\n",
    "\n",
    "\n",
    "\n",
    "ingestor_type = DataIngestorFactory.get_ingestor('.json')\n",
    "print(ingestor_type)\n",
    "ingestor_type.ingest('\\\\home')"
   ]
  },
  {
   "cell_type": "code",
   "execution_count": null,
   "id": "9657ef24-1d0a-47d1-83f8-aeee502f1131",
   "metadata": {},
   "outputs": [],
   "source": []
  },
  {
   "cell_type": "markdown",
   "id": "30114e39-6be1-4d9b-9e9b-2636423a5311",
   "metadata": {
    "jp-MarkdownHeadingCollapsed": true
   },
   "source": [
    "## Abstract Factory pattern\n",
    "\n",
    "Abstract factory pattern replace the straightforward object construction calls with calls to special abstract factory method.  "
   ]
  },
  {
   "cell_type": "code",
   "execution_count": 22,
   "id": "528950fb-65d0-4d67-8ea3-eb673c1e2fc2",
   "metadata": {},
   "outputs": [
    {
     "name": "stdout",
     "output_type": "stream",
     "text": [
      "\\home \\csv file\n"
     ]
    }
   ],
   "source": [
    "#Product\n",
    "class DataIngestor(ABC):\n",
    "    @abstractmethod\n",
    "    def ingest(self, file_path: str) -> pd.DataFrame:\n",
    "        pass\n",
    "\n",
    "\n",
    "#Concrete product 1\n",
    "class JsonIngestor(DataIngestor):\n",
    "    def a(self):\n",
    "        print(\"hello\")\n",
    "\n",
    "    def ingest(self, path):\n",
    "        print(path, \"\\\\json file\")\n",
    "\n",
    "#Concrete product 2\n",
    "class CSVIngestor(DataIngestor):\n",
    "    def ingest(self, path):\n",
    "        print(path, \"\\\\csv file\")\n",
    "\n",
    "\n",
    "\n",
    "#Abstract factory\n",
    "class DataIngestorFactory():\n",
    "    @abstractmethod\n",
    "    def create_ingestor(self) -> DataIngestor:\n",
    "        pass\n",
    "\n",
    "\n",
    "class CSVIngestorFactory(DataIngestorFactory):\n",
    "    def create_ingestor(self) -> DataIngestor:\n",
    "        return CSVIngestor()\n",
    "        \n",
    "class JsonIngestorFactory(DataIngestorFactory):\n",
    "    def create_ingestor(self) -> DataIngestor:\n",
    "        return JsonIngestor()\n",
    "\n",
    "\n",
    "\n",
    "\n",
    "'''\n",
    "Families of related objects can be created without specifying their concrete classes\n",
    "'''\n",
    "def client_factory(factory: DataIngestorFactory):\n",
    "    ingestor = factory.create_ingestor()\n",
    "    ingestor.ingest(\"\\\\home\")\n",
    "\n",
    "\n",
    "csv_ingestor = CSVIngestorFactory()\n",
    "client_factory(csv_ingestor)"
   ]
  },
  {
   "cell_type": "markdown",
   "id": "2ba939e5-2cb1-46fd-a780-3c22c3056053",
   "metadata": {},
   "source": []
  },
  {
   "cell_type": "markdown",
   "id": "110dbfd0-0afd-4c0e-83c9-86f5d2f42134",
   "metadata": {
    "jp-MarkdownHeadingCollapsed": true
   },
   "source": [
    "## Builder pattern\n",
    "Construct complex pattern separating the construction process from the final object representation."
   ]
  },
  {
   "cell_type": "code",
   "execution_count": 29,
   "id": "62ec7fe1-dfa9-4066-bf6a-624323ea4ab7",
   "metadata": {},
   "outputs": [
    {
     "ename": "TypeError",
     "evalue": "read_csv() missing 1 required positional argument: 'filepath_or_buffer'",
     "output_type": "error",
     "traceback": [
      "\u001b[1;31m---------------------------------------------------------------------------\u001b[0m",
      "\u001b[1;31mTypeError\u001b[0m                                 Traceback (most recent call last)",
      "Cell \u001b[1;32mIn[29], line 54\u001b[0m\n\u001b[0;32m     52\u001b[0m builder \u001b[38;5;241m=\u001b[39m CsvFileDataBuilder()\n\u001b[0;32m     53\u001b[0m director \u001b[38;5;241m=\u001b[39m IngestionDirector(builder)\n\u001b[1;32m---> 54\u001b[0m df \u001b[38;5;241m=\u001b[39m \u001b[43mdirector\u001b[49m\u001b[38;5;241;43m.\u001b[39;49m\u001b[43mingest_data\u001b[49m\u001b[43m(\u001b[49m\u001b[38;5;124;43m'\u001b[39;49m\u001b[38;5;130;43;01m\\\\\u001b[39;49;00m\u001b[38;5;124;43mhome\u001b[39;49m\u001b[38;5;124;43m'\u001b[39;49m\u001b[43m)\u001b[49m\n",
      "Cell \u001b[1;32mIn[29], line 46\u001b[0m, in \u001b[0;36mIngestionDirector.ingest_data\u001b[1;34m(self, file_path)\u001b[0m\n\u001b[0;32m     45\u001b[0m \u001b[38;5;28;01mdef\u001b[39;00m \u001b[38;5;21mingest_data\u001b[39m(\u001b[38;5;28mself\u001b[39m, file_path: \u001b[38;5;28mstr\u001b[39m):\n\u001b[1;32m---> 46\u001b[0m     \u001b[38;5;28;43mself\u001b[39;49m\u001b[38;5;241;43m.\u001b[39;49m\u001b[43mbuilder\u001b[49m\u001b[38;5;241;43m.\u001b[39;49m\u001b[43mload\u001b[49m\u001b[43m(\u001b[49m\u001b[43mfile_path\u001b[49m\u001b[43m)\u001b[49m\n\u001b[0;32m     47\u001b[0m     \u001b[38;5;28mself\u001b[39m\u001b[38;5;241m.\u001b[39mbuilder\u001b[38;5;241m.\u001b[39mclean()\n\u001b[0;32m     48\u001b[0m     \u001b[38;5;28mself\u001b[39m\u001b[38;5;241m.\u001b[39mbuilder\u001b[38;5;241m.\u001b[39mvalidate()\n",
      "Cell \u001b[1;32mIn[29], line 30\u001b[0m, in \u001b[0;36mCsvFileDataBuilder.load\u001b[1;34m(self, path)\u001b[0m\n\u001b[0;32m     29\u001b[0m \u001b[38;5;28;01mdef\u001b[39;00m \u001b[38;5;21mload\u001b[39m(\u001b[38;5;28mself\u001b[39m, path):\n\u001b[1;32m---> 30\u001b[0m     \u001b[38;5;28mself\u001b[39m\u001b[38;5;241m.\u001b[39mdata\u001b[38;5;241m.\u001b[39mdf \u001b[38;5;241m=\u001b[39m \u001b[43mpd\u001b[49m\u001b[38;5;241;43m.\u001b[39;49m\u001b[43mread_csv\u001b[49m\u001b[43m(\u001b[49m\u001b[43m)\u001b[49m\n",
      "\u001b[1;31mTypeError\u001b[0m: read_csv() missing 1 required positional argument: 'filepath_or_buffer'"
     ]
    }
   ],
   "source": [
    "#Product \n",
    "class IngestedData:\n",
    "    def __init__(self):\n",
    "        self.df = None\n",
    "\n",
    "#Builder Interface\n",
    "class DataBuilder(ABC):\n",
    "    def __init__(self):\n",
    "        self.data = IngestedData()\n",
    "\n",
    "    @abstractmethod\n",
    "    def load(self, file_path: str):\n",
    "        pass\n",
    "\n",
    "    @abstractmethod\n",
    "    def clean(self):\n",
    "        pass\n",
    "\n",
    "    @abstractmethod\n",
    "    def validate(self):\n",
    "        pass\n",
    "\n",
    "    def get_data(self):\n",
    "        return self.data.df\n",
    "\n",
    "\n",
    "#Concrete builder\n",
    "class CsvFileDataBuilder(DataBuilder):\n",
    "    def load(self, path):\n",
    "        self.data.df = pd.read_csv()\n",
    "\n",
    "    def clean(self):\n",
    "        self.data.df.fillna(\"\", inplace=True)\n",
    "\n",
    "    def validate(self):\n",
    "        if \"id\" not in self.data.df.columns:\n",
    "            raise ValueError(\"Missing 'id' column\")\n",
    "\n",
    "\n",
    "#Director\n",
    "class IngestionDirector:\n",
    "    def __init__(self, builder: DataBuilder):\n",
    "        self.builder = builder\n",
    "\n",
    "    def ingest_data(self, file_path: str):\n",
    "        self.builder.load(file_path)\n",
    "        self.builder.clean()\n",
    "        self.builder.validate()\n",
    "        return self.builder.get_data()\n",
    "\n",
    "\n",
    "builder = CsvFileDataBuilder()\n",
    "director = IngestionDirector(builder)\n",
    "df = director.ingest_data('\\\\home.csv')"
   ]
  },
  {
   "cell_type": "code",
   "execution_count": null,
   "id": "51c82720-834b-47e4-aa44-0bac76b2a9f8",
   "metadata": {},
   "outputs": [],
   "source": []
  },
  {
   "cell_type": "markdown",
   "id": "890eab7b-5c4d-453a-8179-8193b0ec276b",
   "metadata": {
    "jp-MarkdownHeadingCollapsed": true
   },
   "source": [
    "## Singleton pattern\n",
    "Class has only one instance and provides a global point of access to it."
   ]
  },
  {
   "cell_type": "code",
   "execution_count": 31,
   "id": "2b25edfa-4a7a-47d9-937b-a491593e2c6d",
   "metadata": {},
   "outputs": [
    {
     "name": "stdout",
     "output_type": "stream",
     "text": [
      "True\n"
     ]
    }
   ],
   "source": [
    "class Singleton:\n",
    "    _instance = None\n",
    "\n",
    "    def __new__(cls):\n",
    "        if cls._instance is None:\n",
    "            cls._instance = super(Singleton, cls).__new__(cls)\n",
    "        return cls._instance\n",
    "\n",
    "# Usage\n",
    "singleton1 = Singleton()\n",
    "singleton2 = Singleton()\n",
    "\n",
    "print(singleton1 is singleton2)"
   ]
  },
  {
   "cell_type": "code",
   "execution_count": null,
   "id": "8958d1e9-ad78-4bfb-882d-6a3099084160",
   "metadata": {},
   "outputs": [],
   "source": []
  },
  {
   "cell_type": "markdown",
   "id": "56a64dfd-01b2-4f72-960e-c01d44c42827",
   "metadata": {},
   "source": [
    "## Prototype pattern\n",
    "Use when Creating a new object is expensive, and it's more efficient to clone an existing one."
   ]
  },
  {
   "cell_type": "code",
   "execution_count": 42,
   "id": "3edc1990-556f-48b6-86bc-7d1bfb809377",
   "metadata": {},
   "outputs": [
    {
     "name": "stdout",
     "output_type": "stream",
     "text": [
      "False\n",
      "False\n",
      "True\n"
     ]
    }
   ],
   "source": [
    "import copy \n",
    "\n",
    "class PrototypeSample:\n",
    "    def __init__(self, name):\n",
    "        self.name = name\n",
    "\n",
    "    def clone(self):\n",
    "        return copy.deepcopy(self)\n",
    "\n",
    "\n",
    "p1 = PrototypeSample(\"max\")\n",
    "p2 = p1.clone()\n",
    "\n",
    "\n",
    "print(p1 == p2)\n",
    "print(p1 is p2) #False (different objects)\n",
    "print(p1.name == p2.name) # True (same data)"
   ]
  },
  {
   "cell_type": "code",
   "execution_count": null,
   "id": "e808f49e-9335-4264-9cec-4887f70f8c9d",
   "metadata": {},
   "outputs": [],
   "source": []
  },
  {
   "cell_type": "markdown",
   "id": "26bd4cd9-2fb0-412f-a7b7-6c0e46cac62e",
   "metadata": {},
   "source": [
    "# Behavioral pattern"
   ]
  },
  {
   "cell_type": "code",
   "execution_count": null,
   "id": "2aee90f4-3144-4053-863d-a2e743c9ee61",
   "metadata": {},
   "outputs": [],
   "source": []
  },
  {
   "cell_type": "code",
   "execution_count": null,
   "id": "6516109b-f76c-4ad9-aee9-5ebb9bba17b5",
   "metadata": {},
   "outputs": [],
   "source": []
  },
  {
   "cell_type": "code",
   "execution_count": null,
   "id": "80ac84b3-7cf0-4b42-8867-19ebf21a7aca",
   "metadata": {},
   "outputs": [],
   "source": []
  },
  {
   "cell_type": "code",
   "execution_count": null,
   "id": "fcf75239-be50-4a13-989f-29993c55f024",
   "metadata": {},
   "outputs": [],
   "source": []
  }
 ],
 "metadata": {
  "kernelspec": {
   "display_name": "Python 3 (ipykernel)",
   "language": "python",
   "name": "python3"
  },
  "language_info": {
   "codemirror_mode": {
    "name": "ipython",
    "version": 3
   },
   "file_extension": ".py",
   "mimetype": "text/x-python",
   "name": "python",
   "nbconvert_exporter": "python",
   "pygments_lexer": "ipython3",
   "version": "3.12.10"
  }
 },
 "nbformat": 4,
 "nbformat_minor": 5
}
