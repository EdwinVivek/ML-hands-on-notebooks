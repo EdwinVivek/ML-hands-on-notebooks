{
 "cells": [
  {
   "cell_type": "code",
   "execution_count": 4,
   "metadata": {},
   "outputs": [],
   "source": [
    "from sklearn.datasets import make_classification\n",
    "import numpy as np"
   ]
  },
  {
   "cell_type": "code",
   "execution_count": 54,
   "metadata": {},
   "outputs": [
    {
     "name": "stdout",
     "output_type": "stream",
     "text": [
      "[2 2 0 0 0 2 1 0 1 1]\n"
     ]
    }
   ],
   "source": [
    "x, y = make_classification(n_samples=10,n_features=10,n_classes=3, n_informative=3)\n",
    "print(y)"
   ]
  },
  {
   "cell_type": "code",
   "execution_count": 57,
   "metadata": {},
   "outputs": [
    {
     "name": "stdout",
     "output_type": "stream",
     "text": [
      "TRAIN: [2 3 4 5 6 7 8 9] TEST: [0 1]\n",
      "TRAIN: [0 1 4 5 6 7 8 9] TEST: [2 3]\n",
      "TRAIN: [0 1 2 3 6 7 8 9] TEST: [4 5]\n",
      "TRAIN: [0 1 2 3 4 5 8 9] TEST: [6 7]\n",
      "TRAIN: [0 1 2 3 4 5 6 7] TEST: [8 9]\n"
     ]
    }
   ],
   "source": [
    "from sklearn.model_selection import KFold\n",
    "kf = KFold(n_splits=5)\n",
    "for train_index, test_index in kf.split(x, y):\n",
    "    print(\"TRAIN:\", train_index, \"TEST:\", test_index)\n",
    "    #print(x[train_index], x[test_index])\n",
    "    #print(y[train_index], y[test_index])"
   ]
  },
  {
   "cell_type": "code",
   "execution_count": 40,
   "metadata": {},
   "outputs": [
    {
     "name": "stdout",
     "output_type": "stream",
     "text": [
      "TRAIN: [0 1 2 5 6 7 8 9] TEST: [3 4]\n",
      "TRAIN: [0 3 4 5 6 7 8 9] TEST: [1 2]\n",
      "TRAIN: [0 1 2 3 4 5 8 9] TEST: [6 7]\n",
      "TRAIN: [0 1 2 3 4 6 7 9] TEST: [5 8]\n",
      "TRAIN: [1 2 3 4 5 6 7 8] TEST: [0 9]\n"
     ]
    }
   ],
   "source": [
    "from sklearn.model_selection import GroupKFold\n",
    "gkf = GroupKFold(n_splits=5)\n",
    "groups = np.array([1,2,2,3,3,4,10,5,7,6])\n",
    "for train_index, test_index in gkf.split(x, y, groups):\n",
    "    print(\"TRAIN:\", train_index, \"TEST:\", test_index)"
   ]
  },
  {
   "cell_type": "code",
   "execution_count": 66,
   "metadata": {},
   "outputs": [
    {
     "name": "stdout",
     "output_type": "stream",
     "text": [
      "TRAIN: [1 4 5 7 8 9] TEST: [0 2 3 6]\n",
      "[2 0 2 0 1 1]\n",
      "[2 0 0 1]\n",
      "TRAIN: [0 2 3 5 6 7 9] TEST: [1 4 8]\n",
      "[2 0 0 2 1 0 1]\n",
      "[2 0 1]\n",
      "TRAIN: [0 1 2 3 4 6 8] TEST: [5 7 9]\n",
      "[2 2 0 0 0 1 1]\n",
      "[2 0 1]\n"
     ]
    }
   ],
   "source": [
    "from sklearn.model_selection import StratifiedKFold\n",
    "skfold = StratifiedKFold(n_splits=3)\n",
    "for train_index, test_index in skfold.split(x, y):\n",
    "     print(\"TRAIN:\", train_index, \"TEST:\", test_index)\n",
    "     print(y[train_index])\n",
    "     print(y[test_index])"
   ]
  },
  {
   "cell_type": "code",
   "execution_count": 61,
   "metadata": {},
   "outputs": [
    {
     "name": "stdout",
     "output_type": "stream",
     "text": [
      "TRAIN: [1 2 3 4 5 6 7 8 9] TEST: [0]\n",
      "TRAIN: [0 2 3 4 5 6 7 8 9] TEST: [1]\n",
      "TRAIN: [0 1 3 4 5 6 7 8 9] TEST: [2]\n",
      "TRAIN: [0 1 2 4 5 6 7 8 9] TEST: [3]\n",
      "TRAIN: [0 1 2 3 5 6 7 8 9] TEST: [4]\n",
      "TRAIN: [0 1 2 3 4 6 7 8 9] TEST: [5]\n",
      "TRAIN: [0 1 2 3 4 5 7 8 9] TEST: [6]\n",
      "TRAIN: [0 1 2 3 4 5 6 8 9] TEST: [7]\n",
      "TRAIN: [0 1 2 3 4 5 6 7 9] TEST: [8]\n",
      "TRAIN: [0 1 2 3 4 5 6 7 8] TEST: [9]\n"
     ]
    }
   ],
   "source": [
    "from sklearn.model_selection import LeaveOneOut\n",
    "loo = LeaveOneOut()\n",
    "for train_index, test_index in loo.split(x, y):\n",
    "    print(\"TRAIN:\", train_index, \"TEST:\", test_index)"
   ]
  },
  {
   "cell_type": "code",
   "execution_count": null,
   "metadata": {},
   "outputs": [],
   "source": []
  },
  {
   "cell_type": "code",
   "execution_count": 44,
   "metadata": {},
   "outputs": [
    {
     "name": "stdout",
     "output_type": "stream",
     "text": [
      "Combinations: 6000\n"
     ]
    }
   ],
   "source": [
    "parameters ={'max_depth': [10, 20, 30, 40, 50, 60, 70, 80, 90, 100],\n",
    "     'criterion' : ['gini', 'entropy'],\n",
    "     'max_features': [0.3,0.5,0.7,0.9],\n",
    "     'min_samples_leaf': [3,5,7,10,15],\n",
    "     'min_samples_split': [2,5,10],\n",
    "     'n_estimators': [50,100,200,400,600]}\n",
    "from sklearn.model_selection import ParameterGrid\n",
    "params= ParameterGrid(parameters)\n",
    "print('Combinations:',len(params))"
   ]
  },
  {
   "cell_type": "code",
   "execution_count": 32,
   "metadata": {},
   "outputs": [
    {
     "name": "stdout",
     "output_type": "stream",
     "text": [
      "predicted labels by cross_val_predict: ['b' 'b' 'a' 'b' 'a']\n"
     ]
    }
   ],
   "source": [
    "#cross val predict\n",
    "from sklearn.model_selection import KFold\n",
    "from sklearn.model_selection import cross_val_predict\n",
    "from sklearn.svm.classes import SVC\n",
    "\n",
    "X = np.array([[0], [1], [2], [3], [4]])\n",
    "labels = np.array(['a', 'a', 'a', 'b', 'b'])\n",
    "\n",
    "cv = KFold(n_splits=3)\n",
    "clf = SVC()\n",
    "y_cross_val_predict = cross_val_predict(clf, X, labels, cv=cv)\n",
    "print(\"predicted labels by cross_val_predict:\", y_cross_val_predict)"
   ]
  },
  {
   "cell_type": "code",
   "execution_count": 33,
   "metadata": {},
   "outputs": [
    {
     "name": "stdout",
     "output_type": "stream",
     "text": [
      "[2 3 4]\n",
      "[0 1 4]\n",
      "[0 1 2 3]\n"
     ]
    }
   ],
   "source": [
    "for train_index, test_index in cv.split(labels):\n",
    "    print(train_index)"
   ]
  },
  {
   "cell_type": "code",
   "execution_count": 25,
   "metadata": {},
   "outputs": [
    {
     "name": "stdout",
     "output_type": "stream",
     "text": [
      "[0. 1. 0.]\n"
     ]
    }
   ],
   "source": [
    "from sklearn.model_selection import cross_val_score\n",
    "y_cross_val_score = cross_val_score(clf, X, labels, cv=cv)\n",
    "print(y_cross_val_score)"
   ]
  },
  {
   "cell_type": "code",
   "execution_count": 52,
   "metadata": {},
   "outputs": [
    {
     "data": {
      "text/plain": [
       "array([[ 7.28269246e-01, -1.98210076e+00, -3.59680841e-01,\n",
       "         6.61671617e-01, -1.93407640e+00,  5.59373679e-01,\n",
       "         1.23701819e+00, -1.40151477e+00,  2.57566641e+00,\n",
       "         9.07806548e-02],\n",
       "       [-8.71442718e-01, -9.30124107e-01,  2.99142534e-01,\n",
       "        -2.24219911e+00, -5.60072709e-01,  2.88697643e+00,\n",
       "         9.31240179e-01, -8.14314589e-01,  2.57673345e+00,\n",
       "         2.97069243e-01],\n",
       "       [ 1.01909032e+00, -1.71408652e+00, -2.39092021e-01,\n",
       "         4.52999894e-01, -8.95351121e-01,  8.79491854e-01,\n",
       "         2.26852907e+00, -1.32165149e-01,  1.62862197e+00,\n",
       "        -9.85311479e-02],\n",
       "       [-1.09048412e+00,  1.48170223e+00,  6.52213791e-01,\n",
       "        -6.24629216e-01,  6.43696471e-01, -5.78816822e-01,\n",
       "         8.66991601e-01,  2.80503080e-02, -1.14186455e+00,\n",
       "        -1.98900866e+00],\n",
       "       [-2.29285796e-01, -1.18609643e-01, -2.44070364e-01,\n",
       "         1.75092078e+00,  4.08826003e-01, -1.45401397e+00,\n",
       "        -4.60903006e-01,  8.19791493e-01, -1.42268342e+00,\n",
       "        -5.73430611e-01],\n",
       "       [-2.34216576e-01,  2.02590507e+00, -3.22326225e+00,\n",
       "        -1.52939515e-01, -1.48706451e+00, -2.32780919e+00,\n",
       "        -3.53495760e-01, -6.62671194e-01,  4.12161192e-02,\n",
       "         1.02442237e-01],\n",
       "       [ 7.94505310e-01, -7.47138250e-02, -9.91538593e-01,\n",
       "         7.73067516e-01,  1.99833416e+00,  3.20857451e-02,\n",
       "        -5.57469413e-02,  1.82646658e-01, -2.19616656e+00,\n",
       "         6.60685051e-01],\n",
       "       [ 2.22884409e+00, -1.89783134e+00, -2.39807190e+00,\n",
       "        -1.61887650e+00,  2.40270238e+00,  4.26870445e+00,\n",
       "         6.38196802e-05,  1.38577073e+00,  2.35483190e-01,\n",
       "        -2.03568805e-01],\n",
       "       [ 6.72884856e-01, -6.81091956e-01, -6.22254947e-01,\n",
       "        -1.51468063e-01,  1.41635922e-01,  8.52628928e-01,\n",
       "        -3.75231321e-01, -1.53176906e+00,  4.30935105e-01,\n",
       "         3.65599068e-01],\n",
       "       [ 2.14715437e+00, -2.73195698e+00,  6.76264065e-02,\n",
       "         1.93054719e+00,  4.51162999e+00,  2.35035209e+00,\n",
       "         5.26090582e-01,  8.16263099e-01, -3.36657894e+00,\n",
       "        -7.74973461e-01]])"
      ]
     },
     "execution_count": 52,
     "metadata": {},
     "output_type": "execute_result"
    }
   ],
   "source": [
    "x"
   ]
  },
  {
   "cell_type": "code",
   "execution_count": null,
   "metadata": {},
   "outputs": [],
   "source": [
    "\n",
    "cross_validate\n",
    "GridsearchCV\n",
    "RandomizedSearchCV"
   ]
  }
 ],
 "metadata": {
  "kernelspec": {
   "display_name": "Python 3",
   "language": "python",
   "name": "python3"
  },
  "language_info": {
   "codemirror_mode": {
    "name": "ipython",
    "version": 3
   },
   "file_extension": ".py",
   "mimetype": "text/x-python",
   "name": "python",
   "nbconvert_exporter": "python",
   "pygments_lexer": "ipython3",
   "version": "3.7.3"
  }
 },
 "nbformat": 4,
 "nbformat_minor": 4
}
