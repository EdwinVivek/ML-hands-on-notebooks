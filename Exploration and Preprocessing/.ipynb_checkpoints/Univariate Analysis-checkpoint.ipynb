{
 "cells": [
  {
   "cell_type": "code",
   "execution_count": 116,
   "id": "608f6b3f",
   "metadata": {},
   "outputs": [
    {
     "name": "stderr",
     "output_type": "stream",
     "text": [
      "WARNING: You are using pip version 22.0.4; however, version 24.0 is available.\n",
      "You should consider upgrading via the 'C:\\Program Files (x86)\\Microsoft Visual Studio\\Shared\\Python39_64\\python.exe -m pip install --upgrade pip' command.\n"
     ]
    }
   ],
   "source": [
    "!pip install pyreadr -q\n",
    "import pandas as pd\n",
    "import numpy as np\n",
    "import pyreadr\n",
    "from scipy.stats import skew, iqr, kurtosis, kurtosistest\n",
    "import seaborn as sns\n",
    "import matplotlib.pyplot as plt\n",
    "\n",
    "from IPython.core.interactiveshell import InteractiveShell\n",
    "InteractiveShell.ast_node_interactivity = \"all\""
   ]
  },
  {
   "cell_type": "code",
   "execution_count": 80,
   "id": "6068a19b",
   "metadata": {},
   "outputs": [
    {
     "data": {
      "text/html": [
       "<div>\n",
       "<style scoped>\n",
       "    .dataframe tbody tr th:only-of-type {\n",
       "        vertical-align: middle;\n",
       "    }\n",
       "\n",
       "    .dataframe tbody tr th {\n",
       "        vertical-align: top;\n",
       "    }\n",
       "\n",
       "    .dataframe thead th {\n",
       "        text-align: right;\n",
       "    }\n",
       "</style>\n",
       "<table border=\"1\" class=\"dataframe\">\n",
       "  <thead>\n",
       "    <tr style=\"text-align: right;\">\n",
       "      <th></th>\n",
       "      <th>velocity</th>\n",
       "    </tr>\n",
       "  </thead>\n",
       "  <tbody>\n",
       "    <tr>\n",
       "      <th>0</th>\n",
       "      <td>850</td>\n",
       "    </tr>\n",
       "    <tr>\n",
       "      <th>1</th>\n",
       "      <td>740</td>\n",
       "    </tr>\n",
       "    <tr>\n",
       "      <th>2</th>\n",
       "      <td>900</td>\n",
       "    </tr>\n",
       "    <tr>\n",
       "      <th>3</th>\n",
       "      <td>1070</td>\n",
       "    </tr>\n",
       "    <tr>\n",
       "      <th>4</th>\n",
       "      <td>930</td>\n",
       "    </tr>\n",
       "  </tbody>\n",
       "</table>\n",
       "</div>"
      ],
      "text/plain": [
       "   velocity\n",
       "0       850\n",
       "1       740\n",
       "2       900\n",
       "3      1070\n",
       "4       930"
      ]
     },
     "execution_count": 80,
     "metadata": {},
     "output_type": "execute_result"
    }
   ],
   "source": [
    "result = pyreadr.read_r(r\"D:\\myscripts\\data\\Michelson.RData\")\n",
    "df = result['Michelson'] # Convert R data to pandas DataFrame\n",
    "df.head()"
   ]
  },
  {
   "cell_type": "markdown",
   "id": "2d3a0b63",
   "metadata": {},
   "source": [
    "examine the measures of central tendency for this data. Particularly mean and median. By comparing mean and median do you think the data is generally right or left skwewed?"
   ]
  },
  {
   "cell_type": "code",
   "execution_count": 18,
   "id": "9f33a5a8",
   "metadata": {},
   "outputs": [
    {
     "data": {
      "text/plain": [
       "velocity    852.4\n",
       "dtype: float64"
      ]
     },
     "execution_count": 18,
     "metadata": {},
     "output_type": "execute_result"
    },
    {
     "data": {
      "text/plain": [
       "velocity    850.0\n",
       "dtype: float64"
      ]
     },
     "execution_count": 18,
     "metadata": {},
     "output_type": "execute_result"
    }
   ],
   "source": [
    "df.mean()\n",
    "df.median()\n",
    "\n",
    "#mean > median, but still they are very close. hence cant determine"
   ]
  },
  {
   "cell_type": "markdown",
   "id": "0e50f22b",
   "metadata": {},
   "source": [
    "write a function to calculate skewness of data."
   ]
  },
  {
   "cell_type": "code",
   "execution_count": 33,
   "id": "2a68a206",
   "metadata": {},
   "outputs": [
    {
     "data": {
      "text/plain": [
       "array([-0.01825961])"
      ]
     },
     "execution_count": 33,
     "metadata": {},
     "output_type": "execute_result"
    },
    {
     "data": {
      "text/plain": [
       "-0.018259613963111727"
      ]
     },
     "execution_count": 33,
     "metadata": {},
     "output_type": "execute_result"
    }
   ],
   "source": [
    "skew(df)\n",
    "\n",
    "## or\n",
    "def skewness(x):\n",
    "    zscore = (x - np.mean(x))/np.std(x)\n",
    "    zcube = zscore**3\n",
    "    return sum(zcube[\"velocity\"])/len(x)\n",
    "    #return zcube\n",
    "\n",
    "\n",
    "skewness(df)\n",
    "\n",
    "\n",
    "### the measure is really small and negative. We cant rely on it much to claim the distribution is left skewed \n",
    "#because in fact the mean and the median are extremely close."
   ]
  },
  {
   "cell_type": "markdown",
   "id": "6fbe8ed1",
   "metadata": {},
   "source": [
    "examine the measures of dispersion. Particularly, variance, standard deviation, and IQR."
   ]
  },
  {
   "cell_type": "code",
   "execution_count": 37,
   "id": "49591542",
   "metadata": {},
   "outputs": [
    {
     "data": {
      "text/plain": [
       "velocity    6180.24\n",
       "dtype: float64"
      ]
     },
     "execution_count": 37,
     "metadata": {},
     "output_type": "execute_result"
    },
    {
     "data": {
      "text/plain": [
       "velocity    78.614502\n",
       "dtype: float64"
      ]
     },
     "execution_count": 37,
     "metadata": {},
     "output_type": "execute_result"
    },
    {
     "data": {
      "text/plain": [
       "85.0"
      ]
     },
     "execution_count": 37,
     "metadata": {},
     "output_type": "execute_result"
    }
   ],
   "source": [
    "np.var(df)\n",
    "np.std(df)\n",
    "iqr(df)"
   ]
  },
  {
   "cell_type": "markdown",
   "id": "f76351ce",
   "metadata": {},
   "source": [
    "write a function to calculate kurtosis of data. What do you think of it, compared to a standardized normal distribution?"
   ]
  },
  {
   "cell_type": "code",
   "execution_count": 113,
   "id": "4916fa66",
   "metadata": {},
   "outputs": [
    {
     "data": {
      "text/plain": [
       "array([0.26353053])"
      ]
     },
     "execution_count": 113,
     "metadata": {},
     "output_type": "execute_result"
    },
    {
     "data": {
      "text/plain": [
       "KurtosistestResult(statistic=array([0.84666407]), pvalue=array([0.39718239]))"
      ]
     },
     "execution_count": 113,
     "metadata": {},
     "output_type": "execute_result"
    },
    {
     "data": {
      "text/plain": [
       "velocity    0.263531\n",
       "dtype: float64"
      ]
     },
     "execution_count": 113,
     "metadata": {},
     "output_type": "execute_result"
    }
   ],
   "source": [
    "kurtosis(df)\n",
    "## or\n",
    "def kurtosis_func(x):\n",
    "    z_score = (x - np.mean(x))/np.std(x)\n",
    "    Zscore_fourth_momentum = z_score ** 4\n",
    "    Out = np.sum(Zscore_fourth_momentum)/len(x) \n",
    "    return Out - 3\n",
    "\n",
    "kurtosis_func(df)\n",
    "\n",
    "#kurtosis test\n",
    "kurtosistest(df)\n",
    "\n",
    "##This distribution has a positive kurtosis compared to a standardized normal distribution whose kurtosis is ZERO (a noram distribution has a kurtosis of 3). \n",
    "##Notice that because we are working with Zscores, we should automatically compare these results with a Kurtosis of a standardized normal distribution."
   ]
  },
  {
   "cell_type": "markdown",
   "id": "683b8313",
   "metadata": {},
   "source": [
    "Identify 10th, 25th, 50th, 75th, and 90th quantiles of the data."
   ]
  },
  {
   "cell_type": "code",
   "execution_count": 85,
   "id": "b266eda9",
   "metadata": {},
   "outputs": [
    {
     "data": {
      "text/plain": [
       "array([760. , 798. , 807.5, 850. , 892.5, 960. ])"
      ]
     },
     "execution_count": 85,
     "metadata": {},
     "output_type": "execute_result"
    }
   ],
   "source": [
    "np.quantile(df, [0.10, 0.20, 0.25, 0.50,0.75,0.90])\n",
    "\n",
    "## To interpret, one can say for examples that 90% of data are smaller than 960 (which is the 0.9 quantile)."
   ]
  },
  {
   "cell_type": "markdown",
   "id": "cf193a36",
   "metadata": {},
   "source": [
    "Check the boxplot of data."
   ]
  },
  {
   "cell_type": "code",
   "execution_count": 107,
   "id": "f2fb211d",
   "metadata": {},
   "outputs": [
    {
     "data": {
      "text/plain": [
       "Text(0, 620.0, '620.0')"
      ]
     },
     "execution_count": 107,
     "metadata": {},
     "output_type": "execute_result"
    },
    {
     "data": {
      "text/plain": [
       "Text(0, 807.5, '807.5')"
      ]
     },
     "execution_count": 107,
     "metadata": {},
     "output_type": "execute_result"
    },
    {
     "data": {
      "text/plain": [
       "Text(0, 850.0, '850.0')"
      ]
     },
     "execution_count": 107,
     "metadata": {},
     "output_type": "execute_result"
    },
    {
     "data": {
      "text/plain": [
       "Text(0, 892.5, '892.5')"
      ]
     },
     "execution_count": 107,
     "metadata": {},
     "output_type": "execute_result"
    },
    {
     "data": {
      "text/plain": [
       "Text(0, 1070.0, '1070.0')"
      ]
     },
     "execution_count": 107,
     "metadata": {},
     "output_type": "execute_result"
    },
    {
     "data": {
      "text/plain": [
       "Text(0, 680.0, '680.0')"
      ]
     },
     "execution_count": 107,
     "metadata": {},
     "output_type": "execute_result"
    },
    {
     "data": {
      "text/plain": [
       "Text(0, 1020.0, '1020.0')"
      ]
     },
     "execution_count": 107,
     "metadata": {},
     "output_type": "execute_result"
    },
    {
     "data": {
      "image/png": "[encoded data removed]",
      "text/plain": [
       "<Figure size 640x480 with 1 Axes>"
      ]
     },
     "metadata": {},
     "output_type": "display_data"
    }
   ],
   "source": [
    "box = sns.boxplot(df)\n",
    "q = np.quantile(df, [0,0.25,0.5,0.75,1])  #i.e [min, Q1, median, Q3, max]\n",
    "lowerquartile = np.quantile(df, 0.25) - (1.5 * iqr(df))\n",
    "upperquartile = np.quantile(df, 0.75) + (1.5 * iqr(df))\n",
    "qs = np.append(q, [lowerquartile, upperquartile])\n",
    "\n",
    "for i in range(len(qs)):\n",
    "    box.annotate(qs[i], xy= (0, qs[i]), horizontalalignment=\"center\")\n",
    "#box.annotate(np.median(df), xy= (0,np.median(df)), horizontalalignment=\"center\")"
   ]
  },
  {
   "cell_type": "markdown",
   "id": "bde15202",
   "metadata": {},
   "source": [
    "Examine the histogram plot of the data and play with its arguments."
   ]
  },
  {
   "cell_type": "code",
   "execution_count": 139,
   "id": "db113416",
   "metadata": {},
   "outputs": [
    {
     "data": {
      "text/plain": [
       "<Axes: ylabel='Count'>"
      ]
     },
     "execution_count": 139,
     "metadata": {},
     "output_type": "execute_result"
    },
    {
     "data": {
      "text/plain": [
       "<Axes: ylabel='Count'>"
      ]
     },
     "execution_count": 139,
     "metadata": {},
     "output_type": "execute_result"
    },
    {
     "data": {
      "text/plain": [
       "<Axes: ylabel='Density'>"
      ]
     },
     "execution_count": 139,
     "metadata": {},
     "output_type": "execute_result"
    },
    {
     "data": {
      "image/png": "[encoded data removed]",
      "text/plain": [
       "<Figure size 1200x400 with 3 Axes>"
      ]
     },
     "metadata": {},
     "output_type": "display_data"
    }
   ],
   "source": [
    "fig, ax = plt.subplots(1,3, figsize=(12,4))\n",
    "sns.histplot(df, ax=ax[0], binwidth=30)\n",
    "sns.histplot(df, bins=20, ax=ax[1])\n",
    "sns.kdeplot(df, ax=ax[2])\n"
   ]
  },
  {
   "cell_type": "markdown",
   "id": "6426ff85",
   "metadata": {},
   "source": [
    "Determine the number of observations in each bin of the histogram, for a historam with bins of width 50 each."
   ]
  },
  {
   "cell_type": "code",
   "execution_count": 151,
   "id": "67ef2589",
   "metadata": {},
   "outputs": [
    {
     "data": {
      "text/plain": [
       "velocity    9.0\n",
       "dtype: float64"
      ]
     },
     "execution_count": 151,
     "metadata": {},
     "output_type": "execute_result"
    },
    {
     "name": "stderr",
     "output_type": "stream",
     "text": [
      "C:\\Users\\EdwinVivekN\\AppData\\Local\\Temp\\ipykernel_3032\\4036095012.py:3: FutureWarning: Calling int on a single element Series is deprecated and will raise a TypeError in the future. Use int(ser.iloc[0]) instead\n",
      "  (n, bins, patches) = plt.hist(df, bins=int(b))\n"
     ]
    },
    {
     "data": {
      "text/plain": [
       "array([ 2.,  0., 12., 21., 23., 21., 13.,  7.,  1.])"
      ]
     },
     "execution_count": 151,
     "metadata": {},
     "output_type": "execute_result"
    },
    {
     "data": {
      "text/plain": [
       "array([ 620.,  670.,  720.,  770.,  820.,  870.,  920.,  970., 1020.,\n",
       "       1070.])"
      ]
     },
     "execution_count": 151,
     "metadata": {},
     "output_type": "execute_result"
    },
    {
     "data": {
      "text/plain": [
       "<BarContainer object of 9 artists>"
      ]
     },
     "execution_count": 151,
     "metadata": {},
     "output_type": "execute_result"
    },
    {
     "data": {
      "image/png": "[encoded data removed]",
      "text/plain": [
       "<Figure size 640x480 with 1 Axes>"
      ]
     },
     "metadata": {},
     "output_type": "display_data"
    }
   ],
   "source": [
    "b = (df.max() - df.min()) / 50 #50 is the width\n",
    "b\n",
    "(n, bins, patches) = plt.hist(df, bins=int(b))\n",
    "n\n",
    "bins\n",
    "patches\n"
   ]
  },
  {
   "cell_type": "code",
   "execution_count": null,
   "id": "57794b85",
   "metadata": {},
   "outputs": [],
   "source": []
  },
  {
   "cell_type": "code",
   "execution_count": null,
   "id": "a6738043",
   "metadata": {},
   "outputs": [],
   "source": []
  },
  {
   "cell_type": "code",
   "execution_count": null,
   "id": "1923946d",
   "metadata": {},
   "outputs": [],
   "source": []
  }
 ],
 "metadata": {
  "kernelspec": {
   "display_name": "Python 3 (ipykernel)",
   "language": "python",
   "name": "python3"
  },
  "language_info": {
   "codemirror_mode": {
    "name": "ipython",
    "version": 3
   },
   "file_extension": ".py",
   "mimetype": "text/x-python",
   "name": "python",
   "nbconvert_exporter": "python",
   "pygments_lexer": "ipython3",
   "version": "3.9.13"
  }
 },
 "nbformat": 4,
 "nbformat_minor": 5
}
