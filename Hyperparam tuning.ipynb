{
 "cells": [
  {
   "cell_type": "code",
   "execution_count": 1,
   "id": "eb45358a-7eb4-4226-a192-81bda15aaae2",
   "metadata": {},
   "outputs": [],
   "source": [
    "import numpy as np\n",
    "import pandas as pd\n",
    "import gc\n",
    "import warnings\n",
    "import matplotlib.pyplot as plt\n",
    "from sklearn.datasets import load_breast_cancer\n",
    "from sklearn.model_selection import train_test_split, cross_val_score\n",
    "from sklearn.svm import SVC\n",
    "from sklearn.preprocessing import StandardScaler\n",
    "from sklearn.metrics import confusion_matrix, make_scorer, accuracy_score, recall_score, f1_score\n",
    "from datetime import timedelta\n",
    "import time\n",
    "\n",
    "\n"
   ]
  },
  {
   "cell_type": "code",
   "execution_count": 33,
   "id": "fe36f595-abce-42e1-80bd-a68e622f8238",
   "metadata": {},
   "outputs": [],
   "source": [
    "X, y = load_breast_cancer(return_X_y=True)\n",
    "X_train, X_test, y_train, y_test = train_test_split(X, y, test_size=0.2, stratify=y, random_state=1234)\n",
    "scaler = StandardScaler()\n",
    "X_train = scaler.fit_transform(X_train)\n",
    "X_test = scaler.transform(X_test)"
   ]
  },
  {
   "cell_type": "code",
   "execution_count": 34,
   "id": "a9714495-ce50-410b-a5c8-06ae4802c866",
   "metadata": {},
   "outputs": [
    {
     "data": {
      "text/plain": [
       "0\n",
       "1    285\n",
       "0    170\n",
       "Name: count, dtype: int64"
      ]
     },
     "execution_count": 34,
     "metadata": {},
     "output_type": "execute_result"
    }
   ],
   "source": [
    "pd.DataFrame(y_train).value_counts()"
   ]
  },
  {
   "cell_type": "code",
   "execution_count": 37,
   "id": "383d18ac-c11a-4195-ab62-d6c4531767d6",
   "metadata": {},
   "outputs": [],
   "source": [
    "svc_model = SVC(kernel='rbf')\n",
    "svc_model.fit(X_train, y_train)\n",
    "svc_pred = svc_model.predict(X_test)"
   ]
  },
  {
   "cell_type": "code",
   "execution_count": 39,
   "id": "3a2b770a-6a4c-4aeb-a8c4-f02d1ce3361b",
   "metadata": {},
   "outputs": [
    {
     "name": "stdout",
     "output_type": "stream",
     "text": [
      "Train Accuracy 0.989010989010989\n",
      "Test Accuracy 0.9824561403508771\n",
      "\n",
      "\n",
      "Train Recall Score 1.0\n",
      "Test Recall Score 1.0\n",
      "\n",
      "\n",
      "Train F1 Score 0.991304347826087\n",
      "Test F1 Score 0.9863013698630136\n"
     ]
    }
   ],
   "source": [
    "print('Train Accuracy', accuracy_score(y_train, svc_model.predict(X_train)))\n",
    "print('Test Accuracy', accuracy_score(y_test, svc_model.predict(X_test)))\n",
    "\n",
    "print('\\n')\n",
    "\n",
    "print('Train Recall Score', recall_score(y_train, svc_model.predict(X_train)))\n",
    "print('Test Recall Score', recall_score(y_test, svc_model.predict(X_test)))\n",
    "\n",
    "print('\\n')\n",
    "\n",
    "print('Train F1 Score', f1_score(y_train, svc_model.predict(X_train)))\n",
    "print('Test F1 Score', f1_score(y_test, svc_model.predict(X_test)))"
   ]
  },
  {
   "cell_type": "code",
   "execution_count": null,
   "id": "a3a1d4c3-2545-4329-be17-d483e29972c8",
   "metadata": {},
   "outputs": [],
   "source": []
  },
  {
   "cell_type": "markdown",
   "id": "7dde4c54-718c-473d-9bc4-4f88f8091b51",
   "metadata": {},
   "source": [
    "## Grid Search"
   ]
  },
  {
   "cell_type": "code",
   "execution_count": 79,
   "id": "2361776b-9522-4e52-a3c9-852bcc50628f",
   "metadata": {},
   "outputs": [
    {
     "name": "stdout",
     "output_type": "stream",
     "text": [
      "best params:  {'C': 200000, 'degree': 2, 'gamma': 1, 'kernel': 'linear'}\n",
      "val. score: 0.956043956043956\n",
      "test score: 0.9736842105263158\n"
     ]
    }
   ],
   "source": [
    "from sklearn.model_selection import GridSearchCV\n",
    "\n",
    "param_space_grid = {\n",
    "    'C': [200000, 260000, 270000], \n",
    "    'gamma': [1,3,5,7], \n",
    "    'degree': [2,4,6,8,10], \n",
    "    'kernel':  ['linear', 'poly', 'rbf']\n",
    "}\n",
    "\n",
    "estimator = SVC()\n",
    "grid_search = GridSearchCV(estimator, param_grid= param_space_grid, scoring='accuracy', cv=3)\n",
    "grid_search.fit(X_train, y_train)\n",
    "print('best params: ', grid_search.best_params_)\n",
    "print('val. score: %s' % random_search.best_score_)\n",
    "print('test score: %s' % random_search.score(X_test, y_test))\n"
   ]
  },
  {
   "cell_type": "code",
   "execution_count": null,
   "id": "093ba453-69fc-421a-8552-31cb09b6847f",
   "metadata": {},
   "outputs": [],
   "source": []
  },
  {
   "cell_type": "markdown",
   "id": "e779378b-8b43-4a88-bed0-d66f91fb665d",
   "metadata": {},
   "source": [
    "## Randomized Search"
   ]
  },
  {
   "cell_type": "code",
   "execution_count": 80,
   "id": "1111bfb4-32ee-4414-a550-da1080b4a5d9",
   "metadata": {},
   "outputs": [
    {
     "name": "stdout",
     "output_type": "stream",
     "text": [
      "best params:  {'C': 15338.225715091483, 'degree': 5, 'gamma': 2.764911971321577e-06, 'kernel': 'rbf'}\n",
      "val. score: 0.9758241758241759\n",
      "test score: 0.9824561403508771\n"
     ]
    }
   ],
   "source": [
    "from sklearn.model_selection import RandomizedSearchCV\n",
    "from scipy.stats import loguniform, randint\n",
    "\n",
    "param_space_random = {\n",
    "    'C': loguniform(1e-6, 1e6),\n",
    "    'gamma': loguniform(1e-6, 1e1),\n",
    "    'degree': randint(1, 9),  # upper bound is exclusive\n",
    "    'kernel': ['linear','poly','rbf']\n",
    "}\n",
    "\n",
    "estimator = SVC()\n",
    "random_search = RandomizedSearchCV(estimator, param_space_random)\n",
    "random_search.fit(X_train, y_train)\n",
    "print('best params: ', random_search.best_params_)\n",
    "print('val. score: %s' % random_search.best_score_)\n",
    "print('test score: %s' % random_search.score(X_test, y_test))"
   ]
  },
  {
   "cell_type": "markdown",
   "id": "b4c3bb78-5890-45cc-8a88-05d48a46253c",
   "metadata": {},
   "source": [
    "## Bayesion Optimization using Skopt"
   ]
  },
  {
   "cell_type": "code",
   "execution_count": 67,
   "id": "3b73237d-aadf-4488-8c75-15c448c0e619",
   "metadata": {},
   "outputs": [
    {
     "name": "stdout",
     "output_type": "stream",
     "text": [
      "val. score: 0.9713895666318114\n",
      "test score: 0.9649122807017544\n"
     ]
    }
   ],
   "source": [
    "from skopt import BayesSearchCV\n",
    "param_space_skopt = {\n",
    "    'C': (1e-6, 1e+6, 'log-uniform'),\n",
    "    'gamma': (1e-6, 1e+1, 'log-uniform'),\n",
    "    'degree': (1, 8),\n",
    "    'kernel': ['linear', 'poly', 'rbf'],\n",
    "}\n",
    "\n",
    "opt = BayesSearchCV(\n",
    "    estimator=SVC(),\n",
    "    search_spaces=param_space_skopt,\n",
    "    n_iter=32,\n",
    "    cv=3\n",
    "    \n",
    ")\n",
    "\n",
    "opt.fit(X_train, y_train)\n",
    "print('val. score: %s' % opt.best_score_)\n",
    "print('test score: %s' % opt.score(X_test, y_test))"
   ]
  },
  {
   "cell_type": "code",
   "execution_count": 41,
   "id": "658795cd-2ee9-4ae4-a734-f3e8c216ad3b",
   "metadata": {},
   "outputs": [
    {
     "name": "stdout",
     "output_type": "stream",
     "text": [
      "Best Parameters: OrderedDict({'C': 0.020117103584690255, 'degree': 1, 'gamma': 2.6498956844158603, 'kernel': 'poly'})\n"
     ]
    }
   ],
   "source": [
    "best_params = opt.best_params_\n",
    "print('Best Parameters:', best_params)"
   ]
  },
  {
   "cell_type": "code",
   "execution_count": 42,
   "id": "b17a6a94-b147-4ce0-9b2b-484ae9f17aef",
   "metadata": {},
   "outputs": [
    {
     "name": "stdout",
     "output_type": "stream",
     "text": [
      "Train Accuracy with best parameters: 0.9824175824175824\n",
      "Test Accuracy with best parameters: 0.9736842105263158\n",
      "\n",
      "\n",
      "Train Recall Score with best parameters: 0.9929824561403509\n",
      "Test Recall Score with best parameters: 1.0\n",
      "\n",
      "\n",
      "Train F1 Score with best parameters: 0.9860627177700348\n",
      "Test F1 Score with best parameters: 0.9795918367346939\n"
     ]
    }
   ],
   "source": [
    "# Create an SVM classifier with the best parameters\n",
    "best_svc_model = SVC(**best_params)\n",
    "\n",
    "# Fit the classifier on the training data\n",
    "best_svc_model.fit(X_train, y_train)\n",
    "\n",
    "# Predict on the test data\n",
    "best_svc_pred = best_svc_model.predict(X_test)\n",
    "\n",
    "# Evaluate the performance of the model\n",
    "print('Train Accuracy with best parameters:', accuracy_score(y_train, best_svc_model.predict(X_train)))\n",
    "print('Test Accuracy with best parameters:', accuracy_score(y_test, best_svc_pred))\n",
    "\n",
    "print('\\n')\n",
    "\n",
    "print('Train Recall Score with best parameters:', recall_score(y_train, best_svc_model.predict(X_train)))\n",
    "print('Test Recall Score with best parameters:', recall_score(y_test, best_svc_pred))\n",
    "\n",
    "print('\\n')\n",
    "\n",
    "print('Train F1 Score with best parameters:', f1_score(y_train, best_svc_model.predict(X_train)))\n",
    "print('Test F1 Score with best parameters:', f1_score(y_test, best_svc_pred))"
   ]
  },
  {
   "cell_type": "code",
   "execution_count": null,
   "id": "3b3f233d-2d82-492d-b99a-41335e56a286",
   "metadata": {},
   "outputs": [],
   "source": []
  },
  {
   "cell_type": "markdown",
   "id": "8da378b0-78c5-4210-a1b0-85bb1e5dcf87",
   "metadata": {},
   "source": [
    "## Bayesion Optimization"
   ]
  },
  {
   "cell_type": "code",
   "execution_count": 81,
   "id": "0eed2d32-4759-4372-baa4-9179ce647ad4",
   "metadata": {},
   "outputs": [
    {
     "name": "stdout",
     "output_type": "stream",
     "text": [
      "|   iter    |  target   |     C     |  degree   |   gamma   | kernel... |\n",
      "-------------------------------------------------------------------------\n",
      "SVC(C=760746.9034517539, degree=7, gamma=8.076117722441444, kernel='linear')\n",
      "| \u001b[39m1        \u001b[39m | \u001b[39m0.9473   \u001b[39m | \u001b[39m7.607e+05\u001b[39m | \u001b[39m7.334    \u001b[39m | \u001b[39m8.076    \u001b[39m | \u001b[39m0.4824   \u001b[39m |\n",
      "SVC(C=898963.5301324857, degree=1, gamma=8.561965998728557, kernel='poly')\n",
      "| \u001b[39m2        \u001b[39m | \u001b[39m0.9473   \u001b[39m | \u001b[39m8.99e+05 \u001b[39m | \u001b[39m1.459    \u001b[39m | \u001b[39m8.562    \u001b[39m | \u001b[39m1.467    \u001b[39m |\n",
      "SVC(C=777891.4209226471, degree=4, gamma=8.447135143146943, kernel='poly')\n",
      "| \u001b[39m3        \u001b[39m | \u001b[39m0.7846   \u001b[39m | \u001b[39m7.779e+05\u001b[39m | \u001b[39m4.038    \u001b[39m | \u001b[39m8.447    \u001b[39m | \u001b[39m1.456    \u001b[39m |\n",
      "SVC(C=651707.8416858877, degree=7, gamma=2.234851188792184, kernel='poly')\n",
      "| \u001b[39m4        \u001b[39m | \u001b[39m0.8989   \u001b[39m | \u001b[39m6.517e+05\u001b[39m | \u001b[39m7.415    \u001b[39m | \u001b[39m2.235    \u001b[39m | \u001b[39m0.5538   \u001b[39m |\n",
      "SVC(C=405298.30014620844, gamma=0.13956770007958524, kernel='poly')\n",
      "| \u001b[39m5        \u001b[39m | \u001b[39m0.9451   \u001b[39m | \u001b[39m4.053e+05\u001b[39m | \u001b[39m2.734    \u001b[39m | \u001b[39m0.1396   \u001b[39m | \u001b[39m1.103    \u001b[39m |\n",
      "SVC(C=994089.0848444282, gamma=1.3780895069138792, kernel='poly')\n",
      "| \u001b[39m6        \u001b[39m | \u001b[39m0.9451   \u001b[39m | \u001b[39m9.941e+05\u001b[39m | \u001b[39m3.109    \u001b[39m | \u001b[39m1.378    \u001b[39m | \u001b[39m1.209    \u001b[39m |\n",
      "SVC(C=134858.1595518323, degree=7, gamma=9.459462409546152, kernel='linear')\n",
      "| \u001b[39m7        \u001b[39m | \u001b[39m0.9473   \u001b[39m | \u001b[39m1.349e+05\u001b[39m | \u001b[39m6.952    \u001b[39m | \u001b[39m9.459    \u001b[39m | \u001b[39m0.0519   \u001b[39m |\n",
      "SVC(C=613281.3086717117, gamma=0.14408462217153556)\n",
      "| \u001b[39m8        \u001b[39m | \u001b[39m0.9407   \u001b[39m | \u001b[39m6.133e+05\u001b[39m | \u001b[39m2.93     \u001b[39m | \u001b[39m0.1441   \u001b[39m | \u001b[39m1.604    \u001b[39m |\n",
      "SVC(C=607680.2316864919, degree=5, gamma=5.862422325200325, kernel='poly')\n",
      "| \u001b[39m9        \u001b[39m | \u001b[39m0.9253   \u001b[39m | \u001b[39m6.077e+05\u001b[39m | \u001b[39m5.063    \u001b[39m | \u001b[39m5.862    \u001b[39m | \u001b[39m1.036    \u001b[39m |\n",
      "SVC(C=943307.63352101, degree=4, gamma=0.7759697521212426)\n",
      "| \u001b[39m10       \u001b[39m | \u001b[39m0.6527   \u001b[39m | \u001b[39m9.433e+05\u001b[39m | \u001b[39m4.094    \u001b[39m | \u001b[39m0.776    \u001b[39m | \u001b[39m1.8      \u001b[39m |\n",
      "SVC(C=444586.4831911955, degree=4, gamma=6.768256516188572, kernel='poly')\n",
      "| \u001b[39m11       \u001b[39m | \u001b[39m0.7846   \u001b[39m | \u001b[39m4.446e+05\u001b[39m | \u001b[39m3.631    \u001b[39m | \u001b[39m6.768    \u001b[39m | \u001b[39m1.454    \u001b[39m |\n",
      "SVC(C=8859.621131848395, degree=4, gamma=4.14076227953243, kernel='poly')\n",
      "| \u001b[39m12       \u001b[39m | \u001b[39m0.7846   \u001b[39m | \u001b[39m8.86e+03 \u001b[39m | \u001b[39m3.71     \u001b[39m | \u001b[39m4.141    \u001b[39m | \u001b[39m1.261    \u001b[39m |\n",
      "SVC(C=202501.50818320827, degree=4, gamma=8.341680162271322, kernel='poly')\n",
      "| \u001b[39m13       \u001b[39m | \u001b[39m0.7846   \u001b[39m | \u001b[39m2.025e+05\u001b[39m | \u001b[39m4.16     \u001b[39m | \u001b[39m8.342    \u001b[39m | \u001b[39m1.037    \u001b[39m |\n",
      "SVC(C=275887.1992382116, degree=5, gamma=4.5540472468964115, kernel='poly')\n",
      "| \u001b[39m14       \u001b[39m | \u001b[39m0.9253   \u001b[39m | \u001b[39m2.759e+05\u001b[39m | \u001b[39m5.438    \u001b[39m | \u001b[39m4.554    \u001b[39m | \u001b[39m1.28     \u001b[39m |\n",
      "SVC(C=857733.0717863529, degree=7, gamma=6.629394668767034, kernel='poly')\n",
      "| \u001b[39m15       \u001b[39m | \u001b[39m0.8989   \u001b[39m | \u001b[39m8.577e+05\u001b[39m | \u001b[39m7.166    \u001b[39m | \u001b[39m6.629    \u001b[39m | \u001b[39m1.172    \u001b[39m |\n",
      "SVC(C=726542.3168825186, gamma=4.031136942832565, kernel='poly')\n",
      "| \u001b[39m16       \u001b[39m | \u001b[39m0.9451   \u001b[39m | \u001b[39m7.265e+05\u001b[39m | \u001b[39m3.325    \u001b[39m | \u001b[39m4.031    \u001b[39m | \u001b[39m0.8455   \u001b[39m |\n",
      "SVC(C=147331.67556446703, degree=4, gamma=8.754565696175023, kernel='linear')\n",
      "| \u001b[39m17       \u001b[39m | \u001b[39m0.9473   \u001b[39m | \u001b[39m1.473e+05\u001b[39m | \u001b[39m3.608    \u001b[39m | \u001b[39m8.755    \u001b[39m | \u001b[39m0.3259   \u001b[39m |\n",
      "SVC(C=604969.1568865298, degree=6, gamma=5.9000645498615505, kernel='poly')\n",
      "| \u001b[39m18       \u001b[39m | \u001b[39m0.7275   \u001b[39m | \u001b[39m6.05e+05 \u001b[39m | \u001b[39m6.009    \u001b[39m | \u001b[39m5.9      \u001b[39m | \u001b[39m1.176    \u001b[39m |\n",
      "SVC(C=76670.38697797329, degree=2, gamma=8.752129443035422)\n",
      "| \u001b[39m19       \u001b[39m | \u001b[39m0.6264   \u001b[39m | \u001b[39m7.667e+04\u001b[39m | \u001b[39m2.49     \u001b[39m | \u001b[39m8.752    \u001b[39m | \u001b[39m1.858    \u001b[39m |\n",
      "SVC(C=151328.21652505748, degree=6, gamma=8.148800560936893, kernel='poly')\n",
      "| \u001b[39m20       \u001b[39m | \u001b[39m0.7275   \u001b[39m | \u001b[39m1.513e+05\u001b[39m | \u001b[39m6.276    \u001b[39m | \u001b[39m8.149    \u001b[39m | \u001b[39m1.401    \u001b[39m |\n",
      "SVC(C=147331.23483004197, degree=2, gamma=7.157720083971293, kernel='linear')\n",
      "| \u001b[39m21       \u001b[39m | \u001b[39m0.9473   \u001b[39m | \u001b[39m1.473e+05\u001b[39m | \u001b[39m2.17     \u001b[39m | \u001b[39m7.158    \u001b[39m | \u001b[39m0.3444   \u001b[39m |\n",
      "SVC(C=610497.7484384227, degree=8, gamma=7.530233466869208, kernel='poly')\n",
      "| \u001b[39m22       \u001b[39m | \u001b[39m0.7297   \u001b[39m | \u001b[39m6.105e+05\u001b[39m | \u001b[39m7.843    \u001b[39m | \u001b[39m7.53     \u001b[39m | \u001b[39m0.8574   \u001b[39m |\n",
      "SVC(C=759239.924714975, degree=2, gamma=5.410031949740453, kernel='poly')\n",
      "| \u001b[39m23       \u001b[39m | \u001b[39m0.8132   \u001b[39m | \u001b[39m7.592e+05\u001b[39m | \u001b[39m1.83     \u001b[39m | \u001b[39m5.41     \u001b[39m | \u001b[39m0.7735   \u001b[39m |\n",
      "SVC(C=762050.7728513285, degree=6, gamma=3.750040841217657, kernel='poly')\n",
      "| \u001b[39m24       \u001b[39m | \u001b[39m0.7275   \u001b[39m | \u001b[39m7.621e+05\u001b[39m | \u001b[39m6.07     \u001b[39m | \u001b[39m3.75     \u001b[39m | \u001b[39m0.9987   \u001b[39m |\n",
      "=========================================================================\n"
     ]
    }
   ],
   "source": [
    "from bayes_opt import BayesianOptimization\n",
    "\n",
    "\n",
    "kernel_map = ['linear', 'poly', 'rbf']\n",
    "param_space_bayes = {\n",
    "    'C': (1e-6, 1e+6),\n",
    "    'gamma': (1e-6, 1e+1),\n",
    "    'degree': (1, 8),\n",
    "    'kernel_idx': (0,2), # integer range for kernel\n",
    "}\n",
    "\n",
    "def svm_cv(C, gamma, degree, kernel_idx):\n",
    "    kernel_idx = int(round(kernel_idx))  # round and cast to int\n",
    "    kernel = kernel_map[kernel_idx]      # map to actual kernel name\n",
    "    params = {\n",
    "        'C': C,\n",
    "        'gamma': gamma,\n",
    "        'degree': int(round(degree)),    # round to nearest int\n",
    "        'kernel': kernel,\n",
    "    }\n",
    "    estimator = SVC(**params)\n",
    "    print(estimator)\n",
    "    scores = cross_val_score(estimator, X_train, y_train, scoring='accuracy', cv=5).mean()\n",
    "    score = scores.mean()\n",
    "    return score\n",
    "\n",
    "svm_bo = BayesianOptimization(f=svm_cv, pbounds=param_space_bayes)\n",
    "svm_bo.maximize(init_points=20, n_iter=4)\n",
    "results = pd.DataFrame(svm_bo.res)\n",
    "results.sort_values(by='target', ascending=False, inplace=True)"
   ]
  },
  {
   "cell_type": "code",
   "execution_count": 83,
   "id": "5a752598-f147-4b9f-9edc-85b8806dc25b",
   "metadata": {},
   "outputs": [
    {
     "data": {
      "text/html": [
       "<div>\n",
       "<style scoped>\n",
       "    .dataframe tbody tr th:only-of-type {\n",
       "        vertical-align: middle;\n",
       "    }\n",
       "\n",
       "    .dataframe tbody tr th {\n",
       "        vertical-align: top;\n",
       "    }\n",
       "\n",
       "    .dataframe thead th {\n",
       "        text-align: right;\n",
       "    }\n",
       "</style>\n",
       "<table border=\"1\" class=\"dataframe\">\n",
       "  <thead>\n",
       "    <tr style=\"text-align: right;\">\n",
       "      <th></th>\n",
       "      <th>target</th>\n",
       "      <th>params</th>\n",
       "    </tr>\n",
       "  </thead>\n",
       "  <tbody>\n",
       "    <tr>\n",
       "      <th>0</th>\n",
       "      <td>0.947253</td>\n",
       "      <td>{'C': 760746.9034517539, 'degree': 7.334238768...</td>\n",
       "    </tr>\n",
       "    <tr>\n",
       "      <th>6</th>\n",
       "      <td>0.947253</td>\n",
       "      <td>{'C': 134858.1595518323, 'degree': 6.952319464...</td>\n",
       "    </tr>\n",
       "    <tr>\n",
       "      <th>20</th>\n",
       "      <td>0.947253</td>\n",
       "      <td>{'C': 147331.23483004197, 'degree': 2.16992232...</td>\n",
       "    </tr>\n",
       "    <tr>\n",
       "      <th>16</th>\n",
       "      <td>0.947253</td>\n",
       "      <td>{'C': 147331.67556446703, 'degree': 3.60839267...</td>\n",
       "    </tr>\n",
       "    <tr>\n",
       "      <th>1</th>\n",
       "      <td>0.947253</td>\n",
       "      <td>{'C': 898963.5301324857, 'degree': 1.458795680...</td>\n",
       "    </tr>\n",
       "    <tr>\n",
       "      <th>4</th>\n",
       "      <td>0.945055</td>\n",
       "      <td>{'C': 405298.30014620844, 'degree': 2.73381526...</td>\n",
       "    </tr>\n",
       "    <tr>\n",
       "      <th>5</th>\n",
       "      <td>0.945055</td>\n",
       "      <td>{'C': 994089.0848444282, 'degree': 3.108661352...</td>\n",
       "    </tr>\n",
       "    <tr>\n",
       "      <th>15</th>\n",
       "      <td>0.945055</td>\n",
       "      <td>{'C': 726542.3168825186, 'degree': 3.325387998...</td>\n",
       "    </tr>\n",
       "    <tr>\n",
       "      <th>7</th>\n",
       "      <td>0.940659</td>\n",
       "      <td>{'C': 613281.3086717117, 'degree': 2.930195048...</td>\n",
       "    </tr>\n",
       "    <tr>\n",
       "      <th>8</th>\n",
       "      <td>0.925275</td>\n",
       "      <td>{'C': 607680.2316864919, 'degree': 5.062777205...</td>\n",
       "    </tr>\n",
       "    <tr>\n",
       "      <th>13</th>\n",
       "      <td>0.925275</td>\n",
       "      <td>{'C': 275887.1992382116, 'degree': 5.437660548...</td>\n",
       "    </tr>\n",
       "    <tr>\n",
       "      <th>14</th>\n",
       "      <td>0.898901</td>\n",
       "      <td>{'C': 857733.0717863529, 'degree': 7.165984847...</td>\n",
       "    </tr>\n",
       "    <tr>\n",
       "      <th>3</th>\n",
       "      <td>0.898901</td>\n",
       "      <td>{'C': 651707.8416858877, 'degree': 7.415092945...</td>\n",
       "    </tr>\n",
       "    <tr>\n",
       "      <th>22</th>\n",
       "      <td>0.813187</td>\n",
       "      <td>{'C': 759239.924714975, 'degree': 1.8300252474...</td>\n",
       "    </tr>\n",
       "    <tr>\n",
       "      <th>12</th>\n",
       "      <td>0.784615</td>\n",
       "      <td>{'C': 202501.50818320827, 'degree': 4.16045199...</td>\n",
       "    </tr>\n",
       "    <tr>\n",
       "      <th>11</th>\n",
       "      <td>0.784615</td>\n",
       "      <td>{'C': 8859.621131848395, 'degree': 3.710377933...</td>\n",
       "    </tr>\n",
       "    <tr>\n",
       "      <th>10</th>\n",
       "      <td>0.784615</td>\n",
       "      <td>{'C': 444586.4831911955, 'degree': 3.630690366...</td>\n",
       "    </tr>\n",
       "    <tr>\n",
       "      <th>2</th>\n",
       "      <td>0.784615</td>\n",
       "      <td>{'C': 777891.4209226471, 'degree': 4.037711928...</td>\n",
       "    </tr>\n",
       "    <tr>\n",
       "      <th>21</th>\n",
       "      <td>0.729670</td>\n",
       "      <td>{'C': 610497.7484384227, 'degree': 7.842828635...</td>\n",
       "    </tr>\n",
       "    <tr>\n",
       "      <th>17</th>\n",
       "      <td>0.727473</td>\n",
       "      <td>{'C': 604969.1568865298, 'degree': 6.009437228...</td>\n",
       "    </tr>\n",
       "    <tr>\n",
       "      <th>19</th>\n",
       "      <td>0.727473</td>\n",
       "      <td>{'C': 151328.21652505748, 'degree': 6.27637044...</td>\n",
       "    </tr>\n",
       "    <tr>\n",
       "      <th>23</th>\n",
       "      <td>0.727473</td>\n",
       "      <td>{'C': 762050.7728513285, 'degree': 6.070482430...</td>\n",
       "    </tr>\n",
       "    <tr>\n",
       "      <th>9</th>\n",
       "      <td>0.652747</td>\n",
       "      <td>{'C': 943307.63352101, 'degree': 4.09446543069...</td>\n",
       "    </tr>\n",
       "    <tr>\n",
       "      <th>18</th>\n",
       "      <td>0.626374</td>\n",
       "      <td>{'C': 76670.38697797329, 'degree': 2.490201113...</td>\n",
       "    </tr>\n",
       "  </tbody>\n",
       "</table>\n",
       "</div>"
      ],
      "text/plain": [
       "      target                                             params\n",
       "0   0.947253  {'C': 760746.9034517539, 'degree': 7.334238768...\n",
       "6   0.947253  {'C': 134858.1595518323, 'degree': 6.952319464...\n",
       "20  0.947253  {'C': 147331.23483004197, 'degree': 2.16992232...\n",
       "16  0.947253  {'C': 147331.67556446703, 'degree': 3.60839267...\n",
       "1   0.947253  {'C': 898963.5301324857, 'degree': 1.458795680...\n",
       "4   0.945055  {'C': 405298.30014620844, 'degree': 2.73381526...\n",
       "5   0.945055  {'C': 994089.0848444282, 'degree': 3.108661352...\n",
       "15  0.945055  {'C': 726542.3168825186, 'degree': 3.325387998...\n",
       "7   0.940659  {'C': 613281.3086717117, 'degree': 2.930195048...\n",
       "8   0.925275  {'C': 607680.2316864919, 'degree': 5.062777205...\n",
       "13  0.925275  {'C': 275887.1992382116, 'degree': 5.437660548...\n",
       "14  0.898901  {'C': 857733.0717863529, 'degree': 7.165984847...\n",
       "3   0.898901  {'C': 651707.8416858877, 'degree': 7.415092945...\n",
       "22  0.813187  {'C': 759239.924714975, 'degree': 1.8300252474...\n",
       "12  0.784615  {'C': 202501.50818320827, 'degree': 4.16045199...\n",
       "11  0.784615  {'C': 8859.621131848395, 'degree': 3.710377933...\n",
       "10  0.784615  {'C': 444586.4831911955, 'degree': 3.630690366...\n",
       "2   0.784615  {'C': 777891.4209226471, 'degree': 4.037711928...\n",
       "21  0.729670  {'C': 610497.7484384227, 'degree': 7.842828635...\n",
       "17  0.727473  {'C': 604969.1568865298, 'degree': 6.009437228...\n",
       "19  0.727473  {'C': 151328.21652505748, 'degree': 6.27637044...\n",
       "23  0.727473  {'C': 762050.7728513285, 'degree': 6.070482430...\n",
       "9   0.652747  {'C': 943307.63352101, 'degree': 4.09446543069...\n",
       "18  0.626374  {'C': 76670.38697797329, 'degree': 2.490201113..."
      ]
     },
     "execution_count": 83,
     "metadata": {},
     "output_type": "execute_result"
    }
   ],
   "source": [
    "results"
   ]
  },
  {
   "cell_type": "code",
   "execution_count": 69,
   "id": "62aab9c7-6d5e-44c6-bb5c-3bd5d101a5a5",
   "metadata": {},
   "outputs": [
    {
     "name": "stdout",
     "output_type": "stream",
     "text": [
      "Best parameters (decoded): {'C': 262533.2538439819, 'gamma': 3.0003583119474135, 'degree': 8, 'kernel': 'linear'}\n",
      "Best accuracy score: 0.9472527472527472\n"
     ]
    }
   ],
   "source": [
    "best_result = svm_bo.max\n",
    "params = best_result['params']\n",
    "kernel_idx = int(round(params['kernel_idx']))\n",
    "kernel = kernel_map[kernel_idx]\n",
    "best_params = {\n",
    "    'C': params['C'],\n",
    "    'gamma': params['gamma'],\n",
    "    'degree': int(round(params['degree'])),\n",
    "    'kernel': kernel\n",
    "}\n",
    "\n",
    "print(\"Best parameters (decoded):\", best_params)\n",
    "print(\"Best accuracy score:\", best_result['target'])"
   ]
  },
  {
   "cell_type": "code",
   "execution_count": null,
   "id": "a74720b4-b0bf-41bb-a785-a74cda65445b",
   "metadata": {},
   "outputs": [],
   "source": []
  },
  {
   "cell_type": "code",
   "execution_count": null,
   "id": "ad9546ae-74d9-40cb-88ae-909b19369522",
   "metadata": {},
   "outputs": [],
   "source": []
  },
  {
   "cell_type": "markdown",
   "id": "cc4cd634-8ce2-41de-b0a4-08347dca3796",
   "metadata": {},
   "source": [
    "## Hyperopt"
   ]
  },
  {
   "cell_type": "code",
   "execution_count": 84,
   "id": "4ab11c5a-2683-460a-aad5-90bf2cf244ac",
   "metadata": {},
   "outputs": [
    {
     "name": "stdout",
     "output_type": "stream",
     "text": [
      "100%|█████████████████████████████████████████████████████████████████████████| 50/50 [00:02<00:00, 21.50trial/s, best loss: -0.9714285714285715]\n",
      "Best parameters: {'C': 0.13786321876846389, 'degree': 1.0, 'gamma': 6.685029500158167e-05, 'kernel': 0}\n"
     ]
    }
   ],
   "source": [
    "from hyperopt import hp\n",
    "from hyperopt import fmin, tpe, Trials, STATUS_OK\n",
    "\n",
    "param_space_hyperopt = {\n",
    "    'C': hp.loguniform('C', np.log(1e-6), np.log(1e6)),\n",
    "    'gamma': hp.loguniform('gamma', np.log(1e-6), np.log(1e1)),\n",
    "    'degree': hp.quniform('degree', 1, 8, 1),\n",
    "    'kernel': hp.choice('kernel', ['linear', 'poly', 'rbf']),\n",
    "}\n",
    "\n",
    "def objective(params):\n",
    "    params['degree'] = int(params['degree'])  # cast degree to int\n",
    "    model = SVC(**params)\n",
    "    score = cross_val_score(model, X_train, y_train, cv=5, scoring='accuracy').mean()\n",
    "    return {'loss': -score, 'status': STATUS_OK}\n",
    "\n",
    "trials = Trials()\n",
    "best = fmin(\n",
    "    fn=objective,\n",
    "    space=param_space_hyperopt,\n",
    "    algo=tpe.suggest,\n",
    "    max_evals=50,\n",
    "    trials=trials,\n",
    "    rstate=np.random.default_rng(42)\n",
    ")\n",
    "\n",
    "print(\"Best parameters:\", best)"
   ]
  },
  {
   "cell_type": "code",
   "execution_count": null,
   "id": "2641c718-615f-4b87-8a2f-a5a15073baf9",
   "metadata": {},
   "outputs": [],
   "source": []
  },
  {
   "cell_type": "code",
   "execution_count": null,
   "id": "dc503c30-b907-466f-86ec-569a930272bd",
   "metadata": {},
   "outputs": [],
   "source": []
  },
  {
   "cell_type": "code",
   "execution_count": null,
   "id": "9954654f-a9c2-4d76-ae12-816bae0ce0d9",
   "metadata": {},
   "outputs": [],
   "source": []
  },
  {
   "cell_type": "code",
   "execution_count": null,
   "id": "20241e0f-5e8e-4451-97c6-65899c1cb062",
   "metadata": {},
   "outputs": [],
   "source": []
  },
  {
   "cell_type": "code",
   "execution_count": null,
   "id": "831fa2f1-0b6e-41e4-aaec-1e8f21e73b0d",
   "metadata": {},
   "outputs": [],
   "source": []
  }
 ],
 "metadata": {
  "kernelspec": {
   "display_name": "Python 3 (ipykernel)",
   "language": "python",
   "name": "python3"
  },
  "language_info": {
   "codemirror_mode": {
    "name": "ipython",
    "version": 3
   },
   "file_extension": ".py",
   "mimetype": "text/x-python",
   "name": "python",
   "nbconvert_exporter": "python",
   "pygments_lexer": "ipython3",
   "version": "3.12.10"
  }
 },
 "nbformat": 4,
 "nbformat_minor": 5
}
