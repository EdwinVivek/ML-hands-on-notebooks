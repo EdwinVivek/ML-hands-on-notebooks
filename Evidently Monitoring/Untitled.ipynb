{
 "cells": [
  {
   "cell_type": "code",
   "execution_count": 303,
   "id": "e6dd66cd-b5d1-4d1f-a572-e80d03908d03",
   "metadata": {},
   "outputs": [],
   "source": [
    "import evidently\n",
    "from evidently import ColumnMapping\n",
    "from evidently.report import Report\n",
    "from evidently.metric_preset import DataDriftPreset, TargetDriftPreset, DataQualityPreset, RegressionPreset\n",
    "from evidently.metrics import ColumnSummaryMetric, ColumnQuantileMetric, ColumnDriftMetric\n",
    "from evidently.test_suite import TestSuite\n",
    "from evidently.test_preset import DataStabilityTestPreset, NoTargetPerformanceTestPreset, RegressionTestPreset, DataDriftTestPreset\n",
    "from evidently.tests import TestNumberOfDriftedColumns\n",
    "from evidently.ui.workspace import Workspace\n",
    "from evidently.ui.workspace import WorkspaceBase, RemoteWorkspace\n",
    "from evidently.ui.dashboards import DashboardPanelCounter, ReportFilter, PanelValue, PlotType, CounterAgg\n",
    "from abc import ABC, abstractmethod\n",
    "import pandas as pd\n"
   ]
  },
  {
   "cell_type": "code",
   "execution_count": 341,
   "id": "0ecc3773-9767-4e66-8115-61a3897542ba",
   "metadata": {},
   "outputs": [],
   "source": [
    "\n",
    "class GenerateReport(ABC):\n",
    "    @abstractmethod\n",
    "    def create_report(self, workspace, project, reference, current):\n",
    "        pass\n",
    "\n",
    "class DataDriftReport(GenerateReport):\n",
    "    def create_report(self, workspace, project, reference, current):\n",
    "        data_drift_report = Report(metrics=[DataDriftPreset()], timestamp=datetime.datetime.now())\n",
    "        data_drift_report.run(reference_data=reference, current_data=current)\n",
    "        workspace.add_report(project_id=project.id, report=data_drift_report)\n",
    "\n",
    "class TargetDriftReport(GenerateReport):\n",
    "    def create_report(self, workspace, project, reference, current):\n",
    "        pass\n",
    "\n",
    "class DataQualityReport(GenerateReport):\n",
    "    def create_report(self, workspace, project, reference, current):\n",
    "        data_quality_report = Report(metrics=[DataQualityPreset()])\n",
    "        data_quality_report.run(reference_data=reference, current_data=current)\n",
    "        workspace.add_report(project_id=project.id, report=data_quality_report)\n",
    "\n",
    "class RegressionReport(GenerateReport):\n",
    "    def create_report(self, workspace, project, reference, current):\n",
    "        regression_performance_report = Report(metrics=[RegressionPreset()])\n",
    "        regression_performance_report.run(reference_data=reference, current_data=current)\n",
    "        workspace.add_report(project_id=project.id, report=regression_performance_report)\n",
    "\n",
    "class ClassificationReport(GenerateReport):\n",
    "    def create_report(self, workspace, project, reference, current):\n",
    "        pass\n",
    "\n",
    "class DataDriftTestReport(GenerateReport):\n",
    "    def create_report(self, workspace, project, reference, current):\n",
    "        data_drift_test_suite = TestSuite(tests=[DataDriftTestPreset(), TestNumberOfDriftedColumns()])\n",
    "        data_drift_test_suite.run(reference_data=reference, current_data=current)\n",
    "        workspace.add_test_suite(project_id=project.id, test_suite= data_drift_test_suite)\n",
    " \n",
    "\n",
    "\n",
    "class Monitoring:\n",
    "    def __init__(self, strategy: DataDriftReport):\n",
    "        self._strategy = strategy\n",
    "        self._workspace = None\n",
    "        self._project = None\n",
    "\n",
    "    def create_workspace(self, name:str):\n",
    "        self._workspace = Workspace.create(name)\n",
    "        return self._workspace\n",
    "    \n",
    "    def create_project(self, project_name:str, workspace: WorkspaceBase = None):\n",
    "        if(self._workspace is None):\n",
    "            self._workspace = workspace\n",
    "        self._project = self._workspace.create_project(project_name)\n",
    "        return self._project\n",
    "\n",
    "    @property\n",
    "    def current_strategy(self):\n",
    "        return self._strategy\n",
    "        \n",
    "    @current_strategy.setter\n",
    "    def set_strategy(self, strategy: DataDriftReport):\n",
    "        self._strategy = strategy\n",
    "\n",
    "    def execute_strategy(self, reference: pd.DataFrame, current: pd.DataFrame, workspace: WorkspaceBase = None, column_mapping: ColumnMapping = None):\n",
    "        if(self._workspace is None):\n",
    "            self._workspace = workspace\n",
    "        self._strategy.create_report(self._workspace, self._project, reference, current)\n",
    "\n",
    "    def add_dashboard_panel(self, project: evidently.ui.base.Project, panel_type: str, **kwargs):\n",
    "        match panel_type:\n",
    "            case \"Counter\":\n",
    "                project.dashboard.add_panel(\n",
    "                    DashboardPanelCounter(\n",
    "                        title=kwargs[\"title\"],\n",
    "                        filter=ReportFilter(metadata_values={}, tag_values=[]),\n",
    "                        value=PanelValue(\n",
    "                            metric_id=kwargs[\"metric_id\"],\n",
    "                            field_path=kwargs[\"field_path\"],\n",
    "                            legend=kwargs[\"legend\"],\n",
    "                        ),\n",
    "                        text=kwargs[\"text\"],\n",
    "                        agg=CounterAgg.LAST,\n",
    "                        size=1,\n",
    "                    )\n",
    "                )\n",
    "\n",
    "            case \"Plot\":\n",
    "                project.dashboard.add_panel(\n",
    "                    DashboardPanelPlot(\n",
    "                        title=kwargs[\"title\"],\n",
    "                        filter=ReportFilter(metadata_values={}, tag_values=[]),\n",
    "                        values=[\n",
    "                            PanelValue(\n",
    "                                metric_id=kwargs[\"metric_id\"],\n",
    "                                metric_args=kwargs[\"metric_args\"],\n",
    "                                field_path=kwargs[\"field_path\"],\n",
    "                                legend=kwargs[\"legend\"]\n",
    "                            ),\n",
    "                        ],\n",
    "                        plot_type=kwargs[\"plot_type\"],\n",
    "                        size=WidgetSize.HALF\n",
    "                    )\n",
    "                )\n",
    "\n",
    "            case \"TestSuite\":\n",
    "                project.dashboard.add_panel(\n",
    "                    DashboardPanelTestSuite(\n",
    "                        title=\"All tests: detailed\",\n",
    "                        filter=ReportFilter(metadata_values={}, tag_values=[], include_test_suites=True),\n",
    "                        size=WidgetSize.HALF,\n",
    "                        panel_type=TestSuitePanelType.DETAILED,\n",
    "                        time_agg=\"1D\",\n",
    "                    )\n",
    "                )\n",
    "\n",
    "            case _:\n",
    "                print(\"Specified panel type not defined!\")\n",
    "                \n",
    "        project.save()\n",
    "\n",
    "    def delete_dashboard(self, project: evidently.ui.base.Project):\n",
    "        project.dashboard.panels = []\n",
    "        project.save()\n",
    "\n",
    "\n",
    "\n",
    "\n",
    "\n",
    "#ws.add_report\n",
    "#ws.add_test_suite\n"
   ]
  },
  {
   "cell_type": "code",
   "execution_count": 342,
   "id": "601bce6a-5e02-4cb3-8b4b-499d2f03eff0",
   "metadata": {},
   "outputs": [
    {
     "data": {
      "text/plain": [
       "<__main__.DataDriftReport at 0x1fefc0c62d0>"
      ]
     },
     "execution_count": 342,
     "metadata": {},
     "output_type": "execute_result"
    }
   ],
   "source": [
    "monitoring = Monitoring(DataDriftReport())\n",
    "monitoring.current_strategy"
   ]
  },
  {
   "cell_type": "code",
   "execution_count": 327,
   "id": "cf98074d-58ad-498a-8ad7-4b130e21a0ef",
   "metadata": {},
   "outputs": [
    {
     "data": {
      "text/plain": [
       "Project(id=UUID('01940284-76c4-75a8-9e3f-57a73a9b0161'), name='proj1', description=None, dashboard=DashboardConfig(name='proj1', panels=[], tabs=[], tab_id_to_panel_ids={}), team_id=None, org_id=None, date_from=None, date_to=None, created_at=datetime.datetime(2024, 12, 26, 16, 0, 23, 172871))"
      ]
     },
     "execution_count": 327,
     "metadata": {},
     "output_type": "execute_result"
    }
   ],
   "source": [
    "ws = monitoring.create_workspace(\"getting started evidently\")\n",
    "project = monitoring.create_project(\"proj1\", ws)\n",
    "project"
   ]
  },
  {
   "cell_type": "code",
   "execution_count": null,
   "id": "a5a05d94-3ed0-4113-b5cc-8b7a0622fd8d",
   "metadata": {},
   "outputs": [],
   "source": []
  },
  {
   "cell_type": "code",
   "execution_count": 339,
   "id": "59dcaf08-a461-4000-a91a-285cbc0b2250",
   "metadata": {},
   "outputs": [
    {
     "data": {
      "text/plain": [
       "Project(id=UUID('01940279-3f83-7c46-aba1-c9a9c7e87d86'), name='proj1', description=None, dashboard=DashboardConfig(name='proj1', panels=[], tabs=[], tab_id_to_panel_ids={}), team_id=None, org_id=None, date_from=None, date_to=None, created_at=datetime.datetime(2024, 12, 26, 15, 48, 8, 131573))"
      ]
     },
     "execution_count": 339,
     "metadata": {},
     "output_type": "execute_result"
    }
   ],
   "source": [
    "ws.create(\"getting started evidently\")\n",
    "project_list = ws.search_project(project_name=\"proj1\")\n",
    "if(len(project_list) == 0):\n",
    "    project = self._workspace.create_project(project_name)\n",
    "else:\n",
    "    project = project_list[0]\n",
    "\n",
    "project"
   ]
  },
  {
   "cell_type": "code",
   "execution_count": 42,
   "id": "17ad8423-861d-432b-adfd-8d496895d0ce",
   "metadata": {},
   "outputs": [],
   "source": [
    "monitoring.set_strategy = DataQualityReport()"
   ]
  },
  {
   "cell_type": "code",
   "execution_count": 56,
   "id": "7bb080a2-c262-45a6-9185-535435421b25",
   "metadata": {},
   "outputs": [
    {
     "data": {
      "text/plain": [
       "[Project(id=UUID('0193f833-9ad2-719d-8aac-d1c86d56c9af'), name='proj1', description=None, dashboard=DashboardConfig(name='proj1', panels=[], tabs=[], tab_id_to_panel_ids={}), team_id=None, org_id=None, date_from=None, date_to=None, created_at=datetime.datetime(2024, 12, 24, 15, 55, 51, 826940)),\n",
       " Project(id=UUID('0193f226-b637-74fd-9135-5edb2bfc5303'), name='live monitoring', description=None, dashboard=DashboardConfig(name='live monitoring', panels=[DashboardPanelPlot(type='evidently:dashboard_panel:DashboardPanelPlot', id=UUID('0193f23d-163e-73c3-9dd0-14782cc11ff8'), title='sample_panel', filter=ReportFilter(metadata_values={}, tag_values=['quality'], include_test_suites=False), size=<WidgetSize.FULL: 2>, values=[PanelValue(field_path='current.share_in_range', metric_id='ColumnValueRangeMetric', metric_fingerprint=None, metric_args={}, legend='current'), PanelValue(field_path='reference.share_in_range', metric_id='ColumnValueRangeMetric', metric_fingerprint=None, metric_args={}, legend='reference')], plot_type=<PlotType.LINE: 'line'>)], tabs=[], tab_id_to_panel_ids={}), team_id=None, org_id=None, date_from=None, date_to=None, created_at=datetime.datetime(2024, 12, 23, 11, 44, 3, 575845)),\n",
       " Project(id=UUID('0193d372-d204-7304-9a4e-636bf5c5dc45'), name='data drift customization', description=None, dashboard=DashboardConfig(name='data drift customization', panels=[], tabs=[], tab_id_to_panel_ids={}), team_id=None, org_id=None, date_from=None, date_to=None, created_at=datetime.datetime(2024, 12, 17, 12, 38, 57, 732830)),\n",
       " Project(id=UUID('0193c51c-ea06-75f8-b4f5-efee96587345'), name='evidently project', description=None, dashboard=DashboardConfig(name='evidently project', panels=[DashboardPanelCounter(type='evidently:dashboard_panel:DashboardPanelCounter', id=UUID('0193e02f-a158-7544-91b6-94f5633c362a'), title='Share of Drifted Features', filter=ReportFilter(metadata_values={}, tag_values=[], include_test_suites=False), size=<WidgetSize.FULL: 2>, agg=<CounterAgg.NONE: 'none'>, value=None, text='Getting started sample - Evidently'), DashboardPanelCounter(type='evidently:dashboard_panel:DashboardPanelCounter', id=UUID('0193e031-1893-7e34-a71e-f144badfe8ab'), title='Share of Drifted Features', filter=ReportFilter(metadata_values={}, tag_values=[], include_test_suites=False), size=<WidgetSize.FULL: 2>, agg=<CounterAgg.NONE: 'none'>, value=None, text='Getting started sample - Evidently')], tabs=[], tab_id_to_panel_ids={}), team_id=None, org_id=None, date_from=None, date_to=None, created_at=datetime.datetime(2024, 12, 14, 17, 50, 26, 758903))]"
      ]
     },
     "execution_count": 56,
     "metadata": {},
     "output_type": "execute_result"
    }
   ],
   "source": [
    "ws.list_projects()"
   ]
  },
  {
   "cell_type": "code",
   "execution_count": 297,
   "id": "41e75026-41cb-4f17-97fc-0d1b49bbda96",
   "metadata": {},
   "outputs": [],
   "source": [
    "column_mapping = ColumnMapping()"
   ]
  },
  {
   "cell_type": "code",
   "execution_count": 301,
   "id": "5ce97f49-95ff-432a-8156-d6c8fd827362",
   "metadata": {},
   "outputs": [
    {
     "ename": "NameError",
     "evalue": "name 'datetime' is not defined",
     "output_type": "error",
     "traceback": [
      "\u001b[1;31m---------------------------------------------------------------------------\u001b[0m",
      "\u001b[1;31mNameError\u001b[0m                                 Traceback (most recent call last)",
      "Cell \u001b[1;32mIn[301], line 1\u001b[0m\n\u001b[1;32m----> 1\u001b[0m \u001b[43mmonitoring\u001b[49m\u001b[38;5;241;43m.\u001b[39;49m\u001b[43mexecute_strategy\u001b[49m\u001b[43m(\u001b[49m\u001b[43m \u001b[49m\u001b[43m[\u001b[49m\u001b[43m]\u001b[49m\u001b[43m,\u001b[49m\u001b[43m \u001b[49m\u001b[43m[\u001b[49m\u001b[43m]\u001b[49m\u001b[43m,\u001b[49m\u001b[43m \u001b[49m\u001b[43mws\u001b[49m\u001b[43m,\u001b[49m\u001b[43m \u001b[49m\u001b[43mcolumn_mapping\u001b[49m\u001b[43m)\u001b[49m\n",
      "Cell \u001b[1;32mIn[299], line 67\u001b[0m, in \u001b[0;36mMonitoring.execute_strategy\u001b[1;34m(self, reference, current, workspace, column_mapping)\u001b[0m\n\u001b[0;32m     65\u001b[0m \u001b[38;5;28;01mif\u001b[39;00m(\u001b[38;5;28mself\u001b[39m\u001b[38;5;241m.\u001b[39m_workspace \u001b[38;5;129;01mis\u001b[39;00m \u001b[38;5;28;01mNone\u001b[39;00m):\n\u001b[0;32m     66\u001b[0m     \u001b[38;5;28mself\u001b[39m\u001b[38;5;241m.\u001b[39m_workspace \u001b[38;5;241m=\u001b[39m workspace\n\u001b[1;32m---> 67\u001b[0m \u001b[38;5;28;43mself\u001b[39;49m\u001b[38;5;241;43m.\u001b[39;49m\u001b[43m_strategy\u001b[49m\u001b[38;5;241;43m.\u001b[39;49m\u001b[43mcreate_report\u001b[49m\u001b[43m(\u001b[49m\u001b[38;5;28;43mself\u001b[39;49m\u001b[38;5;241;43m.\u001b[39;49m\u001b[43m_workspace\u001b[49m\u001b[43m,\u001b[49m\u001b[43m \u001b[49m\u001b[38;5;28;43mself\u001b[39;49m\u001b[38;5;241;43m.\u001b[39;49m\u001b[43m_project\u001b[49m\u001b[43m,\u001b[49m\u001b[43m \u001b[49m\u001b[43mreference\u001b[49m\u001b[43m,\u001b[49m\u001b[43m \u001b[49m\u001b[43mcurrent\u001b[49m\u001b[43m)\u001b[49m\n",
      "Cell \u001b[1;32mIn[299], line 8\u001b[0m, in \u001b[0;36mDataDriftReport.create_report\u001b[1;34m(self, workspace, project, reference, current)\u001b[0m\n\u001b[0;32m      7\u001b[0m \u001b[38;5;28;01mdef\u001b[39;00m \u001b[38;5;21mcreate_report\u001b[39m(\u001b[38;5;28mself\u001b[39m, workspace, project, reference, current):\n\u001b[1;32m----> 8\u001b[0m     data_drift_report \u001b[38;5;241m=\u001b[39m Report(metrics\u001b[38;5;241m=\u001b[39m[DataDriftPreset()], timestamp\u001b[38;5;241m=\u001b[39m\u001b[43mdatetime\u001b[49m\u001b[38;5;241m.\u001b[39mdatetime\u001b[38;5;241m.\u001b[39mnow())\n\u001b[0;32m      9\u001b[0m     data_drift_report\u001b[38;5;241m.\u001b[39mrun(reference_data\u001b[38;5;241m=\u001b[39mreference, current_data\u001b[38;5;241m=\u001b[39mcurrent)\n\u001b[0;32m     10\u001b[0m     workspace\u001b[38;5;241m.\u001b[39madd_report(project_id\u001b[38;5;241m=\u001b[39mproject\u001b[38;5;241m.\u001b[39mid, report\u001b[38;5;241m=\u001b[39mdata_drift_report)\n",
      "\u001b[1;31mNameError\u001b[0m: name 'datetime' is not defined"
     ]
    }
   ],
   "source": [
    "monitoring.execute_strategy( [], [], ws, column_mapping)"
   ]
  },
  {
   "cell_type": "code",
   "execution_count": null,
   "id": "06bbd497-3466-455e-8bf3-bad108e4ba87",
   "metadata": {},
   "outputs": [],
   "source": [
    "monitoring.delete_dashboard"
   ]
  },
  {
   "cell_type": "code",
   "execution_count": null,
   "id": "eb79e365-f0a7-4b74-820f-50e391ec61b4",
   "metadata": {},
   "outputs": [],
   "source": []
  },
  {
   "cell_type": "code",
   "execution_count": null,
   "id": "4f547d5e-40ba-451e-850a-e341d99bc1ed",
   "metadata": {},
   "outputs": [],
   "source": []
  },
  {
   "cell_type": "code",
   "execution_count": null,
   "id": "b4c97880-09fd-430b-9201-b673a10f8363",
   "metadata": {},
   "outputs": [],
   "source": []
  },
  {
   "cell_type": "code",
   "execution_count": null,
   "id": "df4616e9-2ece-44da-b141-fe2cc910193b",
   "metadata": {},
   "outputs": [],
   "source": []
  },
  {
   "cell_type": "code",
   "execution_count": null,
   "id": "72b1b115-5fb5-40c8-858d-70e7a5d3cb29",
   "metadata": {},
   "outputs": [],
   "source": []
  },
  {
   "cell_type": "code",
   "execution_count": null,
   "id": "fb0bd67f-55ac-450c-8167-3cf9c72e0eed",
   "metadata": {},
   "outputs": [],
   "source": []
  },
  {
   "cell_type": "code",
   "execution_count": null,
   "id": "0e2ece59-ef55-4ae2-83e4-2b716f2a2b61",
   "metadata": {},
   "outputs": [],
   "source": []
  },
  {
   "cell_type": "code",
   "execution_count": null,
   "id": "90c6618d-82fd-41bd-8a57-c92c13fd008c",
   "metadata": {},
   "outputs": [],
   "source": []
  },
  {
   "cell_type": "code",
   "execution_count": null,
   "id": "7df6ddbc-fd98-4109-8a60-38d6d908ee64",
   "metadata": {},
   "outputs": [],
   "source": []
  },
  {
   "cell_type": "code",
   "execution_count": null,
   "id": "3cc589f8-bc93-4e8f-8b46-fad6401717fb",
   "metadata": {},
   "outputs": [],
   "source": []
  }
 ],
 "metadata": {
  "kernelspec": {
   "display_name": "Python 3 (ipykernel)",
   "language": "python",
   "name": "python3"
  },
  "language_info": {
   "codemirror_mode": {
    "name": "ipython",
    "version": 3
   },
   "file_extension": ".py",
   "mimetype": "text/x-python",
   "name": "python",
   "nbconvert_exporter": "python",
   "pygments_lexer": "ipython3",
   "version": "3.12.8"
  }
 },
 "nbformat": 4,
 "nbformat_minor": 5
}
