{
 "cells": [
  {
   "cell_type": "code",
   "execution_count": 133,
   "id": "96a79c21-69be-4430-9df1-caa062fe82aa",
   "metadata": {},
   "outputs": [],
   "source": [
    "import pandas as pd\n",
    "import os\n",
    "import numpy as np\n",
    "from sklearn.preprocessing import OneHotEncoder\n",
    "from sklearn import svm\n",
    "from sklearn.svm import SVC\n",
    "from sklearn.metrics import mean_absolute_percentage_error\n",
    "import datetime\n",
    "import json\n",
    "\n",
    "\n",
    "from evidently import ColumnMapping\n",
    "from evidently.report import Report\n",
    "from evidently.metric_preset import DataDriftPreset, TargetDriftPreset, DataQualityPreset, RegressionPreset\n",
    "from evidently.metrics import ColumnSummaryMetric, ColumnQuantileMetric, ColumnDriftMetric, DatasetDriftMetric, DataDriftTable, RegressionQualityMetric\n",
    "from evidently.test_suite import TestSuite\n",
    "from evidently.tests import TestNumberOfDriftedColumns\n",
    "from evidently.test_preset import DataStabilityTestPreset, NoTargetPerformanceTestPreset, RegressionTestPreset, DataDriftTestPreset\n",
    "from evidently.ui.workspace import Workspace\n",
    "from evidently.ui.workspace import WorkspaceBase, RemoteWorkspace\n"
   ]
  },
  {
   "cell_type": "code",
   "execution_count": 3,
   "id": "23d6c2cd-0a23-4d5b-b18d-7ac569b16096",
   "metadata": {},
   "outputs": [
    {
     "name": "stdout",
     "output_type": "stream",
     "text": [
      "      price  area  bedrooms  bathrooms  stories mainroad guestroom basement  \\\n",
      "0  13300000  7420         4          2        3      yes        no       no   \n",
      "1  12250000  8960         4          4        4      yes        no       no   \n",
      "2  12250000  9960         3          2        2      yes        no      yes   \n",
      "3  12215000  7500         4          2        2      yes        no      yes   \n",
      "4  11410000  7420         4          1        2      yes       yes      yes   \n",
      "\n",
      "  hotwaterheating airconditioning  parking prefarea furnishingstatus  \n",
      "0              no             yes        2      yes        furnished  \n",
      "1              no             yes        3       no        furnished  \n",
      "2              no              no        2      yes   semi-furnished  \n",
      "3              no             yes        3      yes        furnished  \n",
      "4              no             yes        2       no        furnished  \n"
     ]
    }
   ],
   "source": [
    "dataset = pd.read_csv(os.path.abspath(os.path.join(os.getcwd() + \"\\\\..\\\\..\\\\data\\\\Housing.csv\")))\n",
    "\n",
    "# Printing first 5 records of the dataset\n",
    "print(dataset.head(5))\n"
   ]
  },
  {
   "cell_type": "code",
   "execution_count": 6,
   "id": "77ca4cde-4391-4c62-8264-eb83b2caf57d",
   "metadata": {},
   "outputs": [
    {
     "name": "stdout",
     "output_type": "stream",
     "text": [
      "Categorical variables:\n",
      "['mainroad', 'guestroom', 'basement', 'hotwaterheating', 'airconditioning', 'prefarea', 'furnishingstatus']\n",
      "No. of. categorical features:  7\n"
     ]
    }
   ],
   "source": [
    "\n",
    "s = (dataset.dtypes == 'object')\n",
    "object_cols = list(s[s].index)\n",
    "print(\"Categorical variables:\")\n",
    "print(object_cols)\n",
    "print('No. of. categorical features: ', \n",
    "      len(object_cols))"
   ]
  },
  {
   "cell_type": "code",
   "execution_count": 17,
   "id": "38de189b-3283-4946-9f3e-ee8fdcaa45d2",
   "metadata": {},
   "outputs": [],
   "source": [
    "reference = dataset.sample(n=300, replace=False)\n",
    "current = dataset.sample(n=300, replace=False)"
   ]
  },
  {
   "cell_type": "code",
   "execution_count": 7,
   "id": "89d9413f-0e45-41ab-ac92-d2ed12397874",
   "metadata": {},
   "outputs": [],
   "source": [
    "OH_encoder = OneHotEncoder(sparse_output=False, handle_unknown='ignore')\n",
    "OH_cols = pd.DataFrame(OH_encoder.fit_transform(dataset[object_cols]))\n",
    "OH_cols.index = dataset.index\n",
    "OH_cols.columns = OH_encoder.get_feature_names_out()\n",
    "df_final = dataset.drop(object_cols, axis=1)\n",
    "df_final = pd.concat([df_final, OH_cols], axis=1)"
   ]
  },
  {
   "cell_type": "code",
   "execution_count": 8,
   "id": "48dee62d-62f3-4d76-98c6-d4ff591c66cc",
   "metadata": {},
   "outputs": [],
   "source": [
    "from sklearn.metrics import mean_absolute_error\n",
    "from sklearn.model_selection import train_test_split\n",
    "\n",
    "X = df_final.drop(['price'], axis=1)\n",
    "Y = df_final['price']\n",
    "\n",
    "# Split the training set into \n",
    "# training and validation set\n",
    "X_train, X_valid, Y_train, Y_valid = train_test_split(\n",
    "    X, Y, train_size=0.8, test_size=0.2, random_state=0)"
   ]
  },
  {
   "cell_type": "code",
   "execution_count": 9,
   "id": "f78651e0-a385-4a33-8e42-43ab4305bcaf",
   "metadata": {},
   "outputs": [
    {
     "name": "stdout",
     "output_type": "stream",
     "text": [
      "0.2710074432862681\n"
     ]
    }
   ],
   "source": [
    "model_SVR = svm.SVR()\n",
    "model_SVR.fit(X_train,Y_train)\n",
    "Y_pred_train = model_SVR.predict(X_train)\n",
    "Y_pred_test = model_SVR.predict(X_valid)\n",
    "\n",
    "print(mean_absolute_percentage_error(Y_valid, Y_pred_test))"
   ]
  },
  {
   "cell_type": "code",
   "execution_count": 10,
   "id": "8b3827d6-9a22-44f2-ae94-edcc73bef618",
   "metadata": {},
   "outputs": [],
   "source": [
    "reference_with_pred = X_train.copy()\n",
    "reference_with_pred[\"price\"] = Y_train\n",
    "reference_with_pred[\"prediction\"] = Y_pred_train\n",
    "\n",
    "\n",
    "current_with_pred = X_valid.copy()\n",
    "current_with_pred[\"price\"] = Y_valid\n",
    "current_with_pred[\"prediction\"] = Y_pred_test"
   ]
  },
  {
   "cell_type": "code",
   "execution_count": null,
   "id": "b357dd8b-7c13-4650-95ef-9dc3c1b9f703",
   "metadata": {},
   "outputs": [],
   "source": []
  },
  {
   "cell_type": "code",
   "execution_count": null,
   "id": "27140f7f-c21a-4f3a-a438-b028e098df01",
   "metadata": {},
   "outputs": [],
   "source": []
  },
  {
   "cell_type": "markdown",
   "id": "ffbbf233-882a-4aee-8bb0-f43d2fb24b6d",
   "metadata": {},
   "source": [
    "<h2>Workspace & Project"
   ]
  },
  {
   "cell_type": "code",
   "execution_count": 37,
   "id": "cfbfd447-74b7-44ae-8014-15a953d3761d",
   "metadata": {},
   "outputs": [],
   "source": [
    "ws = Workspace.create(\"getting started evidently\")\n",
    "project = ws.create_project(\"evidently project\")\n",
    "project.description = \"getting started with evidently\""
   ]
  },
  {
   "cell_type": "code",
   "execution_count": 38,
   "id": "3fe59033-798d-42a2-a2c6-8c7e7fb15369",
   "metadata": {},
   "outputs": [
    {
     "data": {
      "text/plain": [
       "[Project(id=UUID('0193f840-76ba-7095-8643-54ca54737d20'), name='evidently project', description='getting started with evidently', dashboard=DashboardConfig(name='evidently project', panels=[], tabs=[], tab_id_to_panel_ids={}), team_id=None, org_id=None, date_from=None, date_to=None, created_at=datetime.datetime(2024, 12, 24, 16, 9, 54, 554475))]"
      ]
     },
     "execution_count": 38,
     "metadata": {},
     "output_type": "execute_result"
    }
   ],
   "source": [
    "ws.list_projects()"
   ]
  },
  {
   "cell_type": "code",
   "execution_count": 30,
   "id": "7f27119a-8ec7-41ac-a268-9447fa466d95",
   "metadata": {},
   "outputs": [
    {
     "data": {
      "text/plain": [
       "Project(id=UUID('0193c51c-ea06-75f8-b4f5-efee96587345'), name='evidently project', description=None, dashboard=DashboardConfig(name='evidently project', panels=[DashboardPanelCounter(type='evidently:dashboard_panel:DashboardPanelCounter', id=UUID('0193e02f-a158-7544-91b6-94f5633c362a'), title='Share of Drifted Features', filter=ReportFilter(metadata_values={}, tag_values=[], include_test_suites=False), size=<WidgetSize.FULL: 2>, agg=<CounterAgg.NONE: 'none'>, value=None, text='Getting started sample - Evidently'), DashboardPanelCounter(type='evidently:dashboard_panel:DashboardPanelCounter', id=UUID('0193e031-1893-7e34-a71e-f144badfe8ab'), title='Share of Drifted Features', filter=ReportFilter(metadata_values={}, tag_values=[], include_test_suites=False), size=<WidgetSize.FULL: 2>, agg=<CounterAgg.NONE: 'none'>, value=None, text='Getting started sample - Evidently')], tabs=[], tab_id_to_panel_ids={}), team_id=None, org_id=None, date_from=None, date_to=None, created_at=datetime.datetime(2024, 12, 14, 17, 50, 26, 758903))"
      ]
     },
     "execution_count": 30,
     "metadata": {},
     "output_type": "execute_result"
    }
   ],
   "source": [
    "project = ws.get_project('0193f840-76ba-7095-8643-54ca54737d20')\n",
    "ws.add_project(project)"
   ]
  },
  {
   "cell_type": "markdown",
   "id": "206649ae-d8ab-4cab-af73-f808e1717729",
   "metadata": {},
   "source": [
    "<h2>Data drift report"
   ]
  },
  {
   "cell_type": "code",
   "execution_count": 103,
   "id": "10964e73-57b2-427e-a44e-e20ae1d60e62",
   "metadata": {},
   "outputs": [],
   "source": [
    "report = Report(metrics=[DataDriftPreset()], timestamp=datetime.datetime.now(), tags=[\"drift1preset\"])\n",
    "report.run(reference_data=reference, current_data=current)\n",
    "#report.show(mode='inline')\n",
    "ws.add_report(project_id=project.id, report=report)"
   ]
  },
  {
   "cell_type": "code",
   "execution_count": 248,
   "id": "4fddac5e-2220-42bc-b7f4-535636d6fe21",
   "metadata": {},
   "outputs": [],
   "source": [
    "current_one = current[:1]\n",
    "current_one\n",
    "report = Report(metrics=[DataDriftPreset()], timestamp=datetime.datetime.now())\n",
    "report.run(reference_data=reference, current_data=current_one, column_mapping=None)\n",
    "ws.add_report(project_id=project.id, report=report)"
   ]
  },
  {
   "cell_type": "code",
   "execution_count": 98,
   "id": "9f4bab5e-ef0b-4e5c-9c51-52ef67fcf812",
   "metadata": {},
   "outputs": [],
   "source": [
    "dataset_drift_report = Report(metrics=[DatasetDriftMetric()], timestamp=datetime.datetime.now())\n",
    "dataset_drift_report.run(reference_data=reference, current_data=current)\n",
    "ws.add_report(project_id=project.id, report=dataset_drift_report)"
   ]
  },
  {
   "cell_type": "code",
   "execution_count": 58,
   "id": "c5cc8653-5014-4118-9a9c-c22e91b8e353",
   "metadata": {},
   "outputs": [
    {
     "data": {
      "text/plain": [
       "<matplotlib.legend.Legend at 0x27367315610>"
      ]
     },
     "execution_count": 58,
     "metadata": {},
     "output_type": "execute_result"
    },
    {
     "data": {
      "image/png": "[encoded data removed]",
      "text/plain": [
       "<Figure size 640x480 with 1 Axes>"
      ]
     },
     "metadata": {},
     "output_type": "display_data"
    }
   ],
   "source": [
    "#Data drift table --> Data distrbution \n",
    "import matplotlib.pyplot as plt\n",
    "plt.hist([reference[\"bedrooms\"], current[\"bedrooms\"]], label=[\"Reference\", \"Current\"])\n",
    "plt.legend(loc=\"upper right\")"
   ]
  },
  {
   "cell_type": "code",
   "execution_count": 173,
   "id": "c7e604a4-3984-4e17-abc1-db0c0c2d583d",
   "metadata": {},
   "outputs": [
    {
     "data": {
      "text/plain": [
       "(1.0, 7.0)"
      ]
     },
     "execution_count": 173,
     "metadata": {},
     "output_type": "execute_result"
    },
    {
     "data": {
      "image/png": "[encoded data removed]",
      "text/plain": [
       "<Figure size 1000x600 with 1 Axes>"
      ]
     },
     "metadata": {},
     "output_type": "display_data"
    }
   ],
   "source": [
    "#Data drift\n",
    "index = np.linspace(0, 150, len(reference))  # Index values\n",
    "# Create bins\n",
    "num_bins = 150\n",
    "bins = np.linspace(index.min(), index.max(), num_bins + 1)  # Bin edges\n",
    "\n",
    "# Digitize the index into bins\n",
    "bin_indices = np.digitize(index, bins)\n",
    "# Compute mean value in each bin\n",
    "bin_means = [reference['bedrooms'][bin_indices == i].mean() if np.any(bin_indices == i) else np.nan for i in range(1, len(bins))]\n",
    "\n",
    "bin_centers = (bins[:-1] + bins[1:]) / 2  # Calculate bin centers for plotting\n",
    "\n",
    "plt.figure(figsize=(10, 6))\n",
    "plt.plot(bin_centers, bin_means, marker='o', linestyle='-', color='r')\n",
    "plt.plot(mean, linestyle='-', color='g')\n",
    "plt.axhline(y=np.nanmean(reference[\"bedrooms\"]), color = 'g',  linestyle = '--',   linewidth = 3)\n",
    "plt.xlabel('Indexed Bins')\n",
    "plt.ylabel('Mean')\n",
    "#plt.title('Mean Value vs Indexed Bins')\n",
    "#plt.grid()\n",
    "plt.ylim(1, 7)"
   ]
  },
  {
   "cell_type": "markdown",
   "id": "01b25902-c5c0-4945-9af4-0d3e97f5b895",
   "metadata": {},
   "source": [
    "<h2>Data Quality"
   ]
  },
  {
   "cell_type": "code",
   "execution_count": 40,
   "id": "5b58376e-6007-48a2-bfa0-29dc9c693e9d",
   "metadata": {},
   "outputs": [],
   "source": [
    "data_quality_report = Report(metrics=[\n",
    "    DataQualityPreset(),\n",
    "])\n",
    "\n",
    "data_quality_report.run(reference_data=reference, current_data=current)\n",
    "ws.add_report(project_id=project.id, report=data_quality_report)"
   ]
  },
  {
   "cell_type": "code",
   "execution_count": 117,
   "id": "53ce2c58-396f-4bde-91e1-1d49b2afd37f",
   "metadata": {},
   "outputs": [
    {
     "data": {
      "text/plain": [
       "{'metrics': [{'metric': 'DatasetSummaryMetric',\n",
       "   'result': {'almost_duplicated_threshold': 0.95,\n",
       "    'current': {'target': None,\n",
       "     'prediction': None,\n",
       "     'date_column': None,\n",
       "     'id_column': None,\n",
       "     'number_of_columns': 13,\n",
       "     'number_of_rows': 300,\n",
       "     'number_of_missing_values': 0,\n",
       "     'number_of_categorical_columns': 7,\n",
       "     'number_of_numeric_columns': 6,\n",
       "     'number_of_text_columns': 0,\n",
       "     'number_of_datetime_columns': 0,\n",
       "     'number_of_constant_columns': 0,\n",
       "     'number_of_almost_constant_columns': 1,\n",
       "     'number_of_duplicated_columns': 0,\n",
       "     'number_of_almost_duplicated_columns': 0,\n",
       "     'number_of_empty_rows': 0,\n",
       "     'number_of_empty_columns': 0,\n",
       "     'number_of_duplicated_rows': 0,\n",
       "     'nans_by_columns': {'price': 0,\n",
       "      'area': 0,\n",
       "      'bedrooms': 0,\n",
       "      'bathrooms': 0,\n",
       "      'stories': 0,\n",
       "      'mainroad': 0,\n",
       "      'guestroom': 0,\n",
       "      'basement': 0,\n",
       "      'hotwaterheating': 0,\n",
       "      'airconditioning': 0,\n",
       "      'parking': 0,\n",
       "      'prefarea': 0,\n",
       "      'furnishingstatus': 0},\n",
       "     'number_uniques_by_columns': {'price': 153,\n",
       "      'area': 194,\n",
       "      'bedrooms': 5,\n",
       "      'bathrooms': 3,\n",
       "      'stories': 4,\n",
       "      'mainroad': 2,\n",
       "      'guestroom': 2,\n",
       "      'basement': 2,\n",
       "      'hotwaterheating': 2,\n",
       "      'airconditioning': 2,\n",
       "      'parking': 4,\n",
       "      'prefarea': 2,\n",
       "      'furnishingstatus': 3}},\n",
       "    'reference': {'target': None,\n",
       "     'prediction': None,\n",
       "     'date_column': None,\n",
       "     'id_column': None,\n",
       "     'number_of_columns': 13,\n",
       "     'number_of_rows': 300,\n",
       "     'number_of_missing_values': 0,\n",
       "     'number_of_categorical_columns': 7,\n",
       "     'number_of_numeric_columns': 6,\n",
       "     'number_of_text_columns': 0,\n",
       "     'number_of_datetime_columns': 0,\n",
       "     'number_of_constant_columns': 0,\n",
       "     'number_of_almost_constant_columns': 1,\n",
       "     'number_of_duplicated_columns': 0,\n",
       "     'number_of_almost_duplicated_columns': 0,\n",
       "     'number_of_empty_rows': 0,\n",
       "     'number_of_empty_columns': 0,\n",
       "     'number_of_duplicated_rows': 0,\n",
       "     'nans_by_columns': {'price': 0,\n",
       "      'area': 0,\n",
       "      'bedrooms': 0,\n",
       "      'bathrooms': 0,\n",
       "      'stories': 0,\n",
       "      'mainroad': 0,\n",
       "      'guestroom': 0,\n",
       "      'basement': 0,\n",
       "      'hotwaterheating': 0,\n",
       "      'airconditioning': 0,\n",
       "      'parking': 0,\n",
       "      'prefarea': 0,\n",
       "      'furnishingstatus': 0},\n",
       "     'number_uniques_by_columns': {'price': 163,\n",
       "      'area': 186,\n",
       "      'bedrooms': 5,\n",
       "      'bathrooms': 4,\n",
       "      'stories': 4,\n",
       "      'mainroad': 2,\n",
       "      'guestroom': 2,\n",
       "      'basement': 2,\n",
       "      'hotwaterheating': 2,\n",
       "      'airconditioning': 2,\n",
       "      'parking': 4,\n",
       "      'prefarea': 2,\n",
       "      'furnishingstatus': 3}}}},\n",
       "  {'metric': 'ColumnSummaryMetric',\n",
       "   'result': {'column_name': 'area',\n",
       "    'column_type': 'num',\n",
       "    'reference_characteristics': {'number_of_rows': 300,\n",
       "     'count': 300,\n",
       "     'missing': 0,\n",
       "     'missing_percentage': 0.0,\n",
       "     'mean': 5049.57,\n",
       "     'std': 2029.93,\n",
       "     'min': 1700.0,\n",
       "     'p25': 3592.5,\n",
       "     'p50': 4510.0,\n",
       "     'p75': 6052.5,\n",
       "     'max': 12944.0,\n",
       "     'unique': 186,\n",
       "     'unique_percentage': 62.0,\n",
       "     'infinite_count': 0,\n",
       "     'infinite_percentage': 0.0,\n",
       "     'most_common': 6000.0,\n",
       "     'most_common_percentage': 4.0},\n",
       "    'current_characteristics': {'number_of_rows': 300,\n",
       "     'count': 300,\n",
       "     'missing': 0,\n",
       "     'missing_percentage': 0.0,\n",
       "     'mean': 5104.69,\n",
       "     'std': 2059.39,\n",
       "     'min': 1650.0,\n",
       "     'p25': 3596.0,\n",
       "     'p50': 4540.0,\n",
       "     'p75': 6425.0,\n",
       "     'max': 13200.0,\n",
       "     'unique': 194,\n",
       "     'unique_percentage': 64.67,\n",
       "     'infinite_count': 0,\n",
       "     'infinite_percentage': 0.0,\n",
       "     'most_common': 4500.0,\n",
       "     'most_common_percentage': 3.0}}},\n",
       "  {'metric': 'ColumnSummaryMetric',\n",
       "   'result': {'column_name': 'price',\n",
       "    'column_type': 'num',\n",
       "    'reference_characteristics': {'number_of_rows': 300,\n",
       "     'count': 300,\n",
       "     'missing': 0,\n",
       "     'missing_percentage': 0.0,\n",
       "     'mean': 4682545.0,\n",
       "     'std': 1836708.17,\n",
       "     'min': 1750000.0,\n",
       "     'p25': 3395000.0,\n",
       "     'p50': 4340000.0,\n",
       "     'p75': 5600000.0,\n",
       "     'max': 13300000.0,\n",
       "     'unique': 163,\n",
       "     'unique_percentage': 54.33,\n",
       "     'infinite_count': 0,\n",
       "     'infinite_percentage': 0.0,\n",
       "     'most_common': 4200000.0,\n",
       "     'most_common_percentage': 3.67},\n",
       "    'current_characteristics': {'number_of_rows': 300,\n",
       "     'count': 300,\n",
       "     'missing': 0,\n",
       "     'missing_percentage': 0.0,\n",
       "     'mean': 4737110.0,\n",
       "     'std': 1827423.62,\n",
       "     'min': 1767150.0,\n",
       "     'p25': 3456250.0,\n",
       "     'p50': 4357500.0,\n",
       "     'p75': 5674375.0,\n",
       "     'max': 12250000.0,\n",
       "     'unique': 153,\n",
       "     'unique_percentage': 51.0,\n",
       "     'infinite_count': 0,\n",
       "     'infinite_percentage': 0.0,\n",
       "     'most_common': 3500000.0,\n",
       "     'most_common_percentage': 3.0}}},\n",
       "  {'metric': 'ColumnSummaryMetric',\n",
       "   'result': {'column_name': 'bathrooms',\n",
       "    'column_type': 'cat',\n",
       "    'reference_characteristics': {'number_of_rows': 300,\n",
       "     'count': 300,\n",
       "     'missing': 0,\n",
       "     'missing_percentage': 0.0,\n",
       "     'unique': 4,\n",
       "     'unique_percentage': 1.33,\n",
       "     'most_common': 1,\n",
       "     'most_common_percentage': 78.0,\n",
       "     'new_in_current_values_count': None,\n",
       "     'unused_in_current_values_count': None},\n",
       "    'current_characteristics': {'number_of_rows': 300,\n",
       "     'count': 300,\n",
       "     'missing': 0,\n",
       "     'missing_percentage': 0.0,\n",
       "     'unique': 3,\n",
       "     'unique_percentage': 1.0,\n",
       "     'most_common': 1,\n",
       "     'most_common_percentage': 74.33,\n",
       "     'new_in_current_values_count': 0,\n",
       "     'unused_in_current_values_count': 1}}},\n",
       "  {'metric': 'ColumnSummaryMetric',\n",
       "   'result': {'column_name': 'prefarea',\n",
       "    'column_type': 'cat',\n",
       "    'reference_characteristics': {'number_of_rows': 300,\n",
       "     'count': 300,\n",
       "     'missing': 0,\n",
       "     'missing_percentage': 0.0,\n",
       "     'unique': 2,\n",
       "     'unique_percentage': 0.67,\n",
       "     'most_common': 'no',\n",
       "     'most_common_percentage': 75.67,\n",
       "     'new_in_current_values_count': None,\n",
       "     'unused_in_current_values_count': None},\n",
       "    'current_characteristics': {'number_of_rows': 300,\n",
       "     'count': 300,\n",
       "     'missing': 0,\n",
       "     'missing_percentage': 0.0,\n",
       "     'unique': 2,\n",
       "     'unique_percentage': 0.67,\n",
       "     'most_common': 'no',\n",
       "     'most_common_percentage': 76.67,\n",
       "     'new_in_current_values_count': 0,\n",
       "     'unused_in_current_values_count': 0}}},\n",
       "  {'metric': 'ColumnSummaryMetric',\n",
       "   'result': {'column_name': 'parking',\n",
       "    'column_type': 'cat',\n",
       "    'reference_characteristics': {'number_of_rows': 300,\n",
       "     'count': 300,\n",
       "     'missing': 0,\n",
       "     'missing_percentage': 0.0,\n",
       "     'unique': 4,\n",
       "     'unique_percentage': 1.33,\n",
       "     'most_common': 0,\n",
       "     'most_common_percentage': 56.33,\n",
       "     'new_in_current_values_count': None,\n",
       "     'unused_in_current_values_count': None},\n",
       "    'current_characteristics': {'number_of_rows': 300,\n",
       "     'count': 300,\n",
       "     'missing': 0,\n",
       "     'missing_percentage': 0.0,\n",
       "     'unique': 4,\n",
       "     'unique_percentage': 1.33,\n",
       "     'most_common': 0,\n",
       "     'most_common_percentage': 55.33,\n",
       "     'new_in_current_values_count': 0,\n",
       "     'unused_in_current_values_count': 0}}},\n",
       "  {'metric': 'ColumnSummaryMetric',\n",
       "   'result': {'column_name': 'bedrooms',\n",
       "    'column_type': 'cat',\n",
       "    'reference_characteristics': {'number_of_rows': 300,\n",
       "     'count': 300,\n",
       "     'missing': 0,\n",
       "     'missing_percentage': 0.0,\n",
       "     'unique': 5,\n",
       "     'unique_percentage': 1.67,\n",
       "     'most_common': 3,\n",
       "     'most_common_percentage': 53.33,\n",
       "     'new_in_current_values_count': None,\n",
       "     'unused_in_current_values_count': None},\n",
       "    'current_characteristics': {'number_of_rows': 300,\n",
       "     'count': 300,\n",
       "     'missing': 0,\n",
       "     'missing_percentage': 0.0,\n",
       "     'unique': 5,\n",
       "     'unique_percentage': 1.67,\n",
       "     'most_common': 3,\n",
       "     'most_common_percentage': 58.67,\n",
       "     'new_in_current_values_count': 0,\n",
       "     'unused_in_current_values_count': 0}}},\n",
       "  {'metric': 'ColumnSummaryMetric',\n",
       "   'result': {'column_name': 'mainroad',\n",
       "    'column_type': 'cat',\n",
       "    'reference_characteristics': {'number_of_rows': 300,\n",
       "     'count': 300,\n",
       "     'missing': 0,\n",
       "     'missing_percentage': 0.0,\n",
       "     'unique': 2,\n",
       "     'unique_percentage': 0.67,\n",
       "     'most_common': 'yes',\n",
       "     'most_common_percentage': 87.33,\n",
       "     'new_in_current_values_count': None,\n",
       "     'unused_in_current_values_count': None},\n",
       "    'current_characteristics': {'number_of_rows': 300,\n",
       "     'count': 300,\n",
       "     'missing': 0,\n",
       "     'missing_percentage': 0.0,\n",
       "     'unique': 2,\n",
       "     'unique_percentage': 0.67,\n",
       "     'most_common': 'yes',\n",
       "     'most_common_percentage': 85.0,\n",
       "     'new_in_current_values_count': 0,\n",
       "     'unused_in_current_values_count': 0}}},\n",
       "  {'metric': 'ColumnSummaryMetric',\n",
       "   'result': {'column_name': 'basement',\n",
       "    'column_type': 'cat',\n",
       "    'reference_characteristics': {'number_of_rows': 300,\n",
       "     'count': 300,\n",
       "     'missing': 0,\n",
       "     'missing_percentage': 0.0,\n",
       "     'unique': 2,\n",
       "     'unique_percentage': 0.67,\n",
       "     'most_common': 'no',\n",
       "     'most_common_percentage': 67.0,\n",
       "     'new_in_current_values_count': None,\n",
       "     'unused_in_current_values_count': None},\n",
       "    'current_characteristics': {'number_of_rows': 300,\n",
       "     'count': 300,\n",
       "     'missing': 0,\n",
       "     'missing_percentage': 0.0,\n",
       "     'unique': 2,\n",
       "     'unique_percentage': 0.67,\n",
       "     'most_common': 'no',\n",
       "     'most_common_percentage': 66.33,\n",
       "     'new_in_current_values_count': 0,\n",
       "     'unused_in_current_values_count': 0}}},\n",
       "  {'metric': 'ColumnSummaryMetric',\n",
       "   'result': {'column_name': 'stories',\n",
       "    'column_type': 'cat',\n",
       "    'reference_characteristics': {'number_of_rows': 300,\n",
       "     'count': 300,\n",
       "     'missing': 0,\n",
       "     'missing_percentage': 0.0,\n",
       "     'unique': 4,\n",
       "     'unique_percentage': 1.33,\n",
       "     'most_common': 1,\n",
       "     'most_common_percentage': 43.33,\n",
       "     'new_in_current_values_count': None,\n",
       "     'unused_in_current_values_count': None},\n",
       "    'current_characteristics': {'number_of_rows': 300,\n",
       "     'count': 300,\n",
       "     'missing': 0,\n",
       "     'missing_percentage': 0.0,\n",
       "     'unique': 4,\n",
       "     'unique_percentage': 1.33,\n",
       "     'most_common': 2,\n",
       "     'most_common_percentage': 45.33,\n",
       "     'new_in_current_values_count': 0,\n",
       "     'unused_in_current_values_count': 0}}},\n",
       "  {'metric': 'ColumnSummaryMetric',\n",
       "   'result': {'column_name': 'furnishingstatus',\n",
       "    'column_type': 'cat',\n",
       "    'reference_characteristics': {'number_of_rows': 300,\n",
       "     'count': 300,\n",
       "     'missing': 0,\n",
       "     'missing_percentage': 0.0,\n",
       "     'unique': 3,\n",
       "     'unique_percentage': 1.0,\n",
       "     'most_common': 'semi-furnished',\n",
       "     'most_common_percentage': 38.67,\n",
       "     'new_in_current_values_count': None,\n",
       "     'unused_in_current_values_count': None},\n",
       "    'current_characteristics': {'number_of_rows': 300,\n",
       "     'count': 300,\n",
       "     'missing': 0,\n",
       "     'missing_percentage': 0.0,\n",
       "     'unique': 3,\n",
       "     'unique_percentage': 1.0,\n",
       "     'most_common': 'semi-furnished',\n",
       "     'most_common_percentage': 45.0,\n",
       "     'new_in_current_values_count': 0,\n",
       "     'unused_in_current_values_count': 0}}},\n",
       "  {'metric': 'ColumnSummaryMetric',\n",
       "   'result': {'column_name': 'airconditioning',\n",
       "    'column_type': 'cat',\n",
       "    'reference_characteristics': {'number_of_rows': 300,\n",
       "     'count': 300,\n",
       "     'missing': 0,\n",
       "     'missing_percentage': 0.0,\n",
       "     'unique': 2,\n",
       "     'unique_percentage': 0.67,\n",
       "     'most_common': 'no',\n",
       "     'most_common_percentage': 70.0,\n",
       "     'new_in_current_values_count': None,\n",
       "     'unused_in_current_values_count': None},\n",
       "    'current_characteristics': {'number_of_rows': 300,\n",
       "     'count': 300,\n",
       "     'missing': 0,\n",
       "     'missing_percentage': 0.0,\n",
       "     'unique': 2,\n",
       "     'unique_percentage': 0.67,\n",
       "     'most_common': 'no',\n",
       "     'most_common_percentage': 68.33,\n",
       "     'new_in_current_values_count': 0,\n",
       "     'unused_in_current_values_count': 0}}},\n",
       "  {'metric': 'ColumnSummaryMetric',\n",
       "   'result': {'column_name': 'hotwaterheating',\n",
       "    'column_type': 'cat',\n",
       "    'reference_characteristics': {'number_of_rows': 300,\n",
       "     'count': 300,\n",
       "     'missing': 0,\n",
       "     'missing_percentage': 0.0,\n",
       "     'unique': 2,\n",
       "     'unique_percentage': 0.67,\n",
       "     'most_common': 'no',\n",
       "     'most_common_percentage': 96.0,\n",
       "     'new_in_current_values_count': None,\n",
       "     'unused_in_current_values_count': None},\n",
       "    'current_characteristics': {'number_of_rows': 300,\n",
       "     'count': 300,\n",
       "     'missing': 0,\n",
       "     'missing_percentage': 0.0,\n",
       "     'unique': 2,\n",
       "     'unique_percentage': 0.67,\n",
       "     'most_common': 'no',\n",
       "     'most_common_percentage': 95.67,\n",
       "     'new_in_current_values_count': 0,\n",
       "     'unused_in_current_values_count': 0}}},\n",
       "  {'metric': 'ColumnSummaryMetric',\n",
       "   'result': {'column_name': 'guestroom',\n",
       "    'column_type': 'cat',\n",
       "    'reference_characteristics': {'number_of_rows': 300,\n",
       "     'count': 300,\n",
       "     'missing': 0,\n",
       "     'missing_percentage': 0.0,\n",
       "     'unique': 2,\n",
       "     'unique_percentage': 0.67,\n",
       "     'most_common': 'no',\n",
       "     'most_common_percentage': 83.67,\n",
       "     'new_in_current_values_count': None,\n",
       "     'unused_in_current_values_count': None},\n",
       "    'current_characteristics': {'number_of_rows': 300,\n",
       "     'count': 300,\n",
       "     'missing': 0,\n",
       "     'missing_percentage': 0.0,\n",
       "     'unique': 2,\n",
       "     'unique_percentage': 0.67,\n",
       "     'most_common': 'no',\n",
       "     'most_common_percentage': 82.67,\n",
       "     'new_in_current_values_count': 0,\n",
       "     'unused_in_current_values_count': 0}}},\n",
       "  {'metric': 'DatasetMissingValuesMetric',\n",
       "   'result': {'current': {'different_missing_values': {'': 0,\n",
       "      -inf: 0,\n",
       "      None: 0,\n",
       "      inf: 0},\n",
       "     'number_of_different_missing_values': 0,\n",
       "     'different_missing_values_by_column': {'price': {'': 0,\n",
       "       -inf: 0,\n",
       "       None: 0,\n",
       "       inf: 0},\n",
       "      'area': {'': 0, -inf: 0, None: 0, inf: 0},\n",
       "      'bedrooms': {'': 0, -inf: 0, None: 0, inf: 0},\n",
       "      'bathrooms': {'': 0, -inf: 0, None: 0, inf: 0},\n",
       "      'stories': {'': 0, -inf: 0, None: 0, inf: 0},\n",
       "      'mainroad': {'': 0, -inf: 0, None: 0, inf: 0},\n",
       "      'guestroom': {'': 0, -inf: 0, None: 0, inf: 0},\n",
       "      'basement': {'': 0, -inf: 0, None: 0, inf: 0},\n",
       "      'hotwaterheating': {'': 0, -inf: 0, None: 0, inf: 0},\n",
       "      'airconditioning': {'': 0, -inf: 0, None: 0, inf: 0},\n",
       "      'parking': {'': 0, -inf: 0, None: 0, inf: 0},\n",
       "      'prefarea': {'': 0, -inf: 0, None: 0, inf: 0},\n",
       "      'furnishingstatus': {'': 0, -inf: 0, None: 0, inf: 0}},\n",
       "     'number_of_different_missing_values_by_column': {'price': 0,\n",
       "      'area': 0,\n",
       "      'bedrooms': 0,\n",
       "      'bathrooms': 0,\n",
       "      'stories': 0,\n",
       "      'mainroad': 0,\n",
       "      'guestroom': 0,\n",
       "      'basement': 0,\n",
       "      'hotwaterheating': 0,\n",
       "      'airconditioning': 0,\n",
       "      'parking': 0,\n",
       "      'prefarea': 0,\n",
       "      'furnishingstatus': 0},\n",
       "     'number_of_missing_values': 0,\n",
       "     'share_of_missing_values': 0.0,\n",
       "     'number_of_missing_values_by_column': {'price': 0,\n",
       "      'area': 0,\n",
       "      'bedrooms': 0,\n",
       "      'bathrooms': 0,\n",
       "      'stories': 0,\n",
       "      'mainroad': 0,\n",
       "      'guestroom': 0,\n",
       "      'basement': 0,\n",
       "      'hotwaterheating': 0,\n",
       "      'airconditioning': 0,\n",
       "      'parking': 0,\n",
       "      'prefarea': 0,\n",
       "      'furnishingstatus': 0},\n",
       "     'share_of_missing_values_by_column': {'price': 0.0,\n",
       "      'area': 0.0,\n",
       "      'bedrooms': 0.0,\n",
       "      'bathrooms': 0.0,\n",
       "      'stories': 0.0,\n",
       "      'mainroad': 0.0,\n",
       "      'guestroom': 0.0,\n",
       "      'basement': 0.0,\n",
       "      'hotwaterheating': 0.0,\n",
       "      'airconditioning': 0.0,\n",
       "      'parking': 0.0,\n",
       "      'prefarea': 0.0,\n",
       "      'furnishingstatus': 0.0},\n",
       "     'number_of_rows': 300,\n",
       "     'number_of_rows_with_missing_values': 0,\n",
       "     'share_of_rows_with_missing_values': 0.0,\n",
       "     'number_of_columns': 13,\n",
       "     'columns_with_missing_values': [],\n",
       "     'number_of_columns_with_missing_values': 0,\n",
       "     'share_of_columns_with_missing_values': 0.0},\n",
       "    'reference': {'different_missing_values': {'': 0,\n",
       "      -inf: 0,\n",
       "      None: 0,\n",
       "      inf: 0},\n",
       "     'number_of_different_missing_values': 0,\n",
       "     'different_missing_values_by_column': {'price': {'': 0,\n",
       "       -inf: 0,\n",
       "       None: 0,\n",
       "       inf: 0},\n",
       "      'area': {'': 0, -inf: 0, None: 0, inf: 0},\n",
       "      'bedrooms': {'': 0, -inf: 0, None: 0, inf: 0},\n",
       "      'bathrooms': {'': 0, -inf: 0, None: 0, inf: 0},\n",
       "      'stories': {'': 0, -inf: 0, None: 0, inf: 0},\n",
       "      'mainroad': {'': 0, -inf: 0, None: 0, inf: 0},\n",
       "      'guestroom': {'': 0, -inf: 0, None: 0, inf: 0},\n",
       "      'basement': {'': 0, -inf: 0, None: 0, inf: 0},\n",
       "      'hotwaterheating': {'': 0, -inf: 0, None: 0, inf: 0},\n",
       "      'airconditioning': {'': 0, -inf: 0, None: 0, inf: 0},\n",
       "      'parking': {'': 0, -inf: 0, None: 0, inf: 0},\n",
       "      'prefarea': {'': 0, -inf: 0, None: 0, inf: 0},\n",
       "      'furnishingstatus': {'': 0, -inf: 0, None: 0, inf: 0}},\n",
       "     'number_of_different_missing_values_by_column': {'price': 0,\n",
       "      'area': 0,\n",
       "      'bedrooms': 0,\n",
       "      'bathrooms': 0,\n",
       "      'stories': 0,\n",
       "      'mainroad': 0,\n",
       "      'guestroom': 0,\n",
       "      'basement': 0,\n",
       "      'hotwaterheating': 0,\n",
       "      'airconditioning': 0,\n",
       "      'parking': 0,\n",
       "      'prefarea': 0,\n",
       "      'furnishingstatus': 0},\n",
       "     'number_of_missing_values': 0,\n",
       "     'share_of_missing_values': 0.0,\n",
       "     'number_of_missing_values_by_column': {'price': 0,\n",
       "      'area': 0,\n",
       "      'bedrooms': 0,\n",
       "      'bathrooms': 0,\n",
       "      'stories': 0,\n",
       "      'mainroad': 0,\n",
       "      'guestroom': 0,\n",
       "      'basement': 0,\n",
       "      'hotwaterheating': 0,\n",
       "      'airconditioning': 0,\n",
       "      'parking': 0,\n",
       "      'prefarea': 0,\n",
       "      'furnishingstatus': 0},\n",
       "     'share_of_missing_values_by_column': {'price': 0.0,\n",
       "      'area': 0.0,\n",
       "      'bedrooms': 0.0,\n",
       "      'bathrooms': 0.0,\n",
       "      'stories': 0.0,\n",
       "      'mainroad': 0.0,\n",
       "      'guestroom': 0.0,\n",
       "      'basement': 0.0,\n",
       "      'hotwaterheating': 0.0,\n",
       "      'airconditioning': 0.0,\n",
       "      'parking': 0.0,\n",
       "      'prefarea': 0.0,\n",
       "      'furnishingstatus': 0.0},\n",
       "     'number_of_rows': 300,\n",
       "     'number_of_rows_with_missing_values': 0,\n",
       "     'share_of_rows_with_missing_values': 0.0,\n",
       "     'number_of_columns': 13,\n",
       "     'columns_with_missing_values': [],\n",
       "     'number_of_columns_with_missing_values': 0,\n",
       "     'share_of_columns_with_missing_values': 0.0}}}]}"
      ]
     },
     "execution_count": 117,
     "metadata": {},
     "output_type": "execute_result"
    }
   ],
   "source": [
    "pdd = data_quality_report.as_dict()\n",
    "pdd"
   ]
  },
  {
   "cell_type": "code",
   "execution_count": 19,
   "id": "07da4c50-a717-4db8-94ee-c6f2f106d9ea",
   "metadata": {},
   "outputs": [],
   "source": [
    "from evidently.metrics import ColumnDriftMetric\n",
    "from evidently.metrics import ColumnSummaryMetric\n",
    "from evidently.metrics import DatasetMissingValuesMetric\n",
    "\n",
    "data_qual_report = Report(metrics=[\n",
    "    ColumnDriftMetric(column_name=\"price\", stattest=\"wasserstein\", stattest_threshold=0.03),\n",
    "    ColumnSummaryMetric(column_name=\"price\"),\n",
    "    DatasetMissingValuesMetric()\n",
    "])\n",
    "data_qual_report.run(reference_data=reference, current_data=current)\n",
    "ws.add_report(project_id=project.id, report=data_qual_report)\n",
    "#data_qual_report.show(mode=\"inline\")"
   ]
  },
  {
   "cell_type": "markdown",
   "id": "14dcd795-60e5-4518-a64b-ee2ce04249c9",
   "metadata": {},
   "source": [
    "<h2>Target Drift"
   ]
  },
  {
   "cell_type": "code",
   "execution_count": 42,
   "id": "4ea8a622-6112-414b-b532-cfa44170bfe8",
   "metadata": {},
   "outputs": [],
   "source": [
    "column_mapping = ColumnMapping()\n",
    "column_mapping.target = \"price\"\n",
    "column_mapping.prediction = \"prediction\"\n",
    "#column_mapping.numerical_features = report.get_column_mapping().numerical_features\n",
    "#column_mapping.categorical_features = report.get_column_mapping().categorical_features"
   ]
  },
  {
   "cell_type": "code",
   "execution_count": 119,
   "id": "71d36476-cd7a-416c-bc25-512db54735a1",
   "metadata": {},
   "outputs": [],
   "source": [
    "num_target_drift_report = Report(metrics=[\n",
    "    TargetDriftPreset(),\n",
    "])\n",
    "\n",
    "num_target_drift_report.run(reference_data=reference_with_pred, current_data=current_with_pred, column_mapping=column_mapping)\n",
    "ws.add_report(project_id=project.id, report=num_target_drift_report)"
   ]
  },
  {
   "cell_type": "code",
   "execution_count": 121,
   "id": "8a11cca0-e097-4557-ac7d-b242d532e92e",
   "metadata": {},
   "outputs": [
    {
     "name": "stderr",
     "output_type": "stream",
     "text": [
      "C:\\Users\\EdwinVivekN\\AppData\\Local\\Packages\\PythonSoftwareFoundation.Python.3.12_qbz5n2kfra8p0\\LocalCache\\local-packages\\Python312\\site-packages\\numpy\\lib\\function_base.py:2889: RuntimeWarning:\n",
      "\n",
      "Degrees of freedom <= 0 for slice\n",
      "\n",
      "C:\\Users\\EdwinVivekN\\AppData\\Local\\Packages\\PythonSoftwareFoundation.Python.3.12_qbz5n2kfra8p0\\LocalCache\\local-packages\\Python312\\site-packages\\numpy\\lib\\function_base.py:2748: RuntimeWarning:\n",
      "\n",
      "divide by zero encountered in divide\n",
      "\n",
      "C:\\Users\\EdwinVivekN\\AppData\\Local\\Packages\\PythonSoftwareFoundation.Python.3.12_qbz5n2kfra8p0\\LocalCache\\local-packages\\Python312\\site-packages\\numpy\\lib\\function_base.py:2748: RuntimeWarning:\n",
      "\n",
      "invalid value encountered in multiply\n",
      "\n",
      "C:\\Users\\EdwinVivekN\\AppData\\Local\\Packages\\PythonSoftwareFoundation.Python.3.12_qbz5n2kfra8p0\\LocalCache\\local-packages\\Python312\\site-packages\\numpy\\lib\\function_base.py:2889: RuntimeWarning:\n",
      "\n",
      "Degrees of freedom <= 0 for slice\n",
      "\n",
      "C:\\Users\\EdwinVivekN\\AppData\\Local\\Packages\\PythonSoftwareFoundation.Python.3.12_qbz5n2kfra8p0\\LocalCache\\local-packages\\Python312\\site-packages\\numpy\\lib\\function_base.py:2748: RuntimeWarning:\n",
      "\n",
      "divide by zero encountered in divide\n",
      "\n",
      "C:\\Users\\EdwinVivekN\\AppData\\Local\\Packages\\PythonSoftwareFoundation.Python.3.12_qbz5n2kfra8p0\\LocalCache\\local-packages\\Python312\\site-packages\\numpy\\lib\\function_base.py:2748: RuntimeWarning:\n",
      "\n",
      "invalid value encountered in multiply\n",
      "\n"
     ]
    }
   ],
   "source": [
    "current_one = current_with_pred[:1]\n",
    "num_target_drift_report.run(reference_data=reference_with_pred, current_data=current_one, column_mapping=column_mapping)\n",
    "ws.add_report(project_id=project.id, report=num_target_drift_report)"
   ]
  },
  {
   "cell_type": "markdown",
   "id": "d47ae2eb-6593-4395-a7c5-8ab97a55f482",
   "metadata": {},
   "source": [
    "<h2>Regression Drift"
   ]
  },
  {
   "cell_type": "code",
   "execution_count": 130,
   "id": "864c88c7-cbcb-4ac5-ad90-aed076a536a9",
   "metadata": {},
   "outputs": [
    {
     "name": "stderr",
     "output_type": "stream",
     "text": [
      "C:\\Users\\EdwinVivekN\\AppData\\Local\\Packages\\PythonSoftwareFoundation.Python.3.12_qbz5n2kfra8p0\\LocalCache\\local-packages\\Python312\\site-packages\\sklearn\\metrics\\_regression.py:492: FutureWarning:\n",
      "\n",
      "'squared' is deprecated in version 1.4 and will be removed in 1.6. To calculate the root mean squared error, use the function'root_mean_squared_error'.\n",
      "\n",
      "C:\\Users\\EdwinVivekN\\AppData\\Local\\Packages\\PythonSoftwareFoundation.Python.3.12_qbz5n2kfra8p0\\LocalCache\\local-packages\\Python312\\site-packages\\sklearn\\metrics\\_regression.py:492: FutureWarning:\n",
      "\n",
      "'squared' is deprecated in version 1.4 and will be removed in 1.6. To calculate the root mean squared error, use the function'root_mean_squared_error'.\n",
      "\n",
      "C:\\Users\\EdwinVivekN\\AppData\\Local\\Packages\\PythonSoftwareFoundation.Python.3.12_qbz5n2kfra8p0\\LocalCache\\local-packages\\Python312\\site-packages\\sklearn\\metrics\\_regression.py:492: FutureWarning:\n",
      "\n",
      "'squared' is deprecated in version 1.4 and will be removed in 1.6. To calculate the root mean squared error, use the function'root_mean_squared_error'.\n",
      "\n",
      "C:\\Users\\EdwinVivekN\\AppData\\Local\\Packages\\PythonSoftwareFoundation.Python.3.12_qbz5n2kfra8p0\\LocalCache\\local-packages\\Python312\\site-packages\\sklearn\\metrics\\_regression.py:1211: UndefinedMetricWarning:\n",
      "\n",
      "R^2 score is not well-defined with less than two samples.\n",
      "\n",
      "C:\\Users\\EdwinVivekN\\AppData\\Local\\Packages\\PythonSoftwareFoundation.Python.3.12_qbz5n2kfra8p0\\LocalCache\\local-packages\\Python312\\site-packages\\sklearn\\metrics\\_regression.py:1211: UndefinedMetricWarning:\n",
      "\n",
      "R^2 score is not well-defined with less than two samples.\n",
      "\n",
      "C:\\Users\\EdwinVivekN\\AppData\\Local\\Packages\\PythonSoftwareFoundation.Python.3.12_qbz5n2kfra8p0\\LocalCache\\local-packages\\Python312\\site-packages\\sklearn\\metrics\\_regression.py:492: FutureWarning:\n",
      "\n",
      "'squared' is deprecated in version 1.4 and will be removed in 1.6. To calculate the root mean squared error, use the function'root_mean_squared_error'.\n",
      "\n",
      "C:\\Users\\EdwinVivekN\\AppData\\Local\\Packages\\PythonSoftwareFoundation.Python.3.12_qbz5n2kfra8p0\\LocalCache\\local-packages\\Python312\\site-packages\\sklearn\\metrics\\_regression.py:492: FutureWarning:\n",
      "\n",
      "'squared' is deprecated in version 1.4 and will be removed in 1.6. To calculate the root mean squared error, use the function'root_mean_squared_error'.\n",
      "\n",
      "C:\\Users\\EdwinVivekN\\AppData\\Local\\Packages\\PythonSoftwareFoundation.Python.3.12_qbz5n2kfra8p0\\LocalCache\\local-packages\\Python312\\site-packages\\sklearn\\metrics\\_regression.py:492: FutureWarning:\n",
      "\n",
      "'squared' is deprecated in version 1.4 and will be removed in 1.6. To calculate the root mean squared error, use the function'root_mean_squared_error'.\n",
      "\n",
      "C:\\Users\\EdwinVivekN\\AppData\\Local\\Packages\\PythonSoftwareFoundation.Python.3.12_qbz5n2kfra8p0\\LocalCache\\local-packages\\Python312\\site-packages\\sklearn\\metrics\\_regression.py:492: FutureWarning:\n",
      "\n",
      "'squared' is deprecated in version 1.4 and will be removed in 1.6. To calculate the root mean squared error, use the function'root_mean_squared_error'.\n",
      "\n",
      "C:\\Users\\EdwinVivekN\\AppData\\Local\\Packages\\PythonSoftwareFoundation.Python.3.12_qbz5n2kfra8p0\\LocalCache\\local-packages\\Python312\\site-packages\\sklearn\\metrics\\_regression.py:492: FutureWarning:\n",
      "\n",
      "'squared' is deprecated in version 1.4 and will be removed in 1.6. To calculate the root mean squared error, use the function'root_mean_squared_error'.\n",
      "\n",
      "C:\\Users\\EdwinVivekN\\AppData\\Local\\Packages\\PythonSoftwareFoundation.Python.3.12_qbz5n2kfra8p0\\LocalCache\\local-packages\\Python312\\site-packages\\sklearn\\metrics\\_regression.py:492: FutureWarning:\n",
      "\n",
      "'squared' is deprecated in version 1.4 and will be removed in 1.6. To calculate the root mean squared error, use the function'root_mean_squared_error'.\n",
      "\n",
      "C:\\Users\\EdwinVivekN\\AppData\\Local\\Packages\\PythonSoftwareFoundation.Python.3.12_qbz5n2kfra8p0\\LocalCache\\local-packages\\Python312\\site-packages\\sklearn\\metrics\\_regression.py:492: FutureWarning:\n",
      "\n",
      "'squared' is deprecated in version 1.4 and will be removed in 1.6. To calculate the root mean squared error, use the function'root_mean_squared_error'.\n",
      "\n",
      "C:\\Users\\EdwinVivekN\\AppData\\Local\\Packages\\PythonSoftwareFoundation.Python.3.12_qbz5n2kfra8p0\\LocalCache\\local-packages\\Python312\\site-packages\\sklearn\\metrics\\_regression.py:492: FutureWarning:\n",
      "\n",
      "'squared' is deprecated in version 1.4 and will be removed in 1.6. To calculate the root mean squared error, use the function'root_mean_squared_error'.\n",
      "\n",
      "C:\\Users\\EdwinVivekN\\AppData\\Local\\Packages\\PythonSoftwareFoundation.Python.3.12_qbz5n2kfra8p0\\LocalCache\\local-packages\\Python312\\site-packages\\sklearn\\metrics\\_regression.py:492: FutureWarning:\n",
      "\n",
      "'squared' is deprecated in version 1.4 and will be removed in 1.6. To calculate the root mean squared error, use the function'root_mean_squared_error'.\n",
      "\n",
      "C:\\Users\\EdwinVivekN\\AppData\\Local\\Packages\\PythonSoftwareFoundation.Python.3.12_qbz5n2kfra8p0\\LocalCache\\local-packages\\Python312\\site-packages\\sklearn\\metrics\\_regression.py:492: FutureWarning:\n",
      "\n",
      "'squared' is deprecated in version 1.4 and will be removed in 1.6. To calculate the root mean squared error, use the function'root_mean_squared_error'.\n",
      "\n",
      "C:\\Users\\EdwinVivekN\\AppData\\Local\\Packages\\PythonSoftwareFoundation.Python.3.12_qbz5n2kfra8p0\\LocalCache\\local-packages\\Python312\\site-packages\\sklearn\\metrics\\_regression.py:492: FutureWarning:\n",
      "\n",
      "'squared' is deprecated in version 1.4 and will be removed in 1.6. To calculate the root mean squared error, use the function'root_mean_squared_error'.\n",
      "\n",
      "C:\\Users\\EdwinVivekN\\AppData\\Local\\Packages\\PythonSoftwareFoundation.Python.3.12_qbz5n2kfra8p0\\LocalCache\\local-packages\\Python312\\site-packages\\sklearn\\metrics\\_regression.py:492: FutureWarning:\n",
      "\n",
      "'squared' is deprecated in version 1.4 and will be removed in 1.6. To calculate the root mean squared error, use the function'root_mean_squared_error'.\n",
      "\n",
      "C:\\Users\\EdwinVivekN\\AppData\\Local\\Packages\\PythonSoftwareFoundation.Python.3.12_qbz5n2kfra8p0\\LocalCache\\local-packages\\Python312\\site-packages\\sklearn\\metrics\\_regression.py:492: FutureWarning:\n",
      "\n",
      "'squared' is deprecated in version 1.4 and will be removed in 1.6. To calculate the root mean squared error, use the function'root_mean_squared_error'.\n",
      "\n",
      "C:\\Users\\EdwinVivekN\\AppData\\Local\\Packages\\PythonSoftwareFoundation.Python.3.12_qbz5n2kfra8p0\\LocalCache\\local-packages\\Python312\\site-packages\\sklearn\\metrics\\_regression.py:492: FutureWarning:\n",
      "\n",
      "'squared' is deprecated in version 1.4 and will be removed in 1.6. To calculate the root mean squared error, use the function'root_mean_squared_error'.\n",
      "\n",
      "C:\\Users\\EdwinVivekN\\AppData\\Local\\Packages\\PythonSoftwareFoundation.Python.3.12_qbz5n2kfra8p0\\LocalCache\\local-packages\\Python312\\site-packages\\sklearn\\metrics\\_regression.py:492: FutureWarning:\n",
      "\n",
      "'squared' is deprecated in version 1.4 and will be removed in 1.6. To calculate the root mean squared error, use the function'root_mean_squared_error'.\n",
      "\n",
      "C:\\Users\\EdwinVivekN\\AppData\\Local\\Packages\\PythonSoftwareFoundation.Python.3.12_qbz5n2kfra8p0\\LocalCache\\local-packages\\Python312\\site-packages\\sklearn\\metrics\\_regression.py:492: FutureWarning:\n",
      "\n",
      "'squared' is deprecated in version 1.4 and will be removed in 1.6. To calculate the root mean squared error, use the function'root_mean_squared_error'.\n",
      "\n",
      "C:\\Users\\EdwinVivekN\\AppData\\Local\\Packages\\PythonSoftwareFoundation.Python.3.12_qbz5n2kfra8p0\\LocalCache\\local-packages\\Python312\\site-packages\\sklearn\\metrics\\_regression.py:492: FutureWarning:\n",
      "\n",
      "'squared' is deprecated in version 1.4 and will be removed in 1.6. To calculate the root mean squared error, use the function'root_mean_squared_error'.\n",
      "\n",
      "C:\\Users\\EdwinVivekN\\AppData\\Local\\Packages\\PythonSoftwareFoundation.Python.3.12_qbz5n2kfra8p0\\LocalCache\\local-packages\\Python312\\site-packages\\sklearn\\metrics\\_regression.py:492: FutureWarning:\n",
      "\n",
      "'squared' is deprecated in version 1.4 and will be removed in 1.6. To calculate the root mean squared error, use the function'root_mean_squared_error'.\n",
      "\n"
     ]
    }
   ],
   "source": [
    "\n",
    "\n",
    "# Create a Report instance for regression with a set of predefined metrics\n",
    "regression_performance_report = Report(metrics=[\n",
    "    RegressionPreset(columns= [\"price\", \"area\"])\n",
    "    # Preset is used for predefined set of regression metrics\n",
    "])\n",
    "\n",
    "# Run the report on the reference and current datasets\n",
    "regression_performance_report.run(reference_data=reference_with_pred, current_data=current_with_pred, column_mapping=column_mapping)\n",
    "ws.add_report(project_id=project.id, report=regression_performance_report)\n",
    "# Display the report in 'inline' mode\n",
    "#regression_performance_report.show(mode='inline')"
   ]
  },
  {
   "cell_type": "code",
   "execution_count": null,
   "id": "a60cf147-01de-4dee-ad65-c99b8dac86ad",
   "metadata": {},
   "outputs": [],
   "source": []
  },
  {
   "cell_type": "markdown",
   "id": "dff26f07-222b-4850-a387-936aab15f068",
   "metadata": {},
   "source": [
    "<h2>Tests"
   ]
  },
  {
   "cell_type": "code",
   "execution_count": 27,
   "id": "fa5763fc-29ed-4fc7-be98-b62d4ee93cd1",
   "metadata": {},
   "outputs": [],
   "source": [
    "#Data drift tests\n",
    "data_drift_test_suite = TestSuite(tests=[\n",
    "   DataDriftTestPreset(),\n",
    "   TestNumberOfDriftedColumns()\n",
    "])\n",
    " \n",
    "data_drift_test_suite.run(reference_data=reference, current_data=current)\n",
    "ws.add_test_suite(project_id=project.id, test_suite= data_drift_test_suite)"
   ]
  },
  {
   "cell_type": "code",
   "execution_count": 28,
   "id": "f5ed5281-41a6-4344-8552-ca1c3b73f1a2",
   "metadata": {},
   "outputs": [],
   "source": [
    "#Data stability tests\n",
    "data_stability_test_suite = TestSuite(tests=[\n",
    "   DataStabilityTestPreset()\n",
    "])\n",
    " \n",
    "data_stability_test_suite.run(reference_data=reference, current_data=current)\n",
    "ws.add_test_suite(project_id=project.id, test_suite= data_stability_test_suite)\n",
    " "
   ]
  },
  {
   "cell_type": "code",
   "execution_count": null,
   "id": "1670ac27-c2a3-4041-9c7a-a5ebc670c2ec",
   "metadata": {},
   "outputs": [],
   "source": [
    "#Data quality tests "
   ]
  },
  {
   "cell_type": "markdown",
   "id": "cfea8deb-02b0-4cbe-ae4c-843e02f9213a",
   "metadata": {},
   "source": [
    "<h2> Save & Load Snapshots"
   ]
  },
  {
   "cell_type": "code",
   "execution_count": 445,
   "id": "bdd98f1a-f52e-47b8-893d-f0b644d31d99",
   "metadata": {},
   "outputs": [],
   "source": [
    "# Export the report as JSON\n",
    "report_json = regression_performance_report.json()\n",
    "regression_performance_report.save_json(\"drift_report.json\")"
   ]
  },
  {
   "cell_type": "code",
   "execution_count": null,
   "id": "c99e23b0-8589-4a02-a8bb-07f6500e75ac",
   "metadata": {},
   "outputs": [],
   "source": [
    "# Load and accessing JSON data\n",
    "with open('drift_report.json', 'r') as file:\n",
    "    data = json.load(file)\n",
    "data['metrics']"
   ]
  },
  {
   "cell_type": "code",
   "execution_count": 363,
   "id": "b0face0d-369c-4896-b615-37ee772669e1",
   "metadata": {},
   "outputs": [],
   "source": [
    "# Save the classification report to an HTML file\n",
    "report.save_html(\"Data drift Report.html\")"
   ]
  },
  {
   "cell_type": "code",
   "execution_count": null,
   "id": "15aa48a2-258b-424e-a9c5-fca3a2875168",
   "metadata": {},
   "outputs": [],
   "source": [
    "# Export the classification report as a dictionary\n",
    "report_dict = report.as_dict()"
   ]
  },
  {
   "cell_type": "code",
   "execution_count": 446,
   "id": "caeffb0a-ad2c-4027-a86e-bc7779d57a5a",
   "metadata": {},
   "outputs": [
    {
     "ename": "ValidationError",
     "evalue": "5 validation errors for ParsingModel[Snapshot]\n__root__ -> id\n  field required (type=value_error.missing)\n__root__ -> metadata\n  field required (type=value_error.missing)\n__root__ -> tags\n  field required (type=value_error.missing)\n__root__ -> suite\n  field required (type=value_error.missing)\n__root__ -> options\n  field required (type=value_error.missing)",
     "output_type": "error",
     "traceback": [
      "\u001b[1;31m---------------------------------------------------------------------------\u001b[0m",
      "\u001b[1;31mValidationError\u001b[0m                           Traceback (most recent call last)",
      "Cell \u001b[1;32mIn[446], line 3\u001b[0m\n\u001b[0;32m      1\u001b[0m \u001b[38;5;66;03m#Add snapshot to Project\u001b[39;00m\n\u001b[0;32m      2\u001b[0m \u001b[38;5;28;01mfrom\u001b[39;00m \u001b[38;5;21;01mevidently\u001b[39;00m\u001b[38;5;21;01m.\u001b[39;00m\u001b[38;5;21;01msuite\u001b[39;00m\u001b[38;5;21;01m.\u001b[39;00m\u001b[38;5;21;01mbase_suite\u001b[39;00m \u001b[38;5;28;01mimport\u001b[39;00m Snapshot\n\u001b[1;32m----> 3\u001b[0m ws\u001b[38;5;241m.\u001b[39madd_snapshot(project\u001b[38;5;241m.\u001b[39mid, \u001b[43mSnapshot\u001b[49m\u001b[38;5;241;43m.\u001b[39;49m\u001b[43mload\u001b[49m\u001b[43m(\u001b[49m\u001b[38;5;124;43m\"\u001b[39;49m\u001b[38;5;124;43mregression_drift_report.json\u001b[39;49m\u001b[38;5;124;43m\"\u001b[39;49m\u001b[43m)\u001b[49m)\n",
      "File \u001b[1;32m~\\AppData\\Local\\Packages\\PythonSoftwareFoundation.Python.3.12_qbz5n2kfra8p0\\LocalCache\\local-packages\\Python312\\site-packages\\evidently\\suite\\base_suite.py:528\u001b[0m, in \u001b[0;36mSnapshot.load\u001b[1;34m(cls, filename)\u001b[0m\n\u001b[0;32m    525\u001b[0m \u001b[38;5;129m@classmethod\u001b[39m\n\u001b[0;32m    526\u001b[0m \u001b[38;5;28;01mdef\u001b[39;00m \u001b[38;5;21mload\u001b[39m(\u001b[38;5;28mcls\u001b[39m, filename):\n\u001b[0;32m    527\u001b[0m     \u001b[38;5;28;01mwith\u001b[39;00m \u001b[38;5;28mopen\u001b[39m(filename, \u001b[38;5;124m\"\u001b[39m\u001b[38;5;124mr\u001b[39m\u001b[38;5;124m\"\u001b[39m) \u001b[38;5;28;01mas\u001b[39;00m f:\n\u001b[1;32m--> 528\u001b[0m         \u001b[38;5;28;01mreturn\u001b[39;00m \u001b[43mparse_obj_as\u001b[49m\u001b[43m(\u001b[49m\u001b[43mSnapshot\u001b[49m\u001b[43m,\u001b[49m\u001b[43m \u001b[49m\u001b[43mjson\u001b[49m\u001b[38;5;241;43m.\u001b[39;49m\u001b[43mload\u001b[49m\u001b[43m(\u001b[49m\u001b[43mf\u001b[49m\u001b[43m)\u001b[49m\u001b[43m)\u001b[49m\n",
      "File \u001b[1;32m~\\AppData\\Local\\Packages\\PythonSoftwareFoundation.Python.3.12_qbz5n2kfra8p0\\LocalCache\\local-packages\\Python312\\site-packages\\pydantic\\v1\\tools.py:38\u001b[0m, in \u001b[0;36mparse_obj_as\u001b[1;34m(type_, obj, type_name)\u001b[0m\n\u001b[0;32m     36\u001b[0m \u001b[38;5;28;01mdef\u001b[39;00m \u001b[38;5;21mparse_obj_as\u001b[39m(type_: Type[T], obj: Any, \u001b[38;5;241m*\u001b[39m, type_name: Optional[NameFactory] \u001b[38;5;241m=\u001b[39m \u001b[38;5;28;01mNone\u001b[39;00m) \u001b[38;5;241m-\u001b[39m\u001b[38;5;241m>\u001b[39m T:\n\u001b[0;32m     37\u001b[0m     model_type \u001b[38;5;241m=\u001b[39m _get_parsing_type(type_, type_name\u001b[38;5;241m=\u001b[39mtype_name)  \u001b[38;5;66;03m# type: ignore[arg-type]\u001b[39;00m\n\u001b[1;32m---> 38\u001b[0m     \u001b[38;5;28;01mreturn\u001b[39;00m \u001b[43mmodel_type\u001b[49m\u001b[43m(\u001b[49m\u001b[43m__root__\u001b[49m\u001b[38;5;241;43m=\u001b[39;49m\u001b[43mobj\u001b[49m\u001b[43m)\u001b[49m\u001b[38;5;241m.\u001b[39m__root__\n",
      "File \u001b[1;32m~\\AppData\\Local\\Packages\\PythonSoftwareFoundation.Python.3.12_qbz5n2kfra8p0\\LocalCache\\local-packages\\Python312\\site-packages\\pydantic\\v1\\main.py:341\u001b[0m, in \u001b[0;36mBaseModel.__init__\u001b[1;34m(__pydantic_self__, **data)\u001b[0m\n\u001b[0;32m    339\u001b[0m values, fields_set, validation_error \u001b[38;5;241m=\u001b[39m validate_model(__pydantic_self__\u001b[38;5;241m.\u001b[39m\u001b[38;5;18m__class__\u001b[39m, data)\n\u001b[0;32m    340\u001b[0m \u001b[38;5;28;01mif\u001b[39;00m validation_error:\n\u001b[1;32m--> 341\u001b[0m     \u001b[38;5;28;01mraise\u001b[39;00m validation_error\n\u001b[0;32m    342\u001b[0m \u001b[38;5;28;01mtry\u001b[39;00m:\n\u001b[0;32m    343\u001b[0m     object_setattr(__pydantic_self__, \u001b[38;5;124m'\u001b[39m\u001b[38;5;124m__dict__\u001b[39m\u001b[38;5;124m'\u001b[39m, values)\n",
      "\u001b[1;31mValidationError\u001b[0m: 5 validation errors for ParsingModel[Snapshot]\n__root__ -> id\n  field required (type=value_error.missing)\n__root__ -> metadata\n  field required (type=value_error.missing)\n__root__ -> tags\n  field required (type=value_error.missing)\n__root__ -> suite\n  field required (type=value_error.missing)\n__root__ -> options\n  field required (type=value_error.missing)"
     ]
    }
   ],
   "source": [
    "#Add snapshot to Project\n",
    "from evidently.suite.base_suite import Snapshot\n",
    "ws.add_snapshot(project.id, Snapshot.load(\"drift_report.json\"))"
   ]
  },
  {
   "cell_type": "code",
   "execution_count": null,
   "id": "70f1766d-e8fd-45fa-bab5-fc35afd857f6",
   "metadata": {},
   "outputs": [],
   "source": []
  },
  {
   "cell_type": "markdown",
   "id": "c95d3816-d7d5-44a3-a3f5-60f03d646e11",
   "metadata": {},
   "source": [
    "<h2>Dashboards"
   ]
  },
  {
   "cell_type": "code",
   "execution_count": 47,
   "id": "14286754-677c-42a5-96f3-f2b8080b60af",
   "metadata": {},
   "outputs": [],
   "source": [
    "from evidently.ui.dashboards import DashboardPanelCounter, ReportFilter, PanelValue, PlotType, CounterAgg, DashboardPanelPlot, DashboardPanelTestSuite, TestSuitePanelType\n",
    "from evidently.renderers.html_widgets import WidgetSize"
   ]
  },
  {
   "cell_type": "code",
   "execution_count": 137,
   "id": "b5300d77-1873-49de-a829-4f6f8924b85d",
   "metadata": {},
   "outputs": [
    {
     "data": {
      "text/plain": [
       "Project(id=UUID('0193f840-76ba-7095-8643-54ca54737d20'), name='evidently project', description='getting started with evidently', dashboard=DashboardConfig(name='evidently project', panels=[DashboardPanelCounter(type='evidently:dashboard_panel:DashboardPanelCounter', id=UUID('0193f9e6-e280-7cfd-8645-015c3f463783'), title='', filter=ReportFilter(metadata_values={}, tag_values=[], include_test_suites=False), size=<WidgetSize.FULL: 2>, agg=<CounterAgg.NONE: 'none'>, value=None, text='Getting started sample - Evidently')], tabs=[], tab_id_to_panel_ids={}), team_id=None, org_id=None, date_from=None, date_to=None, created_at=datetime.datetime(2024, 12, 24, 16, 9, 54, 554475))"
      ]
     },
     "execution_count": 137,
     "metadata": {},
     "output_type": "execute_result"
    }
   ],
   "source": [
    "#Title Panel\n",
    "project.dashboard.add_panel(\n",
    "        DashboardPanelCounter(\n",
    "            title=\"\",\n",
    "            filter=ReportFilter(metadata_values={}, tag_values=[]),\n",
    "            value=None,\n",
    "            text=\"Getting started sample - Evidently\",\n",
    "            agg=CounterAgg.NONE,\n",
    "        )\n",
    ")\n",
    "project.save()"
   ]
  },
  {
   "cell_type": "code",
   "execution_count": 138,
   "id": "179ae520-77ba-48c2-a554-e7ca645acc7d",
   "metadata": {},
   "outputs": [
    {
     "data": {
      "text/plain": [
       "Project(id=UUID('0193f840-76ba-7095-8643-54ca54737d20'), name='evidently project', description='getting started with evidently', dashboard=DashboardConfig(name='evidently project', panels=[DashboardPanelCounter(type='evidently:dashboard_panel:DashboardPanelCounter', id=UUID('0193f9e6-e280-7cfd-8645-015c3f463783'), title='', filter=ReportFilter(metadata_values={}, tag_values=[], include_test_suites=False), size=<WidgetSize.FULL: 2>, agg=<CounterAgg.NONE: 'none'>, value=None, text='Getting started sample - Evidently'), DashboardPanelCounter(type='evidently:dashboard_panel:DashboardPanelCounter', id=UUID('0193f9e7-07fa-73c6-a491-cc5eeb9911b3'), title='Share of Drifted Features', filter=ReportFilter(metadata_values={}, tag_values=['drift1preset'], include_test_suites=False), size=<WidgetSize.HALF: 1>, agg=<CounterAgg.LAST: 'last'>, value=PanelValue(field_path='share_of_drifted_columns', metric_id='DatasetDriftMetric', metric_fingerprint=None, metric_args={}, legend='share'), text='share')], tabs=[], tab_id_to_panel_ids={}), team_id=None, org_id=None, date_from=None, date_to=None, created_at=datetime.datetime(2024, 12, 24, 16, 9, 54, 554475))"
      ]
     },
     "execution_count": 138,
     "metadata": {},
     "output_type": "execute_result"
    }
   ],
   "source": [
    "#Counter panel - Dataset drift share\n",
    "project.dashboard.add_panel(\n",
    "        DashboardPanelCounter(\n",
    "            title=\"Share of Drifted Features\",\n",
    "            filter=ReportFilter(metadata_values={}, tag_values=[\"drift1preset\"]),\n",
    "            value=PanelValue(\n",
    "                metric_id=\"DatasetDriftMetric\",\n",
    "                field_path= DatasetDriftMetric.fields.share_of_drifted_columns, \n",
    "                legend=\"share\",\n",
    "            ),\n",
    "            text=\"share\",\n",
    "            agg=CounterAgg.LAST,\n",
    "            size=1,\n",
    "        )\n",
    ")\n",
    "project.save()\n",
    "\n"
   ]
  },
  {
   "cell_type": "code",
   "execution_count": 140,
   "id": "52e945e2-6411-4662-889c-a23b5ed8c39a",
   "metadata": {},
   "outputs": [
    {
     "data": {
      "text/plain": [
       "Project(id=UUID('0193f840-76ba-7095-8643-54ca54737d20'), name='evidently project', description='getting started with evidently', dashboard=DashboardConfig(name='evidently project', panels=[DashboardPanelCounter(type='evidently:dashboard_panel:DashboardPanelCounter', id=UUID('0193f9e6-e280-7cfd-8645-015c3f463783'), title='', filter=ReportFilter(metadata_values={}, tag_values=[], include_test_suites=False), size=<WidgetSize.FULL: 2>, agg=<CounterAgg.NONE: 'none'>, value=None, text='Getting started sample - Evidently'), DashboardPanelCounter(type='evidently:dashboard_panel:DashboardPanelCounter', id=UUID('0193f9e7-07fa-73c6-a491-cc5eeb9911b3'), title='Share of Drifted Features', filter=ReportFilter(metadata_values={}, tag_values=['drift1preset'], include_test_suites=False), size=<WidgetSize.HALF: 1>, agg=<CounterAgg.LAST: 'last'>, value=PanelValue(field_path='share_of_drifted_columns', metric_id='DatasetDriftMetric', metric_fingerprint=None, metric_args={}, legend='share'), text='share'), DashboardPanelCounter(type='evidently:dashboard_panel:DashboardPanelCounter', id=UUID('0193f9e7-4b26-7dc5-a52d-9f6ab7acbc51'), title='Number of Drifted Features', filter=ReportFilter(metadata_values={}, tag_values=['drift1preset'], include_test_suites=False), size=<WidgetSize.HALF: 1>, agg=<CounterAgg.SUM: 'sum'>, value=PanelValue(field_path='number_of_drifted_columns', metric_id='DatasetDriftMetric', metric_fingerprint=None, metric_args={}, legend='Drifted Columns'), text='Drifted Columns'), DashboardPanelCounter(type='evidently:dashboard_panel:DashboardPanelCounter', id=UUID('0193f9e8-44ea-7f2d-88c9-456e26c91892'), title='Number of Drifted Features', filter=ReportFilter(metadata_values={}, tag_values=['drift1preset'], include_test_suites=False), size=<WidgetSize.HALF: 1>, agg=<CounterAgg.SUM: 'sum'>, value=PanelValue(field_path='number_of_drifted_columns', metric_id='DatasetDriftMetric', metric_fingerprint=None, metric_args={}, legend='Drifted Columns'), text='Drifted Columns')], tabs=[], tab_id_to_panel_ids={}), team_id=None, org_id=None, date_from=None, date_to=None, created_at=datetime.datetime(2024, 12, 24, 16, 9, 54, 554475))"
      ]
     },
     "execution_count": 140,
     "metadata": {},
     "output_type": "execute_result"
    }
   ],
   "source": [
    "#Counter panel - Dataset drift count\n",
    "project.dashboard.add_panel(\n",
    "        DashboardPanelCounter(\n",
    "            title=\"Number of Drifted Features\",\n",
    "            filter=ReportFilter(metadata_values={}, tag_values=[\"drift1preset\"]),\n",
    "            value=PanelValue(\n",
    "                metric_id=\"DatasetDriftMetric\",\n",
    "                field_path= DatasetDriftMetric.fields.number_of_drifted_columns, \n",
    "                legend=\"Drifted Columns\",\n",
    "            ),\n",
    "            text=\"Drifted Columns\",\n",
    "            agg=CounterAgg.SUM,\n",
    "            size=1,\n",
    "        )\n",
    ")\n",
    "project.save()"
   ]
  },
  {
   "cell_type": "code",
   "execution_count": 143,
   "id": "757663cf-a20b-4002-9976-714a2d969fec",
   "metadata": {},
   "outputs": [
    {
     "data": {
      "text/plain": [
       "Project(id=UUID('0193f840-76ba-7095-8643-54ca54737d20'), name='evidently project', description='getting started with evidently', dashboard=DashboardConfig(name='evidently project', panels=[DashboardPanelCounter(type='evidently:dashboard_panel:DashboardPanelCounter', id=UUID('0193f9e6-e280-7cfd-8645-015c3f463783'), title='', filter=ReportFilter(metadata_values={}, tag_values=[], include_test_suites=False), size=<WidgetSize.FULL: 2>, agg=<CounterAgg.NONE: 'none'>, value=None, text='Getting started sample - Evidently'), DashboardPanelCounter(type='evidently:dashboard_panel:DashboardPanelCounter', id=UUID('0193f9e7-07fa-73c6-a491-cc5eeb9911b3'), title='Share of Drifted Features', filter=ReportFilter(metadata_values={}, tag_values=['drift1preset'], include_test_suites=False), size=<WidgetSize.HALF: 1>, agg=<CounterAgg.LAST: 'last'>, value=PanelValue(field_path='share_of_drifted_columns', metric_id='DatasetDriftMetric', metric_fingerprint=None, metric_args={}, legend='share'), text='share'), DashboardPanelCounter(type='evidently:dashboard_panel:DashboardPanelCounter', id=UUID('0193f9e7-4b26-7dc5-a52d-9f6ab7acbc51'), title='Number of Drifted Features', filter=ReportFilter(metadata_values={}, tag_values=['drift1preset'], include_test_suites=False), size=<WidgetSize.HALF: 1>, agg=<CounterAgg.SUM: 'sum'>, value=PanelValue(field_path='number_of_drifted_columns', metric_id='DatasetDriftMetric', metric_fingerprint=None, metric_args={}, legend='Drifted Columns'), text='Drifted Columns'), DashboardPanelCounter(type='evidently:dashboard_panel:DashboardPanelCounter', id=UUID('0193f9e8-44ea-7f2d-88c9-456e26c91892'), title='Number of Drifted Features', filter=ReportFilter(metadata_values={}, tag_values=['drift1preset'], include_test_suites=False), size=<WidgetSize.HALF: 1>, agg=<CounterAgg.SUM: 'sum'>, value=PanelValue(field_path='number_of_drifted_columns', metric_id='DatasetDriftMetric', metric_fingerprint=None, metric_args={}, legend='Drifted Columns'), text='Drifted Columns'), DashboardPanelPlot(type='evidently:dashboard_panel:DashboardPanelPlot', id=UUID('0193f9e8-502c-7274-b2bf-4eac2b2b23b0'), title='Target Drift - Price', filter=ReportFilter(metadata_values={}, tag_values=[], include_test_suites=False), size=<WidgetSize.HALF: 1>, values=[PanelValue(field_path='drift_score', metric_id='ColumnDriftMetric', metric_fingerprint=None, metric_args={'column_name.name': 'price'}, legend='target: price')], plot_type=<PlotType.LINE: 'line'>), DashboardPanelPlot(type='evidently:dashboard_panel:DashboardPanelPlot', id=UUID('0193f9e8-9be7-7e30-a286-78e4dc508b1e'), title='Regression Metrics', filter=ReportFilter(metadata_values={}, tag_values=[], include_test_suites=False), size=<WidgetSize.HALF: 1>, values=[PanelValue(field_path='current.mean_abs_perc_error', metric_id='RegressionQualityMetric', metric_fingerprint=None, metric_args={}, legend='MAPE'), PanelValue(field_path='current.rmse', metric_id='RegressionQualityMetric', metric_fingerprint=None, metric_args={}, legend='RMSE')], plot_type=<PlotType.LINE: 'line'>), DashboardPanelPlot(type='evidently:dashboard_panel:DashboardPanelPlot', id=UUID('0193f9e8-ae52-7d8d-a253-d3129fd47d38'), title='Target Drift - Price', filter=ReportFilter(metadata_values={}, tag_values=[], include_test_suites=False), size=<WidgetSize.HALF: 1>, values=[PanelValue(field_path='drift_score', metric_id='ColumnDriftMetric', metric_fingerprint=None, metric_args={'column_name.name': 'price'}, legend='target: price')], plot_type=<PlotType.LINE: 'line'>)], tabs=[], tab_id_to_panel_ids={}), team_id=None, org_id=None, date_from=None, date_to=None, created_at=datetime.datetime(2024, 12, 24, 16, 9, 54, 554475))"
      ]
     },
     "execution_count": 143,
     "metadata": {},
     "output_type": "execute_result"
    }
   ],
   "source": [
    "#Target drift panel\n",
    "project.dashboard.add_panel(\n",
    "        DashboardPanelPlot(\n",
    "            title=\"Target Drift - Price\",\n",
    "            filter=ReportFilter(metadata_values={}, tag_values=[]),\n",
    "            values=[\n",
    "                PanelValue(\n",
    "                    metric_id=\"ColumnDriftMetric\",\n",
    "                    metric_args={\"column_name.name\": \"price\"},\n",
    "                    field_path=ColumnDriftMetric.fields.drift_score,\n",
    "                    legend=\"target: price\",\n",
    "                ),\n",
    "            ],\n",
    "            plot_type=PlotType.LINE,\n",
    "            size=WidgetSize.HALF,\n",
    "        )\n",
    "    )\n",
    "project.save()"
   ]
  },
  {
   "cell_type": "code",
   "execution_count": 142,
   "id": "3109eb7a-1ec9-4eab-b8a4-a80d726d30aa",
   "metadata": {},
   "outputs": [
    {
     "data": {
      "text/plain": [
       "Project(id=UUID('0193f840-76ba-7095-8643-54ca54737d20'), name='evidently project', description='getting started with evidently', dashboard=DashboardConfig(name='evidently project', panels=[DashboardPanelCounter(type='evidently:dashboard_panel:DashboardPanelCounter', id=UUID('0193f9e6-e280-7cfd-8645-015c3f463783'), title='', filter=ReportFilter(metadata_values={}, tag_values=[], include_test_suites=False), size=<WidgetSize.FULL: 2>, agg=<CounterAgg.NONE: 'none'>, value=None, text='Getting started sample - Evidently'), DashboardPanelCounter(type='evidently:dashboard_panel:DashboardPanelCounter', id=UUID('0193f9e7-07fa-73c6-a491-cc5eeb9911b3'), title='Share of Drifted Features', filter=ReportFilter(metadata_values={}, tag_values=['drift1preset'], include_test_suites=False), size=<WidgetSize.HALF: 1>, agg=<CounterAgg.LAST: 'last'>, value=PanelValue(field_path='share_of_drifted_columns', metric_id='DatasetDriftMetric', metric_fingerprint=None, metric_args={}, legend='share'), text='share'), DashboardPanelCounter(type='evidently:dashboard_panel:DashboardPanelCounter', id=UUID('0193f9e7-4b26-7dc5-a52d-9f6ab7acbc51'), title='Number of Drifted Features', filter=ReportFilter(metadata_values={}, tag_values=['drift1preset'], include_test_suites=False), size=<WidgetSize.HALF: 1>, agg=<CounterAgg.SUM: 'sum'>, value=PanelValue(field_path='number_of_drifted_columns', metric_id='DatasetDriftMetric', metric_fingerprint=None, metric_args={}, legend='Drifted Columns'), text='Drifted Columns'), DashboardPanelCounter(type='evidently:dashboard_panel:DashboardPanelCounter', id=UUID('0193f9e8-44ea-7f2d-88c9-456e26c91892'), title='Number of Drifted Features', filter=ReportFilter(metadata_values={}, tag_values=['drift1preset'], include_test_suites=False), size=<WidgetSize.HALF: 1>, agg=<CounterAgg.SUM: 'sum'>, value=PanelValue(field_path='number_of_drifted_columns', metric_id='DatasetDriftMetric', metric_fingerprint=None, metric_args={}, legend='Drifted Columns'), text='Drifted Columns'), DashboardPanelPlot(type='evidently:dashboard_panel:DashboardPanelPlot', id=UUID('0193f9e8-502c-7274-b2bf-4eac2b2b23b0'), title='Target Drift - Price', filter=ReportFilter(metadata_values={}, tag_values=[], include_test_suites=False), size=<WidgetSize.HALF: 1>, values=[PanelValue(field_path='drift_score', metric_id='ColumnDriftMetric', metric_fingerprint=None, metric_args={'column_name.name': 'price'}, legend='target: price')], plot_type=<PlotType.LINE: 'line'>), DashboardPanelPlot(type='evidently:dashboard_panel:DashboardPanelPlot', id=UUID('0193f9e8-9be7-7e30-a286-78e4dc508b1e'), title='Regression Metrics', filter=ReportFilter(metadata_values={}, tag_values=[], include_test_suites=False), size=<WidgetSize.HALF: 1>, values=[PanelValue(field_path='current.mean_abs_perc_error', metric_id='RegressionQualityMetric', metric_fingerprint=None, metric_args={}, legend='MAPE'), PanelValue(field_path='current.rmse', metric_id='RegressionQualityMetric', metric_fingerprint=None, metric_args={}, legend='RMSE')], plot_type=<PlotType.LINE: 'line'>)], tabs=[], tab_id_to_panel_ids={}), team_id=None, org_id=None, date_from=None, date_to=None, created_at=datetime.datetime(2024, 12, 24, 16, 9, 54, 554475))"
      ]
     },
     "execution_count": 142,
     "metadata": {},
     "output_type": "execute_result"
    }
   ],
   "source": [
    "#Regression quality panel \n",
    "project.dashboard.add_panel(\n",
    "   DashboardPanelPlot(\n",
    "       title=\"Regression Metrics\",\n",
    "       filter=ReportFilter(metadata_values={}, tag_values=[]),\n",
    "       values=[\n",
    "       PanelValue(\n",
    "           metric_id=\"RegressionQualityMetric\",\n",
    "           field_path=RegressionQualityMetric.fields.current.mean_abs_perc_error,\n",
    "           legend=\"MAPE\",\n",
    "       ),\n",
    "       PanelValue(\n",
    "           metric_id=\"RegressionQualityMetric\",\n",
    "           field_path=RegressionQualityMetric.fields.current.rmse,\n",
    "           legend=\"RMSE\",\n",
    "       ),\n",
    "   ],\n",
    "   plot_type=PlotType.LINE,\n",
    "   size=WidgetSize.HALF,\n",
    "   )\n",
    ")\n",
    "project.save()"
   ]
  },
  {
   "cell_type": "code",
   "execution_count": null,
   "id": "b0a70e43-5fd5-4a20-8c63-c5b235aaa122",
   "metadata": {},
   "outputs": [],
   "source": [
    "\n",
    "    # Adding test suites to the dashboard\n",
    "project.dashboard.add_panel(\n",
    "        DashboardPanelTestSuite(\n",
    "            title=\"All tests: aggregated\",\n",
    "            filter=ReportFilter(metadata_values={}, tag_values=[], include_test_suites=True),\n",
    "            size=WidgetSize.HALF,\n",
    "            time_agg=\"1M\",\n",
    "        )\n",
    "    )\n",
    "\n",
    "project.dashboard.add_panel(\n",
    "        DashboardPanelTestSuite(\n",
    "            title=\"All tests: detailed\",\n",
    "            filter=ReportFilter(metadata_values={}, tag_values=[], include_test_suites=True),\n",
    "            size=WidgetSize.HALF,\n",
    "            panel_type=TestSuitePanelType.DETAILED,\n",
    "            time_agg=\"1D\",\n",
    "        )\n",
    "    )\n"
   ]
  },
  {
   "cell_type": "code",
   "execution_count": 393,
   "id": "a3e2f0a8-3138-4a39-8ea8-9514f949e576",
   "metadata": {},
   "outputs": [
    {
     "data": {
      "text/plain": [
       "Project(id=UUID('0193c51c-ea06-75f8-b4f5-efee96587345'), name='evidently project', description=None, dashboard=DashboardConfig(name='evidently project', panels=[DashboardPanelCounter(type='evidently:dashboard_panel:DashboardPanelCounter', id=UUID('0193c53a-832a-7cfe-952d-0415a7d2e8b9'), title='Share of Drifted Features', filter=ReportFilter(metadata_values={}, tag_values=[], include_test_suites=False), size=<WidgetSize.HALF: 1>, agg=<CounterAgg.LAST: 'last'>, value=PanelValue(field_path='share_of_drifted_columns', metric_id='DatasetDriftMetric', metric_fingerprint=None, metric_args={}, legend='share'), text='share'), DashboardPanelCounter(type='evidently:dashboard_panel:DashboardPanelCounter', id=UUID('0193db01-8c99-76f5-94bd-4aaae2e5da38'), title='Share of Drifted Features', filter=ReportFilter(metadata_values={}, tag_values=[], include_test_suites=False), size=<WidgetSize.HALF: 1>, agg=<CounterAgg.NONE: 'none'>, value=PanelValue(field_path='share_of_drifted_columns', metric_id='DatasetDriftMetric', metric_fingerprint=None, metric_args={}, legend='share'), text='share'), DashboardPanelCounter(type='evidently:dashboard_panel:DashboardPanelCounter', id=UUID('0193db03-c722-777f-9643-f8e8ba999938'), title='Share of Drifted Features', filter=ReportFilter(metadata_values={}, tag_values=[], include_test_suites=False), size=<WidgetSize.HALF: 1>, agg=<CounterAgg.NONE: 'none'>, value=PanelValue(field_path='share_of_drifted_columns', metric_id='DatasetDriftMetric', metric_fingerprint=None, metric_args={}, legend='share'), text='share'), DashboardPanelCounter(type='evidently:dashboard_panel:DashboardPanelCounter', id=UUID('0193db04-8e34-7e1c-b1e5-ed44f6f84fff'), title='Share of Drifted Features', filter=ReportFilter(metadata_values={}, tag_values=[], include_test_suites=False), size=<WidgetSize.HALF: 1>, agg=<CounterAgg.NONE: 'none'>, value=PanelValue(field_path='share_of_drifted_columns', metric_id='DatasetDriftMetric', metric_fingerprint=None, metric_args={}, legend='share'), text='share'), DashboardPanelPlot(type='evidently:dashboard_panel:DashboardPanelPlot', id=UUID('0193db04-8e35-7db1-be6f-7a008bc9ac98'), title='Target Drift', filter=ReportFilter(metadata_values={}, tag_values=[], include_test_suites=False), size=<WidgetSize.HALF: 1>, values=[PanelValue(field_path='drift_score', metric_id='ColumnDriftMetric', metric_fingerprint=None, metric_args={'column_name.name': 'ArrDelay'}, legend='target: ArrDelay')], plot_type=<PlotType.LINE: 'line'>), DashboardPanelTestSuite(type='evidently:dashboard_panel:DashboardPanelTestSuite', id=UUID('0193db04-8e36-77b7-92c1-06828ea3b4cf'), title='All tests: aggregated', filter=ReportFilter(metadata_values={}, tag_values=[], include_test_suites=True), size=<WidgetSize.HALF: 1>, test_filters=[], panel_type=<TestSuitePanelType.AGGREGATE: 'aggregate'>, time_agg='1M'), DashboardPanelCounter(type='evidently:dashboard_panel:DashboardPanelCounter', id=UUID('0193db04-bf4e-7c9f-ad3f-04ab115fed0c'), title='Share of Drifted Features', filter=ReportFilter(metadata_values={}, tag_values=[], include_test_suites=False), size=<WidgetSize.HALF: 1>, agg=<CounterAgg.NONE: 'none'>, value=PanelValue(field_path='share_of_drifted_columns', metric_id='DatasetDriftMetric', metric_fingerprint=None, metric_args={}, legend='share'), text='share'), DashboardPanelPlot(type='evidently:dashboard_panel:DashboardPanelPlot', id=UUID('0193db04-bf4f-71e3-b216-d5c4d2ca0f8c'), title='Target Drift', filter=ReportFilter(metadata_values={}, tag_values=[], include_test_suites=False), size=<WidgetSize.HALF: 1>, values=[PanelValue(field_path='drift_score', metric_id='ColumnDriftMetric', metric_fingerprint=None, metric_args={'column_name.name': 'ArrDelay'}, legend='target: ArrDelay')], plot_type=<PlotType.LINE: 'line'>), DashboardPanelTestSuite(type='evidently:dashboard_panel:DashboardPanelTestSuite', id=UUID('0193db04-bf50-73b2-8124-88a4db2cb7ee'), title='All tests: aggregated', filter=ReportFilter(metadata_values={}, tag_values=[], include_test_suites=True), size=<WidgetSize.HALF: 1>, test_filters=[], panel_type=<TestSuitePanelType.AGGREGATE: 'aggregate'>, time_agg='1M'), DashboardPanelTestSuite(type='evidently:dashboard_panel:DashboardPanelTestSuite', id=UUID('0193db04-bf51-742d-8d46-16ee8d5e0a0a'), title='All tests: detailed', filter=ReportFilter(metadata_values={}, tag_values=[], include_test_suites=True), size=<WidgetSize.HALF: 1>, test_filters=[], panel_type=<TestSuitePanelType.DETAILED: 'detailed'>, time_agg='1D'), DashboardPanelCounter(type='evidently:dashboard_panel:DashboardPanelCounter', id=UUID('0193db06-f187-7338-aabd-f582fafbb290'), title='Share of Drifted Features', filter=ReportFilter(metadata_values={}, tag_values=[], include_test_suites=False), size=<WidgetSize.HALF: 1>, agg=<CounterAgg.NONE: 'none'>, value=PanelValue(field_path='share_of_drifted_columns', metric_id='DatasetDriftMetric', metric_fingerprint=None, metric_args={}, legend='share'), text='share'), DashboardPanelPlot(type='evidently:dashboard_panel:DashboardPanelPlot', id=UUID('0193db06-f188-73b8-897e-a3b7d5b5bed4'), title='Target Drift', filter=ReportFilter(metadata_values={}, tag_values=[], include_test_suites=False), size=<WidgetSize.HALF: 1>, values=[PanelValue(field_path='drift_score', metric_id='ColumnDriftMetric', metric_fingerprint=None, metric_args={'column_name.name': 'price'}, legend='target: price')], plot_type=<PlotType.LINE: 'line'>), DashboardPanelTestSuite(type='evidently:dashboard_panel:DashboardPanelTestSuite', id=UUID('0193db06-f189-771b-b2f3-731471a9fabc'), title='All tests: aggregated', filter=ReportFilter(metadata_values={}, tag_values=[], include_test_suites=True), size=<WidgetSize.HALF: 1>, test_filters=[], panel_type=<TestSuitePanelType.AGGREGATE: 'aggregate'>, time_agg='1M'), DashboardPanelTestSuite(type='evidently:dashboard_panel:DashboardPanelTestSuite', id=UUID('0193db06-f18a-75ed-847f-a28a812fbe54'), title='All tests: detailed', filter=ReportFilter(metadata_values={}, tag_values=[], include_test_suites=True), size=<WidgetSize.HALF: 1>, test_filters=[], panel_type=<TestSuitePanelType.DETAILED: 'detailed'>, time_agg='1D'), DashboardPanelCounter(type='evidently:dashboard_panel:DashboardPanelCounter', id=UUID('0193db08-bf62-7e5e-a684-3b2dd9115736'), title='Share of Drifted Features', filter=ReportFilter(metadata_values={}, tag_values=[], include_test_suites=False), size=<WidgetSize.HALF: 1>, agg=<CounterAgg.NONE: 'none'>, value=PanelValue(field_path='share_of_drifted_columns', metric_id='DatasetDriftMetric', metric_fingerprint=None, metric_args={}, legend='share'), text='share'), DashboardPanelPlot(type='evidently:dashboard_panel:DashboardPanelPlot', id=UUID('0193db08-bf63-7d5a-900f-ee3f37c29315'), title='Target Drift', filter=ReportFilter(metadata_values={}, tag_values=[], include_test_suites=False), size=<WidgetSize.HALF: 1>, values=[PanelValue(field_path='drift_score', metric_id='ColumnDriftMetric', metric_fingerprint=None, metric_args={'column_name.name': 'price'}, legend='target: price')], plot_type=<PlotType.LINE: 'line'>), DashboardPanelTestSuite(type='evidently:dashboard_panel:DashboardPanelTestSuite', id=UUID('0193db08-bf64-70bf-bfc7-90fe65d8d62b'), title='All tests: aggregated', filter=ReportFilter(metadata_values={}, tag_values=[], include_test_suites=True), size=<WidgetSize.HALF: 1>, test_filters=[], panel_type=<TestSuitePanelType.AGGREGATE: 'aggregate'>, time_agg='1M'), DashboardPanelTestSuite(type='evidently:dashboard_panel:DashboardPanelTestSuite', id=UUID('0193db08-bf65-7e31-ab88-f6f4cb90f4ad'), title='All tests: detailed', filter=ReportFilter(metadata_values={}, tag_values=[], include_test_suites=True), size=<WidgetSize.HALF: 1>, test_filters=[], panel_type=<TestSuitePanelType.DETAILED: 'detailed'>, time_agg='1D')], tabs=[], tab_id_to_panel_ids={}), team_id=None, org_id=None, date_from=None, date_to=None, created_at=datetime.datetime(2024, 12, 14, 17, 50, 26, 758903))"
      ]
     },
     "execution_count": 393,
     "metadata": {},
     "output_type": "execute_result"
    }
   ],
   "source": [
    "#After you define the design of your monitoring panels, you must save the project.\n",
    "project.save()"
   ]
  },
  {
   "cell_type": "code",
   "execution_count": 136,
   "id": "e7a44bcf-090c-400f-aa6c-986a115f91df",
   "metadata": {},
   "outputs": [
    {
     "data": {
      "text/plain": [
       "Project(id=UUID('0193f840-76ba-7095-8643-54ca54737d20'), name='evidently project', description='getting started with evidently', dashboard=DashboardConfig(name='evidently project', panels=[], tabs=[], tab_id_to_panel_ids={}), team_id=None, org_id=None, date_from=None, date_to=None, created_at=datetime.datetime(2024, 12, 24, 16, 9, 54, 554475))"
      ]
     },
     "execution_count": 136,
     "metadata": {},
     "output_type": "execute_result"
    }
   ],
   "source": [
    "#Delete panels\n",
    "project.dashboard.panels = []\n",
    "project.save()"
   ]
  },
  {
   "cell_type": "code",
   "execution_count": null,
   "id": "736064a9-00d8-494c-8439-7441b1291c38",
   "metadata": {},
   "outputs": [],
   "source": []
  },
  {
   "cell_type": "code",
   "execution_count": null,
   "id": "063bfef1-7325-47ee-97cc-5cc10eb2fbe2",
   "metadata": {},
   "outputs": [],
   "source": []
  },
  {
   "cell_type": "code",
   "execution_count": null,
   "id": "5f137812-3505-40d0-b20e-c80bdf154758",
   "metadata": {},
   "outputs": [],
   "source": []
  },
  {
   "cell_type": "code",
   "execution_count": null,
   "id": "c7b58c04-189d-43e3-b521-3b77f8963d20",
   "metadata": {},
   "outputs": [],
   "source": []
  },
  {
   "cell_type": "code",
   "execution_count": null,
   "id": "0e09183d-e600-47a0-8c78-26d3f34912ce",
   "metadata": {},
   "outputs": [],
   "source": []
  }
 ],
 "metadata": {
  "kernelspec": {
   "display_name": "Python 3 (ipykernel)",
   "language": "python",
   "name": "python3"
  },
  "language_info": {
   "codemirror_mode": {
    "name": "ipython",
    "version": 3
   },
   "file_extension": ".py",
   "mimetype": "text/x-python",
   "name": "python",
   "nbconvert_exporter": "python",
   "pygments_lexer": "ipython3",
   "version": "3.12.8"
  }
 },
 "nbformat": 4,
 "nbformat_minor": 5
}
