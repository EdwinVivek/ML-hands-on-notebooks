{
 "cells": [
  {
   "cell_type": "markdown",
   "metadata": {},
   "source": [
    "OOPS Concepts"
   ]
  },
  {
   "cell_type": "code",
   "execution_count": 2,
   "metadata": {},
   "outputs": [],
   "source": [
    "#class\n",
    "class Dog:\n",
    "    #class attiribute\n",
    "    species = \"Canis familiaris\"\n",
    "    \n",
    "    def __init__(self, name, age):\n",
    "        self.name = name\n",
    "        self.age = age\n",
    "        \n",
    "    def __str__(self):\n",
    "        return f\"{self.name}'s age is {self.age}\"\n",
    "        \n",
    "    #instance method\n",
    "    def speak(self, sound):\n",
    "        return f\"{self.name} says {sound}\"\n",
    "        "
   ]
  },
  {
   "cell_type": "code",
   "execution_count": 3,
   "metadata": {},
   "outputs": [
    {
     "name": "stdout",
     "output_type": "stream",
     "text": [
      "Harry says bow bow\n",
      "Harry's age is 3\n"
     ]
    }
   ],
   "source": [
    "#object\n",
    "a = Dog('Harry', 3)\n",
    "print(a.speak(\"bow bow\"))\n",
    "print(a)"
   ]
  },
  {
   "cell_type": "code",
   "execution_count": 11,
   "metadata": {},
   "outputs": [],
   "source": [
    "#Inheritance\n",
    "class JackRussellTerrier(Dog):\n",
    "    #override method from a parent class\n",
    "    def speak(self, sound=\"Arf\"):\n",
    "        return f\"{self.name} barks: {sound}\""
   ]
  },
  {
   "cell_type": "code",
   "execution_count": 12,
   "metadata": {},
   "outputs": [
    {
     "data": {
      "text/plain": [
       "'Jack barks: Arf'"
      ]
     },
     "execution_count": 12,
     "metadata": {},
     "output_type": "execute_result"
    }
   ],
   "source": [
    "jack = JackRussellTerrier(\"Jack\", 7)\n",
    "jack.speak()"
   ]
  },
  {
   "cell_type": "code",
   "execution_count": 13,
   "metadata": {},
   "outputs": [],
   "source": [
    "class Bulldog(Dog):\n",
    "    def speak(self, sound=\"Lol\"):\n",
    "        return super().speak(sound)"
   ]
  },
  {
   "cell_type": "code",
   "execution_count": 14,
   "metadata": {},
   "outputs": [
    {
     "name": "stdout",
     "output_type": "stream",
     "text": [
      "Miles says Garr\n",
      "Miles says Lol\n"
     ]
    }
   ],
   "source": [
    "miles = Bulldog(\"Miles\", 5)\n",
    "print(miles.speak(\"Garr\"))\n",
    "print(miles.speak())"
   ]
  },
  {
   "cell_type": "code",
   "execution_count": 20,
   "metadata": {},
   "outputs": [],
   "source": [
    "#call super() with other class\n",
    "class JackRussellTerrier_Junior(JackRussellTerrier):\n",
    "    def speak(self, sound=\"Warf\"):\n",
    "        return super(JackRussellTerrier, self).speak(sound)"
   ]
  },
  {
   "cell_type": "code",
   "execution_count": 21,
   "metadata": {},
   "outputs": [
    {
     "data": {
      "text/plain": [
       "'jack junior says Warf'"
      ]
     },
     "execution_count": 21,
     "metadata": {},
     "output_type": "execute_result"
    }
   ],
   "source": [
    "junior = JackRussellTerrier_Junior(\"jack junior\", 1)\n",
    "junior.speak()"
   ]
  },
  {
   "cell_type": "code",
   "execution_count": 71,
   "metadata": {},
   "outputs": [
    {
     "data": {
      "text/plain": [
       "(__main__.JackRussellTerrier_Junior,\n",
       " __main__.JackRussellTerrier,\n",
       " __main__.Dog,\n",
       " object)"
      ]
     },
     "execution_count": 71,
     "metadata": {},
     "output_type": "execute_result"
    }
   ],
   "source": [
    "#method resolution order - tells you exactly where Python will look for a method you’re calling with super() and in what order\n",
    "JackRussellTerrier_Junior.__mro__"
   ]
  },
  {
   "cell_type": "code",
   "execution_count": 23,
   "metadata": {},
   "outputs": [],
   "source": [
    "#super class instantiation\n",
    "class A(Dog):\n",
    "    def __init__(self, sex):\n",
    "        self.sex = sex\n",
    "        super().__init__(\"dogA\", 9)"
   ]
  },
  {
   "cell_type": "code",
   "execution_count": 27,
   "metadata": {},
   "outputs": [
    {
     "data": {
      "text/plain": [
       "'dogA says woof'"
      ]
     },
     "execution_count": 27,
     "metadata": {},
     "output_type": "execute_result"
    }
   ],
   "source": [
    "a = A(\"male\")\n",
    "a.speak(\"woof\")"
   ]
  },
  {
   "cell_type": "code",
   "execution_count": 110,
   "metadata": {},
   "outputs": [],
   "source": [
    "#Encapsulation\n",
    "class Dog:   \n",
    "    def __init__(self, name, age, sex):\n",
    "        #protected\n",
    "        self._name = name\n",
    "        #public\n",
    "        self.age = age\n",
    "        #private\n",
    "        self.__sex = sex\n",
    "        \n",
    "    def description(self):\n",
    "        return f\"{self._name}'s age is {self.age} and it is {self.__sex}\"\n",
    "        \n",
    "    #instance method\n",
    "    def speak(self, sound):\n",
    "        return f\"{self._name} says {sound}\""
   ]
  },
  {
   "cell_type": "code",
   "execution_count": 116,
   "metadata": {},
   "outputs": [
    {
     "name": "stdout",
     "output_type": "stream",
     "text": [
      "Harry's age is 3 and it is male\n",
      "Harry\n",
      "3\n",
      "male\n"
     ]
    }
   ],
   "source": [
    "obj = Dog(\"Harry\", 3, \"male\")\n",
    "print(obj.description())\n",
    "print(obj._name)\n",
    "print(obj.age)\n",
    "#print(obj.__sex) #error\n",
    "print(obj._Dog__sex) #name mangling"
   ]
  },
  {
   "cell_type": "code",
   "execution_count": 119,
   "metadata": {},
   "outputs": [],
   "source": [
    "#Data Abstraction\n",
    "from abc import ABC, abstractmethod\n",
    "class Animal(ABC):\n",
    "    @abstractmethod\n",
    "    def move(self):\n",
    "        pass\n",
    "\n",
    "class Human(Animal):\n",
    "    def move(self):\n",
    "        print(\"I can walk and talk\")"
   ]
  },
  {
   "cell_type": "code",
   "execution_count": 123,
   "metadata": {},
   "outputs": [
    {
     "name": "stdout",
     "output_type": "stream",
     "text": [
      "I can walk and talk\n"
     ]
    }
   ],
   "source": [
    "human  = Human()\n",
    "human.move()\n",
    "#animal = Animal() #can't instantiate abstract class"
   ]
  },
  {
   "cell_type": "code",
   "execution_count": null,
   "metadata": {},
   "outputs": [],
   "source": []
  },
  {
   "cell_type": "code",
   "execution_count": 125,
   "metadata": {},
   "outputs": [
    {
     "name": "stdout",
     "output_type": "stream",
     "text": [
      "String is a palindrome, refer == refer\n"
     ]
    }
   ],
   "source": [
    "def palindrome(name):\n",
    "    name = name.casefold()\n",
    "    str1 = \"\"\n",
    "    for i in name:\n",
    "        str1 = i + str1\n",
    "    \n",
    "    if(str1 == name):\n",
    "        print(f\"String is a palindrome, {name} == {str1}\")\n",
    "    else:\n",
    "        print(f\"String is NOT a palindrome, {name} != {str1}\")\n",
    "    \n",
    "\n",
    "palindrome(\"REfeR\")"
   ]
  },
  {
   "cell_type": "code",
   "execution_count": 126,
   "metadata": {},
   "outputs": [
    {
     "name": "stdout",
     "output_type": "stream",
     "text": [
      "e\n",
      "de\n",
      "wde\n",
      "iwde\n",
      "niwde\n"
     ]
    }
   ],
   "source": [
    "#string reverse\n",
    "stra = 'edwin'\n",
    "strb = ''\n",
    "for i in stra:\n",
    "    strb = i + strb\n",
    "    print(strb)"
   ]
  },
  {
   "cell_type": "code",
   "execution_count": 24,
   "metadata": {},
   "outputs": [
    {
     "name": "stdout",
     "output_type": "stream",
     "text": [
      "True\n",
      "True\n"
     ]
    }
   ],
   "source": [
    "#palindrome again\n",
    "str3 = \"racecar\"\n",
    "new_str = \"\"\n",
    "for i,j in enumerate(str3, start=1):\n",
    "    new_str += str3[len(str3) - i]\n",
    "    \n",
    "print(new_str == str3)\n",
    "\n",
    "#palindorme again\n",
    "str4 = str3[::-1]\n",
    "print(str4 == str3)"
   ]
  },
  {
   "cell_type": "code",
   "execution_count": 22,
   "metadata": {},
   "outputs": [
    {
     "name": "stdout",
     "output_type": "stream",
     "text": [
      "    *\n",
      "   ***\n",
      "  *****\n",
      " *******\n",
      "*********\n"
     ]
    }
   ],
   "source": [
    "def star(a):\n",
    "    for i in range(a):\n",
    "        print(' '*(a-i-1) +'*'*(2*i + 1))\n",
    "        \n",
    "star(5)"
   ]
  },
  {
   "cell_type": "code",
   "execution_count": 49,
   "metadata": {},
   "outputs": [
    {
     "name": "stdout",
     "output_type": "stream",
     "text": [
      "someError has not occured\n",
      "No error\n"
     ]
    }
   ],
   "source": [
    "try:\n",
    "    if '1' != '1':\n",
    "        raise \"someError\"\n",
    "    else:\n",
    "        print(\"someError has not occured\")\n",
    "except:\n",
    "    print (\"someError has occured\")\n",
    "else:\n",
    "    print(\"No error\")"
   ]
  },
  {
   "cell_type": "code",
   "execution_count": 80,
   "metadata": {},
   "outputs": [
    {
     "name": "stdout",
     "output_type": "stream",
     "text": [
      "Now: 2021-02-04 22:51:49.660282\n",
      "2021-02-04 17:21:49\n",
      "2020-02-25 16:20:00\n",
      "2020-02-25 16:20:00\n",
      "2021-01-28 22:51:49.661283\n",
      "345 days, 0:00:00\n"
     ]
    }
   ],
   "source": [
    "from datetime import datetime, timedelta\n",
    "from time import gmtime, strftime\n",
    "\n",
    "#Now\n",
    "print(\"Now:\", datetime.now())\n",
    "print(strftime(\"%Y-%m-%d %H:%M:%S\", gmtime()))\n",
    "gmtime()\n",
    "\n",
    "#str to date\n",
    "date_string = \"Feb 25 2020  4:20PM\"\n",
    "datetime_object = datetime.strptime(date_string, '%b %d %Y %I:%M%p')\n",
    "print(datetime_object)\n",
    "\n",
    "#date to str\n",
    "print(datetime_object.strftime(\"%Y-%m-%d %H:%M:%S\"))\n",
    "\n",
    "#date add/sub\n",
    "diff = datetime.now() - timedelta(7)\n",
    "print(diff)\n",
    "\n",
    "date_1 = datetime(2020, 2, 25).date()\n",
    "print(datetime.now().date() - date_1)"
   ]
  },
  {
   "cell_type": "code",
   "execution_count": 86,
   "metadata": {},
   "outputs": [
    {
     "name": "stdout",
     "output_type": "stream",
     "text": [
      "5\n",
      "4\n",
      "5\n",
      "6\n"
     ]
    }
   ],
   "source": [
    "def func(*args):\n",
    "    for i in args:\n",
    "        print(i)\n",
    "    \n",
    "func(5,4,5,6)"
   ]
  },
  {
   "cell_type": "code",
   "execution_count": 90,
   "metadata": {},
   "outputs": [
    {
     "name": "stdout",
     "output_type": "stream",
     "text": [
      "a 1\n",
      "b 2\n",
      "C 7\n"
     ]
    }
   ],
   "source": [
    " def func(**kwargs):\n",
    "    for i in kwargs:\n",
    "        print(i,kwargs[i])\n",
    "        \n",
    "func(a=1,b=2,C=7)"
   ]
  },
  {
   "cell_type": "code",
   "execution_count": 93,
   "metadata": {},
   "outputs": [
    {
     "data": {
      "text/plain": [
       "['milk', 'cheese']"
      ]
     },
     "execution_count": 93,
     "metadata": {},
     "output_type": "execute_result"
    }
   ],
   "source": [
    "#call by object -python is neither call by ref or value\n",
    "item='milk'\n",
    "groceries=[]\n",
    "groceries.append(item)\n",
    "groceries\n",
    "\n",
    "items=groceries\n",
    "item='cheese'\n",
    "items.append(item)\n",
    "groceries"
   ]
  },
  {
   "cell_type": "code",
   "execution_count": null,
   "metadata": {},
   "outputs": [
    {
     "name": "stdout",
     "output_type": "stream",
     "text": [
      "Player is [X] and computer is [O]\n",
      "  |   |   \n",
      "---------\n",
      "  |   |   \n",
      "---------\n",
      "  |   |   \n",
      "---------\n",
      "#Make your move ! [1-9] : 1\n",
      "X |   |   \n",
      "---------\n",
      "  |   |   \n",
      "---------\n",
      "O |   |   \n",
      "---------\n",
      "#Make your move ! [1-9] : 3\n",
      "X | O | X \n",
      "---------\n",
      "  |   |   \n",
      "---------\n",
      "O |   |   \n",
      "---------\n",
      "#Make your move ! [1-9] : 9\n",
      "X | O | X \n",
      "---------\n",
      "  | O |   \n",
      "---------\n",
      "O |   | X \n",
      "---------\n",
      "#Make your move ! [1-9] : "
     ]
    }
   ],
   "source": [
    "import random\n",
    "import sys\n",
    "board=[i for i in range(0,9)]\n",
    "player, computer = '',''\n",
    "# Corners, Center and Others, respectively\n",
    "moves=((1,7,3,9),(5,),(2,4,6,8))\n",
    "# Winner combinations\n",
    "winners=((0,1,2),(3,4,5),(6,7,8),(0,3,6),(1,4,7),(2,5,8),(0,4,8),(2,4,6))\n",
    "# Table\n",
    "tab=range(1,10)\n",
    "def print_board():\n",
    "    x=1\n",
    "    for i in board:\n",
    "        end = ' | '\n",
    "        if x%3 == 0:\n",
    "            end = ' \\n'\n",
    "            if i != 1: end+='---------\\n';\n",
    "        char=' '\n",
    "        if i in ('X','O'): char=i;\n",
    "        x+=1\n",
    "        print(char,end=end)\n",
    "def select_char():\n",
    "    chars=('X','O')\n",
    "    if random.randint(0,1) == 0:\n",
    "        return chars[::-1]\n",
    "    return chars\n",
    "def can_move(brd, player, move):\n",
    "    if move in tab and brd[move-1] == move-1:\n",
    "        return True\n",
    "    return False\n",
    "def can_win(brd, player, move):\n",
    "    places=[]\n",
    "    x=0\n",
    "    for i in brd:\n",
    "        if i == player: places.append(x);\n",
    "        x+=1\n",
    "    win=True\n",
    "    for tup in winners:\n",
    "        win=True\n",
    "        for ix in tup:\n",
    "            if brd[ix] != player:\n",
    "                win=False\n",
    "                break\n",
    "        if win == True:\n",
    "            break\n",
    "    return win\n",
    "def make_move(brd, player, move, undo=False):\n",
    "    if can_move(brd, player, move):\n",
    "        brd[move-1] = player\n",
    "        win=can_win(brd, player, move)\n",
    "        if undo:\n",
    "            brd[move-1] = move-1\n",
    "        return (True, win)\n",
    "    return (False, False)\n",
    "# AI goes here\n",
    "def computer_move():\n",
    "    move=-1\n",
    "    # If I can win, others do not matter.\n",
    "    for i in range(1,10):\n",
    "        if make_move(board, computer, i, True)[1]:\n",
    "            move=i\n",
    "            break\n",
    "    if move == -1:\n",
    "       # If player can win, block him.\n",
    "        for i in range(1,10):\n",
    "            if make_move(board, player, i, True)[1]:\n",
    "                move=i\n",
    "                break\n",
    "    if move == -1:\n",
    "        # Otherwise, try to take one of desired places.\n",
    "        for tup in moves:\n",
    "            for mv in tup:\n",
    "                if move == -1 and can_move(board, computer, mv):\n",
    "                    move=mv\n",
    "                    break\n",
    "    return make_move(board, computer, move)\n",
    "def space_exist():\n",
    "    return board.count('X') + board.count('O') != 9\n",
    "player, computer = select_char()\n",
    "print('Player is [%s] and computer is [%s]' % (player, computer))\n",
    "result='%%% Deuce ! %%%'\n",
    "while space_exist():\n",
    "    print_board()\n",
    "    print('#Make your move ! [1-9] : ', end='')\n",
    "    move = int(input())\n",
    "    moved, won = make_move(board, player, move)\n",
    "    if not moved:\n",
    "        print(' >> Invalid number ! Try again !')\n",
    "        continue\n",
    "    \n",
    "    if won:\n",
    "        result='*** Congratulations ! You won ! ***'\n",
    "        break\n",
    "    elif computer_move()[1]:\n",
    "        result='=== You lose ! =='\n",
    "        break;\n",
    "print_board()\n",
    "print(result)"
   ]
  }
 ],
 "metadata": {
  "kernelspec": {
   "display_name": "Python 3",
   "language": "python",
   "name": "python3"
  },
  "language_info": {
   "codemirror_mode": {
    "name": "ipython",
    "version": 3
   },
   "file_extension": ".py",
   "mimetype": "text/x-python",
   "name": "python",
   "nbconvert_exporter": "python",
   "pygments_lexer": "ipython3",
   "version": "3.7.3"
  }
 },
 "nbformat": 4,
 "nbformat_minor": 4
}
