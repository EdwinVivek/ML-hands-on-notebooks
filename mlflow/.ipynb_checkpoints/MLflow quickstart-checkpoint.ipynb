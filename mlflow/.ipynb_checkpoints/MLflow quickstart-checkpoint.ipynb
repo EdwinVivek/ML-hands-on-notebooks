{
 "cells": [
  {
   "cell_type": "code",
   "execution_count": 206,
   "id": "e4b131be-a47f-41c3-9a70-c75a89ea645b",
   "metadata": {},
   "outputs": [],
   "source": [
    "import mlflow\n",
    "from mlflow.models import infer_signature\n",
    "from sklearn.linear_model import LogisticRegression\n",
    "from sklearn.metrics import accuracy_score, precision_score, recall_score, f1_score\n",
    "from sklearn.model_selection import train_test_split\n",
    "import pickle\n",
    "import pandas as pd\n",
    "import numpy as np"
   ]
  },
  {
   "cell_type": "code",
   "execution_count": 189,
   "id": "9228ac4a-3e92-473f-a0a5-97a3d52ef9d8",
   "metadata": {},
   "outputs": [
    {
     "data": {
      "text/plain": [
       "<Experiment: artifact_location='mlflow-artifacts:/350600354360964916', creation_time=1729334647926, experiment_id='350600354360964916', last_update_time=1729334647926, lifecycle_stage='active', name='MLflow Quickstart', tags={'mlflow.sharedViewState.105fff6332944f66474d0a12178ab2f35b8d9038092d2e8dc4fe585440c38fa3': 'deflate;eJytU9tuGjEQ/RXkZ1RBkwpl3xZKUlSoqoVGlVAExh5gJK+98oWwQfx7x7tctkRRX/o445lzzpwZH5gDbsX2EZUHyxLG2sxYCbZffoeSYu69xVXw4D45z61feMzhWpQ6wZI1Vw7arHqfxeeEpeMxFSlcgyiFggt8KjzuYr/knjvw7vwyf2mz3EhQz2AdGn3tUKqVBe2ox4EC4UEOjAo5ZZJ5U95yaoIVsKTCZnYSQd1t9mtNv2REawl9uC+4liBZcjjWmZ+odYznp4pvKCXo2ziik8jHUTadLbqdRfbrx5SohMkLboF0D7ZkSpR6YCEg4bFu7/PD3V2vc999uP8i7Xq1WyFSjy+LCNVPM1YzDEzQfmYGNRZLuh2yCGgGMSUbyKPROzgOyHvcm2gwmeXjAKftoHsCDZZXOW8DnMFOexYiWC7KlhOWHV+aI5zYPh6iwap5tf7K9FaNHzcn0RWKl2didBlUB9TQ90+9x/YHFvZE9y3nr1f2aek85P+bnjzZIbxO+B5zfGuU0q7G6Pz5QC4AqRDEQs69ZwsOnqwJBchnrgK40eVOaoVblDDMC1/+nd7Enj7NoYNSp/DmdHnwJoO1Bbcdar5SDdKNMiuuxqihQh0YvcYNdbF9ukdXnwEZV1QfV8M0N8ZvNTii71w/3+9YPGlcDjse/wCet3o9'}>"
      ]
     },
     "execution_count": 189,
     "metadata": {},
     "output_type": "execute_result"
    }
   ],
   "source": [
    "mlflow.tracking.get_tracking_uri()\n",
    "mlflow.set_tracking_uri(uri=\"http://localhost:8080\")\n"
   ]
  },
  {
   "cell_type": "code",
   "execution_count": null,
   "id": "cc218622-b911-4917-b7ae-19e872a05a9b",
   "metadata": {},
   "outputs": [],
   "source": [
    "# Creating an experiment\n",
    "experiment_id = mlflow.create_experiment(name=\"Mtest\")\n",
    "\n",
    "#To record runs to this experiment\n",
    "mlflow.set_experiment(\"MLflow Quickstart\")\n",
    "\n",
    "#delete\n",
    "mlflow.delete_experiment(experiment_id=experiment_id):"
   ]
  },
  {
   "cell_type": "code",
   "execution_count": 165,
   "id": "6ad7390a-9041-439e-8b74-3c09707784ac",
   "metadata": {},
   "outputs": [],
   "source": [
    "from sklearn.datasets import load_iris\n",
    "from sklearn.linear_model import LogisticRegression\n",
    "from sklearn.metrics import accuracy_score, precision_score, recall_score, f1_score\n",
    "import pickle\n",
    "\n",
    "class IrisExample:\n",
    "    def __init__(self):\n",
    "        self.X_train = None\n",
    "        self.X_test = None\n",
    "        self.y_test = None\n",
    "        self.params = None\n",
    "        print(\"Iris class initialized\")\n",
    "\n",
    "    # Train and save the model\n",
    "    def train_model(self):\n",
    "        # Load dataset\n",
    "        data = load_iris()\n",
    "        X, y = data.data, data.target\n",
    "\n",
    "        self.X_train, self.X_test, y_train,  self.y_test = train_test_split(X, y, test_size=0.2, random_state=42\n",
    "                                                           )\n",
    "        # Define the model hyperparameters\n",
    "        self.params = {\n",
    "            \"solver\": \"lbfgs\",\n",
    "            \"max_iter\": 2000,\n",
    "            \"multi_class\": \"auto\",\n",
    "            \"random_state\": 3232,\n",
    "            }\n",
    "\n",
    "        # Train model\n",
    "        model = LogisticRegression(**self.params)\n",
    "        model.fit(self.X_train, y_train)\n",
    "\n",
    "        # Save the trained model\n",
    "        with open(\"model.pkl\", \"wb\") as f:\n",
    "            pickle.dump(model, f)\n",
    "        print(\"Model trained and saved as model.pkl\")\n",
    "        \n",
    "    # Load model \n",
    "    def load_model(self):\n",
    "        #self.model = None\n",
    "        # Load the saved model\n",
    "        with open(\"model.pkl\", \"rb\") as f:\n",
    "            self.model = pickle.load(f)\n",
    "        return self.model\n",
    "    \n",
    "    #make a prediction using predefined test data\n",
    "    def predict(self, data):\n",
    "        model = self.load_model()\n",
    "        # Test data (sample input for prediction)\n",
    "        #test_data = [5.1, 3.5, 1.4, 0.2]  # Example features\n",
    "        prediction = model.predict(data)\n",
    "        #print(f\"Prediction for {test_data}: {int(prediction[0])}\")\n",
    "        return prediction\n",
    "\n",
    "    # Calculate metrics\n",
    "    def metrics(self):\n",
    "        y_pred = self.predict(self.X_test)\n",
    "        accuracy = accuracy_score(self.y_test, y_pred)\n",
    "        return accuracy\n"
   ]
  },
  {
   "cell_type": "code",
   "execution_count": 166,
   "id": "e30f1936-2132-4212-9949-0f07e93ff6c1",
   "metadata": {},
   "outputs": [
    {
     "name": "stdout",
     "output_type": "stream",
     "text": [
      "Iris class initialized\n",
      "Model trained and saved as model.pkl\n"
     ]
    },
    {
     "name": "stderr",
     "output_type": "stream",
     "text": [
      "C:\\Users\\EdwinVivekN\\AppData\\Local\\Packages\\PythonSoftwareFoundation.Python.3.12_qbz5n2kfra8p0\\LocalCache\\local-packages\\Python312\\site-packages\\sklearn\\linear_model\\_logistic.py:1247: FutureWarning: 'multi_class' was deprecated in version 1.5 and will be removed in 1.7. From then on, it will always use 'multinomial'. Leave it to its default value to avoid this warning.\n",
      "  warnings.warn(\n"
     ]
    }
   ],
   "source": [
    "iris = IrisExample()\n",
    "model = iris.train_model()"
   ]
  },
  {
   "cell_type": "code",
   "execution_count": 211,
   "id": "78ac7713-810f-49bf-9cfc-c0e917e46d9b",
   "metadata": {},
   "outputs": [],
   "source": [
    "mlflow.enable_system_metrics_logging() "
   ]
  },
  {
   "cell_type": "code",
   "execution_count": 212,
   "id": "861648cc-8817-424f-83c5-243d48dea9e7",
   "metadata": {},
   "outputs": [
    {
     "name": "stderr",
     "output_type": "stream",
     "text": [
      "2024/10/25 15:29:12 WARNING mlflow.system_metrics.system_metrics_monitor: Skip logging GPU metrics because creating `GPUMonitor` failed with error: Failed to initialize NVML, skip logging GPU metrics: NVML Shared Library Not Found.\n",
      "2024/10/25 15:29:12 INFO mlflow.system_metrics.system_metrics_monitor: Started monitoring system metrics.\n"
     ]
    },
    {
     "name": "stdout",
     "output_type": "stream",
     "text": [
      "7f5ed0b61bef47b78d7c08a6783c51bb\n"
     ]
    },
    {
     "name": "stderr",
     "output_type": "stream",
     "text": [
      "Registered model 'tracking-quickstart' already exists. Creating a new version of this model...\n",
      "2024/10/25 15:29:40 INFO mlflow.store.model_registry.abstract_store: Waiting up to 300 seconds for model version to finish creation. Model name: tracking-quickstart, version 7\n",
      "Created version '7' of model 'tracking-quickstart'.\n"
     ]
    },
    {
     "data": {
      "application/vnd.jupyter.widget-view+json": {
       "model_id": "c5cd572b284b40a0b4dc5888e67be523",
       "version_major": 2,
       "version_minor": 0
      },
      "text/plain": [
       "Downloading artifacts:   0%|          | 0/7 [00:00<?, ?it/s]"
      ]
     },
     "metadata": {},
     "output_type": "display_data"
    },
    {
     "name": "stderr",
     "output_type": "stream",
     "text": [
      "2024/10/25 15:29:45 INFO mlflow.tracking._tracking_service.client: 🏃 View run flawless-skunk-744 at: http://localhost:8080/#/experiments/350600354360964916/runs/7f5ed0b61bef47b78d7c08a6783c51bb.\n",
      "2024/10/25 15:29:45 INFO mlflow.tracking._tracking_service.client: 🧪 View experiment at: http://localhost:8080/#/experiments/350600354360964916.\n",
      "2024/10/25 15:29:45 INFO mlflow.system_metrics.system_metrics_monitor: Stopping system metrics monitoring...\n",
      "2024/10/25 15:29:45 INFO mlflow.system_metrics.system_metrics_monitor: Successfully terminated system metrics monitoring!\n"
     ]
    }
   ],
   "source": [
    "# Start an MLflow run\n",
    "with mlflow.start_run(log_system_metrics=True) as run:\n",
    "    print(run.info.run_id)\n",
    "    mlflow.log_params(iris.params)\n",
    "    mlflow.log_metric(\"accuracy scr\", iris.metrics())\n",
    "\n",
    "    # Set a tag that we can use to remind ourselves what this run was for\n",
    "    mlflow.set_tag(\"Training Info\", \"Basic LR model for iris data\")\n",
    "\n",
    "    # Infer the model signature\n",
    "    signature = infer_signature(iris.X_train, iris.predict(iris.X_train))\n",
    "\n",
    "    conda_env = {\n",
    "    \"channels\": [\"default\"],\n",
    "    \"dependencies\": [\"pip\"],\n",
    "    \"pip\": [\"mlflow\", \"cloudpickle==1.6.0\"],\n",
    "    \"name\": \"mlflow-env\"}\n",
    "\n",
    "    # Specifying pip requirements\n",
    "    pip_requirements = [\"mlflow\"]\n",
    "\n",
    "    # Log the model\n",
    "    model_info = mlflow.sklearn.log_model(\n",
    "        sk_model=iris.load_model(),\n",
    "        artifact_path=\"iris_model_ex\",\n",
    "        signature=signature,  #to enforce the input format for models \n",
    "        input_example=iris.X_train,  #This will make sure that the input example will match our input signature.\n",
    "        registered_model_name=\"tracking-quickstart\",\n",
    "        #conda_env= conda_env,   # to help future users reproduce your project\n",
    "        #pip_requirements= pip_requirements #  to help future users reproduce your project\n",
    "        \n",
    "    )"
   ]
  },
  {
   "cell_type": "code",
   "execution_count": 204,
   "id": "02a104a9-1133-47ac-b8a7-38e4d5f0b009",
   "metadata": {},
   "outputs": [
    {
     "data": {
      "application/vnd.jupyter.widget-view+json": {
       "model_id": "f4456daf120345dc9ffbb75ff194f809",
       "version_major": 2,
       "version_minor": 0
      },
      "text/plain": [
       "Downloading artifacts:   0%|          | 0/7 [00:00<?, ?it/s]"
      ]
     },
     "metadata": {},
     "output_type": "display_data"
    },
    {
     "data": {
      "text/html": [
       "<div>\n",
       "<style scoped>\n",
       "    .dataframe tbody tr th:only-of-type {\n",
       "        vertical-align: middle;\n",
       "    }\n",
       "\n",
       "    .dataframe tbody tr th {\n",
       "        vertical-align: top;\n",
       "    }\n",
       "\n",
       "    .dataframe thead th {\n",
       "        text-align: right;\n",
       "    }\n",
       "</style>\n",
       "<table border=\"1\" class=\"dataframe\">\n",
       "  <thead>\n",
       "    <tr style=\"text-align: right;\">\n",
       "      <th></th>\n",
       "      <th>sepal length (cm)</th>\n",
       "      <th>sepal width (cm)</th>\n",
       "      <th>petal length (cm)</th>\n",
       "      <th>petal width (cm)</th>\n",
       "      <th>actual_class</th>\n",
       "      <th>predicted_class</th>\n",
       "    </tr>\n",
       "  </thead>\n",
       "  <tbody>\n",
       "    <tr>\n",
       "      <th>0</th>\n",
       "      <td>6.1</td>\n",
       "      <td>2.8</td>\n",
       "      <td>4.7</td>\n",
       "      <td>1.2</td>\n",
       "      <td>1</td>\n",
       "      <td>1</td>\n",
       "    </tr>\n",
       "    <tr>\n",
       "      <th>1</th>\n",
       "      <td>5.7</td>\n",
       "      <td>3.8</td>\n",
       "      <td>1.7</td>\n",
       "      <td>0.3</td>\n",
       "      <td>0</td>\n",
       "      <td>0</td>\n",
       "    </tr>\n",
       "    <tr>\n",
       "      <th>2</th>\n",
       "      <td>7.7</td>\n",
       "      <td>2.6</td>\n",
       "      <td>6.9</td>\n",
       "      <td>2.3</td>\n",
       "      <td>2</td>\n",
       "      <td>2</td>\n",
       "    </tr>\n",
       "    <tr>\n",
       "      <th>3</th>\n",
       "      <td>6.0</td>\n",
       "      <td>2.9</td>\n",
       "      <td>4.5</td>\n",
       "      <td>1.5</td>\n",
       "      <td>1</td>\n",
       "      <td>1</td>\n",
       "    </tr>\n",
       "  </tbody>\n",
       "</table>\n",
       "</div>"
      ],
      "text/plain": [
       "   sepal length (cm)  sepal width (cm)  petal length (cm)  petal width (cm)  \\\n",
       "0                6.1               2.8                4.7               1.2   \n",
       "1                5.7               3.8                1.7               0.3   \n",
       "2                7.7               2.6                6.9               2.3   \n",
       "3                6.0               2.9                4.5               1.5   \n",
       "\n",
       "   actual_class  predicted_class  \n",
       "0             1                1  \n",
       "1             0                0  \n",
       "2             2                2  \n",
       "3             1                1  "
      ]
     },
     "execution_count": 204,
     "metadata": {},
     "output_type": "execute_result"
    }
   ],
   "source": [
    "# Load the model back for predictions as a generic Python Function model\n",
    "pyfunc_predictions = mlflow.pyfunc.load_model(model_info.model_uri)\n",
    "\n",
    "predictions = pyfunc_predictions.predict(iris.X_test)\n",
    "\n",
    "iris_feature_names = load_iris().feature_names\n",
    "\n",
    "result = pd.DataFrame(iris.X_test, columns=iris_feature_names)\n",
    "result[\"actual_class\"] = iris.y_test\n",
    "result[\"predicted_class\"] = predictions\n",
    "\n",
    "result[:4]"
   ]
  },
  {
   "cell_type": "code",
   "execution_count": 184,
   "id": "f80f1109-b272-4bb1-8cf7-0d36c81a7e10",
   "metadata": {},
   "outputs": [
    {
     "name": "stdout",
     "output_type": "stream",
     "text": [
      "<ActiveRun: >\n"
     ]
    }
   ],
   "source": [
    "#returns a mlflow.entities.Run object corresponding to the currently active run\n",
    "active = mlflow.active_run()\n",
    "print(active)"
   ]
  },
  {
   "cell_type": "code",
   "execution_count": 185,
   "id": "61c32fb0-991f-48fc-9a4e-d7bed5cda330",
   "metadata": {},
   "outputs": [
    {
     "name": "stdout",
     "output_type": "stream",
     "text": [
      "[<RunData: metrics={}, params={}, tags={'mlflow.runName': 'agreeable-rook-249',\n",
      " 'mlflow.source.name': 'C:\\\\Users\\\\EdwinVivekN\\\\AppData\\\\Local\\\\Packages\\\\PythonSoftwareFoundation.Python.3.12_qbz5n2kfra8p0\\\\LocalCache\\\\local-packages\\\\Python312\\\\site-packages\\\\ipykernel_launcher.py',\n",
      " 'mlflow.source.type': 'LOCAL',\n",
      " 'mlflow.user': 'EdwinVivekN'}>]\n"
     ]
    }
   ],
   "source": [
    "#In order to access  attributes (parameters, metrics, etc.) , use the MlflowClient\n",
    "client = mlflow.MlflowClient()\n",
    "data = client.get_run(mlflow.active_run().info.run_id).data\n",
    "print([data if data is not None else 0])"
   ]
  },
  {
   "cell_type": "code",
   "execution_count": 188,
   "id": "2417f4f9-066d-4511-9be1-68297553b479",
   "metadata": {},
   "outputs": [
    {
     "name": "stderr",
     "output_type": "stream",
     "text": [
      "2024/10/21 00:24:17 INFO mlflow.tracking._tracking_service.client: 🏃 View run agreeable-rook-249 at: http://localhost:8080/#/experiments/350600354360964916/runs/3cd4cb0ecd62408083e6c6742f4ef5c2.\n",
      "2024/10/21 00:24:17 INFO mlflow.tracking._tracking_service.client: 🧪 View experiment at: http://localhost:8080/#/experiments/350600354360964916.\n"
     ]
    }
   ],
   "source": [
    "mlflow.end_run()"
   ]
  },
  {
   "cell_type": "code",
   "execution_count": 186,
   "id": "c4e3fa39-71db-4ef3-9fd8-64c589d93314",
   "metadata": {},
   "outputs": [
    {
     "data": {
      "text/plain": [
       "<ActiveRun: >"
      ]
     },
     "execution_count": 186,
     "metadata": {},
     "output_type": "execute_result"
    }
   ],
   "source": [
    "mlflow.last_active_run()"
   ]
  },
  {
   "cell_type": "code",
   "execution_count": null,
   "id": "770385f7-e415-415a-899f-8a01e6830ff4",
   "metadata": {},
   "outputs": [],
   "source": [
    "#mlflow.log_metric() logs a single key-value metric. The value must always be a number. MLflow remembers the history of values for each metric.\n",
    "#Use mlflow.log_metrics() to log multiple metrics at once.\n"
   ]
  },
  {
   "cell_type": "code",
   "execution_count": null,
   "id": "fb73b2fd-41dc-4f1a-b920-ee07c35d29f2",
   "metadata": {},
   "outputs": [],
   "source": [
    "#mlflow.log_param() logs a single key-value param in the currently active run. The key and value are both strings. \n",
    "#Use mlflow.log_params() to log multiple params at once.\n",
    "mlflow.log_param()\n"
   ]
  },
  {
   "cell_type": "code",
   "execution_count": null,
   "id": "5ed98971-a1f4-4846-beee-844c3fd291a6",
   "metadata": {},
   "outputs": [],
   "source": [
    "mlflow.log_input()"
   ]
  },
  {
   "cell_type": "code",
   "execution_count": null,
   "id": "cfe73a48-e2c7-4a25-a839-86650bba239a",
   "metadata": {},
   "outputs": [],
   "source": [
    "#mlflow.set_tag() sets a single key-value tag in the currently active run. The key and value are both strings. \n",
    "#Use mlflow.set_tags() to set multiple tags at once."
   ]
  },
  {
   "cell_type": "code",
   "execution_count": 176,
   "id": "2198874a-ab3d-4f44-90b8-abd2213b84cc",
   "metadata": {},
   "outputs": [],
   "source": [
    "#mlflow.log_artifact() logs a local file or directory as an artifact, optionally taking an artifact_path to place it in within the run’s artifact \n",
    "#mlflow.log_artifacts() logs all the files in a given directory as artifacts, again taking an optional artifact_path."
   ]
  },
  {
   "cell_type": "code",
   "execution_count": 183,
   "id": "27a37a8b-d139-4ca3-9c94-f72926ab584d",
   "metadata": {},
   "outputs": [
    {
     "data": {
      "text/plain": [
       "'mlflow-artifacts:/350600354360964916/3cd4cb0ecd62408083e6c6742f4ef5c2/artifacts'"
      ]
     },
     "execution_count": 183,
     "metadata": {},
     "output_type": "execute_result"
    }
   ],
   "source": [
    "#mlflow.get_artifact_uri() returns the URI that artifacts from the current run should be logged to.\n",
    "mlflow.get_artifact_uri()"
   ]
  },
  {
   "cell_type": "code",
   "execution_count": 190,
   "id": "a916246d-d2fb-4416-a905-4025e403db19",
   "metadata": {},
   "outputs": [
    {
     "name": "stdout",
     "output_type": "stream",
     "text": [
      "inputs: \n",
      "  [Tensor('float64', (-1, 4))]\n",
      "outputs: \n",
      "  [Tensor('int32', (-1,))]\n",
      "params: \n",
      "  None\n",
      "\n"
     ]
    }
   ],
   "source": [
    "# Inspecting the signature\n",
    "print(signature)"
   ]
  },
  {
   "cell_type": "code",
   "execution_count": 192,
   "id": "671b2504-8ae0-4f3c-8494-00698660f8fe",
   "metadata": {},
   "outputs": [],
   "source": [
    "#save a model\n",
    "mlflow.sklearn.save_model(\n",
    "    sk_model= iris.load_model(),\n",
    "    path = \"model\",\n",
    "    input_example=iris.X_train\n",
    ")"
   ]
  },
  {
   "cell_type": "code",
   "execution_count": 203,
   "id": "34ec2e8f-f690-409a-9275-c5996504d849",
   "metadata": {},
   "outputs": [
    {
     "name": "stderr",
     "output_type": "stream",
     "text": [
      "C:\\Users\\EdwinVivekN\\AppData\\Local\\Packages\\PythonSoftwareFoundation.Python.3.12_qbz5n2kfra8p0\\LocalCache\\local-packages\\Python312\\site-packages\\sklearn\\base.py:486: UserWarning: X has feature names, but LogisticRegression was fitted without feature names\n",
      "  warnings.warn(\n"
     ]
    }
   ],
   "source": [
    "#Load saved model\n",
    "model_uri_saved = \"model\"\n",
    "\n",
    "# Loading our model as a scikit-learn model\n",
    "sklearn_model = mlflow.sklearn.load_model(model_uri=model_uri_saved)\n",
    "\n",
    "# Inference with the scikit-learn model\n",
    "sklearn_predictions = sklearn_model.predict(iris.X_test)\n",
    "X_test_df = pd.DataFrame(iris.X_test, columns=iris_feature_names)\n",
    "pyfunc_predictions = sklearn_model.predict(X_test_df)"
   ]
  },
  {
   "cell_type": "code",
   "execution_count": 207,
   "id": "862ecd52-9cd6-4d7c-9165-bf764716f0f2",
   "metadata": {},
   "outputs": [
    {
     "name": "stdout",
     "output_type": "stream",
     "text": [
      "[1 0 2 1 1 0 1 2 1 1 2 0 0 0 0 1 2 1 1 2 0 2 0 2 2 2 2 2 0 0] \n",
      "\n",
      " False\n"
     ]
    }
   ],
   "source": [
    "# Inspecting our predictions\n",
    "print(sklearn_predictions, \n",
    "      \"\\n\\n\", \n",
    "      np.equal(pyfunc_predictions, sklearn_predictions).all())"
   ]
  },
  {
   "cell_type": "code",
   "execution_count": null,
   "id": "71078974-2539-4053-8ce7-eb7eb6c9c2d8",
   "metadata": {},
   "outputs": [],
   "source": []
  },
  {
   "cell_type": "code",
   "execution_count": null,
   "id": "cc78627a-754d-41a8-b6b0-a1c221bd17f3",
   "metadata": {},
   "outputs": [],
   "source": []
  },
  {
   "cell_type": "code",
   "execution_count": null,
   "id": "b699d0a9-55cf-4959-b0ed-b200e81f2e99",
   "metadata": {},
   "outputs": [],
   "source": []
  },
  {
   "cell_type": "markdown",
   "id": "eb77235e-2d59-433e-bcbd-a6bec9914bb1",
   "metadata": {},
   "source": [
    "<h3>Model Registry"
   ]
  },
  {
   "cell_type": "code",
   "execution_count": 220,
   "id": "7a7d1995-e745-40e3-bb40-6390558dd9d3",
   "metadata": {},
   "outputs": [
    {
     "name": "stderr",
     "output_type": "stream",
     "text": [
      "2024/10/26 00:03:08 INFO mlflow.store.model_registry.abstract_store: Waiting up to 300 seconds for model version to finish creation. Model name: new-reg-model, version 2\n"
     ]
    }
   ],
   "source": [
    "from mlflow import MlflowClient\n",
    "\n",
    "client = MlflowClient()\n",
    "client.create_registered_model(\"new-reg-model\") #creates an empty registered model with no version associated\n",
    "\n",
    "result = client.create_model_version(\n",
    "    name = client.get_registered_model(\"new-reg-model\").name,\n",
    "    run_id= \"7f5ed0b61bef47b78d7c08a6783c51bb\",\n",
    "    source = mlflow.get_artifact_uri(\"model\")\n",
    ")\n"
   ]
  },
  {
   "cell_type": "code",
   "execution_count": null,
   "id": "b95e05c7-94e8-4412-9037-722c88d73123",
   "metadata": {},
   "outputs": [],
   "source": []
  },
  {
   "cell_type": "code",
   "execution_count": null,
   "id": "b00650bb-eebf-4aa9-ab64-c17e7da83982",
   "metadata": {},
   "outputs": [],
   "source": []
  },
  {
   "cell_type": "code",
   "execution_count": null,
   "id": "56300b6a-10ce-4404-8ce0-fd396e3ade50",
   "metadata": {},
   "outputs": [],
   "source": []
  }
 ],
 "metadata": {
  "kernelspec": {
   "display_name": "Python 3 (ipykernel)",
   "language": "python",
   "name": "python3"
  },
  "language_info": {
   "codemirror_mode": {
    "name": "ipython",
    "version": 3
   },
   "file_extension": ".py",
   "mimetype": "text/x-python",
   "name": "python",
   "nbconvert_exporter": "python",
   "pygments_lexer": "ipython3",
   "version": "3.12.7"
  }
 },
 "nbformat": 4,
 "nbformat_minor": 5
}
