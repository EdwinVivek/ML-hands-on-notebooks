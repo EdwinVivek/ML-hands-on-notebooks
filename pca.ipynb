{
 "cells": [
  {
   "cell_type": "code",
   "execution_count": 1,
   "metadata": {},
   "outputs": [],
   "source": [
    "import numpy as np\n",
    "import matplotlib.pyplot as plt\n",
    "import os\n",
    "import pandas as pd\n",
    "from sklearn.preprocessing import LabelEncoder\n",
    "from sklearn.preprocessing import StandardScaler\n",
    "from sklearn.decomposition import PCA\n",
    "%matplotlib inline"
   ]
  },
  {
   "cell_type": "code",
   "execution_count": 2,
   "metadata": {},
   "outputs": [
    {
     "data": {
      "text/plain": [
       "(480, 11)"
      ]
     },
     "execution_count": 2,
     "metadata": {},
     "output_type": "execute_result"
    }
   ],
   "source": [
    "loan = pd.read_csv(os.getcwd() + '\\\\data\\\\train_loanpred.csv')\n",
    "loan.dropna(axis=0, inplace=True)\n",
    "loan_target = loan.loc[:, 'Loan_Status'].values\n",
    "loan.drop(['Loan_ID', 'Loan_Status'], axis=1, inplace=True)\n",
    "loan.shape"
   ]
  },
  {
   "cell_type": "code",
   "execution_count": 3,
   "metadata": {},
   "outputs": [
    {
     "name": "stdout",
     "output_type": "stream",
     "text": [
      "   Gender  Married  Dependents  Education  Self_Employed  ApplicantIncome  \\\n",
      "1       1        1           1          0              0              247   \n",
      "2       1        1           0          0              1              112   \n",
      "3       1        1           0          1              0               74   \n",
      "4       1        0           0          0              0              305   \n",
      "5       1        1           2          0              1              281   \n",
      "\n",
      "   CoapplicantIncome  LoanAmount  Loan_Amount_Term  Credit_History  \\\n",
      "1                 50          76                 7               1   \n",
      "2                  0          23                 7               1   \n",
      "3                135          68                 7               1   \n",
      "4                  0          89                 7               1   \n",
      "5                196         159                 7               1   \n",
      "\n",
      "   Property_Area  \n",
      "1              0  \n",
      "2              2  \n",
      "3              2  \n",
      "4              2  \n",
      "5              2  \n"
     ]
    }
   ],
   "source": [
    "#Standardizing the variables\n",
    "loan_encode = loan.apply(LabelEncoder().fit_transform)  #encoding multiple cols\n",
    "print(loan_encode.head())\n",
    "loan_std = StandardScaler().fit_transform(loan_encode)"
   ]
  },
  {
   "cell_type": "code",
   "execution_count": 38,
   "metadata": {},
   "outputs": [
    {
     "name": "stdout",
     "output_type": "stream",
     "text": [
      "\n",
      "Eigen vectors shape\n",
      " (11, 11)\n",
      "11\n",
      "[31.00846689 27.46510574 24.72964293 22.92895846 22.00606867 21.21428343\n",
      " 20.33428602 19.27568052 18.2503185  15.94338824 10.96525835]\n"
     ]
    }
   ],
   "source": [
    "pca = PCA()\n",
    "principalComponents = pca.fit_transform(loan_std)\n",
    "print(\"\\nEigen vectors shape\\n\", pca.components_.shape)\n",
    "print(pca.n_components_)\n",
    "print(pca.singular_values_)"
   ]
  },
  {
   "cell_type": "code",
   "execution_count": 34,
   "metadata": {},
   "outputs": [
    {
     "data": {
      "text/html": [
       "<div>\n",
       "<style scoped>\n",
       "    .dataframe tbody tr th:only-of-type {\n",
       "        vertical-align: middle;\n",
       "    }\n",
       "\n",
       "    .dataframe tbody tr th {\n",
       "        vertical-align: top;\n",
       "    }\n",
       "\n",
       "    .dataframe thead th {\n",
       "        text-align: right;\n",
       "    }\n",
       "</style>\n",
       "<table border=\"1\" class=\"dataframe\">\n",
       "  <thead>\n",
       "    <tr style=\"text-align: right;\">\n",
       "      <th></th>\n",
       "      <th>PC0</th>\n",
       "      <th>PC1</th>\n",
       "      <th>PC2</th>\n",
       "      <th>PC3</th>\n",
       "      <th>PC4</th>\n",
       "      <th>PC5</th>\n",
       "      <th>PC6</th>\n",
       "      <th>PC7</th>\n",
       "      <th>PC8</th>\n",
       "      <th>PC9</th>\n",
       "      <th>PC10</th>\n",
       "    </tr>\n",
       "  </thead>\n",
       "  <tbody>\n",
       "    <tr>\n",
       "      <th>0</th>\n",
       "      <td>0.723221</td>\n",
       "      <td>0.065663</td>\n",
       "      <td>-0.281580</td>\n",
       "      <td>0.016291</td>\n",
       "      <td>-1.133312</td>\n",
       "      <td>-0.483674</td>\n",
       "      <td>0.401494</td>\n",
       "      <td>0.571381</td>\n",
       "      <td>-0.707782</td>\n",
       "      <td>-0.494804</td>\n",
       "      <td>0.280876</td>\n",
       "    </tr>\n",
       "    <tr>\n",
       "      <th>1</th>\n",
       "      <td>-0.590865</td>\n",
       "      <td>-0.108527</td>\n",
       "      <td>0.892920</td>\n",
       "      <td>-0.723271</td>\n",
       "      <td>0.327984</td>\n",
       "      <td>1.326071</td>\n",
       "      <td>-2.717480</td>\n",
       "      <td>0.410464</td>\n",
       "      <td>-1.007674</td>\n",
       "      <td>-0.773901</td>\n",
       "      <td>-0.255386</td>\n",
       "    </tr>\n",
       "    <tr>\n",
       "      <th>2</th>\n",
       "      <td>-0.642882</td>\n",
       "      <td>-2.040979</td>\n",
       "      <td>-0.393209</td>\n",
       "      <td>-0.017901</td>\n",
       "      <td>-0.188949</td>\n",
       "      <td>0.407482</td>\n",
       "      <td>-0.850604</td>\n",
       "      <td>-1.553286</td>\n",
       "      <td>1.092072</td>\n",
       "      <td>-0.455999</td>\n",
       "      <td>0.071806</td>\n",
       "    </tr>\n",
       "    <tr>\n",
       "      <th>3</th>\n",
       "      <td>-0.574268</td>\n",
       "      <td>1.240545</td>\n",
       "      <td>0.174094</td>\n",
       "      <td>-1.269515</td>\n",
       "      <td>0.356371</td>\n",
       "      <td>0.170840</td>\n",
       "      <td>0.236575</td>\n",
       "      <td>-1.463894</td>\n",
       "      <td>-0.633646</td>\n",
       "      <td>0.449638</td>\n",
       "      <td>-0.082991</td>\n",
       "    </tr>\n",
       "    <tr>\n",
       "      <th>4</th>\n",
       "      <td>2.913075</td>\n",
       "      <td>0.420702</td>\n",
       "      <td>-0.331255</td>\n",
       "      <td>-0.253244</td>\n",
       "      <td>0.909768</td>\n",
       "      <td>1.331228</td>\n",
       "      <td>-1.977858</td>\n",
       "      <td>0.069348</td>\n",
       "      <td>0.999336</td>\n",
       "      <td>0.916463</td>\n",
       "      <td>-0.038068</td>\n",
       "    </tr>\n",
       "    <tr>\n",
       "      <th>...</th>\n",
       "      <td>...</td>\n",
       "      <td>...</td>\n",
       "      <td>...</td>\n",
       "      <td>...</td>\n",
       "      <td>...</td>\n",
       "      <td>...</td>\n",
       "      <td>...</td>\n",
       "      <td>...</td>\n",
       "      <td>...</td>\n",
       "      <td>...</td>\n",
       "      <td>...</td>\n",
       "    </tr>\n",
       "    <tr>\n",
       "      <th>475</th>\n",
       "      <td>-2.744693</td>\n",
       "      <td>1.199911</td>\n",
       "      <td>-0.352135</td>\n",
       "      <td>0.287265</td>\n",
       "      <td>-0.821544</td>\n",
       "      <td>-0.237423</td>\n",
       "      <td>0.528868</td>\n",
       "      <td>1.497498</td>\n",
       "      <td>0.131361</td>\n",
       "      <td>-0.034441</td>\n",
       "      <td>-0.094852</td>\n",
       "    </tr>\n",
       "    <tr>\n",
       "      <th>476</th>\n",
       "      <td>0.567951</td>\n",
       "      <td>-1.345810</td>\n",
       "      <td>2.208406</td>\n",
       "      <td>-0.173835</td>\n",
       "      <td>-0.880381</td>\n",
       "      <td>0.172159</td>\n",
       "      <td>1.616168</td>\n",
       "      <td>2.210930</td>\n",
       "      <td>-1.100777</td>\n",
       "      <td>0.454679</td>\n",
       "      <td>0.640502</td>\n",
       "    </tr>\n",
       "    <tr>\n",
       "      <th>477</th>\n",
       "      <td>1.625098</td>\n",
       "      <td>0.825671</td>\n",
       "      <td>0.357917</td>\n",
       "      <td>-1.554274</td>\n",
       "      <td>0.323601</td>\n",
       "      <td>-0.382564</td>\n",
       "      <td>0.203923</td>\n",
       "      <td>-1.080082</td>\n",
       "      <td>0.302648</td>\n",
       "      <td>-0.531111</td>\n",
       "      <td>-0.548303</td>\n",
       "    </tr>\n",
       "    <tr>\n",
       "      <th>478</th>\n",
       "      <td>1.640842</td>\n",
       "      <td>0.438224</td>\n",
       "      <td>0.871389</td>\n",
       "      <td>-1.715657</td>\n",
       "      <td>0.175745</td>\n",
       "      <td>-0.753787</td>\n",
       "      <td>0.056228</td>\n",
       "      <td>-0.542836</td>\n",
       "      <td>0.275638</td>\n",
       "      <td>0.042977</td>\n",
       "      <td>-0.186668</td>\n",
       "    </tr>\n",
       "    <tr>\n",
       "      <th>479</th>\n",
       "      <td>-1.234494</td>\n",
       "      <td>2.672480</td>\n",
       "      <td>0.751892</td>\n",
       "      <td>1.813197</td>\n",
       "      <td>2.253740</td>\n",
       "      <td>-0.044929</td>\n",
       "      <td>-1.335324</td>\n",
       "      <td>0.951013</td>\n",
       "      <td>0.099862</td>\n",
       "      <td>-0.174978</td>\n",
       "      <td>-0.178036</td>\n",
       "    </tr>\n",
       "  </tbody>\n",
       "</table>\n",
       "<p>480 rows × 11 columns</p>\n",
       "</div>"
      ],
      "text/plain": [
       "          PC0       PC1       PC2       PC3       PC4       PC5       PC6  \\\n",
       "0    0.723221  0.065663 -0.281580  0.016291 -1.133312 -0.483674  0.401494   \n",
       "1   -0.590865 -0.108527  0.892920 -0.723271  0.327984  1.326071 -2.717480   \n",
       "2   -0.642882 -2.040979 -0.393209 -0.017901 -0.188949  0.407482 -0.850604   \n",
       "3   -0.574268  1.240545  0.174094 -1.269515  0.356371  0.170840  0.236575   \n",
       "4    2.913075  0.420702 -0.331255 -0.253244  0.909768  1.331228 -1.977858   \n",
       "..        ...       ...       ...       ...       ...       ...       ...   \n",
       "475 -2.744693  1.199911 -0.352135  0.287265 -0.821544 -0.237423  0.528868   \n",
       "476  0.567951 -1.345810  2.208406 -0.173835 -0.880381  0.172159  1.616168   \n",
       "477  1.625098  0.825671  0.357917 -1.554274  0.323601 -0.382564  0.203923   \n",
       "478  1.640842  0.438224  0.871389 -1.715657  0.175745 -0.753787  0.056228   \n",
       "479 -1.234494  2.672480  0.751892  1.813197  2.253740 -0.044929 -1.335324   \n",
       "\n",
       "          PC7       PC8       PC9      PC10  \n",
       "0    0.571381 -0.707782 -0.494804  0.280876  \n",
       "1    0.410464 -1.007674 -0.773901 -0.255386  \n",
       "2   -1.553286  1.092072 -0.455999  0.071806  \n",
       "3   -1.463894 -0.633646  0.449638 -0.082991  \n",
       "4    0.069348  0.999336  0.916463 -0.038068  \n",
       "..        ...       ...       ...       ...  \n",
       "475  1.497498  0.131361 -0.034441 -0.094852  \n",
       "476  2.210930 -1.100777  0.454679  0.640502  \n",
       "477 -1.080082  0.302648 -0.531111 -0.548303  \n",
       "478 -0.542836  0.275638  0.042977 -0.186668  \n",
       "479  0.951013  0.099862 -0.174978 -0.178036  \n",
       "\n",
       "[480 rows x 11 columns]"
      ]
     },
     "execution_count": 34,
     "metadata": {},
     "output_type": "execute_result"
    }
   ],
   "source": [
    "principalDf = pd.DataFrame(data = principalComponents, columns=[\"PC%i\"% x for x in range(pca.components_.shape[0])])\n",
    "principalDf"
   ]
  },
  {
   "cell_type": "code",
   "execution_count": 159,
   "metadata": {},
   "outputs": [
    {
     "name": "stdout",
     "output_type": "stream",
     "text": [
      "\n",
      "\n",
      "1. Amount of variance explained by each PC, eigen values:\n",
      " [2.00735912 1.57480592 1.27673328 1.09757231 1.01099595 0.93955286\n",
      " 0.86322169 0.77568238 0.69535308 0.53067146 0.25101647]\n",
      "\n",
      "\n",
      "2. % of Variance Explained\n",
      " [0.18210701 0.14286592 0.11582486 0.09957143 0.09171725 0.08523595\n",
      " 0.07831121 0.07036967 0.06308222 0.04814235 0.02277214]\n",
      "\n",
      "\n",
      "3. Cumulative Variance Explained\n",
      " [0.18210701 0.32497293 0.44079778 0.54036921 0.63208646 0.71732241\n",
      " 0.79563362 0.86600329 0.92908551 0.97722786 1.        ]\n",
      "\n",
      "\n",
      "4. Percentage of variance the first two principal components each contain\n",
      "  [0.18210701 0.14286592]\n",
      "\n",
      "\n",
      "5. Percentage of variance the first two principal components together contain\n",
      " 0.32497292653367665\n"
     ]
    }
   ],
   "source": [
    "eig_value = pca.explained_variance_\n",
    "print(\"\\n\\n1. Amount of variance explained by each PC, eigen values:\\n\", eig_value)\n",
    "var_exp = pca.explained_variance_ratio_ \n",
    "print(\"\\n\\n2. % of Variance Explained\\n\",var_exp) \n",
    "cum_var_exp = np.cumsum(var_exp)\n",
    "print(\"\\n\\n3. Cumulative Variance Explained\\n\",cum_var_exp)\n",
    "print(\"\\n\\n4. Percentage of variance the first two principal components each contain\\n \",var_exp[0:2]) \n",
    "print(\"\\n\\n5. Percentage of variance the first two principal components together contain\\n\",sum(var_exp[0:2]))\n"
   ]
  },
  {
   "cell_type": "code",
   "execution_count": 161,
   "metadata": {},
   "outputs": [
    {
     "data": {
      "text/plain": [
       "Text(0, 0.5, 'Cum Proportion of Variance Explained')"
      ]
     },
     "execution_count": 161,
     "metadata": {},
     "output_type": "execute_result"
    },
    {
     "data": {
      "image/png": "[encoded data removed]",
      "text/plain": [
       "<Figure size 864x432 with 3 Axes>"
      ]
     },
     "metadata": {
      "needs_background": "light"
     },
     "output_type": "display_data"
    }
   ],
   "source": [
    "fig = plt.figure(figsize=(12,6))\n",
    "ax1 = fig.add_subplot(2,2,1)\n",
    "ax1.plot(pca.explained_variance_, 'bo', linestyle='dashed', markersize=12)\n",
    "ax1.set_xlabel(\"Principal Component\")\n",
    "ax1.set_ylabel(\"Eigen values\")\n",
    "ax1.set_title(\"Scree\")\n",
    "\n",
    "ax2 = fig.add_subplot(2,2,2)\n",
    "ax2.plot(pca.explained_variance_ratio_, 'g+', linestyle='dashed', markersize=12)\n",
    "ax2.set_xlabel(\"Principal Component\")\n",
    "ax2.set_ylabel(\"% of variance explained\")\n",
    "ax2.set_title(\"Scree\")\n",
    "\n",
    "ax3 = fig.add_subplot(2,1,2)\n",
    "ax3.plot(cum_var_exp, 'r*', linestyle='dashed', markersize=12)\n",
    "ax3.set_xlabel(\"Principal Component\")\n",
    "ax3.set_ylabel(\"Cum Proportion of Variance Explained\")"
   ]
  },
  {
   "cell_type": "code",
   "execution_count": 160,
   "metadata": {},
   "outputs": [
    {
     "data": {
      "text/html": [
       "<div>\n",
       "<style scoped>\n",
       "    .dataframe tbody tr th:only-of-type {\n",
       "        vertical-align: middle;\n",
       "    }\n",
       "\n",
       "    .dataframe tbody tr th {\n",
       "        vertical-align: top;\n",
       "    }\n",
       "\n",
       "    .dataframe thead th {\n",
       "        text-align: right;\n",
       "    }\n",
       "</style>\n",
       "<table border=\"1\" class=\"dataframe\">\n",
       "  <thead>\n",
       "    <tr style=\"text-align: right;\">\n",
       "      <th></th>\n",
       "      <th>principal component 1</th>\n",
       "      <th>principal component 2</th>\n",
       "      <th>Loan_Status</th>\n",
       "    </tr>\n",
       "  </thead>\n",
       "  <tbody>\n",
       "    <tr>\n",
       "      <th>0</th>\n",
       "      <td>0.723221</td>\n",
       "      <td>0.065663</td>\n",
       "      <td>N</td>\n",
       "    </tr>\n",
       "    <tr>\n",
       "      <th>1</th>\n",
       "      <td>-0.590865</td>\n",
       "      <td>-0.108527</td>\n",
       "      <td>Y</td>\n",
       "    </tr>\n",
       "    <tr>\n",
       "      <th>2</th>\n",
       "      <td>-0.642882</td>\n",
       "      <td>-2.040979</td>\n",
       "      <td>Y</td>\n",
       "    </tr>\n",
       "    <tr>\n",
       "      <th>3</th>\n",
       "      <td>-0.574268</td>\n",
       "      <td>1.240545</td>\n",
       "      <td>Y</td>\n",
       "    </tr>\n",
       "    <tr>\n",
       "      <th>4</th>\n",
       "      <td>2.913075</td>\n",
       "      <td>0.420702</td>\n",
       "      <td>Y</td>\n",
       "    </tr>\n",
       "  </tbody>\n",
       "</table>\n",
       "</div>"
      ],
      "text/plain": [
       "   principal component 1  principal component 2 Loan_Status\n",
       "0               0.723221               0.065663           N\n",
       "1              -0.590865              -0.108527           Y\n",
       "2              -0.642882              -2.040979           Y\n",
       "3              -0.574268               1.240545           Y\n",
       "4               2.913075               0.420702           Y"
      ]
     },
     "execution_count": 160,
     "metadata": {},
     "output_type": "execute_result"
    }
   ],
   "source": [
    "X = PCA(n_components=2).fit_transform(loan_std)\n",
    "loanDf = pd.DataFrame(data = X\n",
    "             , columns = ['principal component 1', 'principal component 2'])\n",
    "loantgt = pd.DataFrame(data= loan_target, columns=['Loan_Status'])\n",
    "loan_final = pd.concat([loanDf, loantgt], axis=1)\n",
    "loan_final.head()"
   ]
  },
  {
   "cell_type": "code",
   "execution_count": 94,
   "metadata": {},
   "outputs": [
    {
     "data": {
      "image/png": "[encoded data removed]",
      "text/plain": [
       "<Figure size 432x432 with 1 Axes>"
      ]
     },
     "metadata": {
      "needs_background": "light"
     },
     "output_type": "display_data"
    }
   ],
   "source": [
    "fig = plt.figure(figsize = (6,6))\n",
    "ax = fig.add_subplot(1,1,1) \n",
    "ax.set_xlabel('Principal Component 1', fontsize = 15)\n",
    "ax.set_ylabel('Principal Component 2', fontsize = 15)\n",
    "ax.set_title('2 component PCA', fontsize = 20)\n",
    "targets = ['N', 'Y']\n",
    "colors = ['r', 'g']\n",
    "for target, color in zip(targets,colors):\n",
    "    indicesToKeep = loan_final['Loan_Status'] == target\n",
    "    ax.scatter(loan_final.loc[indicesToKeep, 'principal component 1']\n",
    "               , loan_final.loc[indicesToKeep, 'principal component 2']\n",
    "               , c = color\n",
    "               , s = 50)\n",
    "ax.legend(targets)\n",
    "ax.grid()"
   ]
  },
  {
   "cell_type": "code",
   "execution_count": null,
   "metadata": {},
   "outputs": [],
   "source": []
  },
  {
   "cell_type": "code",
   "execution_count": 84,
   "metadata": {},
   "outputs": [],
   "source": []
  },
  {
   "cell_type": "code",
   "execution_count": null,
   "metadata": {},
   "outputs": [],
   "source": []
  },
  {
   "cell_type": "code",
   "execution_count": 185,
   "metadata": {},
   "outputs": [
    {
     "data": {
      "image/png": "[encoded data removed]",
      "text/plain": [
       "<Figure size 432x288 with 1 Axes>"
      ]
     },
     "metadata": {
      "needs_background": "light"
     },
     "output_type": "display_data"
    }
   ],
   "source": [
    "X_new = pca.inverse_transform(X)\n",
    "#plt.scatter(loan.loc[:, 'Gender'], loan.loc[:, 'LoanAmount'], alpha=0.2)\n",
    "plt.scatter(X_new[:, 0], X_new[:, 1], alpha=0.8)\n",
    "plt.axis('equal');"
   ]
  },
  {
   "cell_type": "code",
   "execution_count": null,
   "metadata": {},
   "outputs": [],
   "source": []
  },
  {
   "cell_type": "code",
   "execution_count": 46,
   "metadata": {},
   "outputs": [
    {
     "data": {
      "text/plain": [
       "array([31.00846689, 27.46510574, 24.72964293, 22.92895846, 22.00606867,\n",
       "       21.21428343, 20.33428602, 19.27568052, 18.2503185 , 15.94338824,\n",
       "       10.96525835])"
      ]
     },
     "execution_count": 46,
     "metadata": {},
     "output_type": "execute_result"
    }
   ],
   "source": [
    "pca.singular_values_"
   ]
  },
  {
   "cell_type": "code",
   "execution_count": 56,
   "metadata": {},
   "outputs": [
    {
     "data": {
      "text/plain": [
       "array([2.00735912, 1.57480592, 1.27673328, 1.09757231, 1.01099595,\n",
       "       0.93955286, 0.86322169, 0.77568238, 0.69535308, 0.53067146,\n",
       "       0.25101647])"
      ]
     },
     "execution_count": 56,
     "metadata": {},
     "output_type": "execute_result"
    }
   ],
   "source": [
    "pca.explained_variance_"
   ]
  },
  {
   "cell_type": "code",
   "execution_count": 42,
   "metadata": {},
   "outputs": [
    {
     "data": {
      "text/plain": [
       "array([[ 3.68227228e-01,  4.31704839e-01,  3.91735590e-01,\n",
       "        -1.38357345e-01,  1.73042222e-01,  3.79225818e-01,\n",
       "         2.15839094e-01,  5.25140239e-01, -4.92016765e-02,\n",
       "         7.93179931e-03, -8.27150377e-02],\n",
       "       [-3.59446027e-01, -3.87423167e-01, -1.87870796e-01,\n",
       "        -3.07533243e-01,  2.64167018e-01,  5.27385549e-01,\n",
       "        -2.86802723e-01,  2.80089018e-01,  2.46201030e-01,\n",
       "         4.75406815e-02, -1.39029704e-01],\n",
       "       [-9.95770283e-03,  4.31832483e-02,  3.71320165e-01,\n",
       "         3.38035462e-01,  2.42026970e-01,  2.42744977e-01,\n",
       "        -6.27345796e-01, -2.22694843e-01, -3.91609755e-01,\n",
       "        -5.32446881e-02,  1.70406271e-01],\n",
       "       [-1.15962816e-02, -1.42317242e-01, -1.05436942e-01,\n",
       "         4.67352507e-01,  3.07635139e-01, -4.62839537e-02,\n",
       "         1.86945608e-01,  8.47413960e-02, -9.66881112e-02,\n",
       "        -4.82978677e-01, -6.07081275e-01],\n",
       "       [-1.31766644e-01, -5.43629242e-02, -7.78304689e-02,\n",
       "        -2.70567803e-01,  8.16823969e-02, -1.13803757e-03,\n",
       "         1.62173557e-01,  1.02667652e-01, -2.48976285e-01,\n",
       "        -7.14016076e-01,  5.33943201e-01],\n",
       "       [ 4.88410411e-02, -9.32020018e-02, -3.69914207e-01,\n",
       "        -3.41864547e-02,  4.62338005e-01, -5.91656941e-04,\n",
       "         2.88272447e-01, -4.56403210e-03, -5.78732365e-01,\n",
       "         4.54530340e-01,  1.11870949e-01],\n",
       "       [-8.03435964e-02, -1.63452491e-01, -2.18941155e-02,\n",
       "        -7.97557247e-02, -6.88617194e-01,  2.06006197e-01,\n",
       "        -2.66668535e-02,  1.77859014e-01, -5.80314907e-01,\n",
       "        -1.11184452e-03, -2.72477689e-01],\n",
       "       [-4.43738384e-01,  2.24193971e-01,  3.72125500e-01,\n",
       "        -5.15359218e-01,  1.99717570e-01, -2.74382845e-01,\n",
       "         3.20885680e-02, -2.43304989e-01, -1.78810215e-01,\n",
       "        -3.68723338e-03, -3.75997423e-01],\n",
       "       [-6.90398553e-01,  1.25690562e-01,  1.92695995e-01,\n",
       "         4.50890507e-01, -6.38960188e-02, -2.23298588e-02,\n",
       "         2.52847339e-01,  3.26806495e-01,  3.63122669e-02,\n",
       "         1.86781635e-01,  2.35788420e-01],\n",
       "       [ 1.66837965e-01, -7.27511153e-01,  5.85051706e-01,\n",
       "        -2.09198400e-02,  4.64884789e-02, -9.14145838e-02,\n",
       "         2.70758200e-01, -7.43598294e-03,  1.96899446e-02,\n",
       "         9.21450051e-02,  8.60696299e-02],\n",
       "       [-8.59175263e-02,  8.78808440e-02,  3.13702102e-02,\n",
       "         5.93512611e-02, -7.93893601e-02,  6.24822808e-01,\n",
       "         4.40752121e-01, -6.17052163e-01,  8.30202181e-02,\n",
       "        -4.19984774e-02,  3.19830624e-03]])"
      ]
     },
     "execution_count": 42,
     "metadata": {},
     "output_type": "execute_result"
    }
   ],
   "source": [
    "pca.components_"
   ]
  },
  {
   "cell_type": "code",
   "execution_count": null,
   "metadata": {},
   "outputs": [],
   "source": []
  },
  {
   "cell_type": "code",
   "execution_count": 60,
   "metadata": {},
   "outputs": [],
   "source": []
  },
  {
   "cell_type": "code",
   "execution_count": 109,
   "metadata": {},
   "outputs": [],
   "source": []
  },
  {
   "cell_type": "code",
   "execution_count": 86,
   "metadata": {},
   "outputs": [],
   "source": []
  },
  {
   "cell_type": "code",
   "execution_count": null,
   "metadata": {},
   "outputs": [],
   "source": []
  },
  {
   "cell_type": "code",
   "execution_count": null,
   "metadata": {},
   "outputs": [],
   "source": []
  },
  {
   "cell_type": "code",
   "execution_count": null,
   "metadata": {},
   "outputs": [],
   "source": []
  }
 ],
 "metadata": {
  "kernelspec": {
   "display_name": "Python 3",
   "language": "python",
   "name": "python3"
  },
  "language_info": {
   "codemirror_mode": {
    "name": "ipython",
    "version": 3
   },
   "file_extension": ".py",
   "mimetype": "text/x-python",
   "name": "python",
   "nbconvert_exporter": "python",
   "pygments_lexer": "ipython3",
   "version": "3.7.3"
  }
 },
 "nbformat": 4,
 "nbformat_minor": 4
}
