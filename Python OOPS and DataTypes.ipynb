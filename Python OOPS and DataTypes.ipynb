{
 "cells": [
  {
   "cell_type": "markdown",
   "metadata": {},
   "source": [
    "# OOPS Concepts\n",
    "1. Class <br>  \n",
    "2. Object  <br>  \n",
    "3. Constructor - multiple constructor    <br>   \n",
    "4. Attributes - class attributes, instance attributes<br>  \n",
    "5. Methods - class method, instance method, static method <br>  \n",
    "6. Variables - global and local variables <br>\n",
    "7. Access modifiers -  public, private, and protected <br>\n",
    "8. Inheritance - Single, Multiple, Multilevel, Hierarchical, Hybrid<br>  \n",
    "9. Polymorphism - Overloading, Overriding<br>  \n",
    "10. Encapsulation - Access modifier, Name mangling, Getter & setter<br>  \n",
    "11. Abstraction<br> "
   ]
  },
  {
   "cell_type": "markdown",
   "metadata": {},
   "source": []
  },
  {
   "cell_type": "code",
   "execution_count": 1,
   "metadata": {},
   "outputs": [],
   "source": [
    "#class\n",
    "class Dog:\n",
    "    #class attiributes\n",
    "    species = \"Canis familiaris\"\n",
    "    count = 0\n",
    "    \n",
    "     #constructor\n",
    "    def __init__(self, name, age):  \n",
    "        self.name = name    #instance attribute\n",
    "        self.age = age      #instance attribute\n",
    "        \n",
    "    def __str__(self):\n",
    "        return f\"{self.name}'s age is {self.age} and species is {Dog.species}\"\n",
    "        \n",
    "    #instance method\n",
    "    def speak(self, sound):\n",
    "        Dog.count +=1\n",
    "        return \n",
    "        "
   ]
  },
  {
   "cell_type": "code",
   "execution_count": 74,
   "metadata": {},
   "outputs": [
    {
     "name": "stdout",
     "output_type": "stream",
     "text": [
      "Harry's age is 3 and species is Canis familiaris\n",
      "Number 1 named Harry says bow bow\n",
      "Number 2 named Regg says wow wow\n"
     ]
    }
   ],
   "source": [
    "#object\n",
    "a = Dog('Harry', 3)\n",
    "print(a)\n",
    "print(a.speak(\"bow bow\"))\n",
    "\n",
    "b = Dog('Regg', 5)\n",
    "print(b.speak(\"wow wow\"))"
   ]
  },
  {
   "cell_type": "code",
   "execution_count": 16,
   "metadata": {},
   "outputs": [
    {
     "data": {
      "text/plain": [
       "['__class__',\n",
       " '__delattr__',\n",
       " '__dict__',\n",
       " '__dir__',\n",
       " '__doc__',\n",
       " '__eq__',\n",
       " '__format__',\n",
       " '__ge__',\n",
       " '__getattribute__',\n",
       " '__gt__',\n",
       " '__hash__',\n",
       " '__init__',\n",
       " '__init_subclass__',\n",
       " '__le__',\n",
       " '__lt__',\n",
       " '__module__',\n",
       " '__ne__',\n",
       " '__new__',\n",
       " '__reduce__',\n",
       " '__reduce_ex__',\n",
       " '__repr__',\n",
       " '__setattr__',\n",
       " '__sizeof__',\n",
       " '__str__',\n",
       " '__subclasshook__',\n",
       " '__weakref__',\n",
       " 'count',\n",
       " 'speak',\n",
       " 'species']"
      ]
     },
     "execution_count": 16,
     "metadata": {},
     "output_type": "execute_result"
    }
   ],
   "source": [
    "#Attributes\n",
    "dir(Dog)\n",
    "\n",
    "#class attributes\n",
    "#class attributes are referred by the class name\n",
    "#class attributes are declared outside of any method\n",
    "\n",
    "#instance attributes\n",
    "#instance attributes are referred using the self keyword\n",
    "#Instance attributes are declared inside any method"
   ]
  },
  {
   "cell_type": "code",
   "execution_count": 31,
   "metadata": {},
   "outputs": [
    {
     "name": "stdout",
     "output_type": "stream",
     "text": [
      "Enter value: 55\n"
     ]
    },
    {
     "data": {
      "text/plain": [
       "60"
      ]
     },
     "execution_count": 31,
     "metadata": {},
     "output_type": "execute_result"
    }
   ],
   "source": [
    "#constructor\n",
    "class demo:\n",
    "    def __init__(self, val):\n",
    "        self.val = val + int(input(\"Enter value: \"))\n",
    "\n",
    "dm = demo(5)\n",
    "dm.val"
   ]
  },
  {
   "cell_type": "code",
   "execution_count": 32,
   "metadata": {},
   "outputs": [
    {
     "data": {
      "text/plain": [
       "'dataflair'"
      ]
     },
     "execution_count": 32,
     "metadata": {},
     "output_type": "execute_result"
    }
   ],
   "source": [
    "#constructor with new keyword\n",
    "class demo2:\n",
    "       def __new__(self):\n",
    "              return 'dataflair'\n",
    "            \n",
    "dm2 = demo2()\n",
    "dm2"
   ]
  },
  {
   "cell_type": "code",
   "execution_count": 30,
   "metadata": {},
   "outputs": [
    {
     "name": "stdout",
     "output_type": "stream",
     "text": [
      "hi\n",
      "1\n",
      "hihello\n"
     ]
    }
   ],
   "source": [
    "# Multiple Constructors\n",
    "\n",
    "# 1. Overloading constructors based on arguments.\n",
    "# 2. Calling methods from __init__.\n",
    "# 3. Using @classmethod decorator.\n",
    "\n",
    "class Dog:\n",
    "    def __init__(self, *args):\n",
    "        if(len(args) > 1):\n",
    "            self.args = ''\n",
    "            for i in args:\n",
    "                self.args += i\n",
    "        elif(isinstance(args[0], int)):\n",
    "            self.intargs = args[0] * args[0]\n",
    "        else:\n",
    "            self.strargs = args[0]\n",
    "        \n",
    "dd = Dog(\"hi\")\n",
    "print(dd.strargs)\n",
    "\n",
    "dd2 = Dog(1)\n",
    "print(dd2.intargs)\n",
    "\n",
    "dd3 = Dog(\"hi\", \"hello\")\n",
    "print(dd3.args)"
   ]
  },
  {
   "cell_type": "code",
   "execution_count": 60,
   "metadata": {},
   "outputs": [
    {
     "data": {
      "text/plain": [
       "(22, 44)"
      ]
     },
     "execution_count": 60,
     "metadata": {},
     "output_type": "execute_result"
    }
   ],
   "source": [
    "#Methods \n",
    "#static method\n",
    "#A method which is bound to the class and not the object of the class.\n",
    "#A static method does not receive an implicit first argument.\n",
    "#A static method can’t access or modify class state.\n",
    "\n",
    "#class method\n",
    "#A method which is bound to the class and not the object of the class.\n",
    "#A class method receives the class as implicit first argument, just like an instance method receives the instance\n",
    "#It can modify a class state that would apply across all the instances of the class.\n",
    "\n",
    "class Square:\n",
    "    c = 10\n",
    "    @staticmethod\n",
    "    def mystaticmethod(a,b):\n",
    "        Square.c +=1\n",
    "        return a* Square.c, b* Square.c\n",
    "    \n",
    "    @classmethod\n",
    "    def myclassmethod(cls, val):\n",
    "        Square.c +=1\n",
    "        return val * Square.c\n",
    "    \n",
    "    def myinstancemethod(self):\n",
    "        pass\n",
    "\n",
    "s = Square()\n",
    "print(s.myclassmethod(2))\n",
    "# or\n",
    "print(Square.myclassmethod(2))\n",
    "\n",
    "Square.mystaticmethod(2,4)"
   ]
  },
  {
   "cell_type": "code",
   "execution_count": 78,
   "metadata": {},
   "outputs": [
    {
     "name": "stdout",
     "output_type": "stream",
     "text": [
      "hru, world\n",
      "world\n"
     ]
    },
    {
     "data": {
      "text/plain": [
       "'hru'"
      ]
     },
     "execution_count": 78,
     "metadata": {},
     "output_type": "execute_result"
    }
   ],
   "source": [
    "#Variables - Global and Local\n",
    "#A global variable is just that -- a variable that is accessible globally. \n",
    "\n",
    "#A local variable is one that is only accessible to the current scope, such as temporary variables used in a single function definition.\n",
    "\n",
    "#An instance variable is data that is associated with a specific instance of an object.\n",
    "#If a variable is prefixed with self, it is neither local nor global.\n",
    "\n",
    "gx = \"hello\"   #global variable\n",
    "class Foo:\n",
    "    cx = \"hi\"  #class attr\n",
    "    def __init__(self, who):\n",
    "        self.ix = who     #instance attr\n",
    "        \n",
    "    def greet(self):\n",
    "        global gx   #modify global variable\n",
    "        gx = \"hru\"\n",
    "        lx = \"%s, %s\" % (gx, self.ix)   #local variable\n",
    "        return lx\n",
    "\n",
    "foo = Foo(\"world\")\n",
    "print(foo.greet())\n",
    "print(foo.ix)\n",
    "print(gx)\n",
    "#print(foo.lx)  - local variable is not accessible outside"
   ]
  },
  {
   "cell_type": "code",
   "execution_count": 85,
   "metadata": {},
   "outputs": [
    {
     "name": "stdout",
     "output_type": "stream",
     "text": [
      "Engine started\n",
      "corolla\n",
      "1999\n"
     ]
    },
    {
     "ename": "AttributeError",
     "evalue": "'Car' object has no attribute '__make'",
     "output_type": "error",
     "traceback": [
      "\u001b[1;31m---------------------------------------------------------------------------\u001b[0m",
      "\u001b[1;31mAttributeError\u001b[0m                            Traceback (most recent call last)",
      "\u001b[1;32m<ipython-input-85-d47129d65823>\u001b[0m in \u001b[0;36m<module>\u001b[1;34m\u001b[0m\n\u001b[0;32m     10\u001b[0m \u001b[0mprint\u001b[0m\u001b[1;33m(\u001b[0m\u001b[0mc\u001b[0m\u001b[1;33m.\u001b[0m\u001b[0mname\u001b[0m\u001b[1;33m)\u001b[0m\u001b[1;33m\u001b[0m\u001b[1;33m\u001b[0m\u001b[0m\n\u001b[0;32m     11\u001b[0m \u001b[0mprint\u001b[0m\u001b[1;33m(\u001b[0m\u001b[0mc\u001b[0m\u001b[1;33m.\u001b[0m\u001b[0m_model\u001b[0m\u001b[1;33m)\u001b[0m\u001b[1;33m\u001b[0m\u001b[1;33m\u001b[0m\u001b[0m\n\u001b[1;32m---> 12\u001b[1;33m \u001b[0mprint\u001b[0m\u001b[1;33m(\u001b[0m\u001b[0mc\u001b[0m\u001b[1;33m.\u001b[0m\u001b[0m__make\u001b[0m\u001b[1;33m)\u001b[0m\u001b[1;33m\u001b[0m\u001b[1;33m\u001b[0m\u001b[0m\n\u001b[0m",
      "\u001b[1;31mAttributeError\u001b[0m: 'Car' object has no attribute '__make'"
     ]
    }
   ],
   "source": [
    "#Access modifiers\n",
    "class Car:\n",
    "    def __init__(self):\n",
    "        print (\"Engine started\")\n",
    "        self.name = \"corolla\"   #public\n",
    "        self.__make = \"toyota\"  #private\n",
    "        self._model = 1999      #protected\n",
    "\n",
    "c = Car()\n",
    "print(c.name)\n",
    "print(c._model)\n",
    "print(c.__make) # cannot access private "
   ]
  },
  {
   "cell_type": "code",
   "execution_count": null,
   "metadata": {},
   "outputs": [],
   "source": []
  },
  {
   "cell_type": "markdown",
   "metadata": {
    "jp-MarkdownHeadingCollapsed": true
   },
   "source": [
    "## Inheritance"
   ]
  },
  {
   "cell_type": "code",
   "execution_count": 33,
   "metadata": {},
   "outputs": [
    {
     "data": {
      "text/plain": [
       "'Jack barks: Arf'"
      ]
     },
     "execution_count": 33,
     "metadata": {},
     "output_type": "execute_result"
    }
   ],
   "source": [
    "#Inheritance\n",
    "class JackRussellTerrier(Dog):\n",
    "    #override method from a parent class\n",
    "    def speak(self, sound=\"Arf\"):\n",
    "        return f\"{self.name} barks: {sound}\"\n",
    "\n",
    "    \n",
    "jack = JackRussellTerrier(\"Jack\", 7)\n",
    "jack.speak()"
   ]
  },
  {
   "cell_type": "code",
   "execution_count": 43,
   "metadata": {},
   "outputs": [
    {
     "data": {
      "text/plain": [
       "'Number 20 named jack junior says Warf'"
      ]
     },
     "execution_count": 43,
     "metadata": {},
     "output_type": "execute_result"
    }
   ],
   "source": [
    "#Multilevel inheritance \n",
    "class JackRussellTerrier_Junior(JackRussellTerrier):    #JackRussellTerrier inhertis Dog\n",
    "    def speak(self, sound=\"Warf\"):\n",
    "        return super(JackRussellTerrier, self).speak(sound)  #call super() with other class\n",
    "    \n",
    "junior = JackRussellTerrier_Junior(\"jack junior\", 1)\n",
    "junior.speak()"
   ]
  },
  {
   "cell_type": "code",
   "execution_count": 49,
   "metadata": {},
   "outputs": [
    {
     "data": {
      "text/plain": [
       "'jack says wow'"
      ]
     },
     "execution_count": 49,
     "metadata": {},
     "output_type": "execute_result"
    }
   ],
   "source": [
    "#An inherited class is not required to call the __init__() method of the parent class. \n",
    "#If no __init__() method is implemented in the inherited class, then the parent __init__() will be \n",
    "#called automatically when an object of the inherited class is created. \n",
    "#If __init__() is implemented in the inherited class, then that will override the parent class method. \n",
    "#The parent class method will NOT be called unless the call is written in the inherited class\n",
    "\n",
    "class JJ(Dog):\n",
    "    def __init__(self, name, age, sex):    #override parent __init__\n",
    "        self.age = age\n",
    "        self.sex = sex\n",
    "        super().__init__(name, age)  #initialize parent __init__\n",
    "    \n",
    "    def getage(self):\n",
    "        return self.age\n",
    "    \n",
    "    def speak(self, sound=\"Lol\"):\n",
    "        return f\"{self.name} says {sound}\"\n",
    "    \n",
    "jj = JJ(\"jack\", 4, \"male\")\n",
    "jj.speak('wow')"
   ]
  },
  {
   "cell_type": "code",
   "execution_count": 55,
   "metadata": {},
   "outputs": [
    {
     "data": {
      "text/plain": [
       "'Miles says ee'"
      ]
     },
     "execution_count": 55,
     "metadata": {},
     "output_type": "execute_result"
    }
   ],
   "source": [
    "#Multiple Inheritance\n",
    "class Bulldog(JJ, Dog):\n",
    "    def speak(self, sound=\"Meow\"):\n",
    "        return super(Bulldog, self).speak(sound)   #JJ class speak is called. not Dog\n",
    "    \n",
    "    \n",
    "miles = Bulldog(\"Miles\", 5, \"male\")\n",
    "miles.speak(\"ee\")"
   ]
  },
  {
   "cell_type": "code",
   "execution_count": 35,
   "metadata": {},
   "outputs": [
    {
     "data": {
      "text/plain": [
       "(__main__.Bulldog, __main__.JJ, __main__.Dog, object)"
      ]
     },
     "execution_count": 35,
     "metadata": {},
     "output_type": "execute_result"
    }
   ],
   "source": [
    "# (MRO) -method resolution order - tells you exactly where Python will look for a method you’re calling with super() and in what order\n",
    "Bulldog.__mro__\n",
    "JackRussellTerrier_Junior.__mro__"
   ]
  },
  {
   "cell_type": "code",
   "execution_count": 57,
   "metadata": {},
   "outputs": [
    {
     "data": {
      "text/plain": [
       "'Number 24 named dogA says woof'"
      ]
     },
     "execution_count": 57,
     "metadata": {},
     "output_type": "execute_result"
    }
   ],
   "source": [
    "#super class instantiation\n",
    "class A(Dog):\n",
    "    def __init__(self, sex):\n",
    "        self.sex = sex\n",
    "        super().__init__(\"dogA\", 9)\n",
    "     \n",
    "\n",
    "a = A(\"male\")\n",
    "a.speak(\"woof\")"
   ]
  },
  {
   "cell_type": "code",
   "execution_count": null,
   "metadata": {},
   "outputs": [],
   "source": []
  },
  {
   "cell_type": "markdown",
   "metadata": {
    "jp-MarkdownHeadingCollapsed": true
   },
   "source": [
    "## Polymorphism"
   ]
  },
  {
   "cell_type": "code",
   "execution_count": 58,
   "metadata": {},
   "outputs": [
    {
     "data": {
      "text/plain": [
       "8"
      ]
     },
     "execution_count": 58,
     "metadata": {},
     "output_type": "execute_result"
    }
   ],
   "source": [
    "#polymorphism -overloading\n",
    "class Power:\n",
    "    def __init__(self, val):\n",
    "        self.val = val\n",
    "    #method overloading for multiply    \n",
    "    def __mul__(self, other):\n",
    "        return self.val * other.val\n",
    "\n",
    "p1 = Power(2)\n",
    "p2 = Power(4)\n",
    "p1 * p2"
   ]
  },
  {
   "cell_type": "code",
   "execution_count": null,
   "metadata": {},
   "outputs": [],
   "source": [
    "#polymorphism -overriding\n",
    "class B:\n",
    "    def m1(self):\n",
    "        print('base')\n",
    "\n",
    "class C(B):\n",
    "    def m2(self):   \n",
    "        print('child')\n",
    "        \n",
    "    def m1(self): #0verriding + calling parent using super\n",
    "        super(C, self).m1()\n",
    "        \n",
    "c = C()\n",
    "c.m1()\n"
   ]
  },
  {
   "cell_type": "markdown",
   "metadata": {
    "jp-MarkdownHeadingCollapsed": true
   },
   "source": [
    "## Encapsulation "
   ]
  },
  {
   "cell_type": "code",
   "execution_count": 1,
   "metadata": {},
   "outputs": [],
   "source": [
    "#Encapsulation - Access modifiers\n",
    "class Dog:   \n",
    "    def __init__(self, name, age, sex):\n",
    "        #protected\n",
    "        self._name = name\n",
    "        #public\n",
    "        self.age = age\n",
    "        #private\n",
    "        self.__sex = sex\n",
    "        \n",
    "    def description(self):\n",
    "        return f\"{self._name}'s age is {self.age} and it is {self.__sex}\"\n",
    "        \n",
    "    #instance method\n",
    "    def speak(self, sound):\n",
    "        return f\"{self._name} says {sound}\""
   ]
  },
  {
   "cell_type": "code",
   "execution_count": 2,
   "metadata": {},
   "outputs": [
    {
     "name": "stdout",
     "output_type": "stream",
     "text": [
      "Harry's age is 3 and it is male\n",
      "3\n",
      "male\n"
     ]
    }
   ],
   "source": [
    "obj = Dog(\"Harry\", 3, \"male\")\n",
    "print(obj.description())\n",
    "print(obj.age)\n",
    "#print(obj.name)  #error - protected \n",
    "#print(obj.__sex) #error - private\n",
    "\n",
    "\n",
    "#Name mangling\n",
    "#Python’s private and protected member can be accessed outside the class through python name mangling.\n",
    "print(obj._Dog__sex) #name mangling"
   ]
  },
  {
   "cell_type": "code",
   "execution_count": 48,
   "metadata": {},
   "outputs": [],
   "source": [
    "#Encapsulation - Getter & setter\n",
    "class Counter:\n",
    "    def __init__(self, count):\n",
    "        self.__counter = count\n",
    "    \n",
    "    def increment(self):\n",
    "        self.__counter +=1\n",
    "    \n",
    "    @property\n",
    "    def get_counter(self):\n",
    "        print(\"getter called\")\n",
    "        return self.__counter\n",
    "    \n",
    "    @get_counter.setter\n",
    "    def set_counter(self, count):\n",
    "        print(\"setter callled\")\n",
    "        self.__counter = count\n",
    "    "
   ]
  },
  {
   "cell_type": "code",
   "execution_count": 51,
   "metadata": {},
   "outputs": [
    {
     "name": "stdout",
     "output_type": "stream",
     "text": [
      "getter called\n",
      "3\n",
      "setter callled\n",
      "getter called\n",
      "10\n"
     ]
    }
   ],
   "source": [
    "c = Counter(2)\n",
    "c.increment()\n",
    "print(c.get_counter) # getter\n",
    "c.set_counter = 10  #setter\n",
    "print(c.get_counter) # getter"
   ]
  },
  {
   "cell_type": "code",
   "execution_count": 46,
   "metadata": {},
   "outputs": [],
   "source": [
    "class ExampleGetSet():\n",
    "    def __init__(self, age):\n",
    "        self.__age = age\n",
    "\n",
    "    def age(self):\n",
    "        return self.__age\n",
    "\n",
    "    def set_age(self, age):\n",
    "        try:\n",
    "            if age > 0:\n",
    "                self.__age = age\n",
    "            else:\n",
    "                raise Exception(\"Age cannot be negative\")\n",
    "        except Exception as e:\n",
    "            print(e)"
   ]
  },
  {
   "cell_type": "code",
   "execution_count": 47,
   "metadata": {},
   "outputs": [
    {
     "name": "stdout",
     "output_type": "stream",
     "text": [
      "Age cannot be negative\n"
     ]
    },
    {
     "data": {
      "text/plain": [
       "10"
      ]
     },
     "execution_count": 47,
     "metadata": {},
     "output_type": "execute_result"
    }
   ],
   "source": [
    "e = ExampleGetSet(10)\n",
    "e.age()\n",
    "e.set_age(0)\n",
    "e.age()"
   ]
  },
  {
   "cell_type": "code",
   "execution_count": null,
   "metadata": {},
   "outputs": [],
   "source": []
  },
  {
   "cell_type": "markdown",
   "metadata": {
    "jp-MarkdownHeadingCollapsed": true
   },
   "source": [
    "## Abstraction"
   ]
  },
  {
   "cell_type": "code",
   "execution_count": 9,
   "metadata": {},
   "outputs": [],
   "source": [
    "#Data Abstraction\n",
    "from abc import ABC, abstractmethod\n",
    "class Animal(ABC):\n",
    "    @abstractmethod\n",
    "    def move(self):\n",
    "        pass\n",
    "\n",
    "class Human(Animal):\n",
    "    def move2(self):  #normal method\n",
    "        print(\"I can walk and talk\")\n",
    "        \n",
    "    def move(self, a): # overriding abstract method\n",
    "        print(a)"
   ]
  },
  {
   "cell_type": "code",
   "execution_count": 10,
   "metadata": {},
   "outputs": [
    {
     "name": "stdout",
     "output_type": "stream",
     "text": [
      "1\n"
     ]
    }
   ],
   "source": [
    "human  = Human()\n",
    "human.move(1)\n",
    "#animal = Animal() #can't instantiate abstract class"
   ]
  },
  {
   "cell_type": "code",
   "execution_count": null,
   "metadata": {},
   "outputs": [],
   "source": []
  },
  {
   "cell_type": "code",
   "execution_count": null,
   "metadata": {},
   "outputs": [],
   "source": []
  },
  {
   "cell_type": "code",
   "execution_count": null,
   "metadata": {},
   "outputs": [],
   "source": []
  },
  {
   "cell_type": "markdown",
   "metadata": {
    "jp-MarkdownHeadingCollapsed": true
   },
   "source": [
    "# Data types"
   ]
  },
  {
   "cell_type": "markdown",
   "metadata": {},
   "source": [
    "• Numeric : complex, float, int\n",
    "\t• Text : str\n",
    "\t• Sequence : list, tuple, range\n",
    "\t• Set :  set, frozenset\n",
    "\t• Mapping : dict, ordered dict\n",
    "\t• Binary : memoryview, bytearray, bytes\n",
    "\t• Boolean : bool"
   ]
  },
  {
   "cell_type": "code",
   "execution_count": 2,
   "metadata": {},
   "outputs": [
    {
     "data": {
      "text/plain": [
       "(4+5j)"
      ]
     },
     "execution_count": 2,
     "metadata": {},
     "output_type": "execute_result"
    }
   ],
   "source": [
    "#complex\n",
    "mycmp = complex(4, 5)\n",
    "mycmp"
   ]
  },
  {
   "cell_type": "code",
   "execution_count": 3,
   "metadata": {},
   "outputs": [
    {
     "name": "stdout",
     "output_type": "stream",
     "text": [
      "rn tigs\n"
     ]
    }
   ],
   "source": [
    "#string\n",
    "mystr = \"\" # empty\n",
    "mystr = \"my new string\"\n",
    "mystr[0]  # ordered, indexed\n",
    "#temp[0] = \"t\" - immutable\n",
    "mystr = \"string string string\" # allows duplicates\n",
    "mystr.capitalize()\n",
    "print(mystr[2:15:2]) #slicing [start : stop: step]"
   ]
  },
  {
   "cell_type": "code",
   "execution_count": 4,
   "metadata": {},
   "outputs": [
    {
     "data": {
      "text/plain": [
       "[1, 3, 2, 'b', 'b']"
      ]
     },
     "execution_count": 4,
     "metadata": {},
     "output_type": "execute_result"
    }
   ],
   "source": [
    "#list\n",
    "mylist = [] # empty\n",
    "mylist = [1,\"a\", 2, \"b\"]\n",
    "mylist[1] # ordered, indexed\n",
    "mylist[1] = 3 # mutable\n",
    "mylist.append(\"b\") # allows duplicatess\n",
    "mylist"
   ]
  },
  {
   "cell_type": "code",
   "execution_count": 5,
   "metadata": {},
   "outputs": [
    {
     "data": {
      "text/plain": [
       "(1, 2, 'a', 'a')"
      ]
     },
     "execution_count": 5,
     "metadata": {},
     "output_type": "execute_result"
    }
   ],
   "source": [
    "#tuple\n",
    "mytup = () # empty\n",
    "mytup = (1,2,\"a\")  \n",
    "mytup[2] # ordered, indexed\n",
    "#mytup[0] = 3 immutable\n",
    "mytup = (1,2,\"a\", \"a\") # allows duplicates\n",
    "mytup"
   ]
  },
  {
   "cell_type": "code",
   "execution_count": 7,
   "metadata": {},
   "outputs": [
    {
     "name": "stdout",
     "output_type": "stream",
     "text": [
      "1\n",
      "2\n",
      "a\n",
      "a\n"
     ]
    }
   ],
   "source": [
    "#range\n",
    "myrange = range(len(mytup))\n",
    "for i in myrange:\n",
    "    print(mytup[i])"
   ]
  },
  {
   "cell_type": "code",
   "execution_count": 8,
   "metadata": {},
   "outputs": [
    {
     "data": {
      "text/plain": [
       "{1, 2, 4, 'a', 'c'}"
      ]
     },
     "execution_count": 8,
     "metadata": {},
     "output_type": "execute_result"
    }
   ],
   "source": [
    "#set\n",
    "myset = set() # empty\n",
    "myset = { 1,2,4, \"a\" }\n",
    "#myset[0]  # unordered\n",
    "myset.add(\"c\") # mutable\n",
    "myset.add(\"c\") # doesnt allow duplicates\n",
    "myset"
   ]
  },
  {
   "cell_type": "code",
   "execution_count": 9,
   "metadata": {},
   "outputs": [
    {
     "data": {
      "text/plain": [
       "frozenset({1, 2, 4, 'a', 'c'})"
      ]
     },
     "execution_count": 9,
     "metadata": {},
     "output_type": "execute_result"
    }
   ],
   "source": [
    "#Frozen Set\n",
    "frozen_set = frozenset(myset)\n",
    "frozen_set #immutable"
   ]
  },
  {
   "cell_type": "code",
   "execution_count": 11,
   "metadata": {},
   "outputs": [
    {
     "data": {
      "text/plain": [
       "{1: 'a', 2: 'b', 3: 'c', 4: 'c'}"
      ]
     },
     "execution_count": 11,
     "metadata": {},
     "output_type": "execute_result"
    }
   ],
   "source": [
    "#dict\n",
    "mydict = {} # empty\n",
    "mydict = {1:\"a\", 2:\"b\", 3:\"c\"}\n",
    "mydict[3] # unordered\n",
    "mydict[4] = \"d\" # mutable\n",
    "mydict = {1:\"a\", 2:\"b\", 3:\"c\", 3: \"d\"} # doesnt allow duplicate keys\n",
    "mydict = {1:\"a\", 2:\"b\", 3:\"c\", 4: \"c\"} # allows duplicate values\n",
    "mydict"
   ]
  },
  {
   "cell_type": "code",
   "execution_count": 12,
   "metadata": {},
   "outputs": [
    {
     "name": "stdout",
     "output_type": "stream",
     "text": [
      "color blue\n",
      "fruit apple\n",
      "pet dog\n",
      "\t\n",
      "color blue\n",
      "fruit apple\n",
      "pet dog\n",
      "\t\n",
      "color blue\n",
      "fruit apple\n",
      "pet dog\n",
      "\t\n",
      "blue\n",
      "apple\n",
      "dog\n",
      "\t\n",
      "True\n",
      "True\n"
     ]
    }
   ],
   "source": [
    "#Dictionary\n",
    "a_dict = {'color': 'blue', 'fruit': 'apple', 'pet': 'dog'}\n",
    "\n",
    "for key in a_dict:\n",
    "    print(key, a_dict[key])\n",
    "\n",
    "print(\"\\t\")\n",
    "\n",
    "for key,value in a_dict.items():\n",
    "    print(key,value)\n",
    "    \n",
    "print(\"\\t\")\n",
    "\n",
    "for key in a_dict.keys():\n",
    "    print(key, a_dict[key])\n",
    "    \n",
    "print(\"\\t\")\n",
    "\n",
    "for value in a_dict.values():\n",
    "    print(value)\n",
    "    \n",
    "print(\"\\t\")\n",
    "    \n",
    "print('apple' in a_dict.values())\n",
    "print('fruit' in a_dict)"
   ]
  },
  {
   "cell_type": "code",
   "execution_count": 10,
   "metadata": {},
   "outputs": [
    {
     "name": "stdout",
     "output_type": "stream",
     "text": [
      "OrderedDict([('b', 2), ('c', 3), ('g', 4), ('e', 5)])\n",
      "OrderedDict([('b', 2), ('c', 3), ('e', 5), ('g', 4)])\n",
      "OrderedDict([('g', 4), ('b', 2), ('c', 3), ('e', 5)])\n"
     ]
    },
    {
     "data": {
      "text/plain": [
       "('g', 4)"
      ]
     },
     "execution_count": 10,
     "metadata": {},
     "output_type": "execute_result"
    }
   ],
   "source": [
    "#Ordered Dict\n",
    "from collections import OrderedDict\n",
    "odict = OrderedDict()\n",
    "odict['b'] = 2; odict['c'] = 3; odict['g'] = 4; odict['e'] = 5\n",
    "print(odict)\n",
    "odict.move_to_end('g', last=True); print(odict)\n",
    "odict.move_to_end('g', last=False); print(odict) #move to first\n",
    "odict.pop('c')\n",
    "odict.popitem(last=False) #false = FIFO else LIFO"
   ]
  },
  {
   "cell_type": "code",
   "execution_count": 13,
   "metadata": {},
   "outputs": [
    {
     "name": "stdout",
     "output_type": "stream",
     "text": [
      "2\n",
      "array('i', [2, 4, 3, -6])\n",
      "array('i', [2, 4, 3, -6, 7])\n"
     ]
    }
   ],
   "source": [
    "#Array\n",
    "import array as arr\n",
    "ar = arr.array('i', [2,4,-6])\n",
    "print(ar[0])\n",
    "ar.insert(2,3); print(ar[:])\n",
    "ar.append(7); print(ar)"
   ]
  },
  {
   "cell_type": "markdown",
   "metadata": {},
   "source": []
  },
  {
   "cell_type": "markdown",
   "metadata": {},
   "source": [
    "## Data Type Conversion"
   ]
  },
  {
   "cell_type": "code",
   "execution_count": null,
   "metadata": {},
   "outputs": [],
   "source": [
    "# list to tuple\n",
    "a_list = [1,2,3,4,5,5]\n",
    "b_tuple = tuple(a_list)\n",
    "b_tuple"
   ]
  },
  {
   "cell_type": "code",
   "execution_count": null,
   "metadata": {},
   "outputs": [],
   "source": []
  },
  {
   "cell_type": "code",
   "execution_count": null,
   "metadata": {},
   "outputs": [],
   "source": []
  },
  {
   "cell_type": "code",
   "execution_count": null,
   "metadata": {},
   "outputs": [],
   "source": []
  },
  {
   "cell_type": "code",
   "execution_count": null,
   "metadata": {},
   "outputs": [],
   "source": [
    "\n",
    "\n",
    "\n",
    "\n"
   ]
  },
  {
   "cell_type": "code",
   "execution_count": null,
   "metadata": {},
   "outputs": [],
   "source": []
  },
  {
   "cell_type": "code",
   "execution_count": null,
   "metadata": {},
   "outputs": [],
   "source": []
  },
  {
   "cell_type": "code",
   "execution_count": null,
   "metadata": {},
   "outputs": [],
   "source": []
  },
  {
   "cell_type": "code",
   "execution_count": null,
   "metadata": {},
   "outputs": [],
   "source": []
  },
  {
   "cell_type": "code",
   "execution_count": null,
   "metadata": {},
   "outputs": [],
   "source": []
  },
  {
   "cell_type": "code",
   "execution_count": null,
   "metadata": {},
   "outputs": [],
   "source": []
  },
  {
   "cell_type": "code",
   "execution_count": null,
   "metadata": {},
   "outputs": [],
   "source": []
  },
  {
   "cell_type": "code",
   "execution_count": null,
   "metadata": {},
   "outputs": [],
   "source": []
  },
  {
   "cell_type": "code",
   "execution_count": null,
   "metadata": {},
   "outputs": [],
   "source": []
  },
  {
   "cell_type": "code",
   "execution_count": null,
   "metadata": {},
   "outputs": [],
   "source": []
  },
  {
   "cell_type": "code",
   "execution_count": null,
   "metadata": {},
   "outputs": [],
   "source": []
  },
  {
   "cell_type": "code",
   "execution_count": null,
   "metadata": {},
   "outputs": [],
   "source": []
  },
  {
   "cell_type": "code",
   "execution_count": null,
   "metadata": {},
   "outputs": [],
   "source": []
  },
  {
   "cell_type": "code",
   "execution_count": null,
   "metadata": {},
   "outputs": [],
   "source": []
  },
  {
   "cell_type": "code",
   "execution_count": null,
   "metadata": {},
   "outputs": [],
   "source": []
  },
  {
   "cell_type": "code",
   "execution_count": null,
   "metadata": {},
   "outputs": [],
   "source": []
  },
  {
   "cell_type": "code",
   "execution_count": null,
   "metadata": {},
   "outputs": [],
   "source": []
  },
  {
   "cell_type": "code",
   "execution_count": null,
   "metadata": {},
   "outputs": [],
   "source": []
  },
  {
   "cell_type": "code",
   "execution_count": null,
   "metadata": {},
   "outputs": [],
   "source": []
  },
  {
   "cell_type": "code",
   "execution_count": null,
   "metadata": {},
   "outputs": [],
   "source": []
  },
  {
   "cell_type": "code",
   "execution_count": null,
   "metadata": {},
   "outputs": [],
   "source": []
  },
  {
   "cell_type": "code",
   "execution_count": null,
   "metadata": {},
   "outputs": [],
   "source": []
  },
  {
   "cell_type": "code",
   "execution_count": null,
   "metadata": {},
   "outputs": [],
   "source": []
  },
  {
   "cell_type": "code",
   "execution_count": null,
   "metadata": {},
   "outputs": [],
   "source": []
  },
  {
   "cell_type": "code",
   "execution_count": null,
   "metadata": {},
   "outputs": [],
   "source": []
  },
  {
   "cell_type": "code",
   "execution_count": null,
   "metadata": {},
   "outputs": [],
   "source": []
  },
  {
   "cell_type": "code",
   "execution_count": null,
   "metadata": {},
   "outputs": [],
   "source": []
  },
  {
   "cell_type": "code",
   "execution_count": null,
   "metadata": {},
   "outputs": [],
   "source": []
  }
 ],
 "metadata": {
  "kernelspec": {
   "display_name": "Python 3 (ipykernel)",
   "language": "python",
   "name": "python3"
  },
  "language_info": {
   "codemirror_mode": {
    "name": "ipython",
    "version": 3
   },
   "file_extension": ".py",
   "mimetype": "text/x-python",
   "name": "python",
   "nbconvert_exporter": "python",
   "pygments_lexer": "ipython3",
   "version": "3.12.9"
  }
 },
 "nbformat": 4,
 "nbformat_minor": 4
}
