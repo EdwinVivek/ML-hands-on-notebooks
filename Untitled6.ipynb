{
 "cells": [
  {
   "cell_type": "code",
   "execution_count": 1,
   "id": "f21e0ada",
   "metadata": {},
   "outputs": [
    {
     "name": "stdout",
     "output_type": "stream",
     "text": [
      "CSV file \"sample_data_30000_rows.csv\" with 30,000 rows created successfully.\n"
     ]
    }
   ],
   "source": [
    "import csv\n",
    "import random\n",
    "\n",
    " \n",
    "\n",
    "# Define the column headers\n",
    "headers = ['column1', 'column2', 'column3', 'column4', 'column5', 'column6', 'column7', 'column8',\n",
    "           'column9', 'column10', 'column11', 'column12', 'column13', 'column14', 'column15', 'column16',\n",
    "           'column17', 'column18', 'column19', 'column20', 'column21', 'column22', 'column23', 'column24',\n",
    "           'column25', 'column26', 'column27', 'column28', 'column29', 'column30', 'column31', 'column32',\n",
    "           'column33', 'column34', 'column35', 'column36', 'column37', 'column38', 'column39', 'column40',\n",
    "           'column41', 'column42', 'column43', 'column44', 'column45', 'column46', 'column47', 'column48',\n",
    "           'column49', 'column50', 'column51', 'column52', 'column53', 'column54', 'column55', 'column56',\n",
    "           'column57', 'column58', 'column59', 'column60', 'column61', 'column62', 'column63', 'column64']\n",
    "\n",
    " \n",
    "\n",
    "# Generate random sample data for each column\n",
    "sample_data = []\n",
    "\n",
    " \n",
    "\n",
    "for _ in range(30000):\n",
    "    row = [str(random.randint(1, 1000)) for _ in range(64)]\n",
    "    sample_data.append(row)\n",
    "\n",
    " \n",
    "\n",
    "# Specify the output file name\n",
    "output_file = 'sample_data_30000_rows.csv'\n",
    "\n",
    "# Write data to the CSV file\n",
    "with open(output_file, mode='w', newline='') as file:\n",
    "    writer = csv.writer(file)\n",
    "    writer.writerow(headers)\n",
    "    writer.writerows(sample_data)\n",
    "\n",
    " \n",
    "\n",
    "print(f'CSV file \"{output_file}\" with 30,000 rows created successfully.')"
   ]
  },
  {
   "cell_type": "code",
   "execution_count": 2,
   "id": "9c4828fa",
   "metadata": {},
   "outputs": [
    {
     "data": {
      "text/plain": [
       "'D:\\\\myscripts'"
      ]
     },
     "execution_count": 2,
     "metadata": {},
     "output_type": "execute_result"
    }
   ],
   "source": [
    "pwd"
   ]
  },
  {
   "cell_type": "code",
   "execution_count": null,
   "id": "22be9354",
   "metadata": {},
   "outputs": [],
   "source": []
  }
 ],
 "metadata": {
  "kernelspec": {
   "display_name": "Python 3 (ipykernel)",
   "language": "python",
   "name": "python3"
  },
  "language_info": {
   "codemirror_mode": {
    "name": "ipython",
    "version": 3
   },
   "file_extension": ".py",
   "mimetype": "text/x-python",
   "name": "python",
   "nbconvert_exporter": "python",
   "pygments_lexer": "ipython3",
   "version": "3.9.13"
  }
 },
 "nbformat": 4,
 "nbformat_minor": 5
}
