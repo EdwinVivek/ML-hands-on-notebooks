{
 "cells": [
  {
   "cell_type": "code",
   "execution_count": null,
   "metadata": {},
   "outputs": [],
   "source": []
  },
  {
   "cell_type": "code",
   "execution_count": 31,
   "metadata": {},
   "outputs": [
    {
     "data": {
      "text/plain": [
       "'String string string'"
      ]
     },
     "execution_count": 31,
     "metadata": {},
     "output_type": "execute_result"
    }
   ],
   "source": [
    "#string\n",
    "mystr = \"\" # empty\n",
    "mystr = \"my new string\"\n",
    "mystr[0]  # ordered, indexed\n",
    "#temp[0] = \"t\" - immutable\n",
    "mystr = \"string string string\" # allows duplicates\n",
    "mystr.capitalize()"
   ]
  },
  {
   "cell_type": "code",
   "execution_count": 21,
   "metadata": {},
   "outputs": [
    {
     "data": {
      "text/plain": [
       "[1, 3, 2, 'b', 'b']"
      ]
     },
     "execution_count": 21,
     "metadata": {},
     "output_type": "execute_result"
    }
   ],
   "source": [
    "#list\n",
    "mylist = [] # empty\n",
    "mylist = [1,\"a\", 2, \"b\"]\n",
    "mylist[1] # ordered, indexed\n",
    "mylist[1] = 3 # mutable\n",
    "mylist.append(\"b\") # allows duplicatess\n",
    "mylist"
   ]
  },
  {
   "cell_type": "code",
   "execution_count": 32,
   "metadata": {},
   "outputs": [
    {
     "data": {
      "text/plain": [
       "(1, 2, 'a', 'a')"
      ]
     },
     "execution_count": 32,
     "metadata": {},
     "output_type": "execute_result"
    }
   ],
   "source": [
    "#tuple\n",
    "mytup = () # empty\n",
    "mytup = (1,2,\"a\")  \n",
    "mytup[2] # ordered, indexed\n",
    "#mytup[0] = 3 immutable\n",
    "mytup = (1,2,\"a\", \"a\") # allows duplicates\n",
    "mytup"
   ]
  },
  {
   "cell_type": "code",
   "execution_count": 47,
   "metadata": {},
   "outputs": [
    {
     "data": {
      "text/plain": [
       "{1, 2, 4, 'a', 'c'}"
      ]
     },
     "execution_count": 47,
     "metadata": {},
     "output_type": "execute_result"
    }
   ],
   "source": [
    "#set\n",
    "myset = set() # empty\n",
    "myset = { 1,2,4, \"a\" }\n",
    "#myset[0]  # unordered\n",
    "myset.add(\"c\") # mutable\n",
    "myset.add(\"c\") # doesnt allow duplicates\n",
    "myset"
   ]
  },
  {
   "cell_type": "code",
   "execution_count": 61,
   "metadata": {},
   "outputs": [
    {
     "data": {
      "text/plain": [
       "{1: 'a', 2: 'b', 3: 'c', 4: 'c'}"
      ]
     },
     "execution_count": 61,
     "metadata": {},
     "output_type": "execute_result"
    }
   ],
   "source": [
    "#dict\n",
    "mydict = {} # empty\n",
    "mydict = {1:\"a\", 2:\"b\", 3:\"c\"}\n",
    "mydict[3] # unordered\n",
    "mydict[4] = \"d\" # mutable\n",
    "mydict = {1:\"a\", 2:\"b\", 3:\"c\", 3: \"d\"} # doesnt allow duplicate keys\n",
    "mydict = {1:\"a\", 2:\"b\", 3:\"c\", 4: \"c\"} # allows duplicate values\n",
    "mydict"
   ]
  },
  {
   "cell_type": "code",
   "execution_count": 49,
   "metadata": {},
   "outputs": [
    {
     "data": {
      "text/plain": [
       "dict"
      ]
     },
     "execution_count": 49,
     "metadata": {},
     "output_type": "execute_result"
    }
   ],
   "source": []
  },
  {
   "cell_type": "code",
   "execution_count": null,
   "metadata": {},
   "outputs": [],
   "source": [
    "# list to tuple\n",
    "a_list = [1,2,3,4,5,5]\n",
    "b_tuple = tuple(a_list)\n",
    "b_tuple"
   ]
  }
 ],
 "metadata": {
  "kernelspec": {
   "display_name": "Python 3",
   "language": "python",
   "name": "python3"
  },
  "language_info": {
   "codemirror_mode": {
    "name": "ipython",
    "version": 3
   },
   "file_extension": ".py",
   "mimetype": "text/x-python",
   "name": "python",
   "nbconvert_exporter": "python",
   "pygments_lexer": "ipython3",
   "version": "3.7.3"
  }
 },
 "nbformat": 4,
 "nbformat_minor": 4
}
